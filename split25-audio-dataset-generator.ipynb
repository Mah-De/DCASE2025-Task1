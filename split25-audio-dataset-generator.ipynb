{
 "cells": [
  {
   "cell_type": "markdown",
   "id": "913c7587",
   "metadata": {
    "papermill": {
     "duration": 0.004224,
     "end_time": "2025-04-24T20:56:30.193116",
     "exception": false,
     "start_time": "2025-04-24T20:56:30.188892",
     "status": "completed"
    },
    "tags": []
   },
   "source": [
    "# Creating DCASE 2025 Task #1 Dataset\n",
    "Adapted from **TAU-urban-acoustic-scenes-2022-mobile-development dataset**"
   ]
  },
  {
   "cell_type": "code",
   "execution_count": null,
   "id": "6c5d6222",
   "metadata": {
    "execution": {
     "iopub.execute_input": "2025-04-24T20:56:30.208804Z",
     "iopub.status.busy": "2025-04-24T20:56:30.208498Z",
     "iopub.status.idle": "2025-04-24T20:57:07.102679Z",
     "shell.execute_reply": "2025-04-24T20:57:07.101754Z"
    },
    "papermill": {
     "duration": 36.900759,
     "end_time": "2025-04-24T20:57:07.104495",
     "exception": false,
     "start_time": "2025-04-24T20:56:30.203736",
     "status": "completed"
    },
    "tags": []
   },
   "outputs": [],
   "source": [
    "import os\n",
    "import pandas as pd\n",
    "import numpy as np\n",
    "import os\n",
    "import shutil"
   ]
  },
  {
   "cell_type": "code",
   "execution_count": null,
   "id": "c841e804",
   "metadata": {
    "execution": {
     "iopub.execute_input": "2025-04-24T20:57:07.131138Z",
     "iopub.status.busy": "2025-04-24T20:57:07.130248Z",
     "iopub.status.idle": "2025-04-24T21:06:56.402099Z",
     "shell.execute_reply": "2025-04-24T21:06:56.400717Z"
    },
    "papermill": {
     "duration": 589.279713,
     "end_time": "2025-04-24T21:06:56.404022",
     "exception": false,
     "start_time": "2025-04-24T20:57:07.124309",
     "status": "completed"
    },
    "tags": []
   },
   "outputs": [],
   "source": [
    "train_csv_set_path = \"split25.csv\"\n",
    "test_csv_set_path = \"test.csv\"\n",
    "all_data_set_path = \"dataset.csv\"\n",
    "basepath = \"/kaggle/input/tau-urban-acoustic-scenes-2022-mobile-development/TAU-urban-acoustic-scenes-2022-mobile-development.audio.\"\n",
    "path_2 = \"/TAU-urban-acoustic-scenes-2022-mobile-development/audio/\"\n",
    "labels = []\n",
    "pathes = []\n",
    "sources= []\n",
    "\n",
    "# Define the list of classes\n",
    "classes = [\n",
    "    \"airport\",\n",
    "    \"shopping_mall\",\n",
    "    \"metro_station\",\n",
    "    \"street_pedestrian\",\n",
    "    \"public_square\",\n",
    "    \"street_traffic\",\n",
    "    \"tram\",\n",
    "    \"bus\",\n",
    "    \"metro\",\n",
    "    \"park\"\n",
    "]\n",
    "\n",
    "all_df = pd.read_csv(all_data_set_path)\n",
    "train_df = pd.read_csv(train_csv_set_path, sep='\\t')\n",
    "test_df = pd.read_csv(test_csv_set_path, sep='\\t')\n",
    "\n",
    "train_filenames = set(train_df['filename'])\n",
    "test_filenames = set(test_df['filename'])\n",
    "\n",
    "print(f\"Train and Test sets have {len(train_filenames)} and {len(test_filenames)} items \")\n",
    "\n",
    "destination_folder = \"\"\n",
    "os.makedirs(\"/kaggle/working/dataset/train\", exist_ok=True)\n",
    "os.makedirs(\"/kaggle/working/dataset/test\", exist_ok=True)\n",
    "\n",
    "train_data = {\n",
    "    \"filename\" : [],\n",
    "    \"label\" : [],\n",
    "    \"device\" : [],\n",
    "}\n",
    "test_data = {\n",
    "    \"filename\" : [],\n",
    "    \"label\" : [],\n",
    "    \"device\" : [],\n",
    "}\n",
    "\n",
    "\n",
    "num_unmatched = 0\n",
    "\n",
    "# Iterate over all rows in all_df\n",
    "for index, row in all_df.iterrows():\n",
    "    file_path = row['path']  # Path from all_df\n",
    "    basename = os.path.basename(file_path) # Extract the file name\n",
    "    file_name = \"audio/\" + basename \n",
    "    \n",
    "    # Check if the file belongs to train or test\n",
    "    if file_name in train_filenames:\n",
    "        destination_folder = \"/kaggle/working/dataset/train\"\n",
    "        train_data['filename'].append(basename)\n",
    "        train_data['label'].append(classes[row['label']])\n",
    "        train_data['device'].append(row['source'])\n",
    "        train_filenames.discard(file_name)\n",
    "    elif file_name in test_filenames:\n",
    "        destination_folder = \"/kaggle/working/dataset/test\"\n",
    "        test_data['filename'].append(basename)\n",
    "        test_data['label'].append(classes[row['label']])\n",
    "        test_data['device'].append(row['source'])\n",
    "        test_filenames.discard(file_name)\n",
    "    else:\n",
    "        num_unmatched = num_unmatched + 1\n",
    "        continue  # Skip if no match is found\n",
    "    \n",
    "    # Construct the full destination path\n",
    "    destination_path = os.path.join(destination_folder, basename)\n",
    "    \n",
    "    # Copy the file to the appropriate folder\n",
    "    # print(f\"Copied: {file_path} -> {destination_path}\")\n",
    "    shutil.copy(file_path, destination_path)\n",
    "    \n",
    "\n",
    "    # if index > 40:\n",
    "    #     break\n",
    "    if index % 1000 == 0:\n",
    "        print(f\"{index}/{len(all_df)}\")\n",
    "\n",
    "\n",
    "# Create a DataFrame and save it as a CSV file\n",
    "train_df = pd.DataFrame(train_data)\n",
    "test_df = pd.DataFrame(test_data)\n",
    "train_df.to_csv(\"/kaggle/working/dataset/train.csv\", index=False)\n",
    "test_df.to_csv(\"/kaggle/working/dataset/test.csv\", index=False)\n",
    "\n",
    "print(f\"{len(train_filenames)} and {len(test_filenames)} items left in Train and Test sets\")\n",
    "print(\"File organization completed.\")\n",
    "            "
   ]
  }
 ],
 "metadata": {
  "kaggle": {
   "accelerator": "none",
   "dataSources": [
    {
     "datasetId": 6765110,
     "sourceId": 10891818,
     "sourceType": "datasetVersion"
    },
    {
     "datasetId": 7146135,
     "sourceId": 11408120,
     "sourceType": "datasetVersion"
    },
    {
     "datasetId": 7241671,
     "sourceId": 11551387,
     "sourceType": "datasetVersion"
    }
   ],
   "dockerImageVersionId": 31012,
   "isGpuEnabled": false,
   "isInternetEnabled": true,
   "language": "python",
   "sourceType": "notebook"
  },
  "kernelspec": {
   "display_name": "Python 3",
   "language": "python",
   "name": "python3"
  },
  "language_info": {
   "codemirror_mode": {
    "name": "ipython",
    "version": 3
   },
   "file_extension": ".py",
   "mimetype": "text/x-python",
   "name": "python",
   "nbconvert_exporter": "python",
   "pygments_lexer": "ipython3",
   "version": "3.11.11"
  },
  "papermill": {
   "default_parameters": {},
   "duration": 635.413586,
   "end_time": "2025-04-24T21:07:00.788931",
   "environment_variables": {},
   "exception": null,
   "input_path": "__notebook__.ipynb",
   "output_path": "__notebook__.ipynb",
   "parameters": {},
   "start_time": "2025-04-24T20:56:25.375345",
   "version": "2.6.0"
  }
 },
 "nbformat": 4,
 "nbformat_minor": 5
}
