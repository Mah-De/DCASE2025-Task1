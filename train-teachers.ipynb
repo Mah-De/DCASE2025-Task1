{
 "cells": [
  {
   "cell_type": "markdown",
   "id": "187f8555",
   "metadata": {
    "papermill": {
     "duration": 0.004463,
     "end_time": "2025-06-11T10:21:28.944049",
     "exception": false,
     "start_time": "2025-06-11T10:21:28.939586",
     "status": "completed"
    },
    "tags": []
   },
   "source": [
    "# DCASE 2025 Task 1 "
   ]
  },
  {
   "cell_type": "markdown",
   "id": "ed9935b9",
   "metadata": {
    "papermill": {
     "duration": 0.003232,
     "end_time": "2025-06-11T10:21:28.950877",
     "exception": false,
     "start_time": "2025-06-11T10:21:28.947645",
     "status": "completed"
    },
    "tags": []
   },
   "source": [
    "# Importing libraries"
   ]
  },
  {
   "cell_type": "code",
   "execution_count": 1,
   "id": "db5cca3b",
   "metadata": {
    "_cell_guid": "b1076dfc-b9ad-4769-8c92-a6c4dae69d19",
    "_uuid": "8f2839f25d086af736a60e9eeb907d3b93b6e0e5",
    "execution": {
     "iopub.execute_input": "2025-06-11T10:21:28.958180Z",
     "iopub.status.busy": "2025-06-11T10:21:28.957915Z",
     "iopub.status.idle": "2025-06-11T10:21:59.398881Z",
     "shell.execute_reply": "2025-06-11T10:21:59.398145Z"
    },
    "papermill": {
     "duration": 30.4492,
     "end_time": "2025-06-11T10:21:59.403218",
     "exception": false,
     "start_time": "2025-06-11T10:21:28.954018",
     "status": "completed"
    },
    "tags": []
   },
   "outputs": [
    {
     "name": "stdout",
     "output_type": "stream",
     "text": [
      "Notebook begins ...\n"
     ]
    },
    {
     "name": "stderr",
     "output_type": "stream",
     "text": [
      "2025-06-11 10:21:48.477469: E external/local_xla/xla/stream_executor/cuda/cuda_fft.cc:477] Unable to register cuFFT factory: Attempting to register factory for plugin cuFFT when one has already been registered\n",
      "WARNING: All log messages before absl::InitializeLog() is called are written to STDERR\n",
      "E0000 00:00:1749637308.678349      19 cuda_dnn.cc:8310] Unable to register cuDNN factory: Attempting to register factory for plugin cuDNN when one has already been registered\n",
      "E0000 00:00:1749637308.737709      19 cuda_blas.cc:1418] Unable to register cuBLAS factory: Attempting to register factory for plugin cuBLAS when one has already been registered\n"
     ]
    },
    {
     "name": "stdout",
     "output_type": "stream",
     "text": [
      "Environment setup complete\n"
     ]
    }
   ],
   "source": [
    "print(\"Notebook begins ...\")\n",
    "import random\n",
    "import numpy as np\n",
    "import pandas as pd\n",
    "import csv\n",
    "import torch\n",
    "import torch.nn as nn\n",
    "import torch.nn.functional as F\n",
    "import torchaudio\n",
    "from torch.utils.data import Dataset, DataLoader, Subset\n",
    "from torchmetrics import Accuracy\n",
    "from collections import defaultdict\n",
    "import torchinfo\n",
    "import os\n",
    "from torch.utils.tensorboard import SummaryWriter\n",
    "import matplotlib.pyplot as plt\n",
    "import torchmetrics\n",
    "from torchinfo import summary\n",
    "\n",
    "# # Set random seed for reproducibility\n",
    "#random.seed(42)\n",
    "#np.random.seed(42)\n",
    "#torch.manual_seed(42)\n",
    "#torch.cuda.manual_seed(42)\n",
    "\n",
    "print(\"Environment setup complete\")"
   ]
  },
  {
   "cell_type": "markdown",
   "id": "d62e73ce",
   "metadata": {
    "papermill": {
     "duration": 0.003094,
     "end_time": "2025-06-11T10:21:59.409808",
     "exception": false,
     "start_time": "2025-06-11T10:21:59.406714",
     "status": "completed"
    },
    "tags": []
   },
   "source": [
    "# Defining Parameters"
   ]
  },
  {
   "cell_type": "code",
   "execution_count": 2,
   "id": "0332af00",
   "metadata": {
    "execution": {
     "iopub.execute_input": "2025-06-11T10:21:59.417549Z",
     "iopub.status.busy": "2025-06-11T10:21:59.417077Z",
     "iopub.status.idle": "2025-06-11T10:21:59.423385Z",
     "shell.execute_reply": "2025-06-11T10:21:59.422738Z"
    },
    "papermill": {
     "duration": 0.0115,
     "end_time": "2025-06-11T10:21:59.424516",
     "exception": false,
     "start_time": "2025-06-11T10:21:59.413016",
     "status": "completed"
    },
    "tags": []
   },
   "outputs": [
    {
     "name": "stdout",
     "output_type": "stream",
     "text": [
      "Device: cuda:0\n",
      "Phase: full\n"
     ]
    }
   ],
   "source": [
    "# Configuration dictionary\n",
    "params = {\n",
    "    # Dataset paths\n",
    "    'train_file': \"/kaggle/input/dcase-2025-task1-melspecs/dataset/train.npz\",\n",
    "    'aug_train_file': \"/kaggle/input/dcase-2025-task1-melspecs-aug/dataset/train.npz\", # or set to None\n",
    "    'test_file': \"/kaggle/input/dcase-2025-task1-melspecs/dataset/test.npz\",\n",
    "    # Audio processing parameters\n",
    "    'nb_mels': 256,\n",
    "    'mel_seq_len': 64,  # Will be set dynamically\n",
    "    # Model parameters\n",
    "    'net_type': 'cnn',\n",
    "    'loadmodel' : None, # \"/kaggle/input/dsflexinet_dev_lrpool/pytorch/51.7/2/checkpoint.pth\", # or None for not to load!\n",
    "    # Training parameters\n",
    "    'nb_epochs': 500,\n",
    "    'patience' : 400,\n",
    "    'batch_size': 64,\n",
    "    'nb_workers': 4,\n",
    "    'shuffle': True,\n",
    "    # Optimizer parameters\n",
    "    'learning_rate': 0.0005,\n",
    "    # Checkpoint and logging\n",
    "    'checkpoints_dir': '/kaggle/working/',\n",
    "    'log_dir': '/kaggle-working/',\n",
    "    # Dataset params\n",
    "    'dataset_version' : 2,\n",
    "    # freq_mix_style\n",
    "    'mix_style_p': 0.4,\n",
    "    'mix_style_alpha': 0.3,\n",
    "    'freqmixstyle_p' : 0.4,\n",
    "    'freqmixstyle_alpha' : 0.3,\n",
    "    'device_mask_p': 0,\n",
    "    'time_mask_param' : 8,\n",
    "    'freq_mask_param' : 48\n",
    "}\n",
    "\n",
    "\n",
    "device = 'cuda:0' if torch.cuda.is_available() else 'cpu' # Device configuration\n",
    "print(f\"Device: {device}\")\n",
    "\n",
    "phase = 'debug'  # Phase flag for debugging. Set to 'debug' or 'full'\n",
    "phase = 'full' if device == 'cuda:0' else phase\n",
    "if phase == \"debug\" : \n",
    "    params['nb_epochs'] = 5\n",
    "    params['batch_size'] = 2\n",
    "print(f\"Phase: {phase}\")"
   ]
  },
  {
   "cell_type": "markdown",
   "id": "fc5b549a",
   "metadata": {
    "papermill": {
     "duration": 0.003145,
     "end_time": "2025-06-11T10:21:59.431039",
     "exception": false,
     "start_time": "2025-06-11T10:21:59.427894",
     "status": "completed"
    },
    "tags": []
   },
   "source": [
    "# Utility Functions"
   ]
  },
  {
   "cell_type": "code",
   "execution_count": 3,
   "id": "21479016",
   "metadata": {
    "execution": {
     "iopub.execute_input": "2025-06-11T10:21:59.438779Z",
     "iopub.status.busy": "2025-06-11T10:21:59.438561Z",
     "iopub.status.idle": "2025-06-11T10:21:59.469508Z",
     "shell.execute_reply": "2025-06-11T10:21:59.468987Z"
    },
    "papermill": {
     "duration": 0.036126,
     "end_time": "2025-06-11T10:21:59.470474",
     "exception": false,
     "start_time": "2025-06-11T10:21:59.434348",
     "status": "completed"
    },
    "tags": []
   },
   "outputs": [],
   "source": [
    "def get_class_name(klass='unk',getall=False):\n",
    "    # Class mappings\n",
    "    classes_names = {'airport': 0, 'shopping_mall': 1, 'metro_station': 2, 'street_pedestrian': 3,'public_square': 4, 'street_traffic': 5, 'tram': 6, 'bus': 7, 'metro': 8, 'park': 9}\n",
    "    class_indx = {v: k for k, v in classes_names.items()}\n",
    "    if getall :\n",
    "        return classes_names\n",
    "    classes_names = classes_names | class_indx\n",
    "    return classes_names.get(klass)\n",
    "\n",
    "def get_device_name(dev='unk',getall=False):\n",
    "    # Class mappings\n",
    "    devices_names = {'a' : 0,'b' : 1,'c' : 2,'s1': 3,'s2': 4,'s3': 5,'unk': 6}\n",
    "    devices_indx = {0 : 'a', 1 : 'b', 2 : 'c', 3 : 's1', 4 : 's2', 5 : 's3', 6 : 'unk'}\n",
    "    if getall :\n",
    "        return devices_names\n",
    "    devices_names = devices_names | devices_indx\n",
    "    return devices_names.get(dev) if devices_names.get(dev) != None else 6\n",
    "\n",
    "from torch.distributions.beta import Beta\n",
    "\n",
    "# MixStyle (provided code, included for completeness)\n",
    "def mixstyle(x, p=0.4, alpha=0.3, eps=1e-6):\n",
    "    if np.random.rand() > p:\n",
    "        return x\n",
    "    batch_size = x.size(0)\n",
    "\n",
    "    # frequency-wise statistics\n",
    "    f_mu = x.mean(dim=[1, 3], keepdim=True)\n",
    "    f_var = x.var(dim=[1, 3], keepdim=True)\n",
    "\n",
    "    f_sig = (f_var + eps).sqrt()  # compute instance standard deviation\n",
    "    f_mu, f_sig = f_mu.detach(), f_sig.detach()  # block gradients\n",
    "    x_normed = (x - f_mu) / f_sig  # normalize input\n",
    "    lmda = Beta(alpha, alpha).sample((batch_size, 1, 1, 1)).to(x.device)  # sample instance-wise convex weights\n",
    "    perm = torch.randperm(batch_size).to(x.device)  # generate shuffling indices\n",
    "    f_mu_perm, f_sig_perm = f_mu[perm], f_sig[perm]  # shuffling\n",
    "    mu_mix = f_mu * lmda + f_mu_perm * (1 - lmda)  # generate mixed mean\n",
    "    sig_mix = f_sig * lmda + f_sig_perm * (1 - lmda)  # generate mixed standard deviation\n",
    "    x = x_normed * sig_mix + mu_mix  # denormalize input using the mixed frequency statistics\n",
    "    return x\n",
    "\n",
    "def initialize_weights(m):\n",
    "    if isinstance(m, nn.Conv2d):\n",
    "        nn.init.kaiming_normal_(m.weight, mode=\"fan_out\")\n",
    "        if m.bias is not None:\n",
    "            nn.init.zeros_(m.bias)\n",
    "    elif isinstance(m, (nn.BatchNorm2d, nn.GroupNorm, nn.LayerNorm)):\n",
    "        nn.init.ones_(m.weight)\n",
    "        nn.init.zeros_(m.bias)\n",
    "    elif isinstance(m, nn.Linear):\n",
    "        nn.init.normal_(m.weight, 0, 0.01)\n",
    "        if m.bias is not None:\n",
    "            nn.init.zeros_(m.bias)\n",
    "\n",
    "# Analyze data shapes\n",
    "def analyze_data_shapes(loader, dataset_name):\n",
    "    for batch in loader:\n",
    "        waveforms, devices, labels = batch\n",
    "        params['mel_seq_len'] = waveforms.shape[-1]\n",
    "        print(f\"{dataset_name} Data Shapes:\")\n",
    "        print(f\"  Waveforms: {waveforms.shape} (batch_size, mel_bins, time_steps)\\n\")\n",
    "        break\n",
    "\n",
    "# Visualize a sample\n",
    "def plot_mel_spectrogram(mel_spec, label, dev=None):\n",
    "    label = get_class_name(label.item())# list(classes.keys())[class_idx]\n",
    "    plt.figure(figsize=(10, 5))\n",
    "    plt.imshow(mel_spec.squeeze().cpu().numpy(), origin='lower', aspect='auto', cmap='viridis')\n",
    "    plt.title(f\"Mel Spectrogram - Class: {label}\" +  (f\" - Device: {dev}\" if dev!=None else \"\"))\n",
    "    plt.xlabel(\"Time Frames\")\n",
    "    plt.ylabel(\"Mel Frequency Bins\")\n",
    "    plt.colorbar(label=\"Log2 Magnitude\")\n",
    "    plt.tight_layout()\n",
    "    plt.show()\n",
    "    print(\"\\n\")\n",
    "\n",
    "def create_dataloader(dataset,batchsize=64,shuffle=True,phase=\"debug\"):\n",
    "    if phase == 'debug':\n",
    "        dataloader = DataLoader(dataset=Subset(dataset, range(16)),batch_size=2,num_workers=4,shuffle=shuffle,drop_last=True)\n",
    "    else:\n",
    "        dataloader = DataLoader(dataset=dataset,batch_size=batchsize,num_workers=4,shuffle=shuffle,drop_last=True)\n",
    "    \n",
    "    return dataloader\n",
    "\n",
    "\n",
    "import torch\n",
    "import os\n",
    "from collections import defaultdict\n",
    "import matplotlib.pyplot as plt\n",
    "\n",
    "def train_epoch(model, loader, optimizer, scheduler, loss_fn, metric):\n",
    "    model.train()\n",
    "    total_loss, total_correct, total_samples = 0.0, 0, 0\n",
    "    device_stats = defaultdict(lambda: {'correct': 0, 'total': 0})\n",
    "\n",
    "    for batch in loader:\n",
    "        inputs, devices, labels = [x.to(device) for x in batch]\n",
    "        # Apply augmentations\n",
    "        if params['mix_style_p'] > 0:\n",
    "            # frequency mixstyle\n",
    "            inputs = mixstyle(inputs, p=params['mix_style_p'], alpha=params['mix_style_alpha'])\n",
    "\n",
    "        optimizer.zero_grad()\n",
    "        outputs = model(inputs)\n",
    "        loss = loss_fn(outputs, labels)\n",
    "        loss.backward()\n",
    "        optimizer.step()\n",
    "\n",
    "        total_loss += loss.item()\n",
    "        preds = torch.argmax(outputs, dim=1)\n",
    "        total_correct += metric(preds, labels).item() * labels.size(0)\n",
    "        total_samples += labels.size(0)\n",
    "\n",
    "        # Update per-device stats\n",
    "        for dev, pred, lbl in zip(devices, preds, labels):\n",
    "            dev_id = dev.item()\n",
    "            device_stats[dev_id]['correct'] += (pred == lbl).item()\n",
    "            device_stats[dev_id]['total'] += 1\n",
    "    if scheduler is not None:\n",
    "        scheduler.step()\n",
    "    avg_loss = total_loss / len(loader)\n",
    "    avg_acc = total_correct / total_samples\n",
    "    # --- Integrated logging ---\n",
    "    print(f\"  Training - Loss: {avg_loss:.4f}, Accuracy: {avg_acc*100:3.1f}%\")\n",
    "    # print(\"      Training Device Accuracies:\")\n",
    "    device_names = [get_device_name(dev=dev_id) for dev_id in device_stats.keys()]\n",
    "    stats_list = [(s['correct'], s['total']) for s in device_stats.values()]\n",
    "    print(\"        \" + \"\\t\".join(f\"{name:5}\" for name in device_names))\n",
    "    print(\"        \" + \"\\t\".join(f\"{c/t*100:3.1f}%\" for c, t in stats_list))\n",
    "    return avg_loss, avg_acc, device_stats\n",
    "\n",
    "def evaluate_epoch(model, loader, loss_fn, metric, best_val_loss, best_test_accuracy):\n",
    "    model.eval()\n",
    "    total_loss, total_correct, total_samples = 0.0, 0, 0\n",
    "    device_stats = defaultdict(lambda: {'correct': 0, 'total': 0})\n",
    "\n",
    "    with torch.no_grad():\n",
    "        for batch in loader:\n",
    "            waveforms, devices, labels = [x.to(device) for x in batch]\n",
    "            outputs = model(waveforms)\n",
    "            loss = loss_fn(outputs, labels)\n",
    "\n",
    "            total_loss += loss.item()\n",
    "            preds = torch.argmax(outputs, dim=1)\n",
    "            total_correct += metric(preds, labels).item() * labels.size(0)\n",
    "            total_samples += labels.size(0)\n",
    "\n",
    "            for dev, pred, lbl in zip(devices, preds, labels):\n",
    "                dev_id = dev.item()\n",
    "                device_stats[dev_id]['correct'] += (pred == lbl).item()\n",
    "                device_stats[dev_id]['total'] += 1\n",
    "\n",
    "    avg_loss = total_loss / len(loader)\n",
    "    avg_acc = total_correct / total_samples\n",
    "    \n",
    "    print(f\"  Validation - Loss: {avg_loss:.4f}, Best Loss: {best_val_loss:.4f}, Accuracy: {avg_acc*100:3.1f}%, Best Acc: {best_test_accuracy*100:3.1f}\")\n",
    "    # print(\"      Validation Device Accuracies:\")\n",
    "    device_names = [get_device_name(dev=dev_id) for dev_id, _ in device_stats.items()]\n",
    "    stats_list = [(s['correct'], s['total']) for s in device_stats.values()]\n",
    "    print(\"        \" + \"\\t\".join(f\"{name:5}\" for name in device_names))\n",
    "    print(\"        \" + \"\\t\".join(f\"{c/t*100:3.1f}%\" for c, t in stats_list))\n",
    "    \n",
    "    return avg_loss, avg_acc, device_stats\n",
    "\n",
    "\n",
    "def train_model(model, train_loader, test_loader, optimizer, scheduler, loss_fn, metric, params, best_test_accuracy=0.0, best_val_loss=float('inf'), model_name=\"\"):\n",
    "    patience = params['patience']\n",
    "    checkpoints_folder = params['checkpoints_dir']\n",
    "    os.makedirs(checkpoints_folder, exist_ok=True)\n",
    "\n",
    "    # Track metrics per epoch\n",
    "    train_losses, train_accuracies = [], []\n",
    "    val_losses, val_accuracies = [], []\n",
    "\n",
    "    for epoch in range(params['nb_epochs']):\n",
    "        print(f\"\\nEpoch {epoch + 1}/{params['nb_epochs']}\")\n",
    "\n",
    "        train_loss, train_acc, train_device_stats = train_epoch(\n",
    "            model, train_loader, optimizer, scheduler, loss_fn, metric\n",
    "        )\n",
    "        train_losses.append(train_loss)\n",
    "        train_accuracies.append(train_acc)\n",
    "\n",
    "        # Validate\n",
    "        test_loss, test_acc, test_device_stats = evaluate_epoch(\n",
    "            model, test_loader, loss_fn, metric, best_val_loss, best_test_accuracy\n",
    "        )\n",
    "        val_losses.append(test_loss)\n",
    "        val_accuracies.append(test_acc)\n",
    "        \n",
    "        # Save checkpoint\n",
    "        torch.save({\n",
    "            'model_state_dict': model.state_dict(),\n",
    "            'optimizer_state_dict': optimizer.state_dict(),\n",
    "            'epoch': epoch,\n",
    "            'val_loss': test_loss,\n",
    "            'val_acc': test_acc\n",
    "        }, os.path.join(checkpoints_folder, \"checkpoint_\"+model_name+\".pth\"))\n",
    "\n",
    "        # Early stopping\n",
    "        if test_acc > best_test_accuracy:\n",
    "            best_test_accuracy = test_acc\n",
    "            patience = params['patience']\n",
    "            torch.save({\n",
    "                'model_state_dict': model.state_dict(),\n",
    "                'optimizer_state_dict': optimizer.state_dict(),\n",
    "                'epoch': epoch,\n",
    "                'best_test_acc': best_test_accuracy,\n",
    "                'best_val_loss': best_val_loss\n",
    "            }, os.path.join(checkpoints_folder, \"best_model_\"+model_name+\".pth\"))\n",
    "        else:\n",
    "            patience -= 1\n",
    "        if patience == 0:\n",
    "            print(\"Early stopping triggered due to no improvement in validation loss\")\n",
    "            break\n",
    "\n",
    "    print(\"Training completed\")\n",
    "    \n",
    "    return model, best_test_accuracy, best_val_loss, train_losses, train_accuracies, val_losses, val_accuracies\n",
    "\n",
    "def plot_training_history(train_losses, train_accuracies, val_losses, val_accuracies, details=\"Train/Validation Losses and Accs\"):\n",
    "    \"\"\"\n",
    "    Plots training/validation loss/accuracy curves with min/max markers,\n",
    "    a global title, minor grids, and legends outside the plot.\n",
    "\n",
    "    Args:\n",
    "        train_losses: List of training losses per epoch\n",
    "        train_accuracies: List of training accuracies per epoch\n",
    "        val_losses: List of validation losses per epoch\n",
    "        val_accuracies: List of validation accuracies per epoch\n",
    "    \"\"\"\n",
    "    epochs = range(1, len(train_losses) + 1)\n",
    "\n",
    "    # Calculate key metrics\n",
    "    min_train_loss = min(train_losses)\n",
    "    min_val_loss = min(val_losses)\n",
    "    max_train_acc = max(train_accuracies)\n",
    "    max_val_acc = max(val_accuracies)\n",
    "    e_min_train_loss = np.argmin(np.array(train_losses))+1\n",
    "    e_min_val_loss = np.argmin(np.array(val_losses))+1\n",
    "    e_max_train_acc = np.argmax(np.array(train_accuracies))+1\n",
    "    e_max_val_acc = np.argmax(np.array(val_accuracies))+1\n",
    "\n",
    "    # Create figure with global title\n",
    "    fig = plt.figure(figsize=(12, 10))\n",
    "    fig.suptitle(details, fontsize=12)\n",
    "    # Plot Loss\n",
    "    plt.subplot(2, 1, 1)\n",
    "    plt.plot(epochs, train_losses, label='Train Loss', color='#1f77b4')\n",
    "    plt.plot(epochs, val_losses, label='Validation Loss', color='#ff7f0e')\n",
    "    \n",
    "    # Add horizontal lines for min values\n",
    "    plt.axhline(y=min_train_loss, color='#2ca02c', linestyle='--', label=f'Min Train Loss: {min_train_loss:1.4f} @ Epoch {e_min_train_loss}')\n",
    "    plt.axhline(y=min_val_loss, color='#d62728', linestyle='--', label=f'Min Val Loss: {min_val_loss:1.4f} @ Epoch {e_min_val_loss}')\n",
    "    \n",
    "    # Formatting\n",
    "    plt.xlabel('Epoch')\n",
    "    plt.ylabel('Loss')\n",
    "    plt.title('Loss over Epochs')\n",
    "    plt.xlim(1, len(train_losses) + 1)\n",
    "    plt.ylim(0.7, 1.8)\n",
    "    plt.yticks([n/10 for n in range(7, 19)])\n",
    "    # plt.xticks([n for n in epochs])\n",
    "    plt.grid(True, alpha=0.8)\n",
    "    plt.grid(True, linestyle='--', alpha=0.4, which='minor')\n",
    "    plt.minorticks_on()\n",
    "    plt.tick_params(which='minor', length=3)\n",
    "    \n",
    "    # Legend on the right\n",
    "    plt.legend(loc='upper right') # bbox_to_anchor=(1.02, 1), loc='upper left', borderaxespad=0.)\n",
    "\n",
    "    # Plot Accuracy\n",
    "    plt.subplot(2, 1, 2)\n",
    "    plt.plot(epochs, [x*100 for x in train_accuracies], label='Train Accuracy', color='#1f77b4')\n",
    "    plt.plot(epochs, [x*100 for x in val_accuracies], label='Validation Accuracy', color='#ff7f0e')\n",
    "    \n",
    "    # Add horizontal lines for max values\n",
    "    plt.axhline(y=max_train_acc*100, color='#2ca02c', linestyle='--',label=f'Max Train Acc: {max_train_acc*100:3.2f}% @ Epoch {e_max_train_acc}')\n",
    "    plt.axhline(y=max_val_acc*100, color='#d62728', linestyle='--',label=f'Max Val Acc: {max_val_acc*100:3.2f}% @ Epoch {e_max_val_acc}')\n",
    "    \n",
    "    # Formatting\n",
    "    plt.xlabel('Epoch')\n",
    "    plt.ylabel('Accuracy (%)')\n",
    "    plt.title('Accuracy over Epochs')\n",
    "    plt.xlim(1, len(train_losses) + 1)\n",
    "    # plt.xticks([n for n in epochs])\n",
    "    plt.ylim(20, 75)\n",
    "    plt.grid(True, alpha=0.8)\n",
    "    plt.grid(True, linestyle='--', alpha=0.4, which='minor')\n",
    "    plt.minorticks_on()\n",
    "    plt.tick_params(which='minor', length=3)\n",
    "    # Legend on the right\n",
    "    plt.legend(loc='lower right')#bbox_to_anchor=(1.02, 1), loc='upper left', borderaxespad=0.)    \n",
    "    plt.show()\n"
   ]
  },
  {
   "cell_type": "markdown",
   "id": "af4268e8",
   "metadata": {
    "papermill": {
     "duration": 0.003179,
     "end_time": "2025-06-11T10:21:59.477117",
     "exception": false,
     "start_time": "2025-06-11T10:21:59.473938",
     "status": "completed"
    },
    "tags": []
   },
   "source": [
    "# Defining data generator class"
   ]
  },
  {
   "cell_type": "code",
   "execution_count": 4,
   "id": "23ca1d09",
   "metadata": {
    "execution": {
     "iopub.execute_input": "2025-06-11T10:21:59.484951Z",
     "iopub.status.busy": "2025-06-11T10:21:59.484721Z",
     "iopub.status.idle": "2025-06-11T10:21:59.496404Z",
     "shell.execute_reply": "2025-06-11T10:21:59.495798Z"
    },
    "papermill": {
     "duration": 0.017136,
     "end_time": "2025-06-11T10:21:59.497547",
     "exception": false,
     "start_time": "2025-06-11T10:21:59.480411",
     "status": "completed"
    },
    "tags": []
   },
   "outputs": [
    {
     "name": "stdout",
     "output_type": "stream",
     "text": [
      "Data Generator declared\n"
     ]
    }
   ],
   "source": [
    "import torch\n",
    "import torchaudio\n",
    "import numpy as np\n",
    "import random\n",
    "from torch.utils.data import Dataset\n",
    "\n",
    "class MelSpecsDataset(Dataset):\n",
    "    def __init__(self, npz_path, augs=['time_roll', 'rnd_gain', 'rnd_noise', 'time_mask', 'freq_mask'], rec_device='gen', all_mels=False, dataset_version=3):\n",
    "        self.augs = augs if augs is not None else []  # Ensure augs is an empty list if None\n",
    "        self.path = npz_path\n",
    "        self.dataset_version = dataset_version\n",
    "        \n",
    "        data = np.load(self.path)  # Load the .npz file\n",
    "\n",
    "        if dataset_version == 3 :\n",
    "            self.data = data['wave'] # for version 3\n",
    "        else:\n",
    "            self.data = data['mel'] # for version 1 and 2 of the dataset\n",
    "            \n",
    "        self.names = data['name']\n",
    "        self.devs = self.encode2int_dev(data['device'])  # Loaded as a numpy array\n",
    "        self.labels = self.encode2int_class(data['label'])  # Loaded as a numpy array\n",
    "\n",
    "        if rec_device != 'gen':\n",
    "            mask = (data['device'] == rec_device).astype(bool)  # Create a mask\n",
    "            self.data = self.data[mask]\n",
    "            self.names = self.names[mask]\n",
    "            self.devs = self.devs[mask]\n",
    "            self.labels = self.labels[mask]\n",
    "\n",
    "        if dataset_version == 3 :\n",
    "            self.melspecs_params = {\n",
    "                'target_fs': 32000,\n",
    "                'fft_size': 4096,\n",
    "                'hop_length': 502,\n",
    "                'nb_mels': 256\n",
    "            }\n",
    "            self.roll_in_samples = int(0.125 * self.melspecs_params['target_fs'])  # 125 ms rolling\n",
    "            self.mel_spec_transform = torchaudio.transforms.MelSpectrogram(\n",
    "                sample_rate=self.melspecs_params['target_fs'],\n",
    "                n_fft=self.melspecs_params['fft_size'],\n",
    "                hop_length=self.melspecs_params['hop_length'],\n",
    "                n_mels=self.melspecs_params['nb_mels'],\n",
    "                power=2.0\n",
    "            )\n",
    "\n",
    "        # Data augmentation transforms (for training only)\n",
    "        self.time_masking = torchaudio.transforms.TimeMasking(time_mask_param=params['time_mask_param'])\n",
    "        self.freq_masking = torchaudio.transforms.FrequencyMasking(freq_mask_param=params['freq_mask_param'])\n",
    "                 \n",
    "    def __getitem__(self, item):\n",
    "        log_mel_tensor = torch.tensor(self.data[item], dtype=torch.float32)\n",
    "        dev = torch.tensor(self.devs[item])\n",
    "        label = torch.tensor(self.labels[item])\n",
    "        \n",
    "        \n",
    "        if self.augs:  # Apply spectral augmentations only if self.augs is not empty\n",
    "            if 'rnd_gain' in self.augs:\n",
    "                # Apply random gain\n",
    "                if random.random() < 0.5:\n",
    "                    gain = random.uniform(0.7, 1.3)\n",
    "                    log_mel_tensor = log_mel_tensor * gain\n",
    "            if 'rnd_noise' in self.augs:\n",
    "                # Apply additive Gaussian noise\n",
    "                if random.random() < 0.5:\n",
    "                    noise = torch.randn_like(log_mel_tensor) * 0.005\n",
    "                    log_mel_tensor = log_mel_tensor + noise\n",
    "            if 'time_mask' in self.augs:\n",
    "                log_mel_tensor = self.time_masking(log_mel_tensor)\n",
    "            if 'freq_mask' in self.augs:\n",
    "                log_mel_tensor = self.freq_masking(log_mel_tensor)\n",
    "            \n",
    "        return log_mel_tensor.unsqueeze(0), dev, label\n",
    "\n",
    "\n",
    "    def __len__(self):\n",
    "        return len(self.devs)\n",
    "\n",
    "    def get_statistics(self):\n",
    "        unique_classes = np.array(list(get_class_name(getall=True).values()))\n",
    "        unique_devices = np.array(list(get_device_name(getall=True).values()))\n",
    "        hist, xedges, yedges = np.histogram2d(\n",
    "            self.labels, self.devs,\n",
    "            bins=[len(unique_classes), len(unique_devices)],\n",
    "            range=[[min(unique_classes), max(unique_classes) + 1],\n",
    "                   [min(unique_devices), max(unique_devices) + 1]]\n",
    "        )\n",
    "        return hist.astype(int)\n",
    "\n",
    "    @staticmethod\n",
    "    def encode2int_class(values):\n",
    "        return np.array([get_class_name(klass=v) for v in values])\n",
    "\n",
    "    @staticmethod\n",
    "    def encode2int_dev(values):\n",
    "        return np.array([get_device_name(dev=v) for v in values])\n",
    "\n",
    "print(\"Data Generator declared\")"
   ]
  },
  {
   "cell_type": "markdown",
   "id": "3183c0d6",
   "metadata": {
    "papermill": {
     "duration": 0.003185,
     "end_time": "2025-06-11T10:21:59.504119",
     "exception": false,
     "start_time": "2025-06-11T10:21:59.500934",
     "status": "completed"
    },
    "tags": []
   },
   "source": [
    "# Declaration of Train/Test Datasets"
   ]
  },
  {
   "cell_type": "code",
   "execution_count": 5,
   "id": "fab36b0d",
   "metadata": {
    "execution": {
     "iopub.execute_input": "2025-06-11T10:21:59.511571Z",
     "iopub.status.busy": "2025-06-11T10:21:59.511321Z",
     "iopub.status.idle": "2025-06-11T10:24:34.682192Z",
     "shell.execute_reply": "2025-06-11T10:24:34.681271Z"
    },
    "papermill": {
     "duration": 155.179253,
     "end_time": "2025-06-11T10:24:34.686601",
     "exception": false,
     "start_time": "2025-06-11T10:21:59.507348",
     "status": "completed"
    },
    "tags": []
   },
   "outputs": [
    {
     "name": "stdout",
     "output_type": "stream",
     "text": [
      "Datasets defined\n"
     ]
    }
   ],
   "source": [
    "# del train_dataset, aug_train_dataset, test_dataset\n",
    "# Initialize datasets\n",
    "train_dataset = MelSpecsDataset(npz_path=params['train_file'],dataset_version=params['dataset_version'])\n",
    "\n",
    "aug_train_dataset = None\n",
    "if params['aug_train_file'] != None:\n",
    "    aug_train_dataset = MelSpecsDataset(npz_path=params['aug_train_file'],dataset_version=params['dataset_version'])\n",
    "    \n",
    "test_dataset = MelSpecsDataset(npz_path=params['test_file'],dataset_version=params['dataset_version'], augs=None)\n",
    "print(\"Datasets defined\")"
   ]
  },
  {
   "cell_type": "markdown",
   "id": "9eea57bd",
   "metadata": {
    "papermill": {
     "duration": 0.003899,
     "end_time": "2025-06-11T10:24:34.693993",
     "exception": false,
     "start_time": "2025-06-11T10:24:34.690094",
     "status": "completed"
    },
    "tags": []
   },
   "source": [
    "## Analyze datasets"
   ]
  },
  {
   "cell_type": "code",
   "execution_count": 6,
   "id": "bc79dd2c",
   "metadata": {
    "execution": {
     "iopub.execute_input": "2025-06-11T10:24:34.701794Z",
     "iopub.status.busy": "2025-06-11T10:24:34.701537Z",
     "iopub.status.idle": "2025-06-11T10:24:34.737318Z",
     "shell.execute_reply": "2025-06-11T10:24:34.736460Z"
    },
    "papermill": {
     "duration": 0.041171,
     "end_time": "2025-06-11T10:24:34.738578",
     "exception": false,
     "start_time": "2025-06-11T10:24:34.697407",
     "status": "completed"
    },
    "tags": []
   },
   "outputs": [
    {
     "name": "stdout",
     "output_type": "stream",
     "text": [
      "Number of samples - Training: 34900, Testing: 29680, Aug: 135080\n",
      "\n",
      "Joint count matrix for Train dataset\n",
      "                      a    b    c   s1   s2   s3  unk\n",
      "airport            2550  190  190  170  190  200    0\n",
      "shopping_mall      2490  200  190  180  180  200    0\n",
      "metro_station      2510  180  200  190  180  190    0\n",
      "street_pedestrian  2520  190  190  190  190  190    0\n",
      "public_square      2630  190  190  180  180  190    0\n",
      "street_traffic     2600  180  190  170  200  190    0\n",
      "tram               2500  190  200  200  190  160    0\n",
      "bus                2560  200  200  170  170  180    0\n",
      "metro              2530  190  180  200  180  190    0\n",
      "park               2630  190  190  190  190  180    0\n",
      "\n",
      "\n",
      "Joint count matrix for Test dataset\n",
      "                     a    b    c   s1   s2   s3  unk\n",
      "airport            330  320  330  330  330  330  990\n",
      "shopping_mall      330  330  330  330  330  330  990\n",
      "metro_station      330  330  330  330  330  330  990\n",
      "street_pedestrian  330  330  330  330  330  330  990\n",
      "public_square      330  330  330  330  330  330  990\n",
      "street_traffic     330  330  330  330  330  330  990\n",
      "tram               330  330  320  330  330  330  990\n",
      "bus                330  330  330  330  330  330  990\n",
      "metro              330  330  330  330  330  330  990\n",
      "park               330  330  330  330  330  330  990\n",
      "\n",
      "\n",
      "Joint count matrix for Augmented Train dataset\n",
      "                   a  b  c  s1  s2  s3    unk\n",
      "airport            0  0  0   0   0   0  12730\n",
      "shopping_mall      0  0  0   0   0   0  13870\n",
      "metro_station      0  0  0   0   0   0  13720\n",
      "street_pedestrian  0  0  0   0   0   0  13280\n",
      "public_square      0  0  0   0   0   0  13840\n",
      "street_traffic     0  0  0   0   0   0  14615\n",
      "tram               0  0  0   0   0   0  13920\n",
      "bus                0  0  0   0   0   0  14740\n",
      "metro              0  0  0   0   0   0  14370\n",
      "park               0  0  0   0   0   0   9995\n",
      "\n",
      "\n"
     ]
    }
   ],
   "source": [
    "print(f\"Number of samples - Training: {len(train_dataset)}, Testing: {len(test_dataset)}, Aug: {len(aug_train_dataset) if aug_train_dataset != None else 'None'}\\n\")\n",
    "\n",
    "print(\"Joint count matrix for Train dataset\")\n",
    "df = pd.DataFrame(train_dataset.get_statistics(), index=list(get_class_name(getall=True).keys()), columns=list(get_device_name(getall=True).keys()))\n",
    "print(df,end=\"\\n\\n\\n\")\n",
    "\n",
    "print(\"Joint count matrix for Test dataset\")\n",
    "df = pd.DataFrame(test_dataset.get_statistics(), index=list(get_class_name(getall=True).keys()), columns=list(get_device_name(getall=True).keys()))\n",
    "print(df,end=\"\\n\\n\\n\")\n",
    "\n",
    "if aug_train_dataset != None:\n",
    "    print(\"Joint count matrix for Augmented Train dataset\")\n",
    "    df = pd.DataFrame(aug_train_dataset.get_statistics(), index=list(get_class_name(getall=True).keys()), columns=list(get_device_name(getall=True).keys()))\n",
    "    print(df,end=\"\\n\\n\\n\")\n",
    "    train_dataset = torch.utils.data.ConcatDataset([train_dataset, aug_train_dataset])\n",
    "    del aug_train_dataset"
   ]
  },
  {
   "cell_type": "markdown",
   "id": "b4e5307d",
   "metadata": {
    "papermill": {
     "duration": 0.00344,
     "end_time": "2025-06-11T10:24:34.745793",
     "exception": false,
     "start_time": "2025-06-11T10:24:34.742353",
     "status": "completed"
    },
    "tags": []
   },
   "source": [
    "# Declaration of Train/Test data loaders"
   ]
  },
  {
   "cell_type": "code",
   "execution_count": 7,
   "id": "0c1fd0cf",
   "metadata": {
    "execution": {
     "iopub.execute_input": "2025-06-11T10:24:34.754204Z",
     "iopub.status.busy": "2025-06-11T10:24:34.753592Z",
     "iopub.status.idle": "2025-06-11T10:24:34.758705Z",
     "shell.execute_reply": "2025-06-11T10:24:34.757995Z"
    },
    "papermill": {
     "duration": 0.010366,
     "end_time": "2025-06-11T10:24:34.759731",
     "exception": false,
     "start_time": "2025-06-11T10:24:34.749365",
     "status": "completed"
    },
    "tags": []
   },
   "outputs": [
    {
     "name": "stdout",
     "output_type": "stream",
     "text": [
      "Number of batches - Training: 2655, Testing: 463\n"
     ]
    }
   ],
   "source": [
    "# Create data loaders based on phase\n",
    "train_loader = create_dataloader(dataset=train_dataset, batchsize=params['batch_size'], shuffle=params['shuffle'],phase=phase)\n",
    "test_loader = create_dataloader(dataset=test_dataset, batchsize=params['batch_size'], shuffle=False,phase=phase)    \n",
    "num_training_batchs = len(train_loader)\n",
    "num_testing_batchs = len(test_loader)\n",
    "print(f\"Number of batches - Training: {num_training_batchs}, Testing: {num_testing_batchs}\")"
   ]
  },
  {
   "cell_type": "markdown",
   "id": "572bc19f",
   "metadata": {
    "papermill": {
     "duration": 0.003291,
     "end_time": "2025-06-11T10:24:34.766500",
     "exception": false,
     "start_time": "2025-06-11T10:24:34.763209",
     "status": "completed"
    },
    "tags": []
   },
   "source": [
    "## Analyze data loaders"
   ]
  },
  {
   "cell_type": "code",
   "execution_count": 8,
   "id": "0b8b593b",
   "metadata": {
    "execution": {
     "iopub.execute_input": "2025-06-11T10:24:34.774228Z",
     "iopub.status.busy": "2025-06-11T10:24:34.774008Z",
     "iopub.status.idle": "2025-06-11T10:24:37.038015Z",
     "shell.execute_reply": "2025-06-11T10:24:37.036943Z"
    },
    "papermill": {
     "duration": 2.269511,
     "end_time": "2025-06-11T10:24:37.039410",
     "exception": false,
     "start_time": "2025-06-11T10:24:34.769899",
     "status": "completed"
    },
    "tags": []
   },
   "outputs": [
    {
     "name": "stdout",
     "output_type": "stream",
     "text": [
      "Training Data Shapes:\n",
      "  Waveforms: torch.Size([64, 1, 256, 64]) (batch_size, mel_bins, time_steps)\n",
      "\n"
     ]
    },
    {
     "data": {
      "image/png": "[encoded data removed]",
      "text/plain": [
       "<Figure size 1000x500 with 2 Axes>"
      ]
     },
     "metadata": {},
     "output_type": "display_data"
    },
    {
     "name": "stdout",
     "output_type": "stream",
     "text": [
      "\n",
      "\n"
     ]
    },
    {
     "name": "stdout",
     "output_type": "stream",
     "text": [
      "Testing Data Shapes:\n",
      "  Waveforms: torch.Size([64, 1, 256, 64]) (batch_size, mel_bins, time_steps)\n",
      "\n"
     ]
    },
    {
     "data": {
      "image/png": "[encoded data removed]",
      "text/plain": [
       "<Figure size 1000x500 with 2 Axes>"
      ]
     },
     "metadata": {},
     "output_type": "display_data"
    },
    {
     "name": "stdout",
     "output_type": "stream",
     "text": [
      "\n",
      "\n"
     ]
    }
   ],
   "source": [
    "analyze_data_shapes(train_loader, \"Training\")\n",
    "for waveforms, devices, labels in train_loader:\n",
    "    i = random.randint(0,params['batch_size']-1)\n",
    "    plot_mel_spectrogram(waveforms[i], labels[i], get_device_name(dev=int(devices[i])))\n",
    "    break\n",
    "\n",
    "analyze_data_shapes(test_loader, \"Testing\")\n",
    "for waveforms, devices, labels in test_loader:\n",
    "    i = random.randint(0,params['batch_size']-1)\n",
    "    plot_mel_spectrogram(waveforms[i], labels[i], get_device_name(dev=int(devices[i])))\n",
    "    break"
   ]
  },
  {
   "cell_type": "markdown",
   "id": "96b46217",
   "metadata": {
    "papermill": {
     "duration": 0.008442,
     "end_time": "2025-06-11T10:24:37.057254",
     "exception": false,
     "start_time": "2025-06-11T10:24:37.048812",
     "status": "completed"
    },
    "tags": []
   },
   "source": [
    "# Defining Model"
   ]
  },
  {
   "cell_type": "code",
   "execution_count": null,
   "id": "030f8d52",
   "metadata": {
    "execution": {
     "iopub.execute_input": "2025-06-11T10:24:37.075553Z",
     "iopub.status.busy": "2025-06-11T10:24:37.075234Z",
     "iopub.status.idle": "2025-06-11T10:24:37.103151Z",
     "shell.execute_reply": "2025-06-11T10:24:37.102393Z"
    },
    "papermill": {
     "duration": 0.03866,
     "end_time": "2025-06-11T10:24:37.104189",
     "exception": false,
     "start_time": "2025-06-11T10:24:37.065529",
     "status": "completed"
    },
    "tags": []
   },
   "outputs": [
    {
     "data": {
      "text/plain": [
       "'if __name__ == \"__main__\":\\n    model = get_mel_spectrogram_model()\\n    dummy_input = torch.randn(1, 1, 256, 64)  # Batch, Channels, Height, Width\\n    output = model(dummy_input)\\n    print(f\"Output shape: {output.shape}\")  # Should be [1, 10]'"
      ]
     },
     "execution_count": 9,
     "metadata": {},
     "output_type": "execute_result"
    }
   ],
   "source": [
    "###CP mobile model\n",
    "import torch\n",
    "import torch.nn as nn\n",
    "from torch.ao.quantization import QuantStub, DeQuantStub\n",
    "from torchvision.ops import Conv2dNormActivation  # Updated import\n",
    "\n",
    "def make_divisible(v, divisor=8, min_value=None):\n",
    "    \"\"\"Ensure a number is divisible by divisor, used for channel alignment.\"\"\"\n",
    "    if min_value is None:\n",
    "        min_value = divisor\n",
    "    new_v = max(min_value, int(v + divisor / 2) // divisor * divisor)\n",
    "    if new_v < 0.9 * v:\n",
    "        new_v += divisor\n",
    "    return new_v\n",
    "\n",
    "def initialize_weights(m):\n",
    "    if isinstance(m, nn.Conv2d):\n",
    "        nn.init.kaiming_normal_(m.weight, mode=\"fan_out\")\n",
    "        if m.bias is not None:\n",
    "            nn.init.zeros_(m.bias)\n",
    "    elif isinstance(m, (nn.BatchNorm2d, nn.GroupNorm, nn.LayerNorm)):\n",
    "        nn.init.ones_(m.weight)\n",
    "        nn.init.zeros_(m.bias)\n",
    "    elif isinstance(m, nn.Linear):\n",
    "        nn.init.normal_(m.weight, 0, 0.01)\n",
    "        if m.bias is not None:\n",
    "            nn.init.zeros_(m.bias)\n",
    "\n",
    "class GRN(nn.Module):\n",
    "    def __init__(self):\n",
    "        super().__init__()\n",
    "        self.gamma = nn.Parameter(torch.zeros(1))\n",
    "        self.beta = nn.Parameter(torch.zeros(1))\n",
    "        self.quant = QuantStub()\n",
    "        self.dequant = DeQuantStub()\n",
    "\n",
    "    def forward(self, x):\n",
    "        x = self.dequant(x)\n",
    "        gx = torch.norm(x, p=2, dim=(2, 3), keepdim=True)\n",
    "        nx = gx / (gx.mean(dim=1, keepdim=True) + 1e-6)\n",
    "        x = self.gamma * (x * nx) + self.beta + x\n",
    "        return self.quant(x)\n",
    "\n",
    "class CPMobileBlock(nn.Module):\n",
    "    def __init__(self, in_channels, out_channels, expansion_rate, stride):\n",
    "        super().__init__()\n",
    "        exp_channels = make_divisible(in_channels * expansion_rate, 8)\n",
    "        exp_conv = Conv2dNormActivation(in_channels, exp_channels, kernel_size=1, stride=1, \n",
    "                                       norm_layer=nn.BatchNorm2d, activation_layer=nn.ReLU, inplace=False)\n",
    "        depth_conv = Conv2dNormActivation(exp_channels, exp_channels, kernel_size=3, stride=stride, padding=1, \n",
    "                                         groups=exp_channels, norm_layer=nn.BatchNorm2d, activation_layer=nn.ReLU, inplace=False)\n",
    "        proj_conv = Conv2dNormActivation(exp_channels, out_channels, kernel_size=1, stride=1, \n",
    "                                        norm_layer=nn.BatchNorm2d, activation_layer=None, inplace=False)\n",
    "        self.after_block_norm = GRN()\n",
    "        self.after_block_activation = nn.ReLU()\n",
    "        self.use_shortcut = in_channels == out_channels and (stride == 1 or stride == (1, 1))\n",
    "        self.shortcut = nn.Sequential() if self.use_shortcut else None\n",
    "        self.block = nn.Sequential(exp_conv, depth_conv, proj_conv)\n",
    "        self.skip_add = nn.quantized.FloatFunctional()\n",
    "\n",
    "    def forward(self, x):\n",
    "        result = self.block(x)\n",
    "        if self.use_shortcut:\n",
    "            result = self.skip_add.add(result, self.shortcut(x))\n",
    "        result = self.after_block_norm(result)\n",
    "        result = self.after_block_activation(result)\n",
    "        return result\n",
    "\n",
    "class MelSpectrogramNetwork(nn.Module):\n",
    "    def __init__(self, config):\n",
    "        super(MelSpectrogramNetwork, self).__init__()\n",
    "        n_classes = config['n_classes']\n",
    "        in_channels = config['in_channels']\n",
    "        base_channels = config['base_channels']\n",
    "        channels_multiplier = config['channels_multiplier']\n",
    "        expansion_rate = config['expansion_rate']\n",
    "        n_blocks = config['n_blocks']\n",
    "        strides = config['strides']\n",
    "        n_stages = len(n_blocks)\n",
    "\n",
    "        base_channels = make_divisible(base_channels, 8)\n",
    "        channels_per_stage = [base_channels] + [make_divisible(base_channels * channels_multiplier ** stage_id, 8)\n",
    "                                              for stage_id in range(n_stages)]\n",
    "        self.total_block_count = 0\n",
    "        self.quant = QuantStub()\n",
    "        self.dequant = DeQuantStub()\n",
    "\n",
    "        self.in_c = nn.Sequential(\n",
    "            Conv2dNormActivation(in_channels, channels_per_stage[0] // 4, kernel_size=3, stride=2, inplace=False),\n",
    "            Conv2dNormActivation(channels_per_stage[0] // 4, channels_per_stage[0], \n",
    "                                activation_layer=torch.nn.ReLU, kernel_size=3, stride=2, inplace=False),\n",
    "        )\n",
    "\n",
    "        self.stages = nn.Sequential()\n",
    "        for stage_id in range(n_stages):\n",
    "            stage = self._make_stage(channels_per_stage[stage_id], channels_per_stage[stage_id + 1],\n",
    "                                   n_blocks[stage_id], strides=strides, expansion_rate=expansion_rate)\n",
    "            self.stages.add_module(f\"s{stage_id + 1}\", stage)\n",
    "\n",
    "        self.feed_forward = nn.Sequential(\n",
    "            nn.Conv2d(channels_per_stage[-1], n_classes, kernel_size=(1, 1), stride=(1, 1), padding=0, bias=False),\n",
    "            nn.BatchNorm2d(n_classes),\n",
    "            nn.AdaptiveAvgPool2d((1, 1))\n",
    "        )\n",
    "\n",
    "        self.apply(initialize_weights)\n",
    "\n",
    "    def _make_stage(self, in_channels, out_channels, n_blocks, strides, expansion_rate):\n",
    "        stage = nn.Sequential()\n",
    "        for index in range(n_blocks):\n",
    "            block_id = self.total_block_count + 1\n",
    "            bname = f'b{block_id}'\n",
    "            self.total_block_count += 1\n",
    "            stride = strides.get(bname, (1, 1))\n",
    "            block = CPMobileBlock(in_channels, out_channels, expansion_rate, stride)\n",
    "            stage.add_module(bname, block)\n",
    "            in_channels = out_channels\n",
    "        return stage\n",
    "\n",
    "    def forward(self, x):\n",
    "        x = self.quant(x)\n",
    "        x = self.in_c(x)\n",
    "        x = self.stages(x)\n",
    "        x = self.feed_forward(x)\n",
    "        logits = x.squeeze(2).squeeze(2)\n",
    "        logits = self.dequant(logits)\n",
    "        return logits\n",
    "\n",
    "    def fuse_model(self):\n",
    "        for m in self.named_modules():\n",
    "            module_name = m[0]\n",
    "            module_instance = m[1]\n",
    "            if module_name == 'in_c':\n",
    "                torch.quantization.fuse_modules(module_instance[0], ['0', '1', '2'], inplace=True)\n",
    "                torch.quantization.fuse_modules(module_instance[1], ['0', '1', '2'], inplace=True)\n",
    "            elif isinstance(module_instance, CPMobileBlock):\n",
    "                torch.quantization.fuse_modules(module_instance.block[0], ['0', '1', '2'], inplace=True)\n",
    "                torch.quantization.fuse_modules(module_instance.block[1], ['0', '1', '2'], inplace=True)\n",
    "                torch.quantization.fuse_modules(module_instance.block[2], ['0', '1'], inplace=True)\n",
    "            elif module_name == \"feed_forward\":\n",
    "                torch.quantization.fuse_modules(module_instance, ['0', '1'], inplace=True)\n",
    "\n",
    "def get_mel_spectrogram_model():\n",
    "    strides = {\n",
    "        'b2': (2, 2),\n",
    "        'b4': (2, 1)\n",
    "    }\n",
    "    model_config = {\n",
    "        \"n_classes\": 10,\n",
    "        \"in_channels\": 1,  # Mel spectrogram typically has 1 channel\n",
    "        \"base_channels\": 32,\n",
    "        \"channels_multiplier\": 2.0,\n",
    "        \"expansion_rate\": 3.0,\n",
    "        \"n_blocks\": [3, 3, 2],  # Adjusted for 256x64 input\n",
    "        \"strides\": strides\n",
    "    }\n",
    "    return MelSpectrogramNetwork(model_config)\n",
    "\n",
    "# Example usage\n",
    "'''if __name__ == \"__main__\":\n",
    "    model = get_mel_spectrogram_model()\n",
    "    dummy_input = torch.randn(1, 1, 256, 64)  # Batch, Channels, Height, Width\n",
    "    output = model(dummy_input)\n",
    "    print(f\"Output shape: {output.shape}\")  # Should be [1, 10]'''"
   ]
  },
  {
   "cell_type": "markdown",
   "id": "9356c5fc",
   "metadata": {},
   "source": [
    "# You can use any of the following teacher models instead of the one above for training."
   ]
  },
  {
   "cell_type": "code",
   "execution_count": null,
   "id": "327eed26",
   "metadata": {},
   "outputs": [],
   "source": [
    "###DSFlexi_ver_a\n",
    "'''\n",
    "def ReParametrize(module):\n",
    "    \"\"\"\n",
    "    Recursively replaces all RepConv2d layers in a module with their reparametrized version.\n",
    "    \"\"\"\n",
    "    for name, child in list(module.named_children()):\n",
    "        if isinstance(child, RepConv2d):\n",
    "            # print(f\"Reparametrizing {name}\")\n",
    "            new_module = child.get_reparametrized_layer()\n",
    "            setattr(module, name, new_module)\n",
    "        else:\n",
    "            ReParametrize(child)\n",
    "\n",
    "\n",
    "class RepConv2d(nn.Module):\n",
    "    def __init__(self, input_channel, output_channel, stride=(1, 1), groups=1):\n",
    "        super().__init__()\n",
    "        self.input_channel = input_channel\n",
    "        self.output_channel = output_channel\n",
    "        self.stride = stride\n",
    "\n",
    "        # Initial convolutions\n",
    "        self.conv1 = nn.Conv2d(input_channel, output_channel, kernel_size=(3, 3),\n",
    "                               stride=stride, padding=(1, 1), bias=False,groups=groups)\n",
    "        self.bn1 = nn.BatchNorm2d(output_channel)\n",
    "\n",
    "        self.conv2 = nn.Conv2d(input_channel, output_channel, kernel_size=(1, 3),\n",
    "                               stride=stride, padding=(0, 1), bias=False,groups=groups)\n",
    "        self.bn2 = nn.BatchNorm2d(output_channel)\n",
    "\n",
    "        self.conv3 = nn.Conv2d(input_channel, output_channel, kernel_size=(3, 1),\n",
    "                               stride=stride, padding=(1, 0), bias=False,groups=groups)\n",
    "        self.bn3 = nn.BatchNorm2d(output_channel)\n",
    "\n",
    "        self.conv4 = nn.Conv2d(input_channel, output_channel, kernel_size=(1, 1),\n",
    "                               stride=stride, padding=(0, 0), bias=False,groups=groups)\n",
    "        self.bn4 = nn.BatchNorm2d(output_channel)\n",
    "\n",
    "    def forward(self, x):\n",
    "        x1 = self.conv1(x)\n",
    "        # x1 = self.bn1(x1)\n",
    "        x2 = self.conv2(x)\n",
    "        # x2 = self.bn2(x2)\n",
    "        x3 = self.conv3(x)\n",
    "        # x3 = self.bn3(x3)\n",
    "        x4 = self.conv4(x)\n",
    "        # x4 = self.bn4(x4)\n",
    "        return x1 + x2 + x3 + x4\n",
    "\n",
    "    def merge_batchnorms(self):\n",
    "        bn_list = [self.bn1, self.bn2, self.bn3, self.bn4]\n",
    "        num_features = bn_list[0].num_features\n",
    "        merged_bn = nn.BatchNorm2d(num_features).to(bn_list[0].weight.device)\n",
    "\n",
    "        # Merge running stats\n",
    "        merged_bn.running_mean = torch.mean(torch.stack([bn.running_mean for bn in bn_list]), dim=0)\n",
    "        merged_bn.running_var = torch.mean(torch.stack([bn.running_var for bn in bn_list]), dim=0)\n",
    "\n",
    "        if bn_list[0].affine:\n",
    "            merged_bn.weight.data = torch.mean(torch.stack([bn.weight.data for bn in bn_list]), dim=0)\n",
    "            merged_bn.bias.data = torch.mean(torch.stack([bn.bias.data for bn in bn_list]), dim=0)\n",
    "\n",
    "        return merged_bn\n",
    "\n",
    "    def merge_convs(self):\n",
    "        conv2ds_list = [self.conv1, self.conv2, self.conv3, self.conv4]\n",
    "        main_shape = conv2ds_list[0].weight.data.shape\n",
    "        device = conv2ds_list[0].weight.device  # Get device from one of the convs\n",
    "\n",
    "        # Initialize zero tensors on the correct device\n",
    "        conv1 = conv2ds_list[0].weight.data\n",
    "        conv2 = torch.zeros(main_shape, device=device)\n",
    "        conv3 = torch.zeros(main_shape, device=device)\n",
    "        conv4 = torch.zeros(main_shape, device=device)\n",
    "\n",
    "        # Fill the corresponding parts\n",
    "        conv2[:, :, 1, :] = conv2ds_list[1].weight.data.squeeze(2)\n",
    "        conv3[:, :, :, 1] = conv2ds_list[2].weight.data.squeeze(3)\n",
    "        conv4[:, :, 1, 1] = conv2ds_list[3].weight.data.squeeze(3).squeeze(2)\n",
    "\n",
    "        # Create new Conv2d layer on same device\n",
    "        conv2d = nn.Conv2d(\n",
    "            in_channels=self.conv1.in_channels,\n",
    "            out_channels=self.conv1.out_channels,\n",
    "            kernel_size=self.conv1.kernel_size,\n",
    "            stride=self.conv1.stride,\n",
    "            padding=self.conv1.padding,\n",
    "            bias=False,\n",
    "            groups=self.conv1.groups\n",
    "        ).to(device)\n",
    "\n",
    "        with torch.no_grad():\n",
    "            conv2d.weight.copy_((conv1 + conv2 + conv3 + conv4))\n",
    "\n",
    "        return conv2d\n",
    "\n",
    "    def get_reparametrized_layer(self):\n",
    "        conv2d = self.merge_convs()\n",
    "        bn = self.merge_batchnorms()\n",
    "        # return nn.Sequential(conv2d, bn)\n",
    "        return nn.Sequential(conv2d)\n",
    "\n",
    "class LearnablePooling(nn.Module):\n",
    "    def __init__(self, in_channels, hidden_dim=None):\n",
    "        super().__init__()\n",
    "        hidden_dim = hidden_dim or in_channels // 2\n",
    "        self.bn_input = nn.BatchNorm2d(in_channels)\n",
    "        self.attn_conv = nn.Conv2d(in_channels, hidden_dim, kernel_size=1, bias=False)\n",
    "        self.bn_attn = nn.BatchNorm2d(hidden_dim)\n",
    "        self.attn_score = nn.Conv2d(hidden_dim, in_channels, kernel_size=1, bias=False)\n",
    "        self.act = nn.LeakyReLU(0.1, inplace=True)\n",
    "        self.global_avg_pool = nn.AdaptiveAvgPool2d(1)  \n",
    "\n",
    "    def forward(self, x):\n",
    "        x_norm = self.bn_input(x)\n",
    "        \n",
    "        attn = self.attn_conv(x_norm)\n",
    "        attn_norm = self.bn_attn(attn)\n",
    "        attn_act = self.act(attn_norm)\n",
    "        scores = self.attn_score(attn_act)\n",
    "        b, c, h, w = x.size()\n",
    "        weights = F.softmax(scores.view(b, c, -1), dim=-1)\n",
    "        weights = weights.view(b, c, h, w)\n",
    "        attn_pooled = (x * weights).view(b, c, -1).sum(dim=-1)  \n",
    "        \n",
    "        gap = self.global_avg_pool(x).view(b, c)  \n",
    "        \n",
    "        out = torch.cat([attn_pooled, gap], dim=1) \n",
    "        return out\n",
    "\n",
    "\n",
    "class ResidualNormalization(nn.Module):\n",
    "    def __init__(self, num_features):\n",
    "        super().__init__()\n",
    "        self.lambda_param = nn.Parameter(torch.ones(1))\n",
    "        self.instance_norm = nn.InstanceNorm2d(num_features, affine=True)\n",
    "    \n",
    "    def forward(self, x):\n",
    "        return self.lambda_param * x + self.instance_norm(x) \n",
    "\n",
    "class DSFlexiNetBlock(nn.Module):\n",
    "    def __init__(self, in_channels, out_channels, stride, expansion_factor=6):\n",
    "        super().__init__()\n",
    "        self.stride = stride\n",
    "        self.use_skip = True\n",
    "\n",
    "        mid_channels = out_channels \n",
    "        \n",
    "        self.norm1 = nn.BatchNorm2d(in_channels)\n",
    "        self.scaleinput = nn.Conv2d(in_channels, out_channels, kernel_size=1, bias=True)\n",
    "        \n",
    "        self.conv1 = nn.Conv2d(in_channels, mid_channels, kernel_size=1, bias=False)\n",
    "        self.act1 = nn.LeakyReLU()\n",
    "        self.do1 = nn.Dropout2d(0)\n",
    "        \n",
    "        self.norm2 = nn.BatchNorm2d(mid_channels)\n",
    "        self.conv2 = RepConv2d(input_channel=mid_channels, output_channel=mid_channels, stride=stride, groups=mid_channels)\n",
    "        self.act2 = nn.LeakyReLU()\n",
    "        # self.do2 = nn.Dropout2d(0)\n",
    "\n",
    "        self.norm3 = nn.BatchNorm2d(mid_channels)\n",
    "        self.conv3 = nn.Conv2d(mid_channels , out_channels , kernel_size = 1 , bias = False , groups = mid_channels )\n",
    "        self.do3 = nn.Dropout2d(0.15)     \n",
    "        \n",
    "        self.norm4 = ResidualNormalization(out_channels)       \n",
    "        \n",
    "    def forward(self, x):   \n",
    "        \n",
    "        out = self.norm1(x)\n",
    "        scaledInput = self.scaleinput(x) if self.use_skip else None\n",
    "        out = self.conv1(out)\n",
    "        out = self.act1(out)\n",
    "        out = self.do1(out)\n",
    "\n",
    "        out = self.norm2(out)\n",
    "        out = self.conv2(out)\n",
    "        out = self.act2(out)\n",
    "        # out = self.do2(out)\n",
    "\n",
    "        out = self.norm3(out)\n",
    "        out = self.conv3(out)\n",
    "        out = self.act2(out)\n",
    "        out = self.do3(out)\n",
    "        \n",
    "        if self.use_skip:\n",
    "            out = out + scaledInput\n",
    "        \n",
    "        out = self.norm4(out)\n",
    "        \n",
    "        return out\n",
    "\n",
    "class DSFlexiNet(nn.Module):\n",
    "    def __init__(self, num_classes=10):\n",
    "        super().__init__()\n",
    "        # Initial convolutions\n",
    "        self.initial_conv1 = RepConv2d(input_channel=1, output_channel=16, stride=(2,2))\n",
    "        self.rn1 = nn.BatchNorm2d(1)\n",
    "        self.act1 = nn.ReLU()\n",
    "        self.dropout_1 = nn.Dropout(0.1)\n",
    "        \n",
    "        self.initial_conv2 = RepConv2d(input_channel=16, output_channel=32, stride=(2,2))\n",
    "        self.rn2 = nn.BatchNorm2d(16)\n",
    "        self.act2 = nn.ReLU()\n",
    "        \n",
    "        # DS-FlexiNet blocks\n",
    "        self.stage1 = nn.Sequential(\n",
    "            DSFlexiNetBlock(32 , 32 ,  stride=(1,1), expansion_factor=6),\n",
    "            DSFlexiNetBlock(32 , 32 , stride=(1,1), expansion_factor=6),\n",
    "            DSFlexiNetBlock( 32 , 32 , stride=(1,1), expansion_factor=6)\n",
    "        )\n",
    "\n",
    "        self.stage2 = nn.Sequential(\n",
    "            DSFlexiNetBlock(64 , 64 , stride=(1,1), expansion_factor=6),\n",
    "            DSFlexiNetBlock(64 , 64 , stride=(1,1), expansion_factor=6),\n",
    "            DSFlexiNetBlock(64 , 64 , stride=(1,1), expansion_factor=6),\n",
    "        )\n",
    "        \n",
    "        self.stage3 = nn.Sequential(\n",
    "            DSFlexiNetBlock( 96 , 128 , stride=(1,1), expansion_factor=6),\n",
    "            DSFlexiNetBlock( 128 , 128 , stride=(1,1), expansion_factor=6),\n",
    "            DSFlexiNetBlock( 128 , 128 , stride=(1,1), expansion_factor=6),\n",
    "        )\n",
    "        \n",
    "        # Global average pooling and fully connected layer\n",
    "        self.avgpool_3 = LearnablePooling(128)\n",
    "        self.avgpool_2 = LearnablePooling(64)\n",
    "        self.avgpool_1 = LearnablePooling(32)\n",
    "        self.bn_final = nn.BatchNorm1d((128+32+64) * 2)\n",
    "        self.dropout = nn.Dropout(0.2)\n",
    "        self.fc1 = nn.Linear(((128+32+64) * 2 ), num_classes)\n",
    "        # self.act3 = nn.ReLU()\n",
    "        # self.fc2 = nn.Linear(64, num_classes)\n",
    "        \n",
    "    def forward(self, x, recording_device=None):\n",
    "        if x.dim() == 3:\n",
    "            x = x.unsqueeze(1)\n",
    "        x = self.rn1(x)\n",
    "        x = self.initial_conv1(x)\n",
    "        x = self.act1(x)\n",
    "        x = self.rn2(x)\n",
    "        x = self.initial_conv2(x)\n",
    "        x = self.act2(x)\n",
    "        x = self.dropout_1(x)\n",
    "        \n",
    "        x_1_o1 = self.stage1(x)\n",
    "        x_1 = torch.cat([x , x_1_o1 ] , dim = 1)\n",
    "        x_2_o2 = self.stage2(x_1) \n",
    "        x_2 = torch.cat([x , x_2_o2] , dim = 1)\n",
    "        x_3_o3 = self.stage3(x_2)\n",
    "        x_3 = torch.cat([x , x_2] , dim = 1)\n",
    "        \n",
    "        x_3_o3= self.avgpool_3(x_3_o3)\n",
    "        x_2_o2= self.avgpool_2(x_2_o2)\n",
    "        x_1_o1= self.avgpool_1(x_1_o1)\n",
    "        x = torch.cat([x_3_o3 , x_2_o2 , x_1_o1] , dim = 1)                     \n",
    "        x = self.dropout(x)\n",
    "        x = self.bn_final(x)\n",
    "        x = self.fc1(x)\n",
    "        # x = self.act3(x)\n",
    "        # x = self.fc2(x)\n",
    "        return x\n",
    "\n",
    "print(\"Model architecture defined\")\n",
    "'''"
   ]
  },
  {
   "cell_type": "code",
   "execution_count": null,
   "id": "4a4a05ba",
   "metadata": {},
   "outputs": [],
   "source": [
    "###DSFlexi_ver_m1\n",
    "'''\n",
    "def get_reparametrized_layer(self):\n",
    "    conv2d = self.merge_convs()\n",
    "    bn = self.merge_batchnorms()\n",
    "    # return nn.Sequential(conv2d, bn)\n",
    "    return nn.Sequential(conv2d)\n",
    "class LearnablePooling(nn.Module):\n",
    "    def __init__(self, in_channels, hidden_dim=None):\n",
    "        super().__init__()\n",
    "        hidden_dim = hidden_dim or in_channels // 2\n",
    "        self.bn_input = nn.BatchNorm2d(in_channels)\n",
    "        self.attn_conv = nn.Conv2d(in_channels, hidden_dim, kernel_size=1, bias=False)\n",
    "        self.bn_attn = nn.BatchNorm2d(hidden_dim)\n",
    "        self.attn_score = nn.Conv2d(hidden_dim, in_channels, kernel_size=1, bias=False)\n",
    "        self.act = nn.LeakyReLU(0.1, inplace=True)\n",
    "        self.global_avg_pool = nn.AdaptiveAvgPool2d(1)  \n",
    "\n",
    "    def forward(self, x):\n",
    "        x_norm = self.bn_input(x)\n",
    "        \n",
    "        attn = self.attn_conv(x_norm)\n",
    "        attn_norm = self.bn_attn(attn)\n",
    "        attn_act = self.act(attn_norm)\n",
    "        scores = self.attn_score(attn_act)\n",
    "        b, c, h, w = x.size()\n",
    "        weights = F.softmax(scores.view(b, c, -1), dim=-1)\n",
    "        weights = weights.view(b, c, h, w)\n",
    "        attn_pooled = (x * weights).view(b, c, -1).sum(dim=-1)  \n",
    "        \n",
    "        gap = self.global_avg_pool(x).view(b, c)  \n",
    "        \n",
    "        out = torch.cat([attn_pooled, gap], dim=1) \n",
    "        return out\n",
    "\n",
    "\n",
    "class ResidualNormalization(nn.Module):\n",
    "    def __init__(self, num_features):\n",
    "        super().__init__()\n",
    "        self.lambda_param = nn.Parameter(torch.ones(1))\n",
    "        self.instance_norm = nn.InstanceNorm2d(num_features, affine=True)\n",
    "    \n",
    "    def forward(self, x):\n",
    "        return self.lambda_param * x + self.instance_norm(x) \n",
    "\n",
    "class DSFlexiNetBlock(nn.Module):\n",
    "    def __init__(self, in_channels, out_channels, stride, expansion_factor=6):\n",
    "        super().__init__()\n",
    "        self.stride = stride\n",
    "        self.use_skip = (in_channels <= out_channels)\n",
    "\n",
    "        mid_channels = in_channels * expansion_factor\n",
    "        \n",
    "        self.norm1 = nn.BatchNorm2d(in_channels)\n",
    "        self.scaleinput = nn.Conv2d(in_channels, out_channels, kernel_size=1, bias=True)\n",
    "        \n",
    "        self.conv1 = nn.Conv2d(in_channels, mid_channels, kernel_size=1, bias=False)\n",
    "        self.act1 = nn.LeakyReLU()\n",
    "        # self.do1 = nn.Dropout2d(0)\n",
    "        \n",
    "        self.norm2 = nn.BatchNorm2d(mid_channels)\n",
    "        # self.conv2 = nn.Conv2d(mid_channels, mid_channels, kernel_size=3, stride=stride, \n",
    "        #                       padding=1, groups=mid_channels, bias=False)\n",
    "        self.conv2 = RepConv2d(input_channel=mid_channels, output_channel=mid_channels, stride=stride, groups=mid_channels)\n",
    "        self.act2 = nn.LeakyReLU()\n",
    "        # self.do2 = nn.Dropout2d(0)\n",
    "\n",
    "        self.norm3 = nn.BatchNorm2d(mid_channels)\n",
    "        self.conv3 = nn.Conv2d(mid_channels, out_channels, kernel_size=1, bias=False)\n",
    "        self.do3 = nn.Dropout2d(0.1)     \n",
    "        \n",
    "        self.norm4 = ResidualNormalization(out_channels)       \n",
    "        \n",
    "    def forward(self, x):       \n",
    "        out = self.norm1(x)\n",
    "        scaledInput = self.scaleinput(x) if self.use_skip else None\n",
    "        out = self.conv1(x)\n",
    "        out = self.act1(out)\n",
    "        # out = self.do1(out)\n",
    "\n",
    "        out = self.norm2(out)\n",
    "        out = self.conv2(out)\n",
    "        out = self.act2(out)\n",
    "        # out = self.do2(out)\n",
    "\n",
    "        out = self.norm3(out)\n",
    "        out = self.conv3(out)\n",
    "        out = self.do3(out)\n",
    "        \n",
    "        if self.use_skip:\n",
    "            out = out + scaledInput\n",
    "        \n",
    "        out = self.norm4(out)\n",
    "        \n",
    "        return out\n",
    "\n",
    "class DSFlexiNet(nn.Module):\n",
    "    def __init__(self, num_classes=10):\n",
    "        super().__init__()\n",
    "        # Initial convolutions\n",
    "        # self.initial_conv1 = nn.Conv2d(1, 16, kernel_size=3, stride=2, padding=1, bias=False)\n",
    "        self.initial_conv1 = RepConv2d(input_channel=1, output_channel=16, stride=(2,2))\n",
    "        self.rn1 = ResidualNormalization(16)\n",
    "        self.act1 = nn.ReLU()\n",
    "        # self.do1 = nn.Dropout2d(0.15)\n",
    "        \n",
    "        # self.initial_conv2 = nn.Conv2d(16, 16, kernel_size=3, stride=2, padding=1, bias=False)\n",
    "        self.initial_conv2 = RepConv2d(input_channel=16, output_channel=16, stride=(2,2))\n",
    "        self.rn2 = ResidualNormalization(16)\n",
    "        self.act2 = nn.ReLU()\n",
    "        # self.do2 = nn.Dropout2d(0.15)\n",
    "        \n",
    "        # DS-FlexiNet blocks\n",
    "        self.stage1 = nn.Sequential(\n",
    "            DSFlexiNetBlock(16, 16, stride=(1,1), expansion_factor=6),\n",
    "            DSFlexiNetBlock(16, 16, stride=(1,1), expansion_factor=6),\n",
    "            DSFlexiNetBlock(16, 16, stride=(1,1), expansion_factor=6)\n",
    "        )\n",
    "\n",
    "        self.stage2 = nn.Sequential(\n",
    "            DSFlexiNetBlock(16, 16, stride=(1,1), expansion_factor=6),\n",
    "            DSFlexiNetBlock(16, 16, stride=(1,1), expansion_factor=6),\n",
    "        )\n",
    "        \n",
    "        self.stage3 = nn.Sequential(\n",
    "            DSFlexiNetBlock(16, 16, stride=(1,1), expansion_factor=6),\n",
    "        )\n",
    "        \n",
    "        # Global average pooling and fully connected layer\n",
    "        self.avgpool = LearnablePooling(16)\n",
    "        self.bn_final = nn.BatchNorm1d(32)\n",
    "        self.dropout = nn.Dropout(0.2)\n",
    "        self.fc1 = nn.Linear(32,16)\n",
    "        self.act3 = nn.ReLU()\n",
    "        self.fc2 = nn.Linear(16, num_classes)\n",
    "        \n",
    "    def forward(self, x, recording_device=None):\n",
    "        if x.dim() == 3:\n",
    "            x = x.unsqueeze(1)\n",
    "        x = self.initial_conv1(x)\n",
    "        x = self.rn1(x)\n",
    "        x = self.act1(x)\n",
    "        # x = self.do1(x)\n",
    "        x = self.initial_conv2(x)\n",
    "        x = self.rn2(x)\n",
    "        x = self.act2(x)\n",
    "        # x = self.do2(x)\n",
    "        x = self.stage1(x) + x\n",
    "        x = self.stage2(x) + x\n",
    "        x = self.stage3(x)\n",
    "        x = self.avgpool(x)\n",
    "        x = self.bn_final(x)\n",
    "        x = self.dropout(x)\n",
    "        x = self.fc1(x)\n",
    "        x = self.act3(x)\n",
    "        x = self.fc2(x)\n",
    "        return x\n",
    "\n",
    "'''"
   ]
  },
  {
   "cell_type": "code",
   "execution_count": null,
   "id": "7b1fa8cf",
   "metadata": {},
   "outputs": [],
   "source": [
    "###DSFlexi_ver_m2\n",
    "'''\n",
    "class RepConv2d(nn.Module):\n",
    "    def __init__(self, input_channel, output_channel, stride=(1, 1), groups=1):\n",
    "        super().__init__()\n",
    "        self.input_channel = input_channel\n",
    "        self.output_channel = output_channel\n",
    "        self.stride = stride\n",
    "\n",
    "        # Initial convolutions\n",
    "        self.conv1 = nn.Conv2d(input_channel, output_channel, kernel_size=(3, 3),\n",
    "                               stride=stride, padding=(1, 1), bias=False,groups=groups)\n",
    "        self.bn1 = nn.BatchNorm2d(output_channel)\n",
    "        \n",
    "        self.conv2 = nn.Conv2d(input_channel, output_channel, kernel_size=(1, 3),\n",
    "                               stride=stride, padding=(0, 1), bias=False,groups=groups)\n",
    "        self.bn2 = nn.BatchNorm2d(output_channel)\n",
    "        \n",
    "        self.conv3 = nn.Conv2d(input_channel, output_channel, kernel_size=(3, 1),\n",
    "                               stride=stride, padding=(1, 0), bias=False,groups=groups)\n",
    "        self.bn3 = nn.BatchNorm2d(output_channel)\n",
    "        \n",
    "        self.conv4 = nn.Conv2d(input_channel, output_channel, kernel_size=(1, 1),\n",
    "                               stride=stride, padding=(0, 0), bias=False,groups=groups)\n",
    "        self.bn4 = nn.BatchNorm2d(output_channel)\n",
    "\n",
    "    def forward(self, x):\n",
    "        x1 = self.conv1(x)\n",
    "        x1 = self.bn1(x1)\n",
    "\n",
    "        x2 = self.conv2(x)\n",
    "        x2 = self.bn2(x2)\n",
    "\n",
    "        x3 = self.conv3(x)\n",
    "        x3 = self.bn3(x3)\n",
    "\n",
    "        x4 = self.conv4(x)\n",
    "        x4 = self.bn4(x4)\n",
    "\n",
    "        return x1 + x2 + x3 + x4\n",
    "\n",
    "    def merge_convs(self):\n",
    "        conv2ds_list = [self.conv1, self.conv2, self.conv3, self.conv4]\n",
    "        main_shape = conv2ds_list[0].weight.data.shape\n",
    "        device = conv2ds_list[0].weight.device  # Get device from one of the convs\n",
    "\n",
    "        # Initialize zero tensors on the correct device\n",
    "        conv1 = conv2ds_list[0].weight.data\n",
    "        conv2 = torch.zeros(main_shape, device=device)\n",
    "        conv3 = torch.zeros(main_shape, device=device)\n",
    "        conv4 = torch.zeros(main_shape, device=device)\n",
    "\n",
    "        # Fill the corresponding parts\n",
    "        conv2[:, :, 1, :] = conv2ds_list[1].weight.data.squeeze(2)\n",
    "        conv3[:, :, :, 1] = conv2ds_list[2].weight.data.squeeze(3)\n",
    "        conv4[:, :, 1, 1] = conv2ds_list[3].weight.data.squeeze(3).squeeze(2)\n",
    "\n",
    "        # Create new Conv2d layer on same device\n",
    "        conv2d = nn.Conv2d(\n",
    "            in_channels=self.conv1.in_channels,\n",
    "            out_channels=self.conv1.out_channels,\n",
    "            kernel_size=self.conv1.kernel_size,\n",
    "            stride=self.conv1.stride,\n",
    "            padding=self.conv1.padding,\n",
    "            bias=False,\n",
    "            groups=self.conv1.groups\n",
    "        ).to(device)\n",
    "\n",
    "        with torch.no_grad():\n",
    "            conv2d.weight.copy_((conv1 + conv2 + conv3 + conv4))\n",
    "\n",
    "        return conv2d\n",
    "\n",
    "    def get_reparametrized_layer(self):\n",
    "        conv2d = self.merge_convs()\n",
    "        return nn.Sequential(conv2d)\n",
    "\n",
    "\n",
    "class LearnablePooling(nn.Module):\n",
    "    def __init__(self, in_channels, hidden_dim=None):\n",
    "        super().__init__()\n",
    "        hidden_dim = hidden_dim or in_channels // 2\n",
    "        self.bn_input = ResidualNormalization(in_channels)\n",
    "        self.attn_conv = nn.Conv2d(in_channels, hidden_dim, kernel_size=1, bias=False)\n",
    "        self.bn_attn = ResidualNormalization(hidden_dim)\n",
    "        self.attn_score = nn.Conv2d(hidden_dim, in_channels, kernel_size=1, bias=False)\n",
    "        self.act = nn.LeakyReLU(0.1, inplace=True)\n",
    "        self.global_avg_pool = nn.AdaptiveAvgPool2d(1)  \n",
    "\n",
    "    def forward(self, x):\n",
    "        x_norm = self.bn_input(x)\n",
    "        \n",
    "        attn = self.attn_conv(x_norm)\n",
    "        attn_norm = self.bn_attn(attn)\n",
    "        attn_act = self.act(attn_norm)\n",
    "        scores = self.attn_score(attn_act)\n",
    "        b, c, h, w = x.size()\n",
    "        weights = F.softmax(scores.view(b, c, -1), dim=-1)\n",
    "        weights = weights.view(b, c, h, w)\n",
    "        attn_pooled = (x * weights).view(b, c, -1).sum(dim=-1)  \n",
    "        \n",
    "        gap = self.global_avg_pool(x).view(b, c)  \n",
    "        \n",
    "        out = torch.cat([attn_pooled, gap], dim=1) \n",
    "        return out\n",
    "\n",
    "\n",
    "class ResidualNormalization(nn.Module):\n",
    "    def __init__(self, num_features):\n",
    "        super().__init__()\n",
    "        # One lambda per feature/channel\n",
    "        self.lambda_param = nn.Parameter(torch.ones(num_features, 1, 1))  # Shape: [C, 1, 1]\n",
    "        self.instance_norm = nn.InstanceNorm2d(num_features, affine=True)\n",
    "\n",
    "    def forward(self, x):\n",
    "        # x shape: [B, C, H, W]\n",
    "        return self.lambda_param * x + self.instance_norm(x)\n",
    "\n",
    "class DSFlexiNetBlock(nn.Module):\n",
    "    def __init__(self, in_channels, out_channels, stride, expansion_factor=6):\n",
    "        super().__init__()\n",
    "        self.stride = stride\n",
    "        self.use_skip = (in_channels == out_channels)\n",
    "\n",
    "        mid_channels = in_channels * expansion_factor\n",
    "        \n",
    "        self.norm1 = ResidualNormalization(in_channels)\n",
    "        self.scaleinput = nn.Conv2d(in_channels, out_channels, kernel_size=1, bias=True)\n",
    "        \n",
    "        self.conv1 = nn.Conv2d(in_channels, mid_channels, kernel_size=1, bias=False)\n",
    "        self.act1 = nn.LeakyReLU()\n",
    "        # self.do1 = nn.Dropout2d(0)\n",
    "        \n",
    "        self.norm2 = ResidualNormalization(mid_channels)\n",
    "        # self.conv2 = nn.Conv2d(mid_channels, mid_channels, kernel_size=3, stride=stride, \n",
    "        #                       padding=1, groups=mid_channels, bias=False)\n",
    "        self.conv2 = RepConv2d(input_channel=mid_channels, output_channel=mid_channels, stride=stride, groups=mid_channels)\n",
    "        self.act2 = nn.LeakyReLU()\n",
    "        # self.do2 = nn.Dropout2d(0)\n",
    "\n",
    "        self.norm3 = ResidualNormalization(mid_channels)\n",
    "        self.conv3 = nn.Conv2d(mid_channels, out_channels, kernel_size=1, bias=False)\n",
    "        self.do3 = nn.Dropout2d(0.1)     \n",
    "        \n",
    "        self.norm4 = ResidualNormalization(out_channels)       \n",
    "        \n",
    "    def forward(self, x):       \n",
    "        out = self.norm1(x)\n",
    "        scaledInput = self.scaleinput(x) if self.use_skip else None\n",
    "        out = self.conv1(x)\n",
    "        out = self.act1(out)\n",
    "        # out = self.do1(out)\n",
    "\n",
    "        out = self.norm2(out)\n",
    "        out = self.conv2(out)\n",
    "        out = self.act2(out)\n",
    "        # out = self.do2(out)\n",
    "\n",
    "        out = self.norm3(out)\n",
    "        out = self.conv3(out)\n",
    "        out = self.do3(out)\n",
    "        \n",
    "        if self.use_skip:\n",
    "            out = out + scaledInput\n",
    "        \n",
    "        out = self.norm4(out)\n",
    "        \n",
    "        return out\n",
    "\n",
    "class DSFlexiNet(nn.Module):\n",
    "    def __init__(self, num_classes=10, chnls = [1,16,16,16,16,16,16,16], exp_f = [6,6,6,6,6,6]):\n",
    "        super().__init__()\n",
    "        # Initial convolutions\n",
    "        self.init_norm = nn.BatchNorm2d(chnls[0])\n",
    "        self.initial_conv1 = RepConv2d(input_channel=1, output_channel=chnls[1], stride=(2,2))\n",
    "        self.rn1 = ResidualNormalization(chnls[1])\n",
    "        self.act1 = nn.ReLU()\n",
    "        # self.do1 = nn.Dropout2d(0.15)\n",
    "        \n",
    "        # self.initial_conv2 = nn.Conv2d(16, 16, kernel_size=3, stride=2, padding=1, bias=False)\n",
    "        self.initial_conv2 = RepConv2d(input_channel=chnls[1], output_channel=chnls[2], stride=(2,2))\n",
    "        self.rn2 = ResidualNormalization(chnls[2])\n",
    "        self.act2 = nn.ReLU()\n",
    "        # self.do2 = nn.Dropout2d(0.15)\n",
    "        \n",
    "        # DS-FlexiNet blocks\n",
    "        self.stage1 = nn.Sequential(\n",
    "            DSFlexiNetBlock(chnls[2], chnls[3], stride=(1,1), expansion_factor=exp_f[0]),\n",
    "            DSFlexiNetBlock(chnls[3], chnls[4], stride=(1,1), expansion_factor=exp_f[1]),\n",
    "            DSFlexiNetBlock(chnls[4], chnls[2], stride=(1,1), expansion_factor=exp_f[2])\n",
    "        )\n",
    "\n",
    "        self.stage2 = nn.Sequential(\n",
    "            DSFlexiNetBlock(chnls[2], chnls[5], stride=(1,1), expansion_factor=exp_f[3]),\n",
    "            DSFlexiNetBlock(chnls[5], chnls[2], stride=(1,1), expansion_factor=exp_f[4]),\n",
    "        )\n",
    "        \n",
    "        self.stage3 = nn.Sequential(\n",
    "            DSFlexiNetBlock(chnls[2], chnls[6], stride=(1,1), expansion_factor=exp_f[5]),\n",
    "        )\n",
    "        \n",
    "        # Global average pooling and fully connected layer\n",
    "        self.avgpool = LearnablePooling(chnls[6])\n",
    "        self.bn_final = nn.BatchNorm1d(chnls[6]*2)\n",
    "        self.dropout = nn.Dropout(0.2)\n",
    "        self.fc1 = nn.Linear(chnls[6]*2,chnls[7])\n",
    "        self.act3 = nn.ReLU()\n",
    "        self.fc2 = nn.Linear(chnls[7], num_classes)\n",
    "        \n",
    "    def forward(self, x, recording_device=None):\n",
    "        if x.dim() == 3:\n",
    "            x = x.unsqueeze(1)\n",
    "        x = self.init_norm(x)\n",
    "        x = self.initial_conv1(x)\n",
    "        x = self.rn1(x)\n",
    "        x = self.act1(x)\n",
    "        # x = self.do1(x)\n",
    "        x = self.initial_conv2(x)\n",
    "        x = self.rn2(x)\n",
    "        x = self.act2(x)\n",
    "        # x = self.do2(x)\n",
    "        x = self.stage1(x) + x\n",
    "        x = self.stage2(x) + x\n",
    "        x = self.stage3(x)\n",
    "        x = self.avgpool(x)\n",
    "        x = self.bn_final(x)\n",
    "        x = self.dropout(x)\n",
    "        x = self.fc1(x)\n",
    "        x = self.act3(x)\n",
    "        x = self.fc2(x)\n",
    "        return x\n",
    "\n",
    "print(\"Model architecture defined\")\n",
    "'''"
   ]
  },
  {
   "cell_type": "code",
   "execution_count": null,
   "id": "3dcbc8c6",
   "metadata": {},
   "outputs": [],
   "source": [
    "###CP-ResNet\n",
    "'''\n",
    "# coding: utf-8\n",
    "import math\n",
    "import torch.nn as nn\n",
    "import torch\n",
    "# Global variable for layer indexing\n",
    "layer_index_total = 0\n",
    "first_RUN = True\n",
    "\n",
    "def initialize_weights(module):\n",
    "    if isinstance(module, nn.Conv2d):\n",
    "        nn.init.kaiming_normal_(module.weight.data, mode='fan_in', nonlinearity=\"relu\")\n",
    "    elif isinstance(module, nn.BatchNorm2d):\n",
    "        module.weight.data.fill_(1)\n",
    "        module.bias.data.zero_()\n",
    "    elif isinstance(module, nn.Linear):\n",
    "        module.bias.data.zero_()\n",
    "\n",
    "def initialize_weights_fixup(module):\n",
    "    global layer_index_total\n",
    "    if isinstance(module, BasicBlock):\n",
    "        b = module\n",
    "        n = b.conv1.kernel_size[0] * b.conv1.kernel_size[1] * b.conv1.out_channels\n",
    "        b.conv1.weight.data.normal_(0, (layer_index_total ** (-0.5)) * math.sqrt(2. / n))\n",
    "        b.conv2.weight.data.zero_()\n",
    "        if b.shortcut._modules.get('conv') is not None:\n",
    "            convShortcut = b.shortcut._modules.get('conv')\n",
    "            n = convShortcut.kernel_size[0] * convShortcut.kernel_size[1] * convShortcut.out_channels\n",
    "            convShortcut.weight.data.normal_(0, math.sqrt(2. / n))\n",
    "    elif isinstance(module, nn.BatchNorm2d):\n",
    "        module.weight.data.fill_(1)\n",
    "        module.bias.data.zero_()\n",
    "    elif isinstance(module, nn.Linear):\n",
    "        if module.bias:\n",
    "            module.bias.data.zero_()\n",
    "\n",
    "def calc_padding(kernal):\n",
    "    try:\n",
    "        return kernal // 3\n",
    "    except TypeError:\n",
    "        return [k // 3 for k in kernal]\n",
    "\n",
    "class BasicBlock(nn.Module):\n",
    "    expansion = 1\n",
    "\n",
    "    def __init__(self, in_channels, out_channels, stride, k1=3, k2=3, groups=1):\n",
    "        super(BasicBlock, self).__init__()\n",
    "        global layer_index_total\n",
    "        self.layer_index = layer_index_total\n",
    "        layer_index_total += 1\n",
    "        self.conv1 = nn.Conv2d(\n",
    "            in_channels,\n",
    "            out_channels,\n",
    "            groups=groups,\n",
    "            kernel_size=k1,\n",
    "            stride=stride,\n",
    "            padding=calc_padding(k1),\n",
    "            bias=False\n",
    "        )\n",
    "        self.bn1 = nn.BatchNorm2d(out_channels)\n",
    "        self.relu1 = nn.ReLU()\n",
    "        self.conv2 = nn.Conv2d(\n",
    "            out_channels,\n",
    "            out_channels,\n",
    "            groups=groups,\n",
    "            kernel_size=k2,\n",
    "            stride=1,\n",
    "            padding=calc_padding(k2),\n",
    "            bias=False\n",
    "        )\n",
    "        self.bn2 = nn.BatchNorm2d(out_channels)\n",
    "        self.skip_add = nn.quantized.FloatFunctional()\n",
    "        self.shortcut = nn.Sequential()\n",
    "        if in_channels != out_channels:\n",
    "            self.shortcut.add_module(\n",
    "                'conv',\n",
    "                nn.Conv2d(\n",
    "                    in_channels,\n",
    "                    out_channels,\n",
    "                    kernel_size=1,\n",
    "                    stride=stride,\n",
    "                    padding=0,\n",
    "                    bias=False,\n",
    "                    groups=groups\n",
    "                )\n",
    "            )\n",
    "            self.shortcut.add_module('bn', nn.BatchNorm2d(out_channels))\n",
    "        self.relu2 = nn.ReLU()\n",
    "\n",
    "    def forward(self, x):\n",
    "        y = self.relu1(self.bn1(self.conv1(x)))\n",
    "        y = self.bn2(self.conv2(y))\n",
    "        y = self.skip_add.add(y, self.shortcut(x))\n",
    "        y = self.relu2(y)\n",
    "        return y\n",
    "\n",
    "def safe_list_get(l, idx, default):\n",
    "    try:\n",
    "        return l[idx]\n",
    "    except IndexError:\n",
    "        return default\n",
    "\n",
    "class Network(nn.Module):\n",
    "    def __init__(self, config):\n",
    "        super(Network, self).__init__()\n",
    "        input_shape = config['input_shape']\n",
    "        n_classes = config['n_classes']\n",
    "        channels_multiplier = config['channels_multiplier']\n",
    "        base_channels = config['base_channels']\n",
    "        cut_channels_s2 = config['cut_channels_s2']\n",
    "        cut_channels_s3 = config['cut_channels_s3']\n",
    "        n_blocks_per_stage = config.get(\"n_blocks_per_stage\")\n",
    "        self.pooling_padding = config.get(\"pooling_padding\", 0)\n",
    "        self.maxpool_kernel = config.get(\"maxpool_kernel\", (2, 2))\n",
    "        self.maxpool_stride = config.get(\"maxpool_stride\", (2, 2))\n",
    "\n",
    "        n_channels = [\n",
    "            base_channels,\n",
    "            base_channels * channels_multiplier - cut_channels_s2,\n",
    "            base_channels * channels_multiplier * channels_multiplier - cut_channels_s3\n",
    "        ]\n",
    "\n",
    "        self.in_c = nn.Sequential(\n",
    "            nn.Conv2d(\n",
    "                input_shape[1],\n",
    "                n_channels[0],\n",
    "                kernel_size=5,\n",
    "                stride=2,\n",
    "                padding=1,\n",
    "                bias=False\n",
    "            ),\n",
    "            nn.BatchNorm2d(n_channels[0]),\n",
    "            nn.ReLU(True)\n",
    "        )\n",
    "        self.stage1 = self._make_stage(\n",
    "            n_channels[0], n_channels[0], n_blocks_per_stage[0], BasicBlock,\n",
    "            maxpool_pos=config['stage1']['maxpool_positions'],\n",
    "            k1s=config['stage1']['k1s'],\n",
    "            k2s=config['stage1']['k2s'],\n",
    "            groups=config['stage1']['groups'],\n",
    "            maxpool_pos0_kernel=config['stage1']['maxpool_pos0_kernel'],\n",
    "            maxpool_pos0_stride=config['stage1']['maxpool_pos0_stride']\n",
    "        )\n",
    "        self.stage2 = self._make_stage(\n",
    "            n_channels[0], n_channels[1], n_blocks_per_stage[1], BasicBlock,\n",
    "            maxpool_pos=config['stage2']['maxpool_positions'],\n",
    "            k1s=config['stage2']['k1s'],\n",
    "            k2s=config['stage2']['k2s'],\n",
    "            groups=config['stage2']['groups']\n",
    "        )\n",
    "        if n_blocks_per_stage[2] == 0:\n",
    "            self.stage3 = nn.Sequential()\n",
    "            n_channels[2] = n_channels[1]\n",
    "        else:\n",
    "            self.stage3 = self._make_stage(\n",
    "                n_channels[1], n_channels[2], n_blocks_per_stage[2], BasicBlock,\n",
    "                maxpool_pos=config['stage3']['maxpool_positions'],\n",
    "                k1s=config['stage3']['k1s'],\n",
    "                k2s=config['stage3']['k2s'],\n",
    "                groups=config['stage3']['groups']\n",
    "            )\n",
    "\n",
    "        self.width_per_block = n_channels\n",
    "        ff_list = [\n",
    "            nn.Conv2d(n_channels[2], n_classes, kernel_size=1, stride=1, padding=0, bias=False),\n",
    "            nn.BatchNorm2d(n_classes),\n",
    "            nn.AdaptiveAvgPool2d((1, 1))\n",
    "        ]\n",
    "        self.feed_forward = nn.Sequential(*ff_list)\n",
    "\n",
    "        self.apply(initialize_weights)\n",
    "        if isinstance(self.feed_forward[0], nn.Conv2d):\n",
    "            self.feed_forward[0].weight.data.zero_()\n",
    "        self.apply(initialize_weights_fixup)\n",
    "\n",
    "    def _make_stage(self, in_channels, out_channels, n_blocks, block, maxpool_pos=set(), k1s=[3, 3, 3, 3, 3, 3],\n",
    "                    k2s=[3, 3, 3, 3, 3, 3], groups=1, maxpool_pos0_kernel=None, maxpool_pos0_stride=None):\n",
    "        if maxpool_pos0_kernel is None:\n",
    "            maxpool_pos0_kernel = self.maxpool_kernel\n",
    "        if maxpool_pos0_stride is None:\n",
    "            maxpool_pos0_stride = self.maxpool_stride\n",
    "\n",
    "        stride = 1\n",
    "        stage = nn.Sequential()\n",
    "        if 0 in maxpool_pos:\n",
    "            stage.add_module(\n",
    "                \"maxpool{}_{}\".format(0, 0),\n",
    "                nn.MaxPool2d(\n",
    "                    kernel_size=maxpool_pos0_kernel,\n",
    "                    stride=maxpool_pos0_stride,\n",
    "                    padding=self.pooling_padding\n",
    "                )\n",
    "            )\n",
    "        for index in range(n_blocks):\n",
    "            stage.add_module(\n",
    "                'block{}'.format(index + 1),\n",
    "                block(\n",
    "                    in_channels,\n",
    "                    out_channels,\n",
    "                    stride=stride,\n",
    "                    k1=safe_list_get(k1s, index, 1),\n",
    "                    k2=safe_list_get(k2s, index, 1),\n",
    "                    groups=groups\n",
    "                )\n",
    "            )\n",
    "            in_channels = out_channels\n",
    "            for m_i, mp_pos in enumerate(maxpool_pos):\n",
    "                if index + 1 == mp_pos:\n",
    "                    stage.add_module(\n",
    "                        \"maxpool{}_{}\".format(index + 1, m_i),\n",
    "                        nn.MaxPool2d(\n",
    "                            kernel_size=self.maxpool_kernel,\n",
    "                            stride=self.maxpool_stride,\n",
    "                            padding=self.pooling_padding\n",
    "                        )\n",
    "                    )\n",
    "        return stage\n",
    "\n",
    "    def forward(self, x):\n",
    "        global first_RUN\n",
    "        x = self._forward_conv(x)\n",
    "        x = self.feed_forward(x)\n",
    "        logit = x.squeeze(2).squeeze(2)\n",
    "        if first_RUN:\n",
    "            print(\"logit:\", logit.size())\n",
    "            first_RUN = False\n",
    "        return logit\n",
    "\n",
    "    def _forward_conv(self, x):\n",
    "        global first_RUN\n",
    "        if first_RUN:\n",
    "            print(\"x:\", x.size())\n",
    "        x = self.in_c(x)\n",
    "        if first_RUN:\n",
    "            print(\"in_c:\", x.size())\n",
    "        x = self.stage1(x)\n",
    "        if first_RUN:\n",
    "            print(\"stage1:\", x.size())\n",
    "        x = self.stage2(x)\n",
    "        if first_RUN:\n",
    "            print(\"stage2:\", x.size())\n",
    "        x = self.stage3(x)\n",
    "        if first_RUN:\n",
    "            print(\"stage3:\", x.size())\n",
    "        return x\n",
    "\n",
    "def get_model(rho=8, in_channels=1, arch=\"cp_resnet\", n_classes=10,\n",
    "              base_channels=32, cut_channels_s2=0, cut_channels_s3=36, channels_multiplier=2, n_blocks=(2, 1, 1),\n",
    "              s1_group=1, s2_group=2, s3_group=1,\n",
    "              maxpool_pos_stage1=None, maxpool_pos_stage2=None, maxpool_pos_stage3=None,\n",
    "              maxpool_stage1_pos0_kernel=(2, 2), maxpool_stage1_pos0_stride=(2, 2),\n",
    "              maxpool_kernel=(2, 2), maxpool_stride=(2, 2)):\n",
    "    if maxpool_pos_stage1 is None:\n",
    "        maxpool_pos_stage1 = [0, 1]\n",
    "    if maxpool_pos_stage2 is None:\n",
    "        maxpool_pos_stage2 = []\n",
    "    if maxpool_pos_stage3 is None:\n",
    "        maxpool_pos_stage3 = []\n",
    "\n",
    "    extra_kernal_rf = rho - 4\n",
    "    model_config = {\n",
    "        \"arch\": arch,\n",
    "        \"base_channels\": base_channels,\n",
    "        \"cut_channels_s2\": cut_channels_s2,\n",
    "        \"cut_channels_s3\": cut_channels_s3,\n",
    "        \"channels_multiplier\": channels_multiplier,\n",
    "        \"input_shape\": [10, in_channels, 256, 64],  # Updated for mel spectrogram 256x64\n",
    "        \"n_blocks_per_stage\": n_blocks,\n",
    "        \"n_classes\": n_classes,\n",
    "        \"maxpool_kernel\": maxpool_kernel,\n",
    "        \"maxpool_stride\": maxpool_stride,\n",
    "        \"stage1\": {\n",
    "            \"maxpool_positions\": maxpool_pos_stage1,\n",
    "            \"maxpool_pos0_kernel\": maxpool_stage1_pos0_kernel,\n",
    "            \"maxpool_pos0_stride\": maxpool_stage1_pos0_stride,\n",
    "            \"k1s\": [3, 3 - (-extra_kernal_rf > 2) * 2],\n",
    "            \"k2s\": [1, 3 - (-extra_kernal_rf > 1) * 2],\n",
    "            \"groups\": s1_group\n",
    "        },\n",
    "        \"stage2\": {\n",
    "            \"maxpool_positions\": maxpool_pos_stage2,\n",
    "            \"k1s\": [3 - (-extra_kernal_rf > 0) * 2, 1 + (extra_kernal_rf > 1) * 2],\n",
    "            \"k2s\": [1 + (extra_kernal_rf > 0) * 2, 1 + (extra_kernal_rf > 2) * 2],\n",
    "            \"groups\": s2_group\n",
    "        },\n",
    "        \"stage3\": {\n",
    "            \"maxpool_positions\": maxpool_pos_stage3,\n",
    "            \"k1s\": [1 + (extra_kernal_rf > 3) * 2, 1 + (extra_kernal_rf > 5) * 2],\n",
    "            \"k2s\": [1 + (extra_kernal_rf > 4) * 2, 1 + (extra_kernal_rf > 6) * 2],\n",
    "            \"groups\": s3_group\n",
    "        },\n",
    "    }\n",
    "    return Network(model_config)\n",
    "'''"
   ]
  },
  {
   "cell_type": "markdown",
   "id": "fa52bf68",
   "metadata": {
    "papermill": {
     "duration": 0.00887,
     "end_time": "2025-06-11T10:24:37.121576",
     "exception": false,
     "start_time": "2025-06-11T10:24:37.112706",
     "status": "completed"
    },
    "tags": []
   },
   "source": [
    "# Train Pipeline"
   ]
  },
  {
   "cell_type": "code",
   "execution_count": 10,
   "id": "6a1a5630",
   "metadata": {
    "execution": {
     "iopub.execute_input": "2025-06-11T10:24:37.140306Z",
     "iopub.status.busy": "2025-06-11T10:24:37.139801Z"
    },
    "papermill": {
     "duration": null,
     "end_time": null,
     "exception": false,
     "start_time": "2025-06-11T10:24:37.130437",
     "status": "running"
    },
    "tags": []
   },
   "outputs": [
    {
     "name": "stdout",
     "output_type": "stream",
     "text": [
      "\n",
      "\n",
      "STEP 1 --------------------------------------------------------------------\n"
     ]
    },
    {
     "name": "stdout",
     "output_type": "stream",
     "text": [
      "\n",
      "Epoch 1/500\n"
     ]
    },
    {
     "name": "stdout",
     "output_type": "stream",
     "text": [
      "  Training - Loss: 1.8690, Accuracy: 33.1%\n",
      "        a    \tunk  \ts1   \tc    \tb    \ts2   \ts3   \n",
      "        34.2%\t33.1%\t28.6%\t35.8%\t31.9%\t28.1%\t28.1%\n"
     ]
    },
    {
     "name": "stdout",
     "output_type": "stream",
     "text": [
      "  Validation - Loss: 1.6215, Best Loss: inf, Accuracy: 41.0%, Best Acc: 0.0\n",
      "        s3   \tb    \tunk  \ta    \ts2   \tc    \ts1   \n",
      "        38.4%\t42.4%\t36.4%\t50.3%\t38.3%\t49.2%\t41.0%\n",
      "\n",
      "Epoch 2/500\n"
     ]
    },
    {
     "name": "stdout",
     "output_type": "stream",
     "text": [
      "  Training - Loss: 1.5823, Accuracy: 43.7%\n",
      "        unk  \ta    \tc    \ts1   \ts2   \tb    \ts3   \n",
      "        43.8%\t44.7%\t44.4%\t38.7%\t37.8%\t41.2%\t38.2%\n"
     ]
    },
    {
     "name": "stdout",
     "output_type": "stream",
     "text": [
      "  Validation - Loss: 1.4837, Best Loss: inf, Accuracy: 46.4%, Best Acc: 41.0\n",
      "        s3   \tb    \tunk  \ta    \ts2   \tc    \ts1   \n",
      "        46.8%\t47.5%\t43.8%\t51.1%\t45.2%\t50.4%\t45.2%\n",
      "\n",
      "Epoch 3/500\n"
     ]
    },
    {
     "name": "stdout",
     "output_type": "stream",
     "text": [
      "  Training - Loss: 1.4254, Accuracy: 49.7%\n",
      "        unk  \ta    \ts2   \tb    \ts3   \tc    \ts1   \n",
      "        49.6%\t51.6%\t42.7%\t48.5%\t42.6%\t48.6%\t43.2%\n"
     ]
    },
    {
     "name": "stdout",
     "output_type": "stream",
     "text": [
      "  Validation - Loss: 1.5042, Best Loss: inf, Accuracy: 46.0%, Best Acc: 46.4\n",
      "        s3   \tb    \tunk  \ta    \ts2   \tc    \ts1   \n",
      "        44.9%\t44.6%\t42.3%\t56.0%\t43.0%\t53.7%\t45.0%\n",
      "\n",
      "Epoch 4/500\n"
     ]
    },
    {
     "name": "stdout",
     "output_type": "stream",
     "text": [
      "  Training - Loss: 1.2934, Accuracy: 54.7%\n",
      "        unk  \ta    \ts1   \ts2   \ts3   \tc    \tb    \n",
      "        54.7%\t56.9%\t46.5%\t45.9%\t45.9%\t54.1%\t52.7%\n"
     ]
    },
    {
     "name": "stdout",
     "output_type": "stream",
     "text": [
      "  Validation - Loss: 1.4533, Best Loss: inf, Accuracy: 47.2%, Best Acc: 46.4\n",
      "        s3   \tb    \tunk  \ta    \ts2   \tc    \ts1   \n",
      "        45.4%\t47.8%\t43.5%\t57.4%\t46.1%\t52.9%\t45.3%\n",
      "\n",
      "Epoch 5/500\n"
     ]
    },
    {
     "name": "stdout",
     "output_type": "stream",
     "text": [
      "  Training - Loss: 1.2038, Accuracy: 57.9%\n",
      "        unk  \ta    \ts2   \ts3   \tb    \ts1   \tc    \n",
      "        57.9%\t60.0%\t48.6%\t49.1%\t56.5%\t48.5%\t55.2%\n"
     ]
    },
    {
     "name": "stdout",
     "output_type": "stream",
     "text": [
      "  Validation - Loss: 1.5749, Best Loss: inf, Accuracy: 45.1%, Best Acc: 47.2\n",
      "        s3   \tb    \tunk  \ta    \ts2   \tc    \ts1   \n",
      "        42.1%\t46.5%\t42.0%\t54.0%\t45.0%\t50.6%\t41.3%\n",
      "\n",
      "Epoch 6/500\n"
     ]
    },
    {
     "name": "stdout",
     "output_type": "stream",
     "text": [
      "  Training - Loss: 1.1326, Accuracy: 60.7%\n",
      "        unk  \ta    \tc    \ts1   \ts3   \tb    \ts2   \n",
      "        60.8%\t62.5%\t61.5%\t51.4%\t49.7%\t57.5%\t50.2%\n"
     ]
    },
    {
     "name": "stdout",
     "output_type": "stream",
     "text": [
      "  Validation - Loss: 1.4864, Best Loss: inf, Accuracy: 47.6%, Best Acc: 47.2\n",
      "        s3   \tb    \tunk  \ta    \ts2   \tc    \ts1   \n",
      "        48.3%\t46.6%\t44.5%\t57.9%\t44.8%\t52.3%\t44.9%\n",
      "\n",
      "Epoch 7/500\n"
     ]
    },
    {
     "name": "stdout",
     "output_type": "stream",
     "text": [
      "  Training - Loss: 1.0853, Accuracy: 62.4%\n",
      "        unk  \ta    \ts3   \tc    \ts2   \tb    \ts1   \n",
      "        62.4%\t64.1%\t54.1%\t62.4%\t53.5%\t61.4%\t53.2%\n"
     ]
    },
    {
     "name": "stdout",
     "output_type": "stream",
     "text": [
      "  Validation - Loss: 1.4351, Best Loss: inf, Accuracy: 49.4%, Best Acc: 47.6\n",
      "        s3   \tb    \tunk  \ta    \ts2   \tc    \ts1   \n",
      "        49.7%\t49.9%\t46.4%\t58.7%\t48.3%\t53.5%\t45.1%\n",
      "\n",
      "Epoch 8/500\n"
     ]
    },
    {
     "name": "stdout",
     "output_type": "stream",
     "text": [
      "  Training - Loss: 1.0363, Accuracy: 64.1%\n",
      "        unk  \ta    \ts3   \tb    \ts1   \tc    \ts2   \n",
      "        64.2%\t65.9%\t53.7%\t63.5%\t54.1%\t63.9%\t53.8%\n"
     ]
    },
    {
     "name": "stdout",
     "output_type": "stream",
     "text": [
      "  Validation - Loss: 1.5341, Best Loss: inf, Accuracy: 49.7%, Best Acc: 49.4\n",
      "        s3   \tb    \tunk  \ta    \ts2   \tc    \ts1   \n",
      "        49.5%\t49.7%\t46.4%\t59.9%\t47.1%\t54.9%\t46.6%\n",
      "\n",
      "Epoch 9/500\n"
     ]
    },
    {
     "name": "stdout",
     "output_type": "stream",
     "text": [
      "  Training - Loss: 0.9860, Accuracy: 65.9%\n",
      "        unk  \ts2   \ta    \ts1   \tc    \tb    \ts3   \n",
      "        65.9%\t55.6%\t67.7%\t56.1%\t64.6%\t65.7%\t54.9%\n"
     ]
    },
    {
     "name": "stdout",
     "output_type": "stream",
     "text": [
      "  Validation - Loss: 1.5388, Best Loss: inf, Accuracy: 48.4%, Best Acc: 49.7\n",
      "        s3   \tb    \tunk  \ta    \ts2   \tc    \ts1   \n",
      "        48.0%\t50.0%\t45.9%\t55.8%\t46.6%\t51.7%\t46.0%\n",
      "\n",
      "Epoch 10/500\n"
     ]
    },
    {
     "name": "stdout",
     "output_type": "stream",
     "text": [
      "  Training - Loss: 0.9460, Accuracy: 67.3%\n",
      "        unk  \ts1   \ta    \tb    \tc    \ts3   \ts2   \n",
      "        67.4%\t57.1%\t69.1%\t66.6%\t67.3%\t57.7%\t56.6%\n"
     ]
    },
    {
     "name": "stdout",
     "output_type": "stream",
     "text": [
      "  Validation - Loss: 1.4075, Best Loss: inf, Accuracy: 50.9%, Best Acc: 49.7\n",
      "        s3   \tb    \tunk  \ta    \ts2   \tc    \ts1   \n",
      "        53.1%\t51.4%\t47.8%\t57.0%\t49.6%\t55.0%\t48.5%\n",
      "\n",
      "Epoch 11/500\n"
     ]
    },
    {
     "name": "stdout",
     "output_type": "stream",
     "text": [
      "  Training - Loss: 0.9229, Accuracy: 68.0%\n",
      "        unk  \ta    \tc    \ts2   \tb    \ts3   \ts1   \n",
      "        68.2%\t69.3%\t68.5%\t56.7%\t67.1%\t58.6%\t59.6%\n"
     ]
    },
    {
     "name": "stdout",
     "output_type": "stream",
     "text": [
      "  Validation - Loss: 1.4485, Best Loss: inf, Accuracy: 50.1%, Best Acc: 50.9\n",
      "        s3   \tb    \tunk  \ta    \ts2   \tc    \ts1   \n",
      "        51.1%\t50.0%\t47.2%\t58.9%\t48.1%\t53.3%\t47.8%\n",
      "\n",
      "Epoch 12/500\n"
     ]
    },
    {
     "name": "stdout",
     "output_type": "stream",
     "text": [
      "  Training - Loss: 0.9024, Accuracy: 68.9%\n",
      "        unk  \ta    \tc    \ts3   \ts1   \ts2   \tb    \n",
      "        69.0%\t70.8%\t68.8%\t57.4%\t59.0%\t59.5%\t68.6%\n"
     ]
    },
    {
     "name": "stdout",
     "output_type": "stream",
     "text": [
      "  Validation - Loss: 1.4939, Best Loss: inf, Accuracy: 49.9%, Best Acc: 50.9\n",
      "        s3   \tb    \tunk  \ta    \ts2   \tc    \ts1   \n",
      "        51.2%\t51.7%\t47.1%\t59.5%\t49.0%\t54.6%\t42.2%\n",
      "\n",
      "Epoch 13/500\n"
     ]
    },
    {
     "name": "stdout",
     "output_type": "stream",
     "text": [
      "  Training - Loss: 0.8795, Accuracy: 69.4%\n",
      "        a    \tunk  \tc    \ts3   \ts2   \ts1   \tb    \n",
      "        71.2%\t69.5%\t68.1%\t58.0%\t57.4%\t59.0%\t68.2%\n"
     ]
    },
    {
     "name": "stdout",
     "output_type": "stream",
     "text": [
      "  Validation - Loss: 1.4788, Best Loss: inf, Accuracy: 49.2%, Best Acc: 50.9\n",
      "        s3   \tb    \tunk  \ta    \ts2   \tc    \ts1   \n",
      "        49.7%\t49.0%\t46.2%\t58.2%\t48.2%\t54.0%\t45.0%\n",
      "\n",
      "Epoch 14/500\n"
     ]
    },
    {
     "name": "stdout",
     "output_type": "stream",
     "text": [
      "  Training - Loss: 0.8453, Accuracy: 70.7%\n",
      "        b    \tunk  \ta    \tc    \ts1   \ts3   \ts2   \n",
      "        70.7%\t70.7%\t72.7%\t70.1%\t61.3%\t61.1%\t60.2%\n"
     ]
    },
    {
     "name": "stdout",
     "output_type": "stream",
     "text": [
      "  Validation - Loss: 2.0031, Best Loss: inf, Accuracy: 40.6%, Best Acc: 50.9\n",
      "        s3   \tb    \tunk  \ta    \ts2   \tc    \ts1   \n",
      "        41.6%\t39.6%\t38.4%\t48.5%\t37.3%\t45.4%\t37.7%\n",
      "\n",
      "Epoch 15/500\n"
     ]
    },
    {
     "name": "stdout",
     "output_type": "stream",
     "text": [
      "  Training - Loss: 0.8443, Accuracy: 70.9%\n",
      "        unk  \tb    \ta    \tc    \ts1   \ts3   \ts2   \n",
      "        70.9%\t70.4%\t72.9%\t71.1%\t61.8%\t61.7%\t60.2%\n"
     ]
    },
    {
     "name": "stdout",
     "output_type": "stream",
     "text": [
      "  Validation - Loss: 1.4783, Best Loss: inf, Accuracy: 49.9%, Best Acc: 50.9\n",
      "        s3   \tb    \tunk  \ta    \ts2   \tc    \ts1   \n",
      "        50.6%\t50.8%\t46.2%\t60.7%\t46.9%\t55.0%\t46.3%\n",
      "\n",
      "Epoch 16/500\n"
     ]
    },
    {
     "name": "stdout",
     "output_type": "stream",
     "text": [
      "  Training - Loss: 0.8080, Accuracy: 72.0%\n",
      "        unk  \ta    \ts3   \tb    \ts2   \tc    \ts1   \n",
      "        72.1%\t74.0%\t59.6%\t71.7%\t60.2%\t71.8%\t63.2%\n"
     ]
    },
    {
     "name": "stdout",
     "output_type": "stream",
     "text": [
      "  Validation - Loss: 1.4827, Best Loss: inf, Accuracy: 50.3%, Best Acc: 50.9\n",
      "        s3   \tb    \tunk  \ta    \ts2   \tc    \ts1   \n",
      "        51.6%\t50.5%\t46.3%\t60.4%\t47.6%\t55.4%\t48.4%\n",
      "\n",
      "Epoch 17/500\n"
     ]
    },
    {
     "name": "stdout",
     "output_type": "stream",
     "text": [
      "  Training - Loss: 0.8064, Accuracy: 72.1%\n",
      "        unk  \ta    \ts1   \tc    \ts3   \tb    \ts2   \n",
      "        72.1%\t73.6%\t62.3%\t75.2%\t62.2%\t72.9%\t61.1%\n"
     ]
    },
    {
     "name": "stdout",
     "output_type": "stream",
     "text": [
      "  Validation - Loss: 2.2902, Best Loss: inf, Accuracy: 39.5%, Best Acc: 50.9\n",
      "        s3   \tb    \tunk  \ta    \ts2   \tc    \ts1   \n",
      "        40.8%\t36.1%\t38.1%\t46.0%\t38.4%\t43.7%\t36.5%\n",
      "\n",
      "Epoch 18/500\n"
     ]
    },
    {
     "name": "stdout",
     "output_type": "stream",
     "text": [
      "  Training - Loss: 0.7879, Accuracy: 72.8%\n",
      "        unk  \ta    \tb    \ts3   \tc    \ts2   \ts1   \n",
      "        73.1%\t74.1%\t72.4%\t62.1%\t72.8%\t62.4%\t61.1%\n"
     ]
    },
    {
     "name": "stdout",
     "output_type": "stream",
     "text": [
      "  Validation - Loss: 1.4747, Best Loss: inf, Accuracy: 50.3%, Best Acc: 50.9\n",
      "        s3   \tb    \tunk  \ta    \ts2   \tc    \ts1   \n",
      "        53.1%\t49.6%\t48.0%\t57.9%\t48.9%\t52.3%\t46.8%\n",
      "\n",
      "Epoch 19/500\n"
     ]
    },
    {
     "name": "stdout",
     "output_type": "stream",
     "text": [
      "  Training - Loss: 0.7735, Accuracy: 73.3%\n",
      "        unk  \ta    \tb    \tc    \ts2   \ts1   \ts3   \n",
      "        73.6%\t74.3%\t73.4%\t73.2%\t62.0%\t64.2%\t60.7%\n"
     ]
    },
    {
     "name": "stdout",
     "output_type": "stream",
     "text": [
      "  Validation - Loss: 1.7860, Best Loss: inf, Accuracy: 43.0%, Best Acc: 50.9\n",
      "        s3   \tb    \tunk  \ta    \ts2   \tc    \ts1   \n",
      "        46.2%\t41.5%\t40.8%\t50.0%\t38.8%\t47.5%\t41.0%\n",
      "\n",
      "Epoch 20/500\n"
     ]
    },
    {
     "name": "stdout",
     "output_type": "stream",
     "text": [
      "  Training - Loss: 0.7628, Accuracy: 73.6%\n",
      "        unk  \ts3   \ts1   \ta    \tb    \ts2   \tc    \n",
      "        73.6%\t63.3%\t62.8%\t75.3%\t73.7%\t62.8%\t75.4%\n"
     ]
    },
    {
     "name": "stdout",
     "output_type": "stream",
     "text": [
      "  Validation - Loss: 1.6173, Best Loss: inf, Accuracy: 47.4%, Best Acc: 50.9\n",
      "        s3   \tb    \tunk  \ta    \ts2   \tc    \ts1   \n",
      "        49.2%\t48.9%\t43.5%\t55.2%\t47.6%\t48.6%\t46.9%\n",
      "\n",
      "Epoch 21/500\n"
     ]
    },
    {
     "name": "stdout",
     "output_type": "stream",
     "text": [
      "  Training - Loss: 0.7541, Accuracy: 73.9%\n",
      "        unk  \tb    \ta    \tc    \ts1   \ts2   \ts3   \n",
      "        74.1%\t74.1%\t75.2%\t75.3%\t63.6%\t63.8%\t63.9%\n"
     ]
    },
    {
     "name": "stdout",
     "output_type": "stream",
     "text": [
      "  Validation - Loss: 1.6121, Best Loss: inf, Accuracy: 48.3%, Best Acc: 50.9\n",
      "        s3   \tb    \tunk  \ta    \ts2   \tc    \ts1   \n",
      "        49.5%\t50.3%\t45.5%\t54.8%\t46.2%\t51.7%\t45.5%\n",
      "\n",
      "Epoch 22/500\n"
     ]
    },
    {
     "name": "stdout",
     "output_type": "stream",
     "text": [
      "  Training - Loss: 0.7360, Accuracy: 74.6%\n",
      "        unk  \ta    \tb    \ts1   \ts2   \tc    \ts3   \n",
      "        74.7%\t76.3%\t74.6%\t65.8%\t64.0%\t75.1%\t64.5%\n"
     ]
    },
    {
     "name": "stdout",
     "output_type": "stream",
     "text": [
      "  Validation - Loss: 2.2323, Best Loss: inf, Accuracy: 39.9%, Best Acc: 50.9\n",
      "        s3   \tb    \tunk  \ta    \ts2   \tc    \ts1   \n",
      "        41.5%\t40.2%\t37.8%\t46.1%\t37.2%\t43.6%\t36.9%\n",
      "\n",
      "Epoch 23/500\n"
     ]
    },
    {
     "name": "stdout",
     "output_type": "stream",
     "text": [
      "  Training - Loss: 0.7264, Accuracy: 75.1%\n",
      "        a    \tunk  \ts2   \tb    \ts1   \ts3   \tc    \n",
      "        76.7%\t75.2%\t64.2%\t77.1%\t64.2%\t63.2%\t76.0%\n"
     ]
    },
    {
     "name": "stdout",
     "output_type": "stream",
     "text": [
      "  Validation - Loss: 1.7218, Best Loss: inf, Accuracy: 47.0%, Best Acc: 50.9\n",
      "        s3   \tb    \tunk  \ta    \ts2   \tc    \ts1   \n",
      "        46.1%\t50.6%\t43.8%\t56.0%\t42.5%\t50.4%\t45.7%\n",
      "\n",
      "Epoch 24/500\n"
     ]
    },
    {
     "name": "stdout",
     "output_type": "stream",
     "text": [
      "  Training - Loss: 0.7333, Accuracy: 74.7%\n",
      "        unk  \ta    \ts2   \ts1   \tc    \tb    \ts3   \n",
      "        74.8%\t76.4%\t63.7%\t63.5%\t75.7%\t75.2%\t65.9%\n"
     ]
    },
    {
     "name": "stdout",
     "output_type": "stream",
     "text": [
      "  Validation - Loss: 1.5526, Best Loss: inf, Accuracy: 49.6%, Best Acc: 50.9\n",
      "        s3   \tb    \tunk  \ta    \ts2   \tc    \ts1   \n",
      "        51.3%\t51.6%\t46.2%\t58.8%\t48.3%\t51.9%\t45.6%\n",
      "\n",
      "Epoch 25/500\n"
     ]
    },
    {
     "name": "stdout",
     "output_type": "stream",
     "text": [
      "  Training - Loss: 0.7180, Accuracy: 75.2%\n",
      "        unk  \ts2   \ta    \tc    \tb    \ts1   \ts3   \n",
      "        75.4%\t64.5%\t76.9%\t74.0%\t76.2%\t65.8%\t64.5%\n"
     ]
    },
    {
     "name": "stdout",
     "output_type": "stream",
     "text": [
      "  Validation - Loss: 1.5048, Best Loss: inf, Accuracy: 50.7%, Best Acc: 50.9\n",
      "        s3   \tb    \tunk  \ta    \ts2   \tc    \ts1   \n",
      "        52.0%\t50.3%\t47.8%\t59.4%\t48.6%\t54.2%\t48.8%\n",
      "\n",
      "Epoch 26/500\n"
     ]
    },
    {
     "name": "stdout",
     "output_type": "stream",
     "text": [
      "  Training - Loss: 0.7163, Accuracy: 75.4%\n",
      "        unk  \ta    \tb    \ts3   \ts1   \tc    \ts2   \n",
      "        75.6%\t76.5%\t74.9%\t66.7%\t65.5%\t76.1%\t64.3%\n"
     ]
    },
    {
     "name": "stdout",
     "output_type": "stream",
     "text": [
      "  Validation - Loss: 1.5316, Best Loss: inf, Accuracy: 50.5%, Best Acc: 50.9\n",
      "        s3   \tb    \tunk  \ta    \ts2   \tc    \ts1   \n",
      "        54.6%\t51.2%\t47.6%\t55.5%\t49.1%\t54.3%\t46.6%\n",
      "\n",
      "Epoch 27/500\n"
     ]
    },
    {
     "name": "stdout",
     "output_type": "stream",
     "text": [
      "  Training - Loss: 0.7012, Accuracy: 75.9%\n",
      "        unk  \ta    \tc    \tb    \ts1   \ts2   \ts3   \n",
      "        76.1%\t77.1%\t78.0%\t75.2%\t65.9%\t64.3%\t67.8%\n"
     ]
    },
    {
     "name": "stdout",
     "output_type": "stream",
     "text": [
      "  Validation - Loss: 1.5307, Best Loss: inf, Accuracy: 49.4%, Best Acc: 50.9\n",
      "        s3   \tb    \tunk  \ta    \ts2   \tc    \ts1   \n",
      "        49.2%\t52.5%\t44.5%\t58.7%\t47.6%\t53.4%\t49.6%\n",
      "\n",
      "Epoch 28/500\n"
     ]
    },
    {
     "name": "stdout",
     "output_type": "stream",
     "text": [
      "  Training - Loss: 0.7055, Accuracy: 75.8%\n",
      "        unk  \ta    \ts1   \tc    \ts3   \tb    \ts2   \n",
      "        76.0%\t77.2%\t65.0%\t78.2%\t64.2%\t75.7%\t63.8%\n"
     ]
    },
    {
     "name": "stdout",
     "output_type": "stream",
     "text": [
      "  Validation - Loss: 1.5089, Best Loss: inf, Accuracy: 51.2%, Best Acc: 50.9\n",
      "        s3   \tb    \tunk  \ta    \ts2   \tc    \ts1   \n",
      "        53.1%\t52.7%\t46.7%\t60.4%\t49.4%\t56.4%\t48.3%\n",
      "\n",
      "Epoch 29/500\n"
     ]
    },
    {
     "name": "stdout",
     "output_type": "stream",
     "text": [
      "  Training - Loss: 0.6993, Accuracy: 75.9%\n",
      "        unk  \ta    \ts2   \tc    \ts1   \tb    \ts3   \n",
      "        76.2%\t77.2%\t63.9%\t74.3%\t66.4%\t75.7%\t64.4%\n"
     ]
    },
    {
     "name": "stdout",
     "output_type": "stream",
     "text": [
      "  Validation - Loss: 1.6563, Best Loss: inf, Accuracy: 46.3%, Best Acc: 51.2\n",
      "        s3   \tb    \tunk  \ta    \ts2   \tc    \ts1   \n",
      "        46.3%\t49.2%\t42.4%\t56.7%\t47.5%\t47.0%\t42.9%\n",
      "\n",
      "Epoch 30/500\n"
     ]
    },
    {
     "name": "stdout",
     "output_type": "stream",
     "text": [
      "  Training - Loss: 0.6806, Accuracy: 76.7%\n",
      "        unk  \ta    \ts3   \ts2   \ts1   \tb    \tc    \n",
      "        76.9%\t78.0%\t65.9%\t65.4%\t68.7%\t77.3%\t77.0%\n"
     ]
    },
    {
     "name": "stdout",
     "output_type": "stream",
     "text": [
      "  Validation - Loss: 1.6211, Best Loss: inf, Accuracy: 49.6%, Best Acc: 51.2\n",
      "        s3   \tb    \tunk  \ta    \ts2   \tc    \ts1   \n",
      "        51.7%\t49.7%\t45.9%\t57.9%\t47.5%\t54.8%\t47.2%\n",
      "\n",
      "Epoch 31/500\n"
     ]
    },
    {
     "name": "stdout",
     "output_type": "stream",
     "text": [
      "  Training - Loss: 0.6955, Accuracy: 76.1%\n",
      "        unk  \ta    \tc    \ts1   \tb    \ts2   \ts3   \n",
      "        76.3%\t77.0%\t76.9%\t65.8%\t77.8%\t63.5%\t66.3%\n"
     ]
    },
    {
     "name": "stdout",
     "output_type": "stream",
     "text": [
      "  Validation - Loss: 1.6725, Best Loss: inf, Accuracy: 48.9%, Best Acc: 51.2\n",
      "        s3   \tb    \tunk  \ta    \ts2   \tc    \ts1   \n",
      "        51.4%\t52.1%\t45.0%\t57.9%\t45.6%\t54.5%\t43.6%\n",
      "\n",
      "Epoch 32/500\n"
     ]
    },
    {
     "name": "stdout",
     "output_type": "stream",
     "text": [
      "  Training - Loss: 0.6800, Accuracy: 76.7%\n",
      "        unk  \ta    \tb    \ts1   \tc    \ts3   \ts2   \n",
      "        76.8%\t78.0%\t78.2%\t67.7%\t78.3%\t67.2%\t65.6%\n"
     ]
    },
    {
     "name": "stdout",
     "output_type": "stream",
     "text": [
      "  Validation - Loss: 1.5625, Best Loss: inf, Accuracy: 49.4%, Best Acc: 51.2\n",
      "        s3   \tb    \tunk  \ta    \ts2   \tc    \ts1   \n",
      "        51.5%\t51.5%\t45.9%\t58.4%\t46.4%\t53.3%\t45.8%\n",
      "\n",
      "Epoch 33/500\n"
     ]
    },
    {
     "name": "stdout",
     "output_type": "stream",
     "text": [
      "  Training - Loss: 0.6804, Accuracy: 76.5%\n",
      "        unk  \ts1   \ta    \tb    \tc    \ts3   \ts2   \n",
      "        76.8%\t66.4%\t77.6%\t76.4%\t76.7%\t64.7%\t65.6%\n"
     ]
    },
    {
     "name": "stdout",
     "output_type": "stream",
     "text": [
      "  Validation - Loss: 1.5754, Best Loss: inf, Accuracy: 49.8%, Best Acc: 51.2\n",
      "        s3   \tb    \tunk  \ta    \ts2   \tc    \ts1   \n",
      "        49.7%\t51.7%\t47.0%\t58.8%\t44.5%\t55.6%\t47.5%\n",
      "\n",
      "Epoch 34/500\n"
     ]
    },
    {
     "name": "stdout",
     "output_type": "stream",
     "text": [
      "  Training - Loss: 0.6711, Accuracy: 76.9%\n",
      "        unk  \ta    \ts3   \ts2   \tb    \tc    \ts1   \n",
      "        77.1%\t78.0%\t66.4%\t66.8%\t76.4%\t76.8%\t68.0%\n"
     ]
    },
    {
     "name": "stdout",
     "output_type": "stream",
     "text": [
      "  Validation - Loss: 1.5486, Best Loss: inf, Accuracy: 51.0%, Best Acc: 51.2\n",
      "        s3   \tb    \tunk  \ta    \ts2   \tc    \ts1   \n",
      "        51.8%\t55.4%\t48.6%\t58.4%\t46.2%\t55.4%\t46.2%\n",
      "\n",
      "Epoch 35/500\n"
     ]
    },
    {
     "name": "stdout",
     "output_type": "stream",
     "text": [
      "  Training - Loss: 0.6595, Accuracy: 77.4%\n",
      "        unk  \ts1   \ta    \tb    \ts3   \ts2   \tc    \n",
      "        77.6%\t69.5%\t78.4%\t76.6%\t66.4%\t66.1%\t77.7%\n"
     ]
    },
    {
     "name": "stdout",
     "output_type": "stream",
     "text": [
      "  Validation - Loss: 1.4520, Best Loss: inf, Accuracy: 52.1%, Best Acc: 51.2\n",
      "        s3   \tb    \tunk  \ta    \ts2   \tc    \ts1   \n",
      "        53.2%\t53.7%\t49.4%\t62.2%\t48.5%\t55.8%\t47.4%\n",
      "\n",
      "Epoch 36/500\n"
     ]
    },
    {
     "name": "stdout",
     "output_type": "stream",
     "text": [
      "  Training - Loss: 0.6560, Accuracy: 77.5%\n",
      "        unk  \tb    \ta    \ts1   \ts2   \tc    \ts3   \n",
      "        77.7%\t75.8%\t78.8%\t69.1%\t65.6%\t78.1%\t65.8%\n"
     ]
    },
    {
     "name": "stdout",
     "output_type": "stream",
     "text": [
      "  Validation - Loss: 1.6547, Best Loss: inf, Accuracy: 49.6%, Best Acc: 52.1\n",
      "        s3   \tb    \tunk  \ta    \ts2   \tc    \ts1   \n",
      "        51.6%\t50.3%\t46.7%\t58.4%\t45.4%\t54.0%\t46.2%\n",
      "\n",
      "Epoch 37/500\n"
     ]
    },
    {
     "name": "stdout",
     "output_type": "stream",
     "text": [
      "  Training - Loss: 0.6523, Accuracy: 77.7%\n",
      "        unk  \ta    \ts1   \tc    \ts2   \tb    \ts3   \n",
      "        77.8%\t79.0%\t68.5%\t77.9%\t66.3%\t77.1%\t68.6%\n"
     ]
    },
    {
     "name": "stdout",
     "output_type": "stream",
     "text": [
      "  Validation - Loss: 1.6943, Best Loss: inf, Accuracy: 48.2%, Best Acc: 52.1\n",
      "        s3   \tb    \tunk  \ta    \ts2   \tc    \ts1   \n",
      "        50.0%\t51.0%\t46.2%\t54.3%\t44.9%\t51.8%\t43.0%\n",
      "\n",
      "Epoch 38/500\n"
     ]
    },
    {
     "name": "stdout",
     "output_type": "stream",
     "text": [
      "  Training - Loss: 0.6438, Accuracy: 78.0%\n",
      "        unk  \ta    \tc    \ts2   \ts1   \tb    \ts3   \n",
      "        78.2%\t79.4%\t79.4%\t66.2%\t69.2%\t76.1%\t67.2%\n"
     ]
    },
    {
     "name": "stdout",
     "output_type": "stream",
     "text": [
      "  Validation - Loss: 1.5984, Best Loss: inf, Accuracy: 48.3%, Best Acc: 52.1\n",
      "        s3   \tb    \tunk  \ta    \ts2   \tc    \ts1   \n",
      "        49.1%\t48.7%\t46.0%\t58.4%\t44.8%\t52.4%\t43.2%\n",
      "\n",
      "Epoch 39/500\n"
     ]
    },
    {
     "name": "stdout",
     "output_type": "stream",
     "text": [
      "  Training - Loss: 0.6561, Accuracy: 77.5%\n",
      "        a    \tunk  \ts3   \ts2   \ts1   \tb    \tc    \n",
      "        78.6%\t77.7%\t68.3%\t67.9%\t67.4%\t76.6%\t77.7%\n"
     ]
    },
    {
     "name": "stdout",
     "output_type": "stream",
     "text": [
      "  Validation - Loss: 1.7625, Best Loss: inf, Accuracy: 44.9%, Best Acc: 52.1\n",
      "        s3   \tb    \tunk  \ta    \ts2   \tc    \ts1   \n",
      "        44.1%\t47.1%\t42.1%\t53.5%\t43.0%\t49.1%\t41.0%\n",
      "\n",
      "Epoch 40/500\n"
     ]
    },
    {
     "name": "stdout",
     "output_type": "stream",
     "text": [
      "  Training - Loss: 0.6493, Accuracy: 77.8%\n",
      "        unk  \tc    \ts2   \ts3   \ta    \tb    \ts1   \n",
      "        78.0%\t78.3%\t65.5%\t66.8%\t79.0%\t78.9%\t67.1%\n"
     ]
    },
    {
     "name": "stdout",
     "output_type": "stream",
     "text": [
      "  Validation - Loss: 1.5829, Best Loss: inf, Accuracy: 48.8%, Best Acc: 52.1\n",
      "        s3   \tb    \tunk  \ta    \ts2   \tc    \ts1   \n",
      "        49.6%\t53.5%\t45.0%\t57.3%\t45.6%\t54.4%\t43.8%\n",
      "\n",
      "Epoch 41/500\n"
     ]
    },
    {
     "name": "stdout",
     "output_type": "stream",
     "text": [
      "  Training - Loss: 0.6379, Accuracy: 78.1%\n",
      "        unk  \ta    \ts1   \ts3   \ts2   \tc    \tb    \n",
      "        78.3%\t79.2%\t72.0%\t67.2%\t67.6%\t79.3%\t78.3%\n"
     ]
    },
    {
     "name": "stdout",
     "output_type": "stream",
     "text": [
      "  Validation - Loss: 2.2599, Best Loss: inf, Accuracy: 40.0%, Best Acc: 52.1\n",
      "        s3   \tb    \tunk  \ta    \ts2   \tc    \ts1   \n",
      "        38.6%\t42.4%\t36.3%\t49.3%\t37.9%\t45.2%\t37.6%\n",
      "\n",
      "Epoch 42/500\n"
     ]
    },
    {
     "name": "stdout",
     "output_type": "stream",
     "text": [
      "  Training - Loss: 0.6422, Accuracy: 78.0%\n",
      "        unk  \ta    \tc    \tb    \ts2   \ts3   \ts1   \n",
      "        78.2%\t79.2%\t77.9%\t77.5%\t67.2%\t68.8%\t70.7%\n"
     ]
    },
    {
     "name": "stdout",
     "output_type": "stream",
     "text": [
      "  Validation - Loss: 1.6227, Best Loss: inf, Accuracy: 49.7%, Best Acc: 52.1\n",
      "        s3   \tb    \tunk  \ta    \ts2   \tc    \ts1   \n",
      "        51.1%\t53.9%\t46.5%\t55.3%\t47.0%\t53.1%\t47.0%\n",
      "\n",
      "Epoch 43/500\n"
     ]
    },
    {
     "name": "stdout",
     "output_type": "stream",
     "text": [
      "  Training - Loss: 0.6377, Accuracy: 78.1%\n",
      "        a    \tunk  \ts3   \tb    \ts1   \ts2   \tc    \n",
      "        79.5%\t78.2%\t69.1%\t77.8%\t67.8%\t67.8%\t78.2%\n"
     ]
    },
    {
     "name": "stdout",
     "output_type": "stream",
     "text": [
      "  Validation - Loss: 1.5614, Best Loss: inf, Accuracy: 50.9%, Best Acc: 52.1\n",
      "        s3   \tb    \tunk  \ta    \ts2   \tc    \ts1   \n",
      "        52.6%\t53.5%\t47.2%\t59.4%\t46.9%\t55.2%\t49.1%\n",
      "\n",
      "Epoch 44/500\n"
     ]
    },
    {
     "name": "stdout",
     "output_type": "stream",
     "text": [
      "  Training - Loss: 0.6256, Accuracy: 78.5%\n",
      "        unk  \ta    \ts3   \tc    \ts2   \ts1   \tb    \n",
      "        78.7%\t79.8%\t68.5%\t77.9%\t69.2%\t68.0%\t79.2%\n"
     ]
    },
    {
     "name": "stdout",
     "output_type": "stream",
     "text": [
      "  Validation - Loss: 1.6788, Best Loss: inf, Accuracy: 47.8%, Best Acc: 52.1\n",
      "        s3   \tb    \tunk  \ta    \ts2   \tc    \ts1   \n",
      "        50.9%\t45.6%\t46.8%\t52.5%\t46.0%\t50.5%\t44.4%\n",
      "\n",
      "Epoch 45/500\n"
     ]
    },
    {
     "name": "stdout",
     "output_type": "stream",
     "text": [
      "  Training - Loss: 0.6328, Accuracy: 78.3%\n",
      "        unk  \ta    \tc    \tb    \ts3   \ts1   \ts2   \n",
      "        78.5%\t79.3%\t79.5%\t76.9%\t69.5%\t69.3%\t68.9%\n"
     ]
    },
    {
     "name": "stdout",
     "output_type": "stream",
     "text": [
      "  Validation - Loss: 1.6197, Best Loss: inf, Accuracy: 49.9%, Best Acc: 52.1\n",
      "        s3   \tb    \tunk  \ta    \ts2   \tc    \ts1   \n",
      "        52.0%\t51.3%\t46.9%\t58.2%\t45.6%\t53.9%\t47.5%\n",
      "\n",
      "Epoch 46/500\n"
     ]
    },
    {
     "name": "stdout",
     "output_type": "stream",
     "text": [
      "  Training - Loss: 0.6322, Accuracy: 78.3%\n",
      "        unk  \tb    \ta    \ts2   \ts3   \tc    \ts1   \n",
      "        78.4%\t78.4%\t79.9%\t68.3%\t68.9%\t78.6%\t68.4%\n"
     ]
    },
    {
     "name": "stdout",
     "output_type": "stream",
     "text": [
      "  Validation - Loss: 1.6721, Best Loss: inf, Accuracy: 49.0%, Best Acc: 52.1\n",
      "        s3   \tb    \tunk  \ta    \ts2   \tc    \ts1   \n",
      "        51.3%\t47.6%\t45.4%\t56.1%\t47.3%\t53.2%\t49.0%\n",
      "\n",
      "Epoch 47/500\n"
     ]
    },
    {
     "name": "stdout",
     "output_type": "stream",
     "text": [
      "  Training - Loss: 0.6214, Accuracy: 78.7%\n",
      "        unk  \ta    \ts3   \ts2   \tc    \ts1   \tb    \n",
      "        78.8%\t80.3%\t68.9%\t69.1%\t80.3%\t69.5%\t78.4%\n"
     ]
    },
    {
     "name": "stdout",
     "output_type": "stream",
     "text": [
      "  Validation - Loss: 1.6301, Best Loss: inf, Accuracy: 50.0%, Best Acc: 52.1\n",
      "        s3   \tb    \tunk  \ta    \ts2   \tc    \ts1   \n",
      "        49.6%\t52.7%\t46.4%\t58.4%\t46.8%\t53.4%\t49.8%\n",
      "\n",
      "Epoch 48/500\n"
     ]
    },
    {
     "name": "stdout",
     "output_type": "stream",
     "text": [
      "  Training - Loss: 0.6159, Accuracy: 78.9%\n",
      "        unk  \ta    \tc    \tb    \ts1   \ts2   \ts3   \n",
      "        79.1%\t80.2%\t79.1%\t79.2%\t68.9%\t67.9%\t70.5%\n"
     ]
    },
    {
     "name": "stdout",
     "output_type": "stream",
     "text": [
      "  Validation - Loss: 1.5161, Best Loss: inf, Accuracy: 51.6%, Best Acc: 52.1\n",
      "        s3   \tb    \tunk  \ta    \ts2   \tc    \ts1   \n",
      "        51.4%\t55.0%\t48.0%\t59.0%\t50.9%\t55.8%\t48.5%\n",
      "\n",
      "Epoch 49/500\n"
     ]
    },
    {
     "name": "stdout",
     "output_type": "stream",
     "text": [
      "  Training - Loss: 0.6139, Accuracy: 79.0%\n",
      "        unk  \ta    \ts1   \tb    \ts2   \ts3   \tc    \n",
      "        79.1%\t80.1%\t71.7%\t79.5%\t69.5%\t70.4%\t79.7%\n"
     ]
    },
    {
     "name": "stdout",
     "output_type": "stream",
     "text": [
      "  Validation - Loss: 1.6095, Best Loss: inf, Accuracy: 51.6%, Best Acc: 52.1\n",
      "        s3   \tb    \tunk  \ta    \ts2   \tc    \ts1   \n",
      "        52.7%\t50.8%\t49.8%\t58.4%\t48.4%\t55.1%\t50.0%\n",
      "\n",
      "Epoch 50/500\n"
     ]
    },
    {
     "name": "stdout",
     "output_type": "stream",
     "text": [
      "  Training - Loss: 0.6111, Accuracy: 79.1%\n",
      "        unk  \ts3   \tb    \ts2   \ta    \ts1   \tc    \n",
      "        79.3%\t70.4%\t79.1%\t69.0%\t80.3%\t69.4%\t78.6%\n"
     ]
    },
    {
     "name": "stdout",
     "output_type": "stream",
     "text": [
      "  Validation - Loss: 1.5300, Best Loss: inf, Accuracy: 52.7%, Best Acc: 52.1\n",
      "        s3   \tb    \tunk  \ta    \ts2   \tc    \ts1   \n",
      "        53.7%\t53.2%\t50.3%\t60.7%\t49.2%\t55.9%\t50.8%\n",
      "\n",
      "Epoch 51/500\n"
     ]
    },
    {
     "name": "stdout",
     "output_type": "stream",
     "text": [
      "  Training - Loss: 0.6081, Accuracy: 79.2%\n",
      "        unk  \ta    \ts3   \tc    \ts2   \ts1   \tb    \n",
      "        79.2%\t80.8%\t69.1%\t78.9%\t70.5%\t71.7%\t79.8%\n"
     ]
    },
    {
     "name": "stdout",
     "output_type": "stream",
     "text": [
      "  Validation - Loss: 1.5149, Best Loss: inf, Accuracy: 51.8%, Best Acc: 52.7\n",
      "        s3   \tb    \tunk  \ta    \ts2   \tc    \ts1   \n",
      "        52.0%\t54.8%\t48.4%\t60.0%\t48.1%\t57.2%\t49.2%\n",
      "\n",
      "Epoch 52/500\n"
     ]
    },
    {
     "name": "stdout",
     "output_type": "stream",
     "text": [
      "  Training - Loss: 0.6097, Accuracy: 79.2%\n",
      "        a    \tunk  \tb    \ts1   \tc    \ts2   \ts3   \n",
      "        80.2%\t79.4%\t78.6%\t69.7%\t79.3%\t68.8%\t69.7%\n"
     ]
    },
    {
     "name": "stdout",
     "output_type": "stream",
     "text": [
      "  Validation - Loss: 1.6722, Best Loss: inf, Accuracy: 49.1%, Best Acc: 52.7\n",
      "        s3   \tb    \tunk  \ta    \ts2   \tc    \ts1   \n",
      "        50.7%\t52.9%\t46.8%\t56.1%\t47.7%\t50.6%\t44.1%\n",
      "\n",
      "Epoch 53/500\n"
     ]
    },
    {
     "name": "stdout",
     "output_type": "stream",
     "text": [
      "  Training - Loss: 0.6084, Accuracy: 79.1%\n",
      "        a    \tunk  \tb    \tc    \ts2   \ts1   \ts3   \n",
      "        80.4%\t79.3%\t77.4%\t80.5%\t70.6%\t70.0%\t70.7%\n"
     ]
    },
    {
     "name": "stdout",
     "output_type": "stream",
     "text": [
      "  Validation - Loss: 1.4991, Best Loss: inf, Accuracy: 50.3%, Best Acc: 52.7\n",
      "        s3   \tb    \tunk  \ta    \ts2   \tc    \ts1   \n",
      "        52.7%\t52.5%\t46.9%\t58.8%\t47.2%\t52.0%\t48.4%\n",
      "\n",
      "Epoch 54/500\n"
     ]
    },
    {
     "name": "stdout",
     "output_type": "stream",
     "text": [
      "  Training - Loss: 0.6044, Accuracy: 79.2%\n",
      "        unk  \ts3   \ts2   \ta    \tc    \ts1   \tb    \n",
      "        79.3%\t70.0%\t67.8%\t80.6%\t80.6%\t69.7%\t78.8%\n"
     ]
    },
    {
     "name": "stdout",
     "output_type": "stream",
     "text": [
      "  Validation - Loss: 1.4962, Best Loss: inf, Accuracy: 51.8%, Best Acc: 52.7\n",
      "        s3   \tb    \tunk  \ta    \ts2   \tc    \ts1   \n",
      "        52.2%\t54.5%\t48.9%\t59.0%\t50.5%\t55.5%\t48.1%\n",
      "\n",
      "Epoch 55/500\n"
     ]
    },
    {
     "name": "stdout",
     "output_type": "stream",
     "text": [
      "  Training - Loss: 0.5991, Accuracy: 79.4%\n",
      "        unk  \ta    \tb    \ts3   \ts2   \tc    \ts1   \n",
      "        79.6%\t80.8%\t78.6%\t68.2%\t68.6%\t80.6%\t70.7%\n"
     ]
    },
    {
     "name": "stdout",
     "output_type": "stream",
     "text": [
      "  Validation - Loss: 1.5983, Best Loss: inf, Accuracy: 50.4%, Best Acc: 52.7\n",
      "        s3   \tb    \tunk  \ta    \ts2   \tc    \ts1   \n",
      "        51.4%\t51.4%\t47.9%\t59.4%\t44.3%\t55.5%\t48.0%\n",
      "\n",
      "Epoch 56/500\n"
     ]
    },
    {
     "name": "stdout",
     "output_type": "stream",
     "text": [
      "  Training - Loss: 0.5895, Accuracy: 79.7%\n",
      "        c    \tunk  \ta    \ts2   \ts1   \ts3   \tb    \n",
      "        81.0%\t79.9%\t81.1%\t69.7%\t69.9%\t69.8%\t79.4%\n"
     ]
    },
    {
     "name": "stdout",
     "output_type": "stream",
     "text": [
      "  Validation - Loss: 1.6049, Best Loss: inf, Accuracy: 49.6%, Best Acc: 52.7\n",
      "        s3   \tb    \tunk  \ta    \ts2   \tc    \ts1   \n",
      "        52.9%\t49.5%\t47.2%\t57.5%\t46.2%\t52.2%\t46.3%\n",
      "\n",
      "Epoch 57/500\n"
     ]
    },
    {
     "name": "stdout",
     "output_type": "stream",
     "text": [
      "  Training - Loss: 0.5859, Accuracy: 79.9%\n",
      "        unk  \ta    \ts1   \tb    \ts3   \tc    \ts2   \n",
      "        80.0%\t81.5%\t70.7%\t79.6%\t68.2%\t81.6%\t68.3%\n"
     ]
    },
    {
     "name": "stdout",
     "output_type": "stream",
     "text": [
      "  Validation - Loss: 1.5667, Best Loss: inf, Accuracy: 50.1%, Best Acc: 52.7\n",
      "        s3   \tb    \tunk  \ta    \ts2   \tc    \ts1   \n",
      "        51.2%\t54.8%\t45.0%\t59.8%\t47.6%\t55.6%\t47.4%\n",
      "\n",
      "Epoch 58/500\n"
     ]
    },
    {
     "name": "stdout",
     "output_type": "stream",
     "text": [
      "  Training - Loss: 0.5939, Accuracy: 79.7%\n",
      "        unk  \ta    \ts1   \ts3   \tc    \tb    \ts2   \n",
      "        79.9%\t81.1%\t71.0%\t67.9%\t79.8%\t77.5%\t70.5%\n"
     ]
    },
    {
     "name": "stdout",
     "output_type": "stream",
     "text": [
      "  Validation - Loss: 1.7884, Best Loss: inf, Accuracy: 46.6%, Best Acc: 52.7\n",
      "        s3   \tb    \tunk  \ta    \ts2   \tc    \ts1   \n",
      "        46.5%\t51.5%\t43.6%\t52.3%\t45.6%\t49.3%\t43.1%\n",
      "\n",
      "Epoch 59/500\n"
     ]
    },
    {
     "name": "stdout",
     "output_type": "stream",
     "text": [
      "  Training - Loss: 0.5787, Accuracy: 80.3%\n",
      "        unk  \tc    \ta    \tb    \ts1   \ts2   \ts3   \n",
      "        80.5%\t81.4%\t81.5%\t79.5%\t71.5%\t68.9%\t70.2%\n"
     ]
    },
    {
     "name": "stdout",
     "output_type": "stream",
     "text": [
      "  Validation - Loss: 1.5731, Best Loss: inf, Accuracy: 51.7%, Best Acc: 52.7\n",
      "        s3   \tb    \tunk  \ta    \ts2   \tc    \ts1   \n",
      "        53.5%\t52.4%\t48.7%\t59.4%\t48.9%\t54.1%\t50.5%\n",
      "\n",
      "Epoch 60/500\n"
     ]
    },
    {
     "name": "stdout",
     "output_type": "stream",
     "text": [
      "  Training - Loss: 0.5933, Accuracy: 79.7%\n",
      "        unk  \ta    \ts3   \ts1   \tc    \ts2   \tb    \n",
      "        79.8%\t81.1%\t69.4%\t71.6%\t81.4%\t69.6%\t79.1%\n"
     ]
    },
    {
     "name": "stdout",
     "output_type": "stream",
     "text": [
      "  Validation - Loss: 1.6688, Best Loss: inf, Accuracy: 47.6%, Best Acc: 52.7\n",
      "        s3   \tb    \tunk  \ta    \ts2   \tc    \ts1   \n",
      "        47.3%\t52.3%\t44.4%\t55.8%\t45.4%\t51.7%\t42.3%\n",
      "\n",
      "Epoch 61/500\n"
     ]
    },
    {
     "name": "stdout",
     "output_type": "stream",
     "text": [
      "  Training - Loss: 0.5759, Accuracy: 80.3%\n",
      "        a    \tunk  \ts2   \tb    \ts3   \tc    \ts1   \n",
      "        81.5%\t80.5%\t70.6%\t80.3%\t68.7%\t80.8%\t70.9%\n"
     ]
    },
    {
     "name": "stdout",
     "output_type": "stream",
     "text": [
      "  Validation - Loss: 1.5382, Best Loss: inf, Accuracy: 52.0%, Best Acc: 52.7\n",
      "        s3   \tb    \tunk  \ta    \ts2   \tc    \ts1   \n",
      "        53.8%\t53.0%\t48.8%\t60.3%\t49.8%\t54.9%\t49.7%\n",
      "\n",
      "Epoch 62/500\n"
     ]
    },
    {
     "name": "stdout",
     "output_type": "stream",
     "text": [
      "  Training - Loss: 0.5790, Accuracy: 80.2%\n",
      "        unk  \ta    \tc    \ts3   \ts1   \ts2   \tb    \n",
      "        80.3%\t81.4%\t80.7%\t72.0%\t69.8%\t69.2%\t81.2%\n"
     ]
    },
    {
     "name": "stdout",
     "output_type": "stream",
     "text": [
      "  Validation - Loss: 1.8175, Best Loss: inf, Accuracy: 48.6%, Best Acc: 52.7\n",
      "        s3   \tb    \tunk  \ta    \ts2   \tc    \ts1   \n",
      "        49.2%\t49.3%\t46.3%\t57.0%\t44.6%\t52.4%\t45.8%\n",
      "\n",
      "Epoch 63/500\n"
     ]
    },
    {
     "name": "stdout",
     "output_type": "stream",
     "text": [
      "  Training - Loss: 0.5770, Accuracy: 80.3%\n",
      "        unk  \ta    \tc    \ts3   \ts2   \ts1   \tb    \n",
      "        80.4%\t82.0%\t80.2%\t71.3%\t70.3%\t70.1%\t80.5%\n"
     ]
    },
    {
     "name": "stdout",
     "output_type": "stream",
     "text": [
      "  Validation - Loss: 1.5541, Best Loss: inf, Accuracy: 50.6%, Best Acc: 52.7\n",
      "        s3   \tb    \tunk  \ta    \ts2   \tc    \ts1   \n",
      "        51.3%\t51.4%\t47.7%\t58.0%\t48.2%\t54.9%\t48.3%\n",
      "\n",
      "Epoch 64/500\n"
     ]
    },
    {
     "name": "stdout",
     "output_type": "stream",
     "text": [
      "  Training - Loss: 0.5631, Accuracy: 80.9%\n",
      "        unk  \ta    \ts2   \tc    \ts3   \ts1   \tb    \n",
      "        81.1%\t81.5%\t69.9%\t83.0%\t70.5%\t72.7%\t80.6%\n"
     ]
    },
    {
     "name": "stdout",
     "output_type": "stream",
     "text": [
      "  Validation - Loss: 1.6046, Best Loss: inf, Accuracy: 50.1%, Best Acc: 52.7\n",
      "        s3   \tb    \tunk  \ta    \ts2   \tc    \ts1   \n",
      "        51.6%\t52.5%\t47.7%\t58.0%\t46.4%\t53.6%\t45.8%\n",
      "\n",
      "Epoch 65/500\n"
     ]
    },
    {
     "name": "stdout",
     "output_type": "stream",
     "text": [
      "  Training - Loss: 0.5690, Accuracy: 80.6%\n",
      "        unk  \ta    \tc    \ts1   \tb    \ts2   \ts3   \n",
      "        80.9%\t81.6%\t80.4%\t70.7%\t78.9%\t71.4%\t71.4%\n"
     ]
    },
    {
     "name": "stdout",
     "output_type": "stream",
     "text": [
      "  Validation - Loss: 1.5953, Best Loss: inf, Accuracy: 50.6%, Best Acc: 52.7\n",
      "        s3   \tb    \tunk  \ta    \ts2   \tc    \ts1   \n",
      "        54.6%\t52.1%\t49.1%\t57.8%\t46.3%\t52.3%\t45.3%\n",
      "\n",
      "Epoch 66/500\n"
     ]
    },
    {
     "name": "stdout",
     "output_type": "stream",
     "text": [
      "  Training - Loss: 0.5701, Accuracy: 80.5%\n",
      "        unk  \ta    \ts3   \ts1   \ts2   \tc    \tb    \n",
      "        80.8%\t81.5%\t70.3%\t71.5%\t68.7%\t79.8%\t79.5%\n"
     ]
    },
    {
     "name": "stdout",
     "output_type": "stream",
     "text": [
      "  Validation - Loss: 1.5816, Best Loss: inf, Accuracy: 50.2%, Best Acc: 52.7\n",
      "        s3   \tb    \tunk  \ta    \ts2   \tc    \ts1   \n",
      "        52.0%\t50.1%\t48.0%\t58.1%\t46.6%\t53.7%\t47.8%\n",
      "\n",
      "Epoch 67/500\n"
     ]
    },
    {
     "name": "stdout",
     "output_type": "stream",
     "text": [
      "  Training - Loss: 0.5641, Accuracy: 80.8%\n",
      "        unk  \tc    \ta    \tb    \ts3   \ts2   \ts1   \n",
      "        81.1%\t81.9%\t81.3%\t80.2%\t70.2%\t70.4%\t70.0%\n"
     ]
    },
    {
     "name": "stdout",
     "output_type": "stream",
     "text": [
      "  Validation - Loss: 1.8359, Best Loss: inf, Accuracy: 47.5%, Best Acc: 52.7\n",
      "        s3   \tb    \tunk  \ta    \ts2   \tc    \ts1   \n",
      "        50.9%\t49.0%\t44.5%\t55.2%\t43.2%\t51.2%\t44.1%\n",
      "\n",
      "Epoch 68/500\n"
     ]
    },
    {
     "name": "stdout",
     "output_type": "stream",
     "text": [
      "  Training - Loss: 0.5636, Accuracy: 80.8%\n",
      "        unk  \ta    \tb    \ts3   \ts2   \ts1   \tc    \n",
      "        81.0%\t81.7%\t80.8%\t70.5%\t68.9%\t70.6%\t82.6%\n"
     ]
    },
    {
     "name": "stdout",
     "output_type": "stream",
     "text": [
      "  Validation - Loss: 1.7117, Best Loss: inf, Accuracy: 50.0%, Best Acc: 52.7\n",
      "        s3   \tb    \tunk  \ta    \ts2   \tc    \ts1   \n",
      "        53.0%\t53.8%\t46.1%\t57.5%\t48.7%\t54.7%\t43.9%\n",
      "\n",
      "Epoch 69/500\n"
     ]
    },
    {
     "name": "stdout",
     "output_type": "stream",
     "text": [
      "  Training - Loss: 0.5460, Accuracy: 81.4%\n",
      "        unk  \ts1   \ta    \ts3   \ts2   \tb    \tc    \n",
      "        81.6%\t72.6%\t82.7%\t71.8%\t71.4%\t81.0%\t80.7%\n"
     ]
    },
    {
     "name": "stdout",
     "output_type": "stream",
     "text": [
      "  Validation - Loss: 1.6039, Best Loss: inf, Accuracy: 50.4%, Best Acc: 52.7\n",
      "        s3   \tb    \tunk  \ta    \ts2   \tc    \ts1   \n",
      "        52.4%\t54.0%\t48.4%\t56.2%\t47.7%\t52.6%\t46.0%\n",
      "\n",
      "Epoch 70/500\n"
     ]
    },
    {
     "name": "stdout",
     "output_type": "stream",
     "text": [
      "  Training - Loss: 0.5579, Accuracy: 80.9%\n",
      "        a    \tunk  \tb    \ts1   \tc    \ts2   \ts3   \n",
      "        81.8%\t81.2%\t81.2%\t69.9%\t81.0%\t70.0%\t71.9%\n"
     ]
    },
    {
     "name": "stdout",
     "output_type": "stream",
     "text": [
      "  Validation - Loss: 1.5322, Best Loss: inf, Accuracy: 52.0%, Best Acc: 52.7\n",
      "        s3   \tb    \tunk  \ta    \ts2   \tc    \ts1   \n",
      "        52.9%\t55.1%\t48.6%\t59.0%\t49.0%\t57.2%\t48.9%\n",
      "\n",
      "Epoch 71/500\n"
     ]
    },
    {
     "name": "stdout",
     "output_type": "stream",
     "text": [
      "  Training - Loss: 0.5547, Accuracy: 81.2%\n",
      "        a    \tunk  \ts3   \ts2   \tb    \tc    \ts1   \n",
      "        82.4%\t81.3%\t71.5%\t71.0%\t81.6%\t82.3%\t72.0%\n"
     ]
    },
    {
     "name": "stdout",
     "output_type": "stream",
     "text": [
      "  Validation - Loss: 1.5032, Best Loss: inf, Accuracy: 51.6%, Best Acc: 52.7\n",
      "        s3   \tb    \tunk  \ta    \ts2   \tc    \ts1   \n",
      "        54.0%\t53.5%\t48.5%\t59.7%\t48.2%\t55.4%\t48.5%\n",
      "\n",
      "Epoch 72/500\n"
     ]
    },
    {
     "name": "stdout",
     "output_type": "stream",
     "text": [
      "  Training - Loss: 0.5475, Accuracy: 81.3%\n",
      "        c    \tunk  \ta    \ts3   \ts2   \ts1   \tb    \n",
      "        82.4%\t81.5%\t82.4%\t71.4%\t70.7%\t72.3%\t80.0%\n"
     ]
    },
    {
     "name": "stdout",
     "output_type": "stream",
     "text": [
      "  Validation - Loss: 1.6436, Best Loss: inf, Accuracy: 49.1%, Best Acc: 52.7\n",
      "        s3   \tb    \tunk  \ta    \ts2   \tc    \ts1   \n",
      "        50.7%\t50.8%\t47.9%\t55.6%\t47.3%\t51.6%\t42.6%\n",
      "\n",
      "Epoch 73/500\n"
     ]
    },
    {
     "name": "stdout",
     "output_type": "stream",
     "text": [
      "  Training - Loss: 0.5499, Accuracy: 81.3%\n",
      "        unk  \ts2   \ts1   \ta    \tc    \tb    \ts3   \n",
      "        81.4%\t70.6%\t72.4%\t82.4%\t82.2%\t79.8%\t72.3%\n"
     ]
    },
    {
     "name": "stdout",
     "output_type": "stream",
     "text": [
      "  Validation - Loss: 1.5132, Best Loss: inf, Accuracy: 51.7%, Best Acc: 52.7\n",
      "        s3   \tb    \tunk  \ta    \ts2   \tc    \ts1   \n",
      "        54.7%\t51.1%\t49.9%\t58.4%\t47.2%\t54.7%\t49.4%\n",
      "\n",
      "Epoch 74/500\n"
     ]
    },
    {
     "name": "stdout",
     "output_type": "stream",
     "text": [
      "  Training - Loss: 0.5447, Accuracy: 81.4%\n",
      "        b    \tunk  \ta    \ts1   \ts3   \ts2   \tc    \n",
      "        80.3%\t81.6%\t82.8%\t72.6%\t74.2%\t71.2%\t81.3%\n"
     ]
    },
    {
     "name": "stdout",
     "output_type": "stream",
     "text": [
      "  Validation - Loss: 1.4701, Best Loss: inf, Accuracy: 53.0%, Best Acc: 52.7\n",
      "        s3   \tb    \tunk  \ta    \ts2   \tc    \ts1   \n",
      "        54.4%\t56.5%\t49.5%\t60.5%\t53.0%\t56.8%\t47.4%\n",
      "\n",
      "Epoch 75/500\n"
     ]
    },
    {
     "name": "stdout",
     "output_type": "stream",
     "text": [
      "  Training - Loss: 0.5354, Accuracy: 81.8%\n",
      "        unk  \ta    \ts3   \tb    \ts2   \tc    \ts1   \n",
      "        82.0%\t83.0%\t71.7%\t82.6%\t69.9%\t82.1%\t71.9%\n"
     ]
    },
    {
     "name": "stdout",
     "output_type": "stream",
     "text": [
      "  Validation - Loss: 1.5660, Best Loss: inf, Accuracy: 51.6%, Best Acc: 53.0\n",
      "        s3   \tb    \tunk  \ta    \ts2   \tc    \ts1   \n",
      "        53.2%\t52.0%\t49.8%\t58.5%\t49.7%\t53.4%\t48.6%\n",
      "\n",
      "Epoch 76/500\n"
     ]
    },
    {
     "name": "stdout",
     "output_type": "stream",
     "text": [
      "  Training - Loss: 0.5378, Accuracy: 81.7%\n",
      "        unk  \ta    \ts1   \ts2   \tc    \tb    \ts3   \n",
      "        81.8%\t83.2%\t73.2%\t70.6%\t82.5%\t80.4%\t74.5%\n"
     ]
    },
    {
     "name": "stdout",
     "output_type": "stream",
     "text": [
      "  Validation - Loss: 1.5295, Best Loss: inf, Accuracy: 52.6%, Best Acc: 53.0\n",
      "        s3   \tb    \tunk  \ta    \ts2   \tc    \ts1   \n",
      "        52.0%\t55.2%\t48.7%\t61.3%\t49.3%\t58.0%\t51.3%\n",
      "\n",
      "Epoch 77/500\n"
     ]
    },
    {
     "name": "stdout",
     "output_type": "stream",
     "text": [
      "  Training - Loss: 0.5350, Accuracy: 81.7%\n",
      "        unk  \ta    \ts2   \tc    \ts1   \ts3   \tb    \n",
      "        81.9%\t83.2%\t70.7%\t81.5%\t70.5%\t71.6%\t81.7%\n"
     ]
    },
    {
     "name": "stdout",
     "output_type": "stream",
     "text": [
      "  Validation - Loss: 2.1032, Best Loss: inf, Accuracy: 44.2%, Best Acc: 53.0\n",
      "        s3   \tb    \tunk  \ta    \ts2   \tc    \ts1   \n",
      "        46.0%\t44.1%\t41.9%\t51.0%\t41.1%\t48.3%\t41.9%\n",
      "\n",
      "Epoch 78/500\n"
     ]
    },
    {
     "name": "stdout",
     "output_type": "stream",
     "text": [
      "  Training - Loss: 0.5360, Accuracy: 81.8%\n",
      "        unk  \tb    \ta    \ts2   \ts1   \tc    \ts3   \n",
      "        82.1%\t80.8%\t82.6%\t70.9%\t72.5%\t82.3%\t72.4%\n"
     ]
    },
    {
     "name": "stdout",
     "output_type": "stream",
     "text": [
      "  Validation - Loss: 1.5022, Best Loss: inf, Accuracy: 52.8%, Best Acc: 53.0\n",
      "        s3   \tb    \tunk  \ta    \ts2   \tc    \ts1   \n",
      "        54.3%\t54.6%\t49.6%\t61.1%\t51.2%\t56.9%\t48.2%\n",
      "\n",
      "Epoch 79/500\n"
     ]
    },
    {
     "name": "stdout",
     "output_type": "stream",
     "text": [
      "  Training - Loss: 0.5266, Accuracy: 82.1%\n",
      "        unk  \ta    \ts1   \ts2   \tb    \ts3   \tc    \n",
      "        82.3%\t83.2%\t72.1%\t73.5%\t82.6%\t72.7%\t83.5%\n"
     ]
    },
    {
     "name": "stdout",
     "output_type": "stream",
     "text": [
      "  Validation - Loss: 1.5368, Best Loss: inf, Accuracy: 51.7%, Best Acc: 53.0\n",
      "        s3   \tb    \tunk  \ta    \ts2   \tc    \ts1   \n",
      "        54.2%\t52.7%\t48.8%\t59.4%\t48.9%\t55.2%\t48.5%\n",
      "\n",
      "Epoch 80/500\n"
     ]
    },
    {
     "name": "stdout",
     "output_type": "stream",
     "text": [
      "  Training - Loss: 0.5303, Accuracy: 82.0%\n",
      "        s1   \tunk  \ts3   \ts2   \ta    \tb    \tc    \n",
      "        71.2%\t82.3%\t71.2%\t71.7%\t82.8%\t81.3%\t83.5%\n"
     ]
    },
    {
     "name": "stdout",
     "output_type": "stream",
     "text": [
      "  Validation - Loss: 1.8129, Best Loss: inf, Accuracy: 48.2%, Best Acc: 53.0\n",
      "        s3   \tb    \tunk  \ta    \ts2   \tc    \ts1   \n",
      "        49.5%\t50.0%\t44.8%\t55.3%\t44.8%\t54.3%\t45.6%\n",
      "\n",
      "Epoch 81/500\n"
     ]
    },
    {
     "name": "stdout",
     "output_type": "stream",
     "text": [
      "  Training - Loss: 0.5281, Accuracy: 82.1%\n",
      "        unk  \ta    \tb    \ts1   \ts3   \tc    \ts2   \n",
      "        82.3%\t82.9%\t82.4%\t73.6%\t73.8%\t82.9%\t71.4%\n"
     ]
    },
    {
     "name": "stdout",
     "output_type": "stream",
     "text": [
      "  Validation - Loss: 1.6324, Best Loss: inf, Accuracy: 51.5%, Best Acc: 53.0\n",
      "        s3   \tb    \tunk  \ta    \ts2   \tc    \ts1   \n",
      "        52.8%\t52.8%\t47.9%\t58.7%\t50.2%\t54.9%\t50.2%\n",
      "\n",
      "Epoch 82/500\n"
     ]
    },
    {
     "name": "stdout",
     "output_type": "stream",
     "text": [
      "  Training - Loss: 0.5231, Accuracy: 82.4%\n",
      "        unk  \ta    \tc    \ts3   \tb    \ts2   \ts1   \n",
      "        82.6%\t83.5%\t85.1%\t72.9%\t81.3%\t72.2%\t72.2%\n"
     ]
    },
    {
     "name": "stdout",
     "output_type": "stream",
     "text": [
      "  Validation - Loss: 1.5566, Best Loss: inf, Accuracy: 52.6%, Best Acc: 53.0\n",
      "        s3   \tb    \tunk  \ta    \ts2   \tc    \ts1   \n",
      "        56.3%\t54.5%\t49.3%\t59.8%\t49.8%\t56.3%\t49.0%\n",
      "\n",
      "Epoch 83/500\n"
     ]
    },
    {
     "name": "stdout",
     "output_type": "stream",
     "text": [
      "  Training - Loss: 0.5218, Accuracy: 82.3%\n",
      "        a    \tunk  \ts2   \ts3   \tb    \tc    \ts1   \n",
      "        83.4%\t82.5%\t73.5%\t72.7%\t82.5%\t82.1%\t74.6%\n"
     ]
    },
    {
     "name": "stdout",
     "output_type": "stream",
     "text": [
      "  Validation - Loss: 1.6589, Best Loss: inf, Accuracy: 50.7%, Best Acc: 53.0\n",
      "        s3   \tb    \tunk  \ta    \ts2   \tc    \ts1   \n",
      "        51.4%\t52.5%\t47.7%\t58.5%\t49.1%\t53.5%\t48.2%\n",
      "\n",
      "Epoch 84/500\n"
     ]
    },
    {
     "name": "stdout",
     "output_type": "stream",
     "text": [
      "  Training - Loss: 0.5204, Accuracy: 82.3%\n",
      "        unk  \ts2   \tb    \ta    \ts3   \tc    \ts1   \n",
      "        82.4%\t71.9%\t82.0%\t83.5%\t73.5%\t83.3%\t73.6%\n"
     ]
    },
    {
     "name": "stdout",
     "output_type": "stream",
     "text": [
      "  Validation - Loss: 1.5884, Best Loss: inf, Accuracy: 51.8%, Best Acc: 53.0\n",
      "        s3   \tb    \tunk  \ta    \ts2   \tc    \ts1   \n",
      "        53.4%\t53.2%\t48.9%\t59.9%\t48.2%\t54.7%\t50.2%\n",
      "\n",
      "Epoch 85/500\n"
     ]
    },
    {
     "name": "stdout",
     "output_type": "stream",
     "text": [
      "  Training - Loss: 0.5119, Accuracy: 82.6%\n",
      "        unk  \ta    \ts2   \ts3   \tb    \tc    \ts1   \n",
      "        82.7%\t83.6%\t73.4%\t73.8%\t82.3%\t83.3%\t75.7%\n"
     ]
    },
    {
     "name": "stdout",
     "output_type": "stream",
     "text": [
      "  Validation - Loss: 1.6086, Best Loss: inf, Accuracy: 50.5%, Best Acc: 53.0\n",
      "        s3   \tb    \tunk  \ta    \ts2   \tc    \ts1   \n",
      "        50.2%\t51.6%\t46.8%\t59.9%\t48.2%\t55.2%\t48.6%\n",
      "\n",
      "Epoch 86/500\n"
     ]
    },
    {
     "name": "stdout",
     "output_type": "stream",
     "text": [
      "  Training - Loss: 0.5177, Accuracy: 82.4%\n",
      "        a    \tunk  \ts1   \tc    \tb    \ts3   \ts2   \n",
      "        83.5%\t82.6%\t74.5%\t82.4%\t81.7%\t73.5%\t72.7%\n"
     ]
    },
    {
     "name": "stdout",
     "output_type": "stream",
     "text": [
      "  Validation - Loss: 1.6792, Best Loss: inf, Accuracy: 50.1%, Best Acc: 53.0\n",
      "        s3   \tb    \tunk  \ta    \ts2   \tc    \ts1   \n",
      "        51.3%\t51.7%\t48.1%\t56.0%\t47.3%\t52.9%\t47.8%\n",
      "\n",
      "Epoch 87/500\n"
     ]
    },
    {
     "name": "stdout",
     "output_type": "stream",
     "text": [
      "  Training - Loss: 0.5228, Accuracy: 82.2%\n",
      "        unk  \ta    \ts3   \ts2   \tc    \ts1   \tb    \n",
      "        82.4%\t83.3%\t71.8%\t72.2%\t83.4%\t73.6%\t82.5%\n"
     ]
    },
    {
     "name": "stdout",
     "output_type": "stream",
     "text": [
      "  Validation - Loss: 1.6538, Best Loss: inf, Accuracy: 50.9%, Best Acc: 53.0\n",
      "        s3   \tb    \tunk  \ta    \ts2   \tc    \ts1   \n",
      "        51.1%\t53.1%\t47.4%\t58.6%\t50.3%\t53.8%\t49.0%\n",
      "\n",
      "Epoch 88/500\n"
     ]
    },
    {
     "name": "stdout",
     "output_type": "stream",
     "text": [
      "  Training - Loss: 0.5182, Accuracy: 82.3%\n",
      "        a    \tunk  \ts3   \tb    \ts2   \tc    \ts1   \n",
      "        83.6%\t82.5%\t73.2%\t82.4%\t72.0%\t83.4%\t71.3%\n"
     ]
    },
    {
     "name": "stdout",
     "output_type": "stream",
     "text": [
      "  Validation - Loss: 1.6636, Best Loss: inf, Accuracy: 50.5%, Best Acc: 53.0\n",
      "        s3   \tb    \tunk  \ta    \ts2   \tc    \ts1   \n",
      "        51.1%\t54.8%\t47.9%\t57.8%\t48.1%\t55.4%\t43.9%\n",
      "\n",
      "Epoch 89/500\n"
     ]
    },
    {
     "name": "stdout",
     "output_type": "stream",
     "text": [
      "  Training - Loss: 0.5112, Accuracy: 82.6%\n",
      "        s2   \tunk  \ta    \ts3   \tb    \tc    \ts1   \n",
      "        72.4%\t82.8%\t83.7%\t75.3%\t81.6%\t83.7%\t72.3%\n"
     ]
    },
    {
     "name": "stdout",
     "output_type": "stream",
     "text": [
      "  Validation - Loss: 1.4748, Best Loss: inf, Accuracy: 53.4%, Best Acc: 53.0\n",
      "        s3   \tb    \tunk  \ta    \ts2   \tc    \ts1   \n",
      "        55.1%\t54.4%\t50.8%\t58.7%\t50.0%\t58.8%\t50.9%\n",
      "\n",
      "Epoch 90/500\n"
     ]
    },
    {
     "name": "stdout",
     "output_type": "stream",
     "text": [
      "  Training - Loss: 0.5107, Accuracy: 82.7%\n",
      "        a    \tunk  \ts3   \ts2   \ts1   \tb    \tc    \n",
      "        83.4%\t83.0%\t73.7%\t73.2%\t72.4%\t83.1%\t81.8%\n"
     ]
    },
    {
     "name": "stdout",
     "output_type": "stream",
     "text": [
      "  Validation - Loss: 1.6517, Best Loss: inf, Accuracy: 51.3%, Best Acc: 53.4\n",
      "        s3   \tb    \tunk  \ta    \ts2   \tc    \ts1   \n",
      "        51.9%\t53.7%\t48.2%\t61.1%\t49.0%\t54.6%\t46.6%\n",
      "\n",
      "Epoch 91/500\n"
     ]
    },
    {
     "name": "stdout",
     "output_type": "stream",
     "text": [
      "  Training - Loss: 0.5079, Accuracy: 82.8%\n",
      "        unk  \ta    \tc    \ts2   \tb    \ts1   \ts3   \n",
      "        83.0%\t83.7%\t83.9%\t72.0%\t83.6%\t73.8%\t72.2%\n"
     ]
    },
    {
     "name": "stdout",
     "output_type": "stream",
     "text": [
      "  Validation - Loss: 1.5975, Best Loss: inf, Accuracy: 50.9%, Best Acc: 53.4\n",
      "        s3   \tb    \tunk  \ta    \ts2   \tc    \ts1   \n",
      "        52.0%\t53.9%\t45.8%\t61.4%\t50.3%\t55.2%\t47.4%\n",
      "\n",
      "Epoch 92/500\n"
     ]
    },
    {
     "name": "stdout",
     "output_type": "stream",
     "text": [
      "  Training - Loss: 0.5073, Accuracy: 82.9%\n",
      "        unk  \ta    \ts3   \ts1   \tb    \ts2   \tc    \n",
      "        83.0%\t84.1%\t74.2%\t74.5%\t83.6%\t70.5%\t83.1%\n"
     ]
    },
    {
     "name": "stdout",
     "output_type": "stream",
     "text": [
      "  Validation - Loss: 1.6136, Best Loss: inf, Accuracy: 49.9%, Best Acc: 53.4\n",
      "        s3   \tb    \tunk  \ta    \ts2   \tc    \ts1   \n",
      "        51.7%\t50.2%\t45.8%\t58.9%\t47.0%\t54.6%\t49.1%\n",
      "\n",
      "Epoch 93/500\n"
     ]
    },
    {
     "name": "stdout",
     "output_type": "stream",
     "text": [
      "  Training - Loss: 0.5015, Accuracy: 83.1%\n",
      "        a    \tunk  \tc    \ts3   \ts1   \tb    \ts2   \n",
      "        84.4%\t83.3%\t82.7%\t72.4%\t71.8%\t83.3%\t73.2%\n"
     ]
    },
    {
     "name": "stdout",
     "output_type": "stream",
     "text": [
      "  Validation - Loss: 1.5980, Best Loss: inf, Accuracy: 50.4%, Best Acc: 53.4\n",
      "        s3   \tb    \tunk  \ta    \ts2   \tc    \ts1   \n",
      "        50.2%\t55.4%\t46.7%\t58.3%\t48.0%\t55.6%\t46.0%\n",
      "\n",
      "Epoch 94/500\n"
     ]
    },
    {
     "name": "stdout",
     "output_type": "stream",
     "text": [
      "  Training - Loss: 0.4920, Accuracy: 83.5%\n",
      "        a    \tunk  \tb    \ts2   \tc    \ts3   \ts1   \n",
      "        84.8%\t83.6%\t83.1%\t74.2%\t84.9%\t74.3%\t74.3%\n"
     ]
    },
    {
     "name": "stdout",
     "output_type": "stream",
     "text": [
      "  Validation - Loss: 1.7793, Best Loss: inf, Accuracy: 48.1%, Best Acc: 53.4\n",
      "        s3   \tb    \tunk  \ta    \ts2   \tc    \ts1   \n",
      "        48.2%\t52.9%\t43.6%\t57.9%\t45.3%\t53.7%\t44.1%\n",
      "\n",
      "Epoch 95/500\n"
     ]
    },
    {
     "name": "stdout",
     "output_type": "stream",
     "text": [
      "  Training - Loss: 0.5005, Accuracy: 83.1%\n",
      "        unk  \ta    \ts3   \tc    \tb    \ts1   \ts2   \n",
      "        83.3%\t84.3%\t72.4%\t82.4%\t83.5%\t74.1%\t73.1%\n"
     ]
    },
    {
     "name": "stdout",
     "output_type": "stream",
     "text": [
      "  Validation - Loss: 1.6436, Best Loss: inf, Accuracy: 49.6%, Best Acc: 53.4\n",
      "        s3   \tb    \tunk  \ta    \ts2   \tc    \ts1   \n",
      "        50.2%\t54.9%\t45.8%\t56.2%\t48.4%\t53.5%\t46.0%\n",
      "\n",
      "Epoch 96/500\n"
     ]
    },
    {
     "name": "stdout",
     "output_type": "stream",
     "text": [
      "  Training - Loss: 0.5064, Accuracy: 82.8%\n",
      "        c    \tunk  \ta    \ts1   \tb    \ts2   \ts3   \n",
      "        83.1%\t82.9%\t84.1%\t73.2%\t83.0%\t71.9%\t73.3%\n"
     ]
    },
    {
     "name": "stdout",
     "output_type": "stream",
     "text": [
      "  Validation - Loss: 1.5135, Best Loss: inf, Accuracy: 52.6%, Best Acc: 53.4\n",
      "        s3   \tb    \tunk  \ta    \ts2   \tc    \ts1   \n",
      "        52.2%\t53.6%\t49.1%\t61.1%\t50.7%\t56.7%\t52.1%\n",
      "\n",
      "Epoch 97/500\n"
     ]
    },
    {
     "name": "stdout",
     "output_type": "stream",
     "text": [
      "  Training - Loss: 0.4962, Accuracy: 83.2%\n",
      "        unk  \tb    \ts1   \ta    \ts2   \tc    \ts3   \n",
      "        83.3%\t82.3%\t74.6%\t84.2%\t73.7%\t83.8%\t73.9%\n"
     ]
    },
    {
     "name": "stdout",
     "output_type": "stream",
     "text": [
      "  Validation - Loss: 1.6000, Best Loss: inf, Accuracy: 51.2%, Best Acc: 53.4\n",
      "        s3   \tb    \tunk  \ta    \ts2   \tc    \ts1   \n",
      "        52.0%\t55.5%\t48.0%\t56.8%\t47.9%\t55.0%\t49.5%\n",
      "\n",
      "Epoch 98/500\n"
     ]
    },
    {
     "name": "stdout",
     "output_type": "stream",
     "text": [
      "  Training - Loss: 0.4922, Accuracy: 83.4%\n",
      "        unk  \ta    \ts2   \ts1   \tb    \ts3   \tc    \n",
      "        83.6%\t84.4%\t72.7%\t75.4%\t83.8%\t74.2%\t84.0%\n"
     ]
    },
    {
     "name": "stdout",
     "output_type": "stream",
     "text": [
      "  Validation - Loss: 1.4321, Best Loss: inf, Accuracy: 53.3%, Best Acc: 53.4\n",
      "        s3   \tb    \tunk  \ta    \ts2   \tc    \ts1   \n",
      "        54.9%\t56.0%\t50.0%\t61.2%\t50.7%\t56.0%\t51.1%\n",
      "\n",
      "Epoch 99/500\n"
     ]
    },
    {
     "name": "stdout",
     "output_type": "stream",
     "text": [
      "  Training - Loss: 0.4838, Accuracy: 83.7%\n",
      "        unk  \ta    \ts3   \tb    \ts1   \tc    \ts2   \n",
      "        83.8%\t85.2%\t75.5%\t81.7%\t74.1%\t83.6%\t72.5%\n"
     ]
    },
    {
     "name": "stdout",
     "output_type": "stream",
     "text": [
      "  Validation - Loss: 1.5495, Best Loss: inf, Accuracy: 52.4%, Best Acc: 53.4\n",
      "        s3   \tb    \tunk  \ta    \ts2   \tc    \ts1   \n",
      "        54.9%\t55.3%\t48.6%\t60.1%\t50.0%\t56.0%\t49.8%\n",
      "\n",
      "Epoch 100/500\n"
     ]
    },
    {
     "name": "stdout",
     "output_type": "stream",
     "text": [
      "  Training - Loss: 0.4878, Accuracy: 83.5%\n",
      "        s2   \ta    \tunk  \tc    \ts1   \ts3   \tb    \n",
      "        73.4%\t84.8%\t83.7%\t84.3%\t75.0%\t75.6%\t83.1%\n"
     ]
    },
    {
     "name": "stdout",
     "output_type": "stream",
     "text": [
      "  Validation - Loss: 1.6153, Best Loss: inf, Accuracy: 51.0%, Best Acc: 53.4\n",
      "        s3   \tb    \tunk  \ta    \ts2   \tc    \ts1   \n",
      "        50.3%\t52.8%\t47.1%\t60.0%\t50.7%\t54.2%\t49.5%\n",
      "\n",
      "Epoch 101/500\n"
     ]
    },
    {
     "name": "stdout",
     "output_type": "stream",
     "text": [
      "  Training - Loss: 0.4950, Accuracy: 83.3%\n",
      "        unk  \ta    \ts1   \ts3   \tc    \tb    \ts2   \n",
      "        83.5%\t84.4%\t74.8%\t74.1%\t84.1%\t82.9%\t72.6%\n"
     ]
    },
    {
     "name": "stdout",
     "output_type": "stream",
     "text": [
      "  Validation - Loss: 1.5626, Best Loss: inf, Accuracy: 52.2%, Best Acc: 53.4\n",
      "        s3   \tb    \tunk  \ta    \ts2   \tc    \ts1   \n",
      "        53.7%\t55.1%\t49.1%\t59.6%\t50.7%\t54.9%\t48.8%\n",
      "\n",
      "Epoch 102/500\n"
     ]
    },
    {
     "name": "stdout",
     "output_type": "stream",
     "text": [
      "  Training - Loss: 0.4950, Accuracy: 83.3%\n",
      "        unk  \ts2   \ta    \ts3   \ts1   \tc    \tb    \n",
      "        83.5%\t72.3%\t84.3%\t75.0%\t73.0%\t84.3%\t81.8%\n"
     ]
    },
    {
     "name": "stdout",
     "output_type": "stream",
     "text": [
      "  Validation - Loss: 1.6845, Best Loss: inf, Accuracy: 49.7%, Best Acc: 53.4\n",
      "        s3   \tb    \tunk  \ta    \ts2   \tc    \ts1   \n",
      "        49.1%\t53.5%\t46.2%\t58.0%\t45.1%\t55.4%\t47.5%\n",
      "\n",
      "Epoch 103/500\n"
     ]
    },
    {
     "name": "stdout",
     "output_type": "stream",
     "text": [
      "  Training - Loss: 0.4746, Accuracy: 84.0%\n",
      "        unk  \tb    \ta    \ts1   \ts2   \ts3   \tc    \n",
      "        84.2%\t82.0%\t84.9%\t75.5%\t72.3%\t75.0%\t86.1%\n"
     ]
    },
    {
     "name": "stdout",
     "output_type": "stream",
     "text": [
      "  Validation - Loss: 1.6784, Best Loss: inf, Accuracy: 50.2%, Best Acc: 53.4\n",
      "        s3   \tb    \tunk  \ta    \ts2   \tc    \ts1   \n",
      "        52.4%\t52.2%\t46.7%\t57.4%\t49.1%\t52.9%\t47.9%\n",
      "\n",
      "Epoch 104/500\n"
     ]
    },
    {
     "name": "stdout",
     "output_type": "stream",
     "text": [
      "  Training - Loss: 0.4902, Accuracy: 83.5%\n",
      "        unk  \ts2   \tb    \tc    \ta    \ts3   \ts1   \n",
      "        83.7%\t75.3%\t82.8%\t82.7%\t84.4%\t74.2%\t73.1%\n"
     ]
    },
    {
     "name": "stdout",
     "output_type": "stream",
     "text": [
      "  Validation - Loss: 1.5230, Best Loss: inf, Accuracy: 53.1%, Best Acc: 53.4\n",
      "        s3   \tb    \tunk  \ta    \ts2   \tc    \ts1   \n",
      "        53.8%\t55.3%\t50.6%\t60.0%\t51.2%\t56.2%\t49.6%\n",
      "\n",
      "Epoch 105/500\n"
     ]
    },
    {
     "name": "stdout",
     "output_type": "stream",
     "text": [
      "  Training - Loss: 0.4799, Accuracy: 83.8%\n",
      "        unk  \ta    \ts1   \ts2   \tc    \tb    \ts3   \n",
      "        84.0%\t85.0%\t74.7%\t73.2%\t84.6%\t83.5%\t74.0%\n"
     ]
    },
    {
     "name": "stdout",
     "output_type": "stream",
     "text": [
      "  Validation - Loss: 1.6633, Best Loss: inf, Accuracy: 49.9%, Best Acc: 53.4\n",
      "        s3   \tb    \tunk  \ta    \ts2   \tc    \ts1   \n",
      "        52.0%\t53.5%\t45.7%\t58.1%\t48.7%\t55.0%\t45.2%\n",
      "\n",
      "Epoch 106/500\n"
     ]
    },
    {
     "name": "stdout",
     "output_type": "stream",
     "text": [
      "  Training - Loss: 0.4903, Accuracy: 83.4%\n",
      "        unk  \ta    \tb    \tc    \ts2   \ts1   \ts3   \n",
      "        83.6%\t84.5%\t83.9%\t83.6%\t72.7%\t73.7%\t74.6%\n"
     ]
    },
    {
     "name": "stdout",
     "output_type": "stream",
     "text": [
      "  Validation - Loss: 1.5744, Best Loss: inf, Accuracy: 51.4%, Best Acc: 53.4\n",
      "        s3   \tb    \tunk  \ta    \ts2   \tc    \ts1   \n",
      "        54.8%\t52.5%\t49.3%\t57.5%\t48.3%\t53.7%\t48.4%\n",
      "\n",
      "Epoch 107/500\n"
     ]
    },
    {
     "name": "stdout",
     "output_type": "stream",
     "text": [
      "  Training - Loss: 0.4736, Accuracy: 84.0%\n",
      "        unk  \tc    \ta    \ts2   \ts3   \ts1   \tb    \n",
      "        84.1%\t86.0%\t85.4%\t74.9%\t74.4%\t74.4%\t82.8%\n"
     ]
    },
    {
     "name": "stdout",
     "output_type": "stream",
     "text": [
      "  Validation - Loss: 1.5959, Best Loss: inf, Accuracy: 52.1%, Best Acc: 53.4\n",
      "        s3   \tb    \tunk  \ta    \ts2   \tc    \ts1   \n",
      "        54.4%\t53.1%\t49.3%\t59.7%\t48.1%\t56.1%\t49.9%\n",
      "\n",
      "Epoch 108/500\n"
     ]
    },
    {
     "name": "stdout",
     "output_type": "stream",
     "text": [
      "  Training - Loss: 0.4853, Accuracy: 83.7%\n",
      "        a    \tunk  \tc    \ts1   \ts2   \ts3   \tb    \n",
      "        84.5%\t83.9%\t85.0%\t74.3%\t72.9%\t74.3%\t84.1%\n"
     ]
    },
    {
     "name": "stdout",
     "output_type": "stream",
     "text": [
      "  Validation - Loss: 1.5938, Best Loss: inf, Accuracy: 51.3%, Best Acc: 53.4\n",
      "        s3   \tb    \tunk  \ta    \ts2   \tc    \ts1   \n",
      "        50.3%\t55.6%\t48.3%\t59.5%\t48.9%\t54.6%\t48.4%\n",
      "\n",
      "Epoch 109/500\n"
     ]
    },
    {
     "name": "stdout",
     "output_type": "stream",
     "text": [
      "  Training - Loss: 0.4803, Accuracy: 83.7%\n",
      "        unk  \ta    \ts2   \ts1   \tb    \tc    \ts3   \n",
      "        83.9%\t84.7%\t75.1%\t75.1%\t83.7%\t83.9%\t75.3%\n"
     ]
    },
    {
     "name": "stdout",
     "output_type": "stream",
     "text": [
      "  Validation - Loss: 1.6100, Best Loss: inf, Accuracy: 50.3%, Best Acc: 53.4\n",
      "        s3   \tb    \tunk  \ta    \ts2   \tc    \ts1   \n",
      "        52.0%\t54.0%\t46.6%\t57.7%\t48.0%\t55.4%\t45.7%\n",
      "\n",
      "Epoch 110/500\n"
     ]
    },
    {
     "name": "stdout",
     "output_type": "stream",
     "text": [
      "  Training - Loss: 0.4859, Accuracy: 83.5%\n",
      "        unk  \ta    \tb    \ts2   \ts3   \ts1   \tc    \n",
      "        83.8%\t84.3%\t82.7%\t72.6%\t73.7%\t74.9%\t84.1%\n"
     ]
    },
    {
     "name": "stdout",
     "output_type": "stream",
     "text": [
      "  Validation - Loss: 1.6462, Best Loss: inf, Accuracy: 50.9%, Best Acc: 53.4\n",
      "        s3   \tb    \tunk  \ta    \ts2   \tc    \ts1   \n",
      "        50.1%\t55.6%\t46.8%\t60.3%\t47.8%\t57.0%\t47.2%\n",
      "\n",
      "Epoch 111/500\n"
     ]
    },
    {
     "name": "stdout",
     "output_type": "stream",
     "text": [
      "  Training - Loss: 0.4617, Accuracy: 84.5%\n",
      "        a    \tunk  \ts2   \tb    \ts3   \ts1   \tc    \n",
      "        85.6%\t84.7%\t75.0%\t83.2%\t74.7%\t75.0%\t85.6%\n"
     ]
    },
    {
     "name": "stdout",
     "output_type": "stream",
     "text": [
      "  Validation - Loss: 1.4991, Best Loss: inf, Accuracy: 53.7%, Best Acc: 53.4\n",
      "        s3   \tb    \tunk  \ta    \ts2   \tc    \ts1   \n",
      "        53.5%\t57.0%\t50.9%\t61.6%\t52.7%\t58.4%\t47.3%\n",
      "\n",
      "Epoch 112/500\n"
     ]
    },
    {
     "name": "stdout",
     "output_type": "stream",
     "text": [
      "  Training - Loss: 0.4719, Accuracy: 84.1%\n",
      "        unk  \ts2   \ta    \ts3   \tb    \tc    \ts1   \n",
      "        84.3%\t73.6%\t85.4%\t75.4%\t83.3%\t85.8%\t74.9%\n"
     ]
    },
    {
     "name": "stdout",
     "output_type": "stream",
     "text": [
      "  Validation - Loss: 1.7316, Best Loss: inf, Accuracy: 48.9%, Best Acc: 53.7\n",
      "        s3   \tb    \tunk  \ta    \ts2   \tc    \ts1   \n",
      "        50.0%\t50.8%\t45.3%\t56.0%\t47.6%\t51.8%\t48.0%\n",
      "\n",
      "Epoch 113/500\n"
     ]
    },
    {
     "name": "stdout",
     "output_type": "stream",
     "text": [
      "  Training - Loss: 0.4656, Accuracy: 84.3%\n",
      "        unk  \ta    \tc    \ts1   \ts2   \ts3   \tb    \n",
      "        84.5%\t85.4%\t85.9%\t75.6%\t74.2%\t76.6%\t82.6%\n"
     ]
    },
    {
     "name": "stdout",
     "output_type": "stream",
     "text": [
      "  Validation - Loss: 1.5979, Best Loss: inf, Accuracy: 52.0%, Best Acc: 53.7\n",
      "        s3   \tb    \tunk  \ta    \ts2   \tc    \ts1   \n",
      "        53.0%\t54.2%\t48.6%\t60.9%\t49.5%\t55.5%\t49.2%\n",
      "\n",
      "Epoch 114/500\n"
     ]
    },
    {
     "name": "stdout",
     "output_type": "stream",
     "text": [
      "  Training - Loss: 0.4676, Accuracy: 84.3%\n",
      "        unk  \tc    \ta    \ts3   \ts2   \tb    \ts1   \n",
      "        84.4%\t85.1%\t85.3%\t74.2%\t75.4%\t84.5%\t77.0%\n"
     ]
    },
    {
     "name": "stdout",
     "output_type": "stream",
     "text": [
      "  Validation - Loss: 1.7140, Best Loss: inf, Accuracy: 48.8%, Best Acc: 53.7\n",
      "        s3   \tb    \tunk  \ta    \ts2   \tc    \ts1   \n",
      "        51.8%\t52.2%\t45.1%\t57.1%\t44.9%\t52.5%\t45.1%\n",
      "\n",
      "Epoch 115/500\n"
     ]
    },
    {
     "name": "stdout",
     "output_type": "stream",
     "text": [
      "  Training - Loss: 0.4716, Accuracy: 84.1%\n",
      "        unk  \ta    \tc    \ts2   \tb    \ts3   \ts1   \n",
      "        84.2%\t85.1%\t85.2%\t75.1%\t84.1%\t76.7%\t76.5%\n"
     ]
    },
    {
     "name": "stdout",
     "output_type": "stream",
     "text": [
      "  Validation - Loss: 1.6734, Best Loss: inf, Accuracy: 51.1%, Best Acc: 53.7\n",
      "        s3   \tb    \tunk  \ta    \ts2   \tc    \ts1   \n",
      "        53.1%\t51.4%\t47.8%\t60.3%\t48.1%\t55.6%\t47.7%\n",
      "\n",
      "Epoch 116/500\n"
     ]
    },
    {
     "name": "stdout",
     "output_type": "stream",
     "text": [
      "  Training - Loss: 0.4665, Accuracy: 84.3%\n",
      "        unk  \ts2   \tb    \tc    \ta    \ts1   \ts3   \n",
      "        84.5%\t74.5%\t83.4%\t84.1%\t85.4%\t76.6%\t75.0%\n"
     ]
    },
    {
     "name": "stdout",
     "output_type": "stream",
     "text": [
      "  Validation - Loss: 1.8172, Best Loss: inf, Accuracy: 46.6%, Best Acc: 53.7\n",
      "        s3   \tb    \tunk  \ta    \ts2   \tc    \ts1   \n",
      "        46.5%\t48.3%\t43.4%\t54.9%\t45.8%\t50.2%\t43.4%\n",
      "\n",
      "Epoch 117/500\n"
     ]
    },
    {
     "name": "stdout",
     "output_type": "stream",
     "text": [
      "  Training - Loss: 0.4675, Accuracy: 84.2%\n",
      "        unk  \ta    \ts1   \tc    \ts3   \tb    \ts2   \n",
      "        84.3%\t85.4%\t73.8%\t84.6%\t75.1%\t84.6%\t75.0%\n"
     ]
    },
    {
     "name": "stdout",
     "output_type": "stream",
     "text": [
      "  Validation - Loss: 1.6449, Best Loss: inf, Accuracy: 51.9%, Best Acc: 53.7\n",
      "        s3   \tb    \tunk  \ta    \ts2   \tc    \ts1   \n",
      "        52.3%\t53.8%\t47.5%\t61.1%\t50.7%\t57.5%\t48.7%\n",
      "\n",
      "Epoch 118/500\n"
     ]
    },
    {
     "name": "stdout",
     "output_type": "stream",
     "text": [
      "  Training - Loss: 0.4705, Accuracy: 84.1%\n",
      "        unk  \ta    \ts2   \ts3   \ts1   \tc    \tb    \n",
      "        84.3%\t85.2%\t73.3%\t74.8%\t75.5%\t84.2%\t84.5%\n"
     ]
    },
    {
     "name": "stdout",
     "output_type": "stream",
     "text": [
      "  Validation - Loss: 1.6338, Best Loss: inf, Accuracy: 51.5%, Best Acc: 53.7\n",
      "        s3   \tb    \tunk  \ta    \ts2   \tc    \ts1   \n",
      "        53.7%\t53.1%\t48.2%\t60.0%\t46.6%\t57.6%\t47.6%\n",
      "\n",
      "Epoch 119/500\n"
     ]
    },
    {
     "name": "stdout",
     "output_type": "stream",
     "text": [
      "  Training - Loss: 0.4579, Accuracy: 84.6%\n",
      "        unk  \ta    \tc    \ts1   \ts3   \ts2   \tb    \n",
      "        84.9%\t85.4%\t85.8%\t75.1%\t75.5%\t77.0%\t83.5%\n"
     ]
    },
    {
     "name": "stdout",
     "output_type": "stream",
     "text": [
      "  Validation - Loss: 1.7304, Best Loss: inf, Accuracy: 48.5%, Best Acc: 53.7\n",
      "        s3   \tb    \tunk  \ta    \ts2   \tc    \ts1   \n",
      "        50.0%\t49.9%\t44.5%\t58.4%\t44.9%\t53.1%\t46.3%\n",
      "\n",
      "Epoch 120/500\n"
     ]
    },
    {
     "name": "stdout",
     "output_type": "stream",
     "text": [
      "  Training - Loss: 0.4661, Accuracy: 84.3%\n",
      "        unk  \ta    \ts2   \tb    \tc    \ts1   \ts3   \n",
      "        84.5%\t85.5%\t74.3%\t84.2%\t84.5%\t76.6%\t76.4%\n"
     ]
    },
    {
     "name": "stdout",
     "output_type": "stream",
     "text": [
      "  Validation - Loss: 1.6032, Best Loss: inf, Accuracy: 50.7%, Best Acc: 53.7\n",
      "        s3   \tb    \tunk  \ta    \ts2   \tc    \ts1   \n",
      "        53.0%\t51.3%\t48.2%\t57.2%\t50.0%\t52.0%\t48.3%\n",
      "\n",
      "Epoch 121/500\n"
     ]
    },
    {
     "name": "stdout",
     "output_type": "stream",
     "text": [
      "  Training - Loss: 0.4557, Accuracy: 84.6%\n",
      "        unk  \ta    \tb    \ts3   \ts2   \tc    \ts1   \n",
      "        84.8%\t86.0%\t82.7%\t73.8%\t75.1%\t85.2%\t76.4%\n"
     ]
    },
    {
     "name": "stdout",
     "output_type": "stream",
     "text": [
      "  Validation - Loss: 1.6253, Best Loss: inf, Accuracy: 49.5%, Best Acc: 53.7\n",
      "        s3   \tb    \tunk  \ta    \ts2   \tc    \ts1   \n",
      "        50.0%\t54.4%\t46.6%\t55.8%\t48.3%\t53.8%\t43.1%\n",
      "\n",
      "Epoch 122/500\n"
     ]
    },
    {
     "name": "stdout",
     "output_type": "stream",
     "text": [
      "  Training - Loss: 0.4598, Accuracy: 84.5%\n",
      "        unk  \ta    \ts1   \ts2   \tc    \tb    \ts3   \n",
      "        84.7%\t85.6%\t75.5%\t72.9%\t86.0%\t83.8%\t73.7%\n"
     ]
    },
    {
     "name": "stdout",
     "output_type": "stream",
     "text": [
      "  Validation - Loss: 1.7670, Best Loss: inf, Accuracy: 48.8%, Best Acc: 53.7\n",
      "        s3   \tb    \tunk  \ta    \ts2   \tc    \ts1   \n",
      "        48.8%\t52.9%\t44.4%\t57.9%\t46.0%\t54.4%\t45.7%\n",
      "\n",
      "Epoch 123/500\n"
     ]
    },
    {
     "name": "stdout",
     "output_type": "stream",
     "text": [
      "  Training - Loss: 0.4554, Accuracy: 84.8%\n",
      "        unk  \ta    \ts2   \ts1   \tc    \tb    \ts3   \n",
      "        84.9%\t85.7%\t76.2%\t77.1%\t86.2%\t84.9%\t75.5%\n"
     ]
    },
    {
     "name": "stdout",
     "output_type": "stream",
     "text": [
      "  Validation - Loss: 1.7439, Best Loss: inf, Accuracy: 49.7%, Best Acc: 53.7\n",
      "        s3   \tb    \tunk  \ta    \ts2   \tc    \ts1   \n",
      "        51.6%\t51.7%\t48.3%\t57.3%\t48.2%\t52.6%\t40.9%\n",
      "\n",
      "Epoch 124/500\n"
     ]
    },
    {
     "name": "stdout",
     "output_type": "stream",
     "text": [
      "  Training - Loss: 0.4547, Accuracy: 84.7%\n",
      "        a    \tunk  \tb    \ts3   \ts1   \ts2   \tc    \n",
      "        86.0%\t84.8%\t84.1%\t74.0%\t75.5%\t75.1%\t86.7%\n"
     ]
    },
    {
     "name": "stdout",
     "output_type": "stream",
     "text": [
      "  Validation - Loss: 1.7289, Best Loss: inf, Accuracy: 50.0%, Best Acc: 53.7\n",
      "        s3   \tb    \tunk  \ta    \ts2   \tc    \ts1   \n",
      "        51.0%\t51.0%\t46.7%\t58.0%\t48.1%\t52.3%\t49.8%\n",
      "\n",
      "Epoch 125/500\n"
     ]
    },
    {
     "name": "stdout",
     "output_type": "stream",
     "text": [
      "  Training - Loss: 0.4496, Accuracy: 84.9%\n",
      "        unk  \ta    \ts2   \tb    \ts1   \ts3   \tc    \n",
      "        85.2%\t85.7%\t73.9%\t83.6%\t76.7%\t75.4%\t86.2%\n"
     ]
    },
    {
     "name": "stdout",
     "output_type": "stream",
     "text": [
      "  Validation - Loss: 1.7943, Best Loss: inf, Accuracy: 46.5%, Best Acc: 53.7\n",
      "        s3   \tb    \tunk  \ta    \ts2   \tc    \ts1   \n",
      "        47.6%\t49.9%\t42.9%\t55.1%\t44.1%\t51.8%\t41.4%\n",
      "\n",
      "Epoch 126/500\n"
     ]
    },
    {
     "name": "stdout",
     "output_type": "stream",
     "text": [
      "  Training - Loss: 0.4398, Accuracy: 85.3%\n",
      "        c    \ta    \tunk  \tb    \ts3   \ts2   \ts1   \n",
      "        85.6%\t86.5%\t85.5%\t84.9%\t77.8%\t76.3%\t76.7%\n"
     ]
    },
    {
     "name": "stdout",
     "output_type": "stream",
     "text": [
      "  Validation - Loss: 1.6591, Best Loss: inf, Accuracy: 51.5%, Best Acc: 53.7\n",
      "        s3   \tb    \tunk  \ta    \ts2   \tc    \ts1   \n",
      "        52.7%\t55.5%\t47.1%\t60.8%\t50.3%\t54.9%\t48.0%\n",
      "\n",
      "Epoch 127/500\n"
     ]
    },
    {
     "name": "stdout",
     "output_type": "stream",
     "text": [
      "  Training - Loss: 0.4595, Accuracy: 84.6%\n",
      "        unk  \ts1   \ta    \ts3   \tc    \ts2   \tb    \n",
      "        84.8%\t75.9%\t85.3%\t76.3%\t84.8%\t74.8%\t84.8%\n"
     ]
    },
    {
     "name": "stdout",
     "output_type": "stream",
     "text": [
      "  Validation - Loss: 1.5297, Best Loss: inf, Accuracy: 53.1%, Best Acc: 53.7\n",
      "        s3   \tb    \tunk  \ta    \ts2   \tc    \ts1   \n",
      "        55.6%\t55.0%\t50.0%\t61.7%\t51.2%\t56.5%\t48.1%\n",
      "\n",
      "Epoch 128/500\n"
     ]
    },
    {
     "name": "stdout",
     "output_type": "stream",
     "text": [
      "  Training - Loss: 0.4471, Accuracy: 85.0%\n",
      "        a    \tunk  \tc    \ts1   \tb    \ts3   \ts2   \n",
      "        86.0%\t85.1%\t86.4%\t78.8%\t84.2%\t75.1%\t74.6%\n"
     ]
    },
    {
     "name": "stdout",
     "output_type": "stream",
     "text": [
      "  Validation - Loss: 1.5895, Best Loss: inf, Accuracy: 53.1%, Best Acc: 53.7\n",
      "        s3   \tb    \tunk  \ta    \ts2   \tc    \ts1   \n",
      "        55.1%\t55.6%\t50.1%\t60.2%\t52.9%\t55.4%\t48.6%\n",
      "\n",
      "Epoch 129/500\n"
     ]
    },
    {
     "name": "stdout",
     "output_type": "stream",
     "text": [
      "  Training - Loss: 0.4546, Accuracy: 84.7%\n",
      "        a    \tunk  \ts1   \ts2   \ts3   \tc    \tb    \n",
      "        85.5%\t84.9%\t76.9%\t75.2%\t76.1%\t86.1%\t84.6%\n"
     ]
    },
    {
     "name": "stdout",
     "output_type": "stream",
     "text": [
      "  Validation - Loss: 1.7736, Best Loss: inf, Accuracy: 49.0%, Best Acc: 53.7\n",
      "        s3   \tb    \tunk  \ta    \ts2   \tc    \ts1   \n",
      "        50.7%\t52.5%\t45.3%\t58.0%\t47.0%\t52.9%\t43.6%\n",
      "\n",
      "Epoch 130/500\n"
     ]
    },
    {
     "name": "stdout",
     "output_type": "stream",
     "text": [
      "  Training - Loss: 0.4442, Accuracy: 85.0%\n",
      "        unk  \tb    \ta    \tc    \ts1   \ts2   \ts3   \n",
      "        85.2%\t85.6%\t85.9%\t85.7%\t76.4%\t75.6%\t76.0%\n"
     ]
    },
    {
     "name": "stdout",
     "output_type": "stream",
     "text": [
      "  Validation - Loss: 1.6095, Best Loss: inf, Accuracy: 50.9%, Best Acc: 53.7\n",
      "        s3   \tb    \tunk  \ta    \ts2   \tc    \ts1   \n",
      "        53.5%\t51.2%\t48.5%\t58.2%\t48.3%\t52.9%\t48.7%\n",
      "\n",
      "Epoch 131/500\n"
     ]
    },
    {
     "name": "stdout",
     "output_type": "stream",
     "text": [
      "  Training - Loss: 0.4352, Accuracy: 85.4%\n",
      "        unk  \ts2   \ta    \tb    \ts3   \ts1   \tc    \n",
      "        85.6%\t76.5%\t86.4%\t85.8%\t76.1%\t77.3%\t85.6%\n"
     ]
    },
    {
     "name": "stdout",
     "output_type": "stream",
     "text": [
      "  Validation - Loss: 1.6710, Best Loss: inf, Accuracy: 49.9%, Best Acc: 53.7\n",
      "        s3   \tb    \tunk  \ta    \ts2   \tc    \ts1   \n",
      "        51.3%\t50.7%\t47.4%\t59.1%\t45.9%\t54.2%\t45.9%\n",
      "\n",
      "Epoch 132/500\n"
     ]
    },
    {
     "name": "stdout",
     "output_type": "stream",
     "text": [
      "  Training - Loss: 0.4457, Accuracy: 85.0%\n",
      "        unk  \ta    \ts3   \ts2   \tc    \ts1   \tb    \n",
      "        85.2%\t86.0%\t76.7%\t72.6%\t86.1%\t75.9%\t83.0%\n"
     ]
    },
    {
     "name": "stdout",
     "output_type": "stream",
     "text": [
      "  Validation - Loss: 1.5866, Best Loss: inf, Accuracy: 51.1%, Best Acc: 53.7\n",
      "        s3   \tb    \tunk  \ta    \ts2   \tc    \ts1   \n",
      "        52.4%\t53.5%\t48.7%\t57.0%\t49.5%\t55.2%\t46.2%\n",
      "\n",
      "Epoch 133/500\n"
     ]
    },
    {
     "name": "stdout",
     "output_type": "stream",
     "text": [
      "  Training - Loss: 0.4442, Accuracy: 85.1%\n",
      "        unk  \ta    \ts2   \ts3   \tc    \tb    \ts1   \n",
      "        85.2%\t86.2%\t75.8%\t74.8%\t86.2%\t84.9%\t76.6%\n"
     ]
    },
    {
     "name": "stdout",
     "output_type": "stream",
     "text": [
      "  Validation - Loss: 1.6588, Best Loss: inf, Accuracy: 49.8%, Best Acc: 53.7\n",
      "        s3   \tb    \tunk  \ta    \ts2   \tc    \ts1   \n",
      "        49.9%\t54.1%\t46.0%\t57.6%\t48.2%\t54.1%\t46.0%\n",
      "\n",
      "Epoch 134/500\n"
     ]
    },
    {
     "name": "stdout",
     "output_type": "stream",
     "text": [
      "  Training - Loss: 0.4537, Accuracy: 84.7%\n",
      "        unk  \ts1   \ta    \ts2   \ts3   \tc    \tb    \n",
      "        84.8%\t74.8%\t85.8%\t76.9%\t75.2%\t85.5%\t84.2%\n"
     ]
    },
    {
     "name": "stdout",
     "output_type": "stream",
     "text": [
      "  Validation - Loss: 1.5701, Best Loss: inf, Accuracy: 52.9%, Best Acc: 53.7\n",
      "        s3   \tb    \tunk  \ta    \ts2   \tc    \ts1   \n",
      "        52.4%\t55.3%\t49.7%\t59.8%\t52.7%\t57.3%\t49.3%\n",
      "\n",
      "Epoch 135/500\n"
     ]
    },
    {
     "name": "stdout",
     "output_type": "stream",
     "text": [
      "  Training - Loss: 0.4440, Accuracy: 85.1%\n",
      "        unk  \ta    \ts3   \tc    \ts2   \tb    \ts1   \n",
      "        85.3%\t86.1%\t76.3%\t86.8%\t74.3%\t84.7%\t75.9%\n"
     ]
    },
    {
     "name": "stdout",
     "output_type": "stream",
     "text": [
      "  Validation - Loss: 1.7427, Best Loss: inf, Accuracy: 49.0%, Best Acc: 53.7\n",
      "        s3   \tb    \tunk  \ta    \ts2   \tc    \ts1   \n",
      "        48.8%\t49.3%\t46.2%\t57.8%\t47.0%\t52.3%\t46.7%\n",
      "\n",
      "Epoch 136/500\n"
     ]
    },
    {
     "name": "stdout",
     "output_type": "stream",
     "text": [
      "  Training - Loss: 0.4389, Accuracy: 85.3%\n",
      "        unk  \ta    \tb    \ts2   \ts1   \tc    \ts3   \n",
      "        85.4%\t86.6%\t84.4%\t75.2%\t76.6%\t85.9%\t76.5%\n"
     ]
    },
    {
     "name": "stdout",
     "output_type": "stream",
     "text": [
      "  Validation - Loss: 1.7799, Best Loss: inf, Accuracy: 50.1%, Best Acc: 53.7\n",
      "        s3   \tb    \tunk  \ta    \ts2   \tc    \ts1   \n",
      "        50.4%\t52.8%\t46.4%\t58.1%\t49.1%\t53.8%\t47.7%\n",
      "\n",
      "Epoch 137/500\n"
     ]
    },
    {
     "name": "stdout",
     "output_type": "stream",
     "text": [
      "  Training - Loss: 0.4507, Accuracy: 84.9%\n",
      "        unk  \ts2   \tb    \ts3   \ta    \ts1   \tc    \n",
      "        85.1%\t75.0%\t84.4%\t77.0%\t86.1%\t74.7%\t86.0%\n"
     ]
    },
    {
     "name": "stdout",
     "output_type": "stream",
     "text": [
      "  Validation - Loss: 1.6199, Best Loss: inf, Accuracy: 50.2%, Best Acc: 53.7\n",
      "        s3   \tb    \tunk  \ta    \ts2   \tc    \ts1   \n",
      "        52.3%\t53.5%\t47.0%\t59.1%\t48.4%\t52.3%\t45.5%\n",
      "\n",
      "Epoch 138/500\n"
     ]
    },
    {
     "name": "stdout",
     "output_type": "stream",
     "text": [
      "  Training - Loss: 0.4445, Accuracy: 85.1%\n",
      "        unk  \tb    \ta    \ts2   \ts1   \tc    \ts3   \n",
      "        85.3%\t83.9%\t86.1%\t76.4%\t75.3%\t86.4%\t76.6%\n"
     ]
    },
    {
     "name": "stdout",
     "output_type": "stream",
     "text": [
      "  Validation - Loss: 1.6077, Best Loss: inf, Accuracy: 50.8%, Best Acc: 53.7\n",
      "        s3   \tb    \tunk  \ta    \ts2   \tc    \ts1   \n",
      "        54.7%\t51.6%\t48.5%\t57.5%\t47.3%\t52.2%\t48.8%\n",
      "\n",
      "Epoch 139/500\n"
     ]
    },
    {
     "name": "stdout",
     "output_type": "stream",
     "text": [
      "  Training - Loss: 0.4487, Accuracy: 84.9%\n",
      "        unk  \tb    \ta    \ts2   \tc    \ts1   \ts3   \n",
      "        85.1%\t84.6%\t86.1%\t72.8%\t86.3%\t75.5%\t74.3%\n"
     ]
    },
    {
     "name": "stdout",
     "output_type": "stream",
     "text": [
      "  Validation - Loss: 1.6265, Best Loss: inf, Accuracy: 51.3%, Best Acc: 53.7\n",
      "        s3   \tb    \tunk  \ta    \ts2   \tc    \ts1   \n",
      "        54.6%\t51.9%\t47.8%\t59.0%\t48.3%\t55.4%\t49.3%\n",
      "\n",
      "Epoch 140/500\n"
     ]
    },
    {
     "name": "stdout",
     "output_type": "stream",
     "text": [
      "  Training - Loss: 0.4276, Accuracy: 85.7%\n",
      "        a    \tunk  \tb    \ts3   \tc    \ts1   \ts2   \n",
      "        86.7%\t85.8%\t85.1%\t77.2%\t87.3%\t77.8%\t75.0%\n"
     ]
    },
    {
     "name": "stdout",
     "output_type": "stream",
     "text": [
      "  Validation - Loss: 1.5075, Best Loss: inf, Accuracy: 52.5%, Best Acc: 53.7\n",
      "        s3   \tb    \tunk  \ta    \ts2   \tc    \ts1   \n",
      "        54.3%\t53.4%\t49.3%\t59.4%\t52.3%\t55.7%\t49.9%\n",
      "\n",
      "Epoch 141/500\n"
     ]
    },
    {
     "name": "stdout",
     "output_type": "stream",
     "text": [
      "  Training - Loss: 0.4285, Accuracy: 85.7%\n",
      "        a    \tunk  \ts1   \ts2   \tc    \ts3   \tb    \n",
      "        86.7%\t85.9%\t78.3%\t75.1%\t87.0%\t76.6%\t85.7%\n"
     ]
    },
    {
     "name": "stdout",
     "output_type": "stream",
     "text": [
      "  Validation - Loss: 1.6018, Best Loss: inf, Accuracy: 50.2%, Best Acc: 53.7\n",
      "        s3   \tb    \tunk  \ta    \ts2   \tc    \ts1   \n",
      "        50.2%\t51.7%\t47.4%\t60.2%\t48.6%\t53.3%\t45.6%\n",
      "\n",
      "Epoch 142/500\n"
     ]
    },
    {
     "name": "stdout",
     "output_type": "stream",
     "text": [
      "  Training - Loss: 0.4363, Accuracy: 85.4%\n",
      "        a    \tunk  \tb    \ts2   \tc    \ts3   \ts1   \n",
      "        86.6%\t85.5%\t85.6%\t74.2%\t86.3%\t77.8%\t77.3%\n"
     ]
    },
    {
     "name": "stdout",
     "output_type": "stream",
     "text": [
      "  Validation - Loss: 1.7020, Best Loss: inf, Accuracy: 50.7%, Best Acc: 53.7\n",
      "        s3   \tb    \tunk  \ta    \ts2   \tc    \ts1   \n",
      "        51.3%\t51.9%\t47.4%\t59.0%\t47.7%\t53.9%\t50.1%\n",
      "\n",
      "Epoch 143/500\n"
     ]
    },
    {
     "name": "stdout",
     "output_type": "stream",
     "text": [
      "  Training - Loss: 0.4374, Accuracy: 85.3%\n",
      "        unk  \ta    \ts1   \tb    \tc    \ts2   \ts3   \n",
      "        85.5%\t86.3%\t77.0%\t84.8%\t86.5%\t78.1%\t78.1%\n"
     ]
    },
    {
     "name": "stdout",
     "output_type": "stream",
     "text": [
      "  Validation - Loss: 1.6889, Best Loss: inf, Accuracy: 51.7%, Best Acc: 53.7\n",
      "        s3   \tb    \tunk  \ta    \ts2   \tc    \ts1   \n",
      "        53.2%\t51.9%\t48.8%\t60.5%\t50.2%\t54.0%\t49.2%\n",
      "\n",
      "Epoch 144/500\n"
     ]
    },
    {
     "name": "stdout",
     "output_type": "stream",
     "text": [
      "  Training - Loss: 0.4332, Accuracy: 85.4%\n",
      "        a    \tunk  \tb    \ts3   \ts1   \ts2   \tc    \n",
      "        86.7%\t85.6%\t84.3%\t77.0%\t77.1%\t75.7%\t86.2%\n"
     ]
    },
    {
     "name": "stdout",
     "output_type": "stream",
     "text": [
      "  Validation - Loss: 1.7434, Best Loss: inf, Accuracy: 50.6%, Best Acc: 53.7\n",
      "        s3   \tb    \tunk  \ta    \ts2   \tc    \ts1   \n",
      "        50.4%\t55.0%\t46.9%\t57.8%\t47.6%\t55.2%\t48.5%\n",
      "\n",
      "Epoch 145/500\n"
     ]
    },
    {
     "name": "stdout",
     "output_type": "stream",
     "text": [
      "  Training - Loss: 0.4410, Accuracy: 85.1%\n",
      "        unk  \ta    \ts3   \tb    \ts1   \tc    \ts2   \n",
      "        85.4%\t85.9%\t76.9%\t83.4%\t76.2%\t87.3%\t75.7%\n"
     ]
    },
    {
     "name": "stdout",
     "output_type": "stream",
     "text": [
      "  Validation - Loss: 1.6249, Best Loss: inf, Accuracy: 51.2%, Best Acc: 53.7\n",
      "        s3   \tb    \tunk  \ta    \ts2   \tc    \ts1   \n",
      "        51.8%\t52.2%\t47.4%\t60.4%\t48.6%\t56.0%\t49.4%\n",
      "\n",
      "Epoch 146/500\n"
     ]
    },
    {
     "name": "stdout",
     "output_type": "stream",
     "text": [
      "  Training - Loss: 0.4278, Accuracy: 85.7%\n",
      "        a    \tunk  \ts3   \tc    \ts1   \tb    \ts2   \n",
      "        86.5%\t85.9%\t76.3%\t87.3%\t76.9%\t85.6%\t76.2%\n"
     ]
    },
    {
     "name": "stdout",
     "output_type": "stream",
     "text": [
      "  Validation - Loss: 1.5669, Best Loss: inf, Accuracy: 53.9%, Best Acc: 53.7\n",
      "        s3   \tb    \tunk  \ta    \ts2   \tc    \ts1   \n",
      "        55.8%\t57.2%\t49.8%\t61.2%\t51.1%\t57.9%\t52.5%\n",
      "\n",
      "Epoch 147/500\n"
     ]
    },
    {
     "name": "stdout",
     "output_type": "stream",
     "text": [
      "  Training - Loss: 0.4286, Accuracy: 85.7%\n",
      "        unk  \ts3   \ta    \tb    \tc    \ts2   \ts1   \n",
      "        85.9%\t76.1%\t86.7%\t85.5%\t86.9%\t76.5%\t78.0%\n"
     ]
    },
    {
     "name": "stdout",
     "output_type": "stream",
     "text": [
      "  Validation - Loss: 1.7756, Best Loss: inf, Accuracy: 49.1%, Best Acc: 53.9\n",
      "        s3   \tb    \tunk  \ta    \ts2   \tc    \ts1   \n",
      "        51.3%\t50.3%\t45.2%\t55.6%\t48.7%\t53.1%\t47.7%\n",
      "\n",
      "Epoch 148/500\n"
     ]
    },
    {
     "name": "stdout",
     "output_type": "stream",
     "text": [
      "  Training - Loss: 0.4262, Accuracy: 85.7%\n",
      "        unk  \ta    \tc    \ts1   \ts2   \tb    \ts3   \n",
      "        85.9%\t86.6%\t86.8%\t77.2%\t76.4%\t84.8%\t75.0%\n"
     ]
    },
    {
     "name": "stdout",
     "output_type": "stream",
     "text": [
      "  Validation - Loss: 1.7506, Best Loss: inf, Accuracy: 47.8%, Best Acc: 53.9\n",
      "        s3   \tb    \tunk  \ta    \ts2   \tc    \ts1   \n",
      "        47.7%\t49.0%\t45.3%\t56.6%\t44.3%\t50.6%\t45.9%\n",
      "\n",
      "Epoch 149/500\n"
     ]
    },
    {
     "name": "stdout",
     "output_type": "stream",
     "text": [
      "  Training - Loss: 0.4239, Accuracy: 85.9%\n",
      "        unk  \ts3   \tb    \ta    \ts1   \tc    \ts2   \n",
      "        86.0%\t76.9%\t86.4%\t87.0%\t78.0%\t86.5%\t77.1%\n"
     ]
    },
    {
     "name": "stdout",
     "output_type": "stream",
     "text": [
      "  Validation - Loss: 1.5712, Best Loss: inf, Accuracy: 50.9%, Best Acc: 53.9\n",
      "        s3   \tb    \tunk  \ta    \ts2   \tc    \ts1   \n",
      "        51.1%\t53.1%\t47.3%\t59.7%\t50.6%\t54.1%\t47.8%\n",
      "\n",
      "Epoch 150/500\n"
     ]
    },
    {
     "name": "stdout",
     "output_type": "stream",
     "text": [
      "  Training - Loss: 0.4244, Accuracy: 85.7%\n",
      "        unk  \ta    \tb    \ts1   \tc    \ts2   \ts3   \n",
      "        85.9%\t86.8%\t85.6%\t76.6%\t87.0%\t76.1%\t77.0%\n"
     ]
    },
    {
     "name": "stdout",
     "output_type": "stream",
     "text": [
      "  Validation - Loss: 1.6907, Best Loss: inf, Accuracy: 49.5%, Best Acc: 53.9\n",
      "        s3   \tb    \tunk  \ta    \ts2   \tc    \ts1   \n",
      "        51.8%\t50.1%\t47.2%\t56.2%\t45.8%\t51.8%\t48.6%\n",
      "\n",
      "Epoch 151/500\n"
     ]
    },
    {
     "name": "stdout",
     "output_type": "stream",
     "text": [
      "  Training - Loss: 0.4336, Accuracy: 85.4%\n",
      "        unk  \ta    \ts2   \ts3   \ts1   \tb    \tc    \n",
      "        85.6%\t86.3%\t75.9%\t75.3%\t76.9%\t85.6%\t85.9%\n"
     ]
    },
    {
     "name": "stdout",
     "output_type": "stream",
     "text": [
      "  Validation - Loss: 1.7427, Best Loss: inf, Accuracy: 49.1%, Best Acc: 53.9\n",
      "        s3   \tb    \tunk  \ta    \ts2   \tc    \ts1   \n",
      "        48.3%\t53.6%\t44.9%\t59.1%\t48.6%\t53.0%\t44.3%\n",
      "\n",
      "Epoch 152/500\n"
     ]
    },
    {
     "name": "stdout",
     "output_type": "stream",
     "text": [
      "  Training - Loss: 0.4273, Accuracy: 85.7%\n",
      "        unk  \ta    \tb    \ts1   \ts2   \ts3   \tc    \n",
      "        85.9%\t86.4%\t84.6%\t77.5%\t75.8%\t76.8%\t87.1%\n"
     ]
    },
    {
     "name": "stdout",
     "output_type": "stream",
     "text": [
      "  Validation - Loss: 1.6708, Best Loss: inf, Accuracy: 50.4%, Best Acc: 53.9\n",
      "        s3   \tb    \tunk  \ta    \ts2   \tc    \ts1   \n",
      "        51.4%\t54.1%\t46.9%\t58.4%\t48.6%\t53.2%\t47.2%\n",
      "\n",
      "Epoch 153/500\n"
     ]
    },
    {
     "name": "stdout",
     "output_type": "stream",
     "text": [
      "  Training - Loss: 0.4189, Accuracy: 86.0%\n",
      "        a    \tunk  \ts3   \ts1   \tc    \ts2   \tb    \n",
      "        86.9%\t86.2%\t76.4%\t77.0%\t86.3%\t75.5%\t85.7%\n"
     ]
    },
    {
     "name": "stdout",
     "output_type": "stream",
     "text": [
      "  Validation - Loss: 1.7741, Best Loss: inf, Accuracy: 49.3%, Best Acc: 53.9\n",
      "        s3   \tb    \tunk  \ta    \ts2   \tc    \ts1   \n",
      "        51.0%\t54.2%\t44.8%\t57.7%\t48.1%\t53.3%\t45.4%\n",
      "\n",
      "Epoch 154/500\n"
     ]
    },
    {
     "name": "stdout",
     "output_type": "stream",
     "text": [
      "  Training - Loss: 0.4229, Accuracy: 85.8%\n",
      "        unk  \ta    \ts2   \ts1   \tc    \tb    \ts3   \n",
      "        86.0%\t86.8%\t75.5%\t77.1%\t86.8%\t85.3%\t77.3%\n"
     ]
    },
    {
     "name": "stdout",
     "output_type": "stream",
     "text": [
      "  Validation - Loss: 1.5966, Best Loss: inf, Accuracy: 52.3%, Best Acc: 53.9\n",
      "        s3   \tb    \tunk  \ta    \ts2   \tc    \ts1   \n",
      "        53.2%\t55.1%\t48.3%\t62.6%\t47.8%\t57.6%\t49.2%\n",
      "\n",
      "Epoch 155/500\n"
     ]
    },
    {
     "name": "stdout",
     "output_type": "stream",
     "text": [
      "  Training - Loss: 0.4125, Accuracy: 86.2%\n",
      "        unk  \ta    \tb    \ts2   \ts1   \tc    \ts3   \n",
      "        86.4%\t87.6%\t86.9%\t75.0%\t76.6%\t88.0%\t76.6%\n"
     ]
    },
    {
     "name": "stdout",
     "output_type": "stream",
     "text": [
      "  Validation - Loss: 1.6362, Best Loss: inf, Accuracy: 50.7%, Best Acc: 53.9\n",
      "        s3   \tb    \tunk  \ta    \ts2   \tc    \ts1   \n",
      "        54.0%\t53.1%\t46.1%\t59.9%\t50.2%\t55.4%\t45.3%\n",
      "\n",
      "Epoch 156/500\n"
     ]
    },
    {
     "name": "stdout",
     "output_type": "stream",
     "text": [
      "  Training - Loss: 0.4193, Accuracy: 86.0%\n",
      "        unk  \ts1   \ta    \tc    \ts3   \tb    \ts2   \n",
      "        86.2%\t77.6%\t87.0%\t87.5%\t77.5%\t84.8%\t75.7%\n"
     ]
    },
    {
     "name": "stdout",
     "output_type": "stream",
     "text": [
      "  Validation - Loss: 1.5520, Best Loss: inf, Accuracy: 53.2%, Best Acc: 53.9\n",
      "        s3   \tb    \tunk  \ta    \ts2   \tc    \ts1   \n",
      "        53.5%\t54.1%\t50.1%\t63.4%\t49.6%\t58.0%\t50.0%\n",
      "\n",
      "Epoch 157/500\n"
     ]
    },
    {
     "name": "stdout",
     "output_type": "stream",
     "text": [
      "  Training - Loss: 0.4200, Accuracy: 85.9%\n",
      "        b    \ta    \tunk  \tc    \ts2   \ts3   \ts1   \n",
      "        85.8%\t86.9%\t86.1%\t86.7%\t76.4%\t77.4%\t77.4%\n"
     ]
    },
    {
     "name": "stdout",
     "output_type": "stream",
     "text": [
      "  Validation - Loss: 1.8195, Best Loss: inf, Accuracy: 47.0%, Best Acc: 53.9\n",
      "        s3   \tb    \tunk  \ta    \ts2   \tc    \ts1   \n",
      "        47.3%\t52.3%\t43.3%\t54.0%\t45.9%\t50.5%\t43.3%\n",
      "\n",
      "Epoch 158/500\n"
     ]
    },
    {
     "name": "stdout",
     "output_type": "stream",
     "text": [
      "  Training - Loss: 0.4161, Accuracy: 86.1%\n",
      "        unk  \ta    \ts3   \tc    \ts1   \tb    \ts2   \n",
      "        86.2%\t87.0%\t78.2%\t87.7%\t77.4%\t84.5%\t77.6%\n"
     ]
    },
    {
     "name": "stdout",
     "output_type": "stream",
     "text": [
      "  Validation - Loss: 1.5922, Best Loss: inf, Accuracy: 52.2%, Best Acc: 53.9\n",
      "        s3   \tb    \tunk  \ta    \ts2   \tc    \ts1   \n",
      "        54.2%\t54.1%\t49.9%\t59.9%\t49.6%\t55.5%\t47.2%\n",
      "\n",
      "Epoch 159/500\n"
     ]
    },
    {
     "name": "stdout",
     "output_type": "stream",
     "text": [
      "  Training - Loss: 0.4204, Accuracy: 85.9%\n",
      "        a    \tunk  \ts3   \ts2   \ts1   \tc    \tb    \n",
      "        86.8%\t86.2%\t77.4%\t75.0%\t76.6%\t86.2%\t85.5%\n"
     ]
    },
    {
     "name": "stdout",
     "output_type": "stream",
     "text": [
      "  Validation - Loss: 1.7151, Best Loss: inf, Accuracy: 49.1%, Best Acc: 53.9\n",
      "        s3   \tb    \tunk  \ta    \ts2   \tc    \ts1   \n",
      "        52.7%\t49.6%\t46.5%\t57.3%\t42.8%\t52.6%\t47.8%\n",
      "\n",
      "Epoch 160/500\n"
     ]
    },
    {
     "name": "stdout",
     "output_type": "stream",
     "text": [
      "  Training - Loss: 0.4162, Accuracy: 86.1%\n",
      "        unk  \ta    \tb    \tc    \ts2   \ts3   \ts1   \n",
      "        86.3%\t87.1%\t86.2%\t86.3%\t76.4%\t77.0%\t76.4%\n"
     ]
    },
    {
     "name": "stdout",
     "output_type": "stream",
     "text": [
      "  Validation - Loss: 1.5743, Best Loss: inf, Accuracy: 51.5%, Best Acc: 53.9\n",
      "        s3   \tb    \tunk  \ta    \ts2   \tc    \ts1   \n",
      "        55.1%\t56.8%\t47.0%\t60.2%\t47.4%\t55.4%\t48.1%\n",
      "\n",
      "Epoch 161/500\n"
     ]
    },
    {
     "name": "stdout",
     "output_type": "stream",
     "text": [
      "  Training - Loss: 0.4076, Accuracy: 86.4%\n",
      "        unk  \ts2   \tb    \ta    \ts3   \ts1   \tc    \n",
      "        86.5%\t76.3%\t85.4%\t87.5%\t77.4%\t79.2%\t88.5%\n"
     ]
    },
    {
     "name": "stdout",
     "output_type": "stream",
     "text": [
      "  Validation - Loss: 1.6378, Best Loss: inf, Accuracy: 52.2%, Best Acc: 53.9\n",
      "        s3   \tb    \tunk  \ta    \ts2   \tc    \ts1   \n",
      "        53.4%\t54.6%\t48.5%\t60.1%\t51.6%\t56.0%\t48.9%\n",
      "\n",
      "Epoch 162/500\n"
     ]
    },
    {
     "name": "stdout",
     "output_type": "stream",
     "text": [
      "  Training - Loss: 0.4094, Accuracy: 86.4%\n",
      "        unk  \tc    \ta    \tb    \ts2   \ts1   \ts3   \n",
      "        86.6%\t87.6%\t87.2%\t85.8%\t77.2%\t77.9%\t76.5%\n"
     ]
    },
    {
     "name": "stdout",
     "output_type": "stream",
     "text": [
      "  Validation - Loss: 1.5742, Best Loss: inf, Accuracy: 52.6%, Best Acc: 53.9\n",
      "        s3   \tb    \tunk  \ta    \ts2   \tc    \ts1   \n",
      "        50.8%\t57.0%\t48.7%\t61.9%\t52.6%\t56.4%\t48.4%\n",
      "\n",
      "Epoch 163/500\n"
     ]
    },
    {
     "name": "stdout",
     "output_type": "stream",
     "text": [
      "  Training - Loss: 0.4107, Accuracy: 86.4%\n",
      "        a    \tunk  \ts1   \ts3   \tc    \ts2   \tb    \n",
      "        87.4%\t86.6%\t78.7%\t76.8%\t87.4%\t75.5%\t86.4%\n"
     ]
    },
    {
     "name": "stdout",
     "output_type": "stream",
     "text": [
      "  Validation - Loss: 1.7837, Best Loss: inf, Accuracy: 48.8%, Best Acc: 53.9\n",
      "        s3   \tb    \tunk  \ta    \ts2   \tc    \ts1   \n",
      "        50.6%\t51.3%\t45.4%\t59.2%\t49.4%\t52.7%\t39.7%\n",
      "\n",
      "Epoch 164/500\n"
     ]
    },
    {
     "name": "stdout",
     "output_type": "stream",
     "text": [
      "  Training - Loss: 0.4036, Accuracy: 86.6%\n",
      "        unk  \ta    \ts3   \tb    \ts2   \tc    \ts1   \n",
      "        86.7%\t87.7%\t78.9%\t86.7%\t77.4%\t86.5%\t77.0%\n"
     ]
    },
    {
     "name": "stdout",
     "output_type": "stream",
     "text": [
      "  Validation - Loss: 1.6079, Best Loss: inf, Accuracy: 52.0%, Best Acc: 53.9\n",
      "        s3   \tb    \tunk  \ta    \ts2   \tc    \ts1   \n",
      "        54.1%\t54.3%\t49.0%\t60.1%\t49.5%\t55.0%\t48.3%\n",
      "\n",
      "Epoch 165/500\n"
     ]
    },
    {
     "name": "stdout",
     "output_type": "stream",
     "text": [
      "  Training - Loss: 0.4107, Accuracy: 86.3%\n",
      "        a    \ts3   \tunk  \ts1   \ts2   \tb    \tc    \n",
      "        87.3%\t76.1%\t86.6%\t77.0%\t76.2%\t85.3%\t86.7%\n"
     ]
    },
    {
     "name": "stdout",
     "output_type": "stream",
     "text": [
      "  Validation - Loss: 1.8177, Best Loss: inf, Accuracy: 46.7%, Best Acc: 53.9\n",
      "        s3   \tb    \tunk  \ta    \ts2   \tc    \ts1   \n",
      "        49.3%\t46.8%\t43.6%\t54.3%\t43.1%\t49.0%\t47.1%\n",
      "\n",
      "Epoch 166/500\n"
     ]
    },
    {
     "name": "stdout",
     "output_type": "stream",
     "text": [
      "  Training - Loss: 0.4057, Accuracy: 86.5%\n",
      "        unk  \ts3   \ta    \ts2   \tb    \tc    \ts1   \n",
      "        86.7%\t78.6%\t87.3%\t78.6%\t86.3%\t86.2%\t77.0%\n"
     ]
    },
    {
     "name": "stdout",
     "output_type": "stream",
     "text": [
      "  Validation - Loss: 1.5747, Best Loss: inf, Accuracy: 51.9%, Best Acc: 53.9\n",
      "        s3   \tb    \tunk  \ta    \ts2   \tc    \ts1   \n",
      "        53.6%\t53.7%\t47.8%\t62.3%\t49.1%\t56.7%\t48.2%\n",
      "\n",
      "Epoch 167/500\n"
     ]
    },
    {
     "name": "stdout",
     "output_type": "stream",
     "text": [
      "  Training - Loss: 0.4008, Accuracy: 86.6%\n",
      "        a    \tunk  \tb    \tc    \ts1   \ts3   \ts2   \n",
      "        87.6%\t86.8%\t86.0%\t87.2%\t78.8%\t77.6%\t76.1%\n"
     ]
    },
    {
     "name": "stdout",
     "output_type": "stream",
     "text": [
      "  Validation - Loss: 1.6750, Best Loss: inf, Accuracy: 50.8%, Best Acc: 53.9\n",
      "        s3   \tb    \tunk  \ta    \ts2   \tc    \ts1   \n",
      "        51.8%\t55.2%\t47.5%\t58.5%\t50.7%\t54.7%\t43.4%\n",
      "\n",
      "Epoch 168/500\n"
     ]
    },
    {
     "name": "stdout",
     "output_type": "stream",
     "text": [
      "  Training - Loss: 0.3983, Accuracy: 86.7%\n",
      "        unk  \ta    \tc    \tb    \ts2   \ts3   \ts1   \n",
      "        86.9%\t87.6%\t86.9%\t87.0%\t77.9%\t77.5%\t79.1%\n"
     ]
    },
    {
     "name": "stdout",
     "output_type": "stream",
     "text": [
      "  Validation - Loss: 1.6158, Best Loss: inf, Accuracy: 51.2%, Best Acc: 53.9\n",
      "        s3   \tb    \tunk  \ta    \ts2   \tc    \ts1   \n",
      "        51.7%\t53.8%\t47.7%\t60.2%\t48.8%\t54.9%\t48.5%\n",
      "\n",
      "Epoch 169/500\n"
     ]
    },
    {
     "name": "stdout",
     "output_type": "stream",
     "text": [
      "  Training - Loss: 0.4031, Accuracy: 86.6%\n",
      "        unk  \ta    \tc    \ts1   \ts2   \ts3   \tb    \n",
      "        86.7%\t87.6%\t89.0%\t78.0%\t76.8%\t78.1%\t86.0%\n"
     ]
    },
    {
     "name": "stdout",
     "output_type": "stream",
     "text": [
      "  Validation - Loss: 1.6567, Best Loss: inf, Accuracy: 51.9%, Best Acc: 53.9\n",
      "        s3   \tb    \tunk  \ta    \ts2   \tc    \ts1   \n",
      "        56.5%\t54.1%\t48.5%\t59.3%\t49.2%\t53.8%\t49.0%\n",
      "\n",
      "Epoch 170/500\n"
     ]
    },
    {
     "name": "stdout",
     "output_type": "stream",
     "text": [
      "  Training - Loss: 0.3997, Accuracy: 86.7%\n",
      "        unk  \ta    \tb    \ts2   \tc    \ts3   \ts1   \n",
      "        86.8%\t87.6%\t86.6%\t78.4%\t87.7%\t77.7%\t78.0%\n"
     ]
    },
    {
     "name": "stdout",
     "output_type": "stream",
     "text": [
      "  Validation - Loss: 1.5717, Best Loss: inf, Accuracy: 51.7%, Best Acc: 53.9\n",
      "        s3   \tb    \tunk  \ta    \ts2   \tc    \ts1   \n",
      "        53.8%\t53.8%\t48.1%\t61.2%\t50.3%\t55.2%\t46.8%\n",
      "\n",
      "Epoch 171/500\n"
     ]
    },
    {
     "name": "stdout",
     "output_type": "stream",
     "text": [
      "  Training - Loss: 0.3946, Accuracy: 86.9%\n",
      "        unk  \ta    \tb    \ts2   \tc    \ts1   \ts3   \n",
      "        87.1%\t87.6%\t86.3%\t77.0%\t87.7%\t77.6%\t77.9%\n"
     ]
    },
    {
     "name": "stdout",
     "output_type": "stream",
     "text": [
      "  Validation - Loss: 1.8067, Best Loss: inf, Accuracy: 48.0%, Best Acc: 53.9\n",
      "        s3   \tb    \tunk  \ta    \ts2   \tc    \ts1   \n",
      "        50.2%\t49.1%\t44.6%\t58.2%\t44.2%\t51.9%\t44.9%\n",
      "\n",
      "Epoch 172/500\n"
     ]
    },
    {
     "name": "stdout",
     "output_type": "stream",
     "text": [
      "  Training - Loss: 0.3972, Accuracy: 86.7%\n",
      "        s3   \tunk  \ta    \tb    \tc    \ts1   \ts2   \n",
      "        78.4%\t87.0%\t87.5%\t86.8%\t86.4%\t78.2%\t77.1%\n"
     ]
    },
    {
     "name": "stdout",
     "output_type": "stream",
     "text": [
      "  Validation - Loss: 1.5935, Best Loss: inf, Accuracy: 52.4%, Best Acc: 53.9\n",
      "        s3   \tb    \tunk  \ta    \ts2   \tc    \ts1   \n",
      "        53.1%\t53.9%\t48.7%\t62.1%\t51.1%\t55.8%\t49.3%\n",
      "\n",
      "Epoch 173/500\n"
     ]
    },
    {
     "name": "stdout",
     "output_type": "stream",
     "text": [
      "  Training - Loss: 0.4030, Accuracy: 86.6%\n",
      "        unk  \ta    \tc    \tb    \ts2   \ts1   \ts3   \n",
      "        86.7%\t87.8%\t87.5%\t86.2%\t75.9%\t79.1%\t77.3%\n"
     ]
    },
    {
     "name": "stdout",
     "output_type": "stream",
     "text": [
      "  Validation - Loss: 1.7694, Best Loss: inf, Accuracy: 47.9%, Best Acc: 53.9\n",
      "        s3   \tb    \tunk  \ta    \ts2   \tc    \ts1   \n",
      "        50.7%\t47.2%\t45.5%\t57.4%\t42.9%\t51.0%\t45.3%\n",
      "\n",
      "Epoch 174/500\n"
     ]
    },
    {
     "name": "stdout",
     "output_type": "stream",
     "text": [
      "  Training - Loss: 0.3919, Accuracy: 86.9%\n",
      "        unk  \ta    \tb    \ts1   \ts3   \ts2   \tc    \n",
      "        87.1%\t87.9%\t86.1%\t78.0%\t79.3%\t77.0%\t87.8%\n"
     ]
    },
    {
     "name": "stdout",
     "output_type": "stream",
     "text": [
      "  Validation - Loss: 1.5493, Best Loss: inf, Accuracy: 52.4%, Best Acc: 53.9\n",
      "        s3   \tb    \tunk  \ta    \ts2   \tc    \ts1   \n",
      "        54.1%\t55.6%\t49.5%\t60.1%\t50.3%\t56.0%\t47.5%\n",
      "\n",
      "Epoch 175/500\n"
     ]
    },
    {
     "name": "stdout",
     "output_type": "stream",
     "text": [
      "  Training - Loss: 0.3928, Accuracy: 86.9%\n",
      "        unk  \ts3   \ta    \tb    \ts1   \tc    \ts2   \n",
      "        87.1%\t78.4%\t87.9%\t86.1%\t77.9%\t87.8%\t78.7%\n"
     ]
    },
    {
     "name": "stdout",
     "output_type": "stream",
     "text": [
      "  Validation - Loss: 1.7136, Best Loss: inf, Accuracy: 50.1%, Best Acc: 53.9\n",
      "        s3   \tb    \tunk  \ta    \ts2   \tc    \ts1   \n",
      "        50.9%\t54.5%\t45.4%\t59.3%\t48.1%\t55.4%\t46.3%\n",
      "\n",
      "Epoch 176/500\n"
     ]
    },
    {
     "name": "stdout",
     "output_type": "stream",
     "text": [
      "  Training - Loss: 0.3907, Accuracy: 87.1%\n",
      "        unk  \ta    \tb    \tc    \ts1   \ts3   \ts2   \n",
      "        87.3%\t88.1%\t87.8%\t86.9%\t80.3%\t77.6%\t76.9%\n"
     ]
    },
    {
     "name": "stdout",
     "output_type": "stream",
     "text": [
      "  Validation - Loss: 1.6181, Best Loss: inf, Accuracy: 52.0%, Best Acc: 53.9\n",
      "        s3   \tb    \tunk  \ta    \ts2   \tc    \ts1   \n",
      "        52.6%\t55.7%\t48.4%\t62.5%\t49.0%\t56.0%\t47.3%\n",
      "\n",
      "Epoch 177/500\n"
     ]
    },
    {
     "name": "stdout",
     "output_type": "stream",
     "text": [
      "  Training - Loss: 0.3903, Accuracy: 87.0%\n",
      "        unk  \ta    \ts3   \tc    \ts2   \ts1   \tb    \n",
      "        87.3%\t87.9%\t77.1%\t87.7%\t76.8%\t78.5%\t85.8%\n"
     ]
    },
    {
     "name": "stdout",
     "output_type": "stream",
     "text": [
      "  Validation - Loss: 1.6489, Best Loss: inf, Accuracy: 50.3%, Best Acc: 53.9\n",
      "        s3   \tb    \tunk  \ta    \ts2   \tc    \ts1   \n",
      "        51.6%\t50.4%\t47.8%\t59.9%\t47.3%\t52.5%\t47.8%\n",
      "\n",
      "Epoch 178/500\n"
     ]
    },
    {
     "name": "stdout",
     "output_type": "stream",
     "text": [
      "  Training - Loss: 0.3936, Accuracy: 86.9%\n",
      "        unk  \ta    \ts2   \ts1   \tc    \tb    \ts3   \n",
      "        87.1%\t87.8%\t78.3%\t79.4%\t87.3%\t87.0%\t77.4%\n"
     ]
    },
    {
     "name": "stdout",
     "output_type": "stream",
     "text": [
      "  Validation - Loss: 1.6007, Best Loss: inf, Accuracy: 51.8%, Best Acc: 53.9\n",
      "        s3   \tb    \tunk  \ta    \ts2   \tc    \ts1   \n",
      "        53.8%\t55.6%\t48.3%\t60.5%\t49.1%\t56.1%\t46.7%\n",
      "\n",
      "Epoch 179/500\n"
     ]
    },
    {
     "name": "stdout",
     "output_type": "stream",
     "text": [
      "  Training - Loss: 0.3829, Accuracy: 87.3%\n",
      "        unk  \ta    \ts2   \ts1   \tb    \tc    \ts3   \n",
      "        87.5%\t88.1%\t77.5%\t79.4%\t86.9%\t88.1%\t78.7%\n"
     ]
    },
    {
     "name": "stdout",
     "output_type": "stream",
     "text": [
      "  Validation - Loss: 1.6408, Best Loss: inf, Accuracy: 51.2%, Best Acc: 53.9\n",
      "        s3   \tb    \tunk  \ta    \ts2   \tc    \ts1   \n",
      "        54.2%\t52.9%\t48.1%\t58.3%\t48.3%\t55.2%\t47.4%\n",
      "\n",
      "Epoch 180/500\n"
     ]
    },
    {
     "name": "stdout",
     "output_type": "stream",
     "text": [
      "  Training - Loss: 0.3897, Accuracy: 87.1%\n",
      "        unk  \ta    \ts3   \tb    \tc    \ts2   \ts1   \n",
      "        87.2%\t88.0%\t78.7%\t86.4%\t88.0%\t78.2%\t78.6%\n"
     ]
    },
    {
     "name": "stdout",
     "output_type": "stream",
     "text": [
      "  Validation - Loss: 1.7965, Best Loss: inf, Accuracy: 48.5%, Best Acc: 53.9\n",
      "        s3   \tb    \tunk  \ta    \ts2   \tc    \ts1   \n",
      "        49.6%\t48.9%\t46.1%\t57.7%\t45.0%\t52.6%\t44.3%\n",
      "\n",
      "Epoch 181/500\n"
     ]
    },
    {
     "name": "stdout",
     "output_type": "stream",
     "text": [
      "  Training - Loss: 0.3859, Accuracy: 87.1%\n",
      "        unk  \ta    \ts2   \tc    \ts1   \tb    \ts3   \n",
      "        87.4%\t87.6%\t78.0%\t87.5%\t79.3%\t87.3%\t78.2%\n"
     ]
    },
    {
     "name": "stdout",
     "output_type": "stream",
     "text": [
      "  Validation - Loss: 1.7682, Best Loss: inf, Accuracy: 48.9%, Best Acc: 53.9\n",
      "        s3   \tb    \tunk  \ta    \ts2   \tc    \ts1   \n",
      "        47.9%\t54.6%\t44.6%\t58.1%\t45.7%\t54.5%\t45.9%\n",
      "\n",
      "Epoch 182/500\n"
     ]
    },
    {
     "name": "stdout",
     "output_type": "stream",
     "text": [
      "  Training - Loss: 0.3869, Accuracy: 87.1%\n",
      "        unk  \ta    \ts2   \ts3   \ts1   \tb    \tc    \n",
      "        87.2%\t88.1%\t78.2%\t77.5%\t79.3%\t86.2%\t87.6%\n"
     ]
    },
    {
     "name": "stdout",
     "output_type": "stream",
     "text": [
      "  Validation - Loss: 1.5718, Best Loss: inf, Accuracy: 52.1%, Best Acc: 53.9\n",
      "        s3   \tb    \tunk  \ta    \ts2   \tc    \ts1   \n",
      "        52.7%\t55.1%\t48.1%\t62.6%\t48.8%\t56.3%\t48.9%\n",
      "\n",
      "Epoch 183/500\n"
     ]
    },
    {
     "name": "stdout",
     "output_type": "stream",
     "text": [
      "  Training - Loss: 0.3775, Accuracy: 87.4%\n",
      "        unk  \ta    \ts3   \tc    \ts1   \tb    \ts2   \n",
      "        87.6%\t88.5%\t78.6%\t88.0%\t78.7%\t87.6%\t78.2%\n"
     ]
    },
    {
     "name": "stdout",
     "output_type": "stream",
     "text": [
      "  Validation - Loss: 1.6395, Best Loss: inf, Accuracy: 50.9%, Best Acc: 53.9\n",
      "        s3   \tb    \tunk  \ta    \ts2   \tc    \ts1   \n",
      "        53.8%\t53.1%\t46.7%\t60.0%\t47.5%\t55.0%\t48.3%\n",
      "\n",
      "Epoch 184/500\n"
     ]
    },
    {
     "name": "stdout",
     "output_type": "stream",
     "text": [
      "  Training - Loss: 0.3797, Accuracy: 87.5%\n",
      "        unk  \tc    \ta    \tb    \ts1   \ts3   \ts2   \n",
      "        87.6%\t88.8%\t88.2%\t87.6%\t80.3%\t78.3%\t79.9%\n"
     ]
    },
    {
     "name": "stdout",
     "output_type": "stream",
     "text": [
      "  Validation - Loss: 1.8699, Best Loss: inf, Accuracy: 47.5%, Best Acc: 53.9\n",
      "        s3   \tb    \tunk  \ta    \ts2   \tc    \ts1   \n",
      "        49.0%\t47.9%\t45.8%\t55.3%\t44.6%\t49.8%\t43.7%\n",
      "\n",
      "Epoch 185/500\n"
     ]
    },
    {
     "name": "stdout",
     "output_type": "stream",
     "text": [
      "  Training - Loss: 0.3947, Accuracy: 86.9%\n",
      "        unk  \tb    \ta    \tc    \ts2   \ts3   \ts1   \n",
      "        87.0%\t85.3%\t87.8%\t88.4%\t78.8%\t77.6%\t79.1%\n"
     ]
    },
    {
     "name": "stdout",
     "output_type": "stream",
     "text": [
      "  Validation - Loss: 1.5886, Best Loss: inf, Accuracy: 52.2%, Best Acc: 53.9\n",
      "        s3   \tb    \tunk  \ta    \ts2   \tc    \ts1   \n",
      "        54.6%\t55.4%\t49.0%\t60.2%\t48.8%\t54.0%\t49.8%\n",
      "\n",
      "Epoch 186/500\n"
     ]
    },
    {
     "name": "stdout",
     "output_type": "stream",
     "text": [
      "  Training - Loss: 0.3869, Accuracy: 87.1%\n",
      "        unk  \ta    \ts3   \ts2   \ts1   \tb    \tc    \n",
      "        87.3%\t88.2%\t78.8%\t77.0%\t78.0%\t87.2%\t86.9%\n"
     ]
    },
    {
     "name": "stdout",
     "output_type": "stream",
     "text": [
      "  Validation - Loss: 1.6088, Best Loss: inf, Accuracy: 51.8%, Best Acc: 53.9\n",
      "        s3   \tb    \tunk  \ta    \ts2   \tc    \ts1   \n",
      "        55.0%\t54.0%\t48.3%\t61.0%\t49.1%\t54.6%\t47.3%\n",
      "\n",
      "Epoch 187/500\n"
     ]
    },
    {
     "name": "stdout",
     "output_type": "stream",
     "text": [
      "  Training - Loss: 0.3786, Accuracy: 87.5%\n",
      "        unk  \ta    \ts3   \tb    \ts1   \tc    \ts2   \n",
      "        87.6%\t88.3%\t79.0%\t88.8%\t78.8%\t88.8%\t77.5%\n"
     ]
    },
    {
     "name": "stdout",
     "output_type": "stream",
     "text": [
      "  Validation - Loss: 1.6532, Best Loss: inf, Accuracy: 50.4%, Best Acc: 53.9\n",
      "        s3   \tb    \tunk  \ta    \ts2   \tc    \ts1   \n",
      "        52.6%\t50.1%\t48.1%\t58.4%\t46.3%\t53.3%\t48.6%\n",
      "\n",
      "Epoch 188/500\n"
     ]
    },
    {
     "name": "stdout",
     "output_type": "stream",
     "text": [
      "  Training - Loss: 0.3842, Accuracy: 87.3%\n",
      "        s1   \tunk  \ta    \ts2   \tc    \tb    \ts3   \n",
      "        80.2%\t87.4%\t88.0%\t77.7%\t87.4%\t87.9%\t78.4%\n"
     ]
    },
    {
     "name": "stdout",
     "output_type": "stream",
     "text": [
      "  Validation - Loss: 1.6585, Best Loss: inf, Accuracy: 51.4%, Best Acc: 53.9\n",
      "        s3   \tb    \tunk  \ta    \ts2   \tc    \ts1   \n",
      "        53.1%\t52.6%\t48.9%\t59.8%\t48.1%\t56.3%\t45.5%\n",
      "\n",
      "Epoch 189/500\n"
     ]
    },
    {
     "name": "stdout",
     "output_type": "stream",
     "text": [
      "  Training - Loss: 0.3815, Accuracy: 87.3%\n",
      "        s1   \tunk  \ta    \ts3   \ts2   \tb    \tc    \n",
      "        80.2%\t87.5%\t88.2%\t79.0%\t78.6%\t85.6%\t87.9%\n"
     ]
    },
    {
     "name": "stdout",
     "output_type": "stream",
     "text": [
      "  Validation - Loss: 1.7361, Best Loss: inf, Accuracy: 49.6%, Best Acc: 53.9\n",
      "        s3   \tb    \tunk  \ta    \ts2   \tc    \ts1   \n",
      "        49.4%\t53.0%\t45.8%\t58.3%\t47.0%\t54.4%\t47.1%\n",
      "\n",
      "Epoch 190/500\n"
     ]
    },
    {
     "name": "stdout",
     "output_type": "stream",
     "text": [
      "  Training - Loss: 0.3763, Accuracy: 87.5%\n",
      "        unk  \ts3   \ta    \tb    \ts2   \ts1   \tc    \n",
      "        87.7%\t78.8%\t88.5%\t86.1%\t77.8%\t79.5%\t86.9%\n"
     ]
    },
    {
     "name": "stdout",
     "output_type": "stream",
     "text": [
      "  Validation - Loss: 1.7054, Best Loss: inf, Accuracy: 50.3%, Best Acc: 53.9\n",
      "        s3   \tb    \tunk  \ta    \ts2   \tc    \ts1   \n",
      "        52.9%\t51.4%\t47.6%\t58.4%\t46.2%\t54.5%\t47.0%\n",
      "\n",
      "Epoch 191/500\n"
     ]
    },
    {
     "name": "stdout",
     "output_type": "stream",
     "text": [
      "  Training - Loss: 0.3771, Accuracy: 87.4%\n",
      "        unk  \ta    \tc    \ts3   \tb    \ts1   \ts2   \n",
      "        87.6%\t88.3%\t88.1%\t79.2%\t88.2%\t79.6%\t77.4%\n"
     ]
    },
    {
     "name": "stdout",
     "output_type": "stream",
     "text": [
      "  Validation - Loss: 1.9501, Best Loss: inf, Accuracy: 45.9%, Best Acc: 53.9\n",
      "        s3   \tb    \tunk  \ta    \ts2   \tc    \ts1   \n",
      "        48.1%\t47.2%\t43.5%\t52.9%\t42.5%\t51.5%\t40.0%\n",
      "\n",
      "Epoch 192/500\n"
     ]
    },
    {
     "name": "stdout",
     "output_type": "stream",
     "text": [
      "  Training - Loss: 0.3657, Accuracy: 87.9%\n",
      "        unk  \ts3   \ta    \ts2   \ts1   \tc    \tb    \n",
      "        88.1%\t78.9%\t89.1%\t78.6%\t79.6%\t89.1%\t86.5%\n"
     ]
    },
    {
     "name": "stdout",
     "output_type": "stream",
     "text": [
      "  Validation - Loss: 1.6701, Best Loss: inf, Accuracy: 49.9%, Best Acc: 53.9\n",
      "        s3   \tb    \tunk  \ta    \ts2   \tc    \ts1   \n",
      "        52.3%\t49.8%\t47.0%\t59.6%\t45.6%\t54.2%\t47.2%\n",
      "\n",
      "Epoch 193/500\n"
     ]
    },
    {
     "name": "stdout",
     "output_type": "stream",
     "text": [
      "  Training - Loss: 0.3714, Accuracy: 87.7%\n",
      "        unk  \ta    \ts3   \tc    \ts2   \ts1   \tb    \n",
      "        87.9%\t88.6%\t79.5%\t88.2%\t79.4%\t78.5%\t87.6%\n"
     ]
    },
    {
     "name": "stdout",
     "output_type": "stream",
     "text": [
      "  Validation - Loss: 1.7324, Best Loss: inf, Accuracy: 49.5%, Best Acc: 53.9\n",
      "        s3   \tb    \tunk  \ta    \ts2   \tc    \ts1   \n",
      "        51.5%\t51.1%\t46.4%\t57.2%\t46.9%\t53.5%\t45.8%\n",
      "\n",
      "Epoch 194/500\n"
     ]
    },
    {
     "name": "stdout",
     "output_type": "stream",
     "text": [
      "  Training - Loss: 0.3760, Accuracy: 87.6%\n",
      "        unk  \ta    \ts2   \tc    \tb    \ts3   \ts1   \n",
      "        87.8%\t88.3%\t78.4%\t88.6%\t88.0%\t80.3%\t79.9%\n"
     ]
    },
    {
     "name": "stdout",
     "output_type": "stream",
     "text": [
      "  Validation - Loss: 1.6800, Best Loss: inf, Accuracy: 51.4%, Best Acc: 53.9\n",
      "        s3   \tb    \tunk  \ta    \ts2   \tc    \ts1   \n",
      "        53.0%\t52.1%\t48.3%\t60.6%\t48.6%\t56.0%\t47.1%\n",
      "\n",
      "Epoch 195/500\n"
     ]
    },
    {
     "name": "stdout",
     "output_type": "stream",
     "text": [
      "  Training - Loss: 0.3670, Accuracy: 87.8%\n",
      "        unk  \ta    \ts1   \ts3   \tc    \tb    \ts2   \n",
      "        88.1%\t88.1%\t80.9%\t78.4%\t88.3%\t88.6%\t79.1%\n"
     ]
    },
    {
     "name": "stdout",
     "output_type": "stream",
     "text": [
      "  Validation - Loss: 1.6238, Best Loss: inf, Accuracy: 51.7%, Best Acc: 53.9\n",
      "        s3   \tb    \tunk  \ta    \ts2   \tc    \ts1   \n",
      "        53.5%\t54.4%\t48.9%\t59.9%\t47.9%\t56.7%\t46.3%\n",
      "\n",
      "Epoch 196/500\n"
     ]
    },
    {
     "name": "stdout",
     "output_type": "stream",
     "text": [
      "  Training - Loss: 0.3755, Accuracy: 87.6%\n",
      "        unk  \ta    \tc    \ts1   \ts3   \tb    \ts2   \n",
      "        87.8%\t88.1%\t89.0%\t79.5%\t79.0%\t87.9%\t78.4%\n"
     ]
    },
    {
     "name": "stdout",
     "output_type": "stream",
     "text": [
      "  Validation - Loss: 1.5717, Best Loss: inf, Accuracy: 53.4%, Best Acc: 53.9\n",
      "        s3   \tb    \tunk  \ta    \ts2   \tc    \ts1   \n",
      "        55.6%\t52.8%\t51.1%\t62.5%\t51.6%\t55.3%\t49.1%\n",
      "\n",
      "Epoch 197/500\n"
     ]
    },
    {
     "name": "stdout",
     "output_type": "stream",
     "text": [
      "  Training - Loss: 0.3757, Accuracy: 87.6%\n",
      "        unk  \ta    \tc    \ts1   \ts3   \tb    \ts2   \n",
      "        87.7%\t88.4%\t88.2%\t79.7%\t79.1%\t87.9%\t78.1%\n"
     ]
    },
    {
     "name": "stdout",
     "output_type": "stream",
     "text": [
      "  Validation - Loss: 2.2927, Best Loss: inf, Accuracy: 39.7%, Best Acc: 53.9\n",
      "        s3   \tb    \tunk  \ta    \ts2   \tc    \ts1   \n",
      "        39.5%\t42.4%\t36.6%\t50.7%\t35.0%\t45.8%\t33.9%\n",
      "\n",
      "Epoch 198/500\n"
     ]
    },
    {
     "name": "stdout",
     "output_type": "stream",
     "text": [
      "  Training - Loss: 0.3657, Accuracy: 87.9%\n",
      "        unk  \ta    \ts1   \ts3   \ts2   \tb    \tc    \n",
      "        88.1%\t88.8%\t79.9%\t78.0%\t78.6%\t87.4%\t88.8%\n"
     ]
    },
    {
     "name": "stdout",
     "output_type": "stream",
     "text": [
      "  Validation - Loss: 1.5935, Best Loss: inf, Accuracy: 51.6%, Best Acc: 53.9\n",
      "        s3   \tb    \tunk  \ta    \ts2   \tc    \ts1   \n",
      "        53.5%\t55.2%\t47.7%\t60.9%\t49.2%\t55.2%\t47.8%\n",
      "\n",
      "Epoch 199/500\n"
     ]
    },
    {
     "name": "stdout",
     "output_type": "stream",
     "text": [
      "  Training - Loss: 0.3580, Accuracy: 88.2%\n",
      "        unk  \ta    \ts3   \ts1   \ts2   \tc    \tb    \n",
      "        88.3%\t89.1%\t80.6%\t80.3%\t78.9%\t89.3%\t88.3%\n"
     ]
    },
    {
     "name": "stdout",
     "output_type": "stream",
     "text": [
      "  Validation - Loss: 1.6599, Best Loss: inf, Accuracy: 50.3%, Best Acc: 53.9\n",
      "        s3   \tb    \tunk  \ta    \ts2   \tc    \ts1   \n",
      "        51.4%\t54.9%\t46.6%\t59.1%\t48.8%\t54.1%\t44.8%\n",
      "\n",
      "Epoch 200/500\n"
     ]
    },
    {
     "name": "stdout",
     "output_type": "stream",
     "text": [
      "  Training - Loss: 0.3572, Accuracy: 88.2%\n",
      "        unk  \ta    \ts3   \ts2   \tb    \ts1   \tc    \n",
      "        88.5%\t88.7%\t80.3%\t79.3%\t87.0%\t79.2%\t88.9%\n"
     ]
    },
    {
     "name": "stdout",
     "output_type": "stream",
     "text": [
      "  Validation - Loss: 1.7270, Best Loss: inf, Accuracy: 50.5%, Best Acc: 53.9\n",
      "        s3   \tb    \tunk  \ta    \ts2   \tc    \ts1   \n",
      "        51.2%\t52.5%\t47.0%\t59.6%\t48.6%\t56.3%\t45.2%\n",
      "\n",
      "Epoch 201/500\n"
     ]
    },
    {
     "name": "stdout",
     "output_type": "stream",
     "text": [
      "  Training - Loss: 0.3617, Accuracy: 88.0%\n",
      "        unk  \ta    \tb    \ts2   \ts3   \ts1   \tc    \n",
      "        88.3%\t88.5%\t88.0%\t77.9%\t78.7%\t80.4%\t88.5%\n"
     ]
    },
    {
     "name": "stdout",
     "output_type": "stream",
     "text": [
      "  Validation - Loss: 1.6544, Best Loss: inf, Accuracy: 50.6%, Best Acc: 53.9\n",
      "        s3   \tb    \tunk  \ta    \ts2   \tc    \ts1   \n",
      "        51.8%\t51.1%\t48.0%\t58.1%\t46.9%\t53.5%\t50.1%\n",
      "\n",
      "Epoch 202/500\n"
     ]
    },
    {
     "name": "stdout",
     "output_type": "stream",
     "text": [
      "  Training - Loss: 0.3660, Accuracy: 87.9%\n",
      "        unk  \ta    \tc    \ts2   \ts1   \ts3   \tb    \n",
      "        88.1%\t88.8%\t89.0%\t79.1%\t80.7%\t80.0%\t86.1%\n"
     ]
    },
    {
     "name": "stdout",
     "output_type": "stream",
     "text": [
      "  Validation - Loss: 1.6115, Best Loss: inf, Accuracy: 52.2%, Best Acc: 53.9\n",
      "        s3   \tb    \tunk  \ta    \ts2   \tc    \ts1   \n",
      "        54.5%\t53.6%\t48.6%\t59.7%\t49.9%\t55.7%\t50.2%\n",
      "\n",
      "Epoch 203/500\n"
     ]
    },
    {
     "name": "stdout",
     "output_type": "stream",
     "text": [
      "  Training - Loss: 0.3644, Accuracy: 87.9%\n",
      "        unk  \ta    \ts2   \ts3   \tc    \tb    \ts1   \n",
      "        88.1%\t88.8%\t77.5%\t79.0%\t90.6%\t87.6%\t79.7%\n"
     ]
    },
    {
     "name": "stdout",
     "output_type": "stream",
     "text": [
      "  Validation - Loss: 1.8459, Best Loss: inf, Accuracy: 47.8%, Best Acc: 53.9\n",
      "        s3   \tb    \tunk  \ta    \ts2   \tc    \ts1   \n",
      "        47.0%\t49.3%\t44.0%\t57.0%\t46.2%\t51.9%\t47.1%\n",
      "\n",
      "Epoch 204/500\n"
     ]
    },
    {
     "name": "stdout",
     "output_type": "stream",
     "text": [
      "  Training - Loss: 0.3552, Accuracy: 88.3%\n",
      "        unk  \ta    \ts3   \ts1   \ts2   \tb    \tc    \n",
      "        88.5%\t89.0%\t80.2%\t79.6%\t79.6%\t88.7%\t89.5%\n"
     ]
    },
    {
     "name": "stdout",
     "output_type": "stream",
     "text": [
      "  Validation - Loss: 1.5561, Best Loss: inf, Accuracy: 54.2%, Best Acc: 53.9\n",
      "        s3   \tb    \tunk  \ta    \ts2   \tc    \ts1   \n",
      "        55.4%\t56.6%\t52.0%\t59.7%\t53.8%\t57.0%\t49.5%\n",
      "\n",
      "Epoch 205/500\n"
     ]
    },
    {
     "name": "stdout",
     "output_type": "stream",
     "text": [
      "  Training - Loss: 0.3619, Accuracy: 88.0%\n",
      "        unk  \tb    \ta    \ts2   \ts1   \ts3   \tc    \n",
      "        88.1%\t86.2%\t89.0%\t80.6%\t80.6%\t81.1%\t88.9%\n"
     ]
    },
    {
     "name": "stdout",
     "output_type": "stream",
     "text": [
      "  Validation - Loss: 1.7469, Best Loss: inf, Accuracy: 49.8%, Best Acc: 54.2\n",
      "        s3   \tb    \tunk  \ta    \ts2   \tc    \ts1   \n",
      "        49.8%\t52.5%\t47.4%\t57.4%\t45.7%\t52.9%\t47.5%\n",
      "\n",
      "Epoch 206/500\n"
     ]
    },
    {
     "name": "stdout",
     "output_type": "stream",
     "text": [
      "  Training - Loss: 0.3557, Accuracy: 88.3%\n",
      "        unk  \tc    \tb    \ta    \ts1   \ts3   \ts2   \n",
      "        88.5%\t89.5%\t87.3%\t88.9%\t79.9%\t79.3%\t79.1%\n"
     ]
    },
    {
     "name": "stdout",
     "output_type": "stream",
     "text": [
      "  Validation - Loss: 1.8264, Best Loss: inf, Accuracy: 48.7%, Best Acc: 54.2\n",
      "        s3   \tb    \tunk  \ta    \ts2   \tc    \ts1   \n",
      "        50.0%\t51.8%\t44.7%\t57.6%\t44.3%\t54.2%\t46.1%\n",
      "\n",
      "Epoch 207/500\n"
     ]
    },
    {
     "name": "stdout",
     "output_type": "stream",
     "text": [
      "  Training - Loss: 0.3591, Accuracy: 88.1%\n",
      "        unk  \ta    \tc    \ts2   \ts1   \tb    \ts3   \n",
      "        88.2%\t89.0%\t89.0%\t78.2%\t79.8%\t88.0%\t79.7%\n"
     ]
    },
    {
     "name": "stdout",
     "output_type": "stream",
     "text": [
      "  Validation - Loss: 1.6557, Best Loss: inf, Accuracy: 50.5%, Best Acc: 54.2\n",
      "        s3   \tb    \tunk  \ta    \ts2   \tc    \ts1   \n",
      "        52.0%\t52.3%\t46.9%\t58.7%\t47.6%\t55.8%\t47.8%\n",
      "\n",
      "Epoch 208/500\n"
     ]
    },
    {
     "name": "stdout",
     "output_type": "stream",
     "text": [
      "  Training - Loss: 0.3550, Accuracy: 88.3%\n",
      "        unk  \ta    \ts2   \tc    \ts3   \tb    \ts1   \n",
      "        88.5%\t89.0%\t80.6%\t89.6%\t78.5%\t88.7%\t78.3%\n"
     ]
    },
    {
     "name": "stdout",
     "output_type": "stream",
     "text": [
      "  Validation - Loss: 1.5508, Best Loss: inf, Accuracy: 52.8%, Best Acc: 54.2\n",
      "        s3   \tb    \tunk  \ta    \ts2   \tc    \ts1   \n",
      "        54.0%\t54.2%\t49.1%\t63.1%\t50.4%\t56.5%\t49.8%\n",
      "\n",
      "Epoch 209/500\n"
     ]
    },
    {
     "name": "stdout",
     "output_type": "stream",
     "text": [
      "  Training - Loss: 0.3490, Accuracy: 88.5%\n",
      "        unk  \ts1   \ta    \tb    \tc    \ts3   \ts2   \n",
      "        88.6%\t80.2%\t89.5%\t88.5%\t89.2%\t81.2%\t79.8%\n"
     ]
    },
    {
     "name": "stdout",
     "output_type": "stream",
     "text": [
      "  Validation - Loss: 1.7203, Best Loss: inf, Accuracy: 50.8%, Best Acc: 54.2\n",
      "        s3   \tb    \tunk  \ta    \ts2   \tc    \ts1   \n",
      "        51.8%\t54.9%\t47.8%\t57.9%\t48.7%\t54.0%\t46.6%\n",
      "\n",
      "Epoch 210/500\n"
     ]
    },
    {
     "name": "stdout",
     "output_type": "stream",
     "text": [
      "  Training - Loss: 0.3531, Accuracy: 88.3%\n",
      "        unk  \ts2   \ta    \ts1   \tb    \ts3   \tc    \n",
      "        88.5%\t79.4%\t88.9%\t80.8%\t88.0%\t80.7%\t90.2%\n"
     ]
    },
    {
     "name": "stdout",
     "output_type": "stream",
     "text": [
      "  Validation - Loss: 1.4906, Best Loss: inf, Accuracy: 54.3%, Best Acc: 54.2\n",
      "        s3   \tb    \tunk  \ta    \ts2   \tc    \ts1   \n",
      "        54.7%\t57.0%\t51.4%\t61.1%\t54.2%\t57.2%\t49.9%\n",
      "\n",
      "Epoch 211/500\n"
     ]
    },
    {
     "name": "stdout",
     "output_type": "stream",
     "text": [
      "  Training - Loss: 0.3519, Accuracy: 88.3%\n",
      "        unk  \ts1   \ta    \tc    \tb    \ts2   \ts3   \n",
      "        88.5%\t79.7%\t89.0%\t89.3%\t88.9%\t78.7%\t80.0%\n"
     ]
    },
    {
     "name": "stdout",
     "output_type": "stream",
     "text": [
      "  Validation - Loss: 1.6122, Best Loss: inf, Accuracy: 51.8%, Best Acc: 54.3\n",
      "        s3   \tb    \tunk  \ta    \ts2   \tc    \ts1   \n",
      "        54.1%\t53.5%\t48.8%\t60.3%\t48.5%\t55.3%\t48.3%\n",
      "\n",
      "Epoch 212/500\n"
     ]
    },
    {
     "name": "stdout",
     "output_type": "stream",
     "text": [
      "  Training - Loss: 0.3576, Accuracy: 88.2%\n",
      "        unk  \ta    \ts1   \ts2   \ts3   \tb    \tc    \n",
      "        88.3%\t89.2%\t79.6%\t80.0%\t79.6%\t89.7%\t90.1%\n"
     ]
    },
    {
     "name": "stdout",
     "output_type": "stream",
     "text": [
      "  Validation - Loss: 1.5433, Best Loss: inf, Accuracy: 52.8%, Best Acc: 54.3\n",
      "        s3   \tb    \tunk  \ta    \ts2   \tc    \ts1   \n",
      "        53.7%\t54.1%\t49.7%\t62.1%\t49.3%\t56.4%\t50.7%\n",
      "\n",
      "Epoch 213/500\n"
     ]
    },
    {
     "name": "stdout",
     "output_type": "stream",
     "text": [
      "  Training - Loss: 0.3634, Accuracy: 88.0%\n",
      "        unk  \ta    \ts1   \tb    \ts3   \ts2   \tc    \n",
      "        88.2%\t88.6%\t80.5%\t87.7%\t79.4%\t80.9%\t89.5%\n"
     ]
    },
    {
     "name": "stdout",
     "output_type": "stream",
     "text": [
      "  Validation - Loss: 1.6896, Best Loss: inf, Accuracy: 51.2%, Best Acc: 54.3\n",
      "        s3   \tb    \tunk  \ta    \ts2   \tc    \ts1   \n",
      "        53.1%\t53.9%\t48.4%\t59.5%\t49.2%\t53.9%\t46.4%\n",
      "\n",
      "Epoch 214/500\n"
     ]
    },
    {
     "name": "stdout",
     "output_type": "stream",
     "text": [
      "  Training - Loss: 0.3483, Accuracy: 88.6%\n",
      "        unk  \ta    \ts2   \ts1   \tc    \tb    \ts3   \n",
      "        88.7%\t89.6%\t79.4%\t82.0%\t88.9%\t88.3%\t78.7%\n"
     ]
    },
    {
     "name": "stdout",
     "output_type": "stream",
     "text": [
      "  Validation - Loss: 1.7144, Best Loss: inf, Accuracy: 50.3%, Best Acc: 54.3\n",
      "        s3   \tb    \tunk  \ta    \ts2   \tc    \ts1   \n",
      "        52.7%\t50.5%\t46.9%\t60.5%\t45.0%\t55.2%\t48.2%\n",
      "\n",
      "Epoch 215/500\n"
     ]
    },
    {
     "name": "stdout",
     "output_type": "stream",
     "text": [
      "  Training - Loss: 0.3478, Accuracy: 88.6%\n",
      "        unk  \tc    \ts3   \ta    \ts1   \tb    \ts2   \n",
      "        88.8%\t90.2%\t79.9%\t89.2%\t81.7%\t88.2%\t80.2%\n"
     ]
    },
    {
     "name": "stdout",
     "output_type": "stream",
     "text": [
      "  Validation - Loss: 1.6354, Best Loss: inf, Accuracy: 51.5%, Best Acc: 54.3\n",
      "        s3   \tb    \tunk  \ta    \ts2   \tc    \ts1   \n",
      "        55.6%\t51.4%\t48.6%\t62.6%\t48.9%\t54.4%\t44.6%\n",
      "\n",
      "Epoch 216/500\n"
     ]
    },
    {
     "name": "stdout",
     "output_type": "stream",
     "text": [
      "  Training - Loss: 0.3437, Accuracy: 88.7%\n",
      "        unk  \ta    \ts3   \ts2   \ts1   \tc    \tb    \n",
      "        88.9%\t89.5%\t79.8%\t80.7%\t81.6%\t88.7%\t87.6%\n"
     ]
    },
    {
     "name": "stdout",
     "output_type": "stream",
     "text": [
      "  Validation - Loss: 1.5637, Best Loss: inf, Accuracy: 52.2%, Best Acc: 54.3\n",
      "        s3   \tb    \tunk  \ta    \ts2   \tc    \ts1   \n",
      "        53.9%\t54.3%\t48.9%\t59.3%\t51.1%\t54.6%\t49.8%\n",
      "\n",
      "Epoch 217/500\n"
     ]
    },
    {
     "name": "stdout",
     "output_type": "stream",
     "text": [
      "  Training - Loss: 0.3468, Accuracy: 88.6%\n",
      "        unk  \tc    \ta    \ts2   \ts3   \tb    \ts1   \n",
      "        88.7%\t88.9%\t89.7%\t79.0%\t80.2%\t88.7%\t81.0%\n"
     ]
    },
    {
     "name": "stdout",
     "output_type": "stream",
     "text": [
      "  Validation - Loss: 1.5872, Best Loss: inf, Accuracy: 52.3%, Best Acc: 54.3\n",
      "        s3   \tb    \tunk  \ta    \ts2   \tc    \ts1   \n",
      "        53.7%\t53.2%\t50.2%\t61.2%\t50.9%\t55.3%\t46.0%\n",
      "\n",
      "Epoch 218/500\n"
     ]
    },
    {
     "name": "stdout",
     "output_type": "stream",
     "text": [
      "  Training - Loss: 0.3373, Accuracy: 88.9%\n",
      "        unk  \ta    \ts1   \tb    \tc    \ts3   \ts2   \n",
      "        89.1%\t89.7%\t81.3%\t88.5%\t89.9%\t80.7%\t80.1%\n"
     ]
    },
    {
     "name": "stdout",
     "output_type": "stream",
     "text": [
      "  Validation - Loss: 1.5999, Best Loss: inf, Accuracy: 52.9%, Best Acc: 54.3\n",
      "        s3   \tb    \tunk  \ta    \ts2   \tc    \ts1   \n",
      "        53.6%\t53.9%\t49.7%\t61.9%\t50.6%\t56.8%\t50.3%\n",
      "\n",
      "Epoch 219/500\n"
     ]
    },
    {
     "name": "stdout",
     "output_type": "stream",
     "text": [
      "  Training - Loss: 0.3491, Accuracy: 88.5%\n",
      "        unk  \ts2   \ta    \ts1   \ts3   \tb    \tc    \n",
      "        88.6%\t78.9%\t89.5%\t80.6%\t79.9%\t88.4%\t87.9%\n"
     ]
    },
    {
     "name": "stdout",
     "output_type": "stream",
     "text": [
      "  Validation - Loss: 1.6746, Best Loss: inf, Accuracy: 50.4%, Best Acc: 54.3\n",
      "        s3   \tb    \tunk  \ta    \ts2   \tc    \ts1   \n",
      "        51.0%\t52.4%\t47.0%\t60.5%\t46.8%\t54.6%\t47.0%\n",
      "\n",
      "Epoch 220/500\n"
     ]
    },
    {
     "name": "stdout",
     "output_type": "stream",
     "text": [
      "  Training - Loss: 0.3431, Accuracy: 88.7%\n",
      "        unk  \ts3   \ta    \tb    \ts2   \ts1   \tc    \n",
      "        88.9%\t81.3%\t89.7%\t87.9%\t79.4%\t80.9%\t88.0%\n"
     ]
    },
    {
     "name": "stdout",
     "output_type": "stream",
     "text": [
      "  Validation - Loss: 1.7437, Best Loss: inf, Accuracy: 50.8%, Best Acc: 54.3\n",
      "        s3   \tb    \tunk  \ta    \ts2   \tc    \ts1   \n",
      "        53.3%\t49.9%\t48.7%\t57.8%\t49.6%\t52.2%\t48.2%\n",
      "\n",
      "Epoch 221/500\n"
     ]
    },
    {
     "name": "stdout",
     "output_type": "stream",
     "text": [
      "  Training - Loss: 0.3441, Accuracy: 88.6%\n",
      "        unk  \ta    \tc    \ts2   \ts3   \tb    \ts1   \n",
      "        88.8%\t89.3%\t90.0%\t79.1%\t80.4%\t87.1%\t81.5%\n"
     ]
    },
    {
     "name": "stdout",
     "output_type": "stream",
     "text": [
      "  Validation - Loss: 1.6350, Best Loss: inf, Accuracy: 52.2%, Best Acc: 54.3\n",
      "        s3   \tb    \tunk  \ta    \ts2   \tc    \ts1   \n",
      "        54.3%\t55.5%\t48.4%\t61.7%\t49.3%\t55.8%\t48.1%\n",
      "\n",
      "Epoch 222/500\n"
     ]
    },
    {
     "name": "stdout",
     "output_type": "stream",
     "text": [
      "  Training - Loss: 0.3392, Accuracy: 88.8%\n",
      "        unk  \ta    \ts2   \ts3   \tb    \tc    \ts1   \n",
      "        89.0%\t89.6%\t81.3%\t80.2%\t89.5%\t90.0%\t80.5%\n"
     ]
    },
    {
     "name": "stdout",
     "output_type": "stream",
     "text": [
      "  Validation - Loss: 1.5900, Best Loss: inf, Accuracy: 52.9%, Best Acc: 54.3\n",
      "        s3   \tb    \tunk  \ta    \ts2   \tc    \ts1   \n",
      "        56.8%\t56.1%\t48.8%\t62.4%\t50.0%\t57.1%\t47.9%\n",
      "\n",
      "Epoch 223/500\n"
     ]
    },
    {
     "name": "stdout",
     "output_type": "stream",
     "text": [
      "  Training - Loss: 0.3391, Accuracy: 88.8%\n",
      "        unk  \ta    \tb    \ts1   \ts2   \ts3   \tc    \n",
      "        89.0%\t89.5%\t88.0%\t81.8%\t80.3%\t81.0%\t88.7%\n"
     ]
    },
    {
     "name": "stdout",
     "output_type": "stream",
     "text": [
      "  Validation - Loss: 1.5304, Best Loss: inf, Accuracy: 53.8%, Best Acc: 54.3\n",
      "        s3   \tb    \tunk  \ta    \ts2   \tc    \ts1   \n",
      "        55.4%\t54.8%\t50.8%\t63.1%\t51.7%\t56.2%\t51.0%\n",
      "\n",
      "Epoch 224/500\n"
     ]
    },
    {
     "name": "stdout",
     "output_type": "stream",
     "text": [
      "  Training - Loss: 0.3341, Accuracy: 89.1%\n",
      "        unk  \ta    \ts3   \tc    \ts1   \tb    \ts2   \n",
      "        89.2%\t89.9%\t81.3%\t89.8%\t81.6%\t89.2%\t79.4%\n"
     ]
    },
    {
     "name": "stdout",
     "output_type": "stream",
     "text": [
      "  Validation - Loss: 1.6559, Best Loss: inf, Accuracy: 50.9%, Best Acc: 54.3\n",
      "        s3   \tb    \tunk  \ta    \ts2   \tc    \ts1   \n",
      "        51.0%\t56.7%\t47.4%\t59.2%\t47.8%\t54.4%\t46.4%\n",
      "\n",
      "Epoch 225/500\n"
     ]
    },
    {
     "name": "stdout",
     "output_type": "stream",
     "text": [
      "  Training - Loss: 0.3348, Accuracy: 89.0%\n",
      "        unk  \tc    \ta    \tb    \ts3   \ts1   \ts2   \n",
      "        89.2%\t89.7%\t89.8%\t89.1%\t81.1%\t81.3%\t80.7%\n"
     ]
    },
    {
     "name": "stdout",
     "output_type": "stream",
     "text": [
      "  Validation - Loss: 1.5302, Best Loss: inf, Accuracy: 54.2%, Best Acc: 54.3\n",
      "        s3   \tb    \tunk  \ta    \ts2   \tc    \ts1   \n",
      "        54.1%\t57.1%\t51.1%\t62.3%\t52.0%\t58.5%\t50.8%\n",
      "\n",
      "Epoch 226/500\n"
     ]
    },
    {
     "name": "stdout",
     "output_type": "stream",
     "text": [
      "  Training - Loss: 0.3394, Accuracy: 88.8%\n",
      "        unk  \ta    \tc    \ts3   \ts1   \tb    \ts2   \n",
      "        89.0%\t89.8%\t89.4%\t80.2%\t82.7%\t88.8%\t78.5%\n"
     ]
    },
    {
     "name": "stdout",
     "output_type": "stream",
     "text": [
      "  Validation - Loss: 1.7943, Best Loss: inf, Accuracy: 48.4%, Best Acc: 54.3\n",
      "        s3   \tb    \tunk  \ta    \ts2   \tc    \ts1   \n",
      "        48.0%\t54.0%\t44.8%\t56.4%\t46.7%\t51.8%\t44.4%\n",
      "\n",
      "Epoch 227/500\n"
     ]
    },
    {
     "name": "stdout",
     "output_type": "stream",
     "text": [
      "  Training - Loss: 0.3392, Accuracy: 88.8%\n",
      "        b    \ta    \tunk  \ts1   \ts3   \ts2   \tc    \n",
      "        88.3%\t89.4%\t89.0%\t80.8%\t80.0%\t80.1%\t89.1%\n"
     ]
    },
    {
     "name": "stdout",
     "output_type": "stream",
     "text": [
      "  Validation - Loss: 1.6612, Best Loss: inf, Accuracy: 51.2%, Best Acc: 54.3\n",
      "        s3   \tb    \tunk  \ta    \ts2   \tc    \ts1   \n",
      "        52.6%\t54.3%\t48.4%\t58.9%\t49.7%\t54.2%\t46.2%\n",
      "\n",
      "Epoch 228/500\n"
     ]
    },
    {
     "name": "stdout",
     "output_type": "stream",
     "text": [
      "  Training - Loss: 0.3369, Accuracy: 89.0%\n",
      "        unk  \ta    \ts3   \tb    \ts1   \tc    \ts2   \n",
      "        89.3%\t89.6%\t79.9%\t87.2%\t80.8%\t89.8%\t80.2%\n"
     ]
    },
    {
     "name": "stdout",
     "output_type": "stream",
     "text": [
      "  Validation - Loss: 1.5964, Best Loss: inf, Accuracy: 51.7%, Best Acc: 54.3\n",
      "        s3   \tb    \tunk  \ta    \ts2   \tc    \ts1   \n",
      "        54.6%\t52.1%\t48.8%\t61.7%\t48.6%\t54.1%\t47.8%\n",
      "\n",
      "Epoch 229/500\n"
     ]
    },
    {
     "name": "stdout",
     "output_type": "stream",
     "text": [
      "  Training - Loss: 0.3290, Accuracy: 89.2%\n",
      "        unk  \ts1   \ta    \ts3   \ts2   \tc    \tb    \n",
      "        89.5%\t82.5%\t89.5%\t82.0%\t81.8%\t89.6%\t88.8%\n"
     ]
    },
    {
     "name": "stdout",
     "output_type": "stream",
     "text": [
      "  Validation - Loss: 1.6825, Best Loss: inf, Accuracy: 50.4%, Best Acc: 54.3\n",
      "        s3   \tb    \tunk  \ta    \ts2   \tc    \ts1   \n",
      "        51.1%\t54.5%\t46.5%\t58.9%\t47.6%\t55.7%\t46.1%\n",
      "\n",
      "Epoch 230/500\n"
     ]
    },
    {
     "name": "stdout",
     "output_type": "stream",
     "text": [
      "  Training - Loss: 0.3340, Accuracy: 89.0%\n",
      "        a    \tunk  \ts1   \tc    \ts3   \ts2   \tb    \n",
      "        89.6%\t89.2%\t79.7%\t90.3%\t80.3%\t81.7%\t88.3%\n"
     ]
    },
    {
     "name": "stdout",
     "output_type": "stream",
     "text": [
      "  Validation - Loss: 1.6223, Best Loss: inf, Accuracy: 51.5%, Best Acc: 54.3\n",
      "        s3   \tb    \tunk  \ta    \ts2   \tc    \ts1   \n",
      "        52.2%\t52.5%\t48.7%\t59.3%\t50.1%\t55.4%\t48.0%\n",
      "\n",
      "Epoch 231/500\n"
     ]
    },
    {
     "name": "stdout",
     "output_type": "stream",
     "text": [
      "  Training - Loss: 0.3324, Accuracy: 89.1%\n",
      "        s3   \tunk  \ta    \ts2   \tb    \ts1   \tc    \n",
      "        79.8%\t89.3%\t89.7%\t80.6%\t88.5%\t82.1%\t89.9%\n"
     ]
    },
    {
     "name": "stdout",
     "output_type": "stream",
     "text": [
      "  Validation - Loss: 1.7603, Best Loss: inf, Accuracy: 49.2%, Best Acc: 54.3\n",
      "        s3   \tb    \tunk  \ta    \ts2   \tc    \ts1   \n",
      "        51.6%\t50.4%\t46.7%\t59.1%\t45.0%\t54.6%\t42.4%\n",
      "\n",
      "Epoch 232/500\n"
     ]
    },
    {
     "name": "stdout",
     "output_type": "stream",
     "text": [
      "  Training - Loss: 0.3284, Accuracy: 89.2%\n",
      "        unk  \tb    \ta    \ts3   \ts1   \tc    \ts2   \n",
      "        89.3%\t89.2%\t89.9%\t80.2%\t83.0%\t90.3%\t82.0%\n"
     ]
    },
    {
     "name": "stdout",
     "output_type": "stream",
     "text": [
      "  Validation - Loss: 1.9228, Best Loss: inf, Accuracy: 45.7%, Best Acc: 54.3\n",
      "        s3   \tb    \tunk  \ta    \ts2   \tc    \ts1   \n",
      "        45.9%\t46.9%\t42.9%\t54.6%\t42.5%\t50.0%\t42.8%\n",
      "\n",
      "Epoch 233/500\n"
     ]
    },
    {
     "name": "stdout",
     "output_type": "stream",
     "text": [
      "  Training - Loss: 0.3364, Accuracy: 88.9%\n",
      "        a    \tunk  \ts3   \ts2   \tc    \tb    \ts1   \n",
      "        89.3%\t89.2%\t79.9%\t80.4%\t89.3%\t88.4%\t80.1%\n"
     ]
    },
    {
     "name": "stdout",
     "output_type": "stream",
     "text": [
      "  Validation - Loss: 1.6555, Best Loss: inf, Accuracy: 50.8%, Best Acc: 54.3\n",
      "        s3   \tb    \tunk  \ta    \ts2   \tc    \ts1   \n",
      "        50.6%\t52.5%\t47.3%\t61.1%\t48.7%\t55.0%\t47.1%\n",
      "\n",
      "Epoch 234/500\n"
     ]
    },
    {
     "name": "stdout",
     "output_type": "stream",
     "text": [
      "  Training - Loss: 0.3290, Accuracy: 89.2%\n",
      "        unk  \ta    \tb    \ts2   \ts3   \ts1   \tc    \n",
      "        89.4%\t89.8%\t89.1%\t80.2%\t79.8%\t81.7%\t90.5%\n"
     ]
    },
    {
     "name": "stdout",
     "output_type": "stream",
     "text": [
      "  Validation - Loss: 1.6656, Best Loss: inf, Accuracy: 50.7%, Best Acc: 54.3\n",
      "        s3   \tb    \tunk  \ta    \ts2   \tc    \ts1   \n",
      "        51.4%\t53.6%\t46.9%\t61.5%\t46.9%\t55.9%\t46.5%\n",
      "\n",
      "Epoch 235/500\n"
     ]
    },
    {
     "name": "stdout",
     "output_type": "stream",
     "text": [
      "  Training - Loss: 0.3324, Accuracy: 89.1%\n",
      "        s2   \tunk  \ta    \ts1   \tc    \tb    \ts3   \n",
      "        81.6%\t89.4%\t89.5%\t82.2%\t90.5%\t89.0%\t79.5%\n"
     ]
    },
    {
     "name": "stdout",
     "output_type": "stream",
     "text": [
      "  Validation - Loss: 1.7498, Best Loss: inf, Accuracy: 48.7%, Best Acc: 54.3\n",
      "        s3   \tb    \tunk  \ta    \ts2   \tc    \ts1   \n",
      "        51.0%\t50.6%\t46.4%\t58.0%\t45.3%\t50.9%\t43.3%\n",
      "\n",
      "Epoch 236/500\n"
     ]
    },
    {
     "name": "stdout",
     "output_type": "stream",
     "text": [
      "  Training - Loss: 0.3267, Accuracy: 89.2%\n",
      "        b    \tunk  \ta    \ts3   \ts2   \ts1   \tc    \n",
      "        88.7%\t89.4%\t90.0%\t81.4%\t80.5%\t82.2%\t90.0%\n"
     ]
    },
    {
     "name": "stdout",
     "output_type": "stream",
     "text": [
      "  Validation - Loss: 1.6724, Best Loss: inf, Accuracy: 50.5%, Best Acc: 54.3\n",
      "        s3   \tb    \tunk  \ta    \ts2   \tc    \ts1   \n",
      "        49.8%\t53.1%\t48.3%\t58.3%\t47.3%\t53.0%\t47.9%\n",
      "\n",
      "Epoch 237/500\n"
     ]
    },
    {
     "name": "stdout",
     "output_type": "stream",
     "text": [
      "  Training - Loss: 0.3204, Accuracy: 89.5%\n",
      "        unk  \ts1   \tc    \ta    \ts2   \tb    \ts3   \n",
      "        89.7%\t84.2%\t89.2%\t90.1%\t80.8%\t90.2%\t81.6%\n"
     ]
    },
    {
     "name": "stdout",
     "output_type": "stream",
     "text": [
      "  Validation - Loss: 1.5920, Best Loss: inf, Accuracy: 52.8%, Best Acc: 54.3\n",
      "        s3   \tb    \tunk  \ta    \ts2   \tc    \ts1   \n",
      "        54.7%\t54.5%\t48.9%\t61.1%\t51.7%\t56.4%\t50.1%\n",
      "\n",
      "Epoch 238/500\n"
     ]
    },
    {
     "name": "stdout",
     "output_type": "stream",
     "text": [
      "  Training - Loss: 0.3289, Accuracy: 89.2%\n",
      "        unk  \ta    \tc    \tb    \ts2   \ts1   \ts3   \n",
      "        89.4%\t90.1%\t90.8%\t88.6%\t82.1%\t80.5%\t82.2%\n"
     ]
    },
    {
     "name": "stdout",
     "output_type": "stream",
     "text": [
      "  Validation - Loss: 1.6729, Best Loss: inf, Accuracy: 51.4%, Best Acc: 54.3\n",
      "        s3   \tb    \tunk  \ta    \ts2   \tc    \ts1   \n",
      "        53.0%\t54.9%\t48.3%\t58.8%\t48.7%\t54.1%\t48.5%\n",
      "\n",
      "Epoch 239/500\n"
     ]
    },
    {
     "name": "stdout",
     "output_type": "stream",
     "text": [
      "  Training - Loss: 0.3235, Accuracy: 89.4%\n",
      "        unk  \ta    \ts3   \ts2   \ts1   \tc    \tb    \n",
      "        89.5%\t90.4%\t81.8%\t81.1%\t82.8%\t89.6%\t88.4%\n"
     ]
    },
    {
     "name": "stdout",
     "output_type": "stream",
     "text": [
      "  Validation - Loss: 1.6746, Best Loss: inf, Accuracy: 51.0%, Best Acc: 54.3\n",
      "        s3   \tb    \tunk  \ta    \ts2   \tc    \ts1   \n",
      "        50.4%\t53.8%\t48.0%\t60.7%\t46.9%\t55.6%\t47.8%\n",
      "\n",
      "Epoch 240/500\n"
     ]
    },
    {
     "name": "stdout",
     "output_type": "stream",
     "text": [
      "  Training - Loss: 0.3179, Accuracy: 89.5%\n",
      "        unk  \ts3   \ta    \tc    \ts2   \ts1   \tb    \n",
      "        89.8%\t82.3%\t90.1%\t89.4%\t81.3%\t81.3%\t88.9%\n"
     ]
    },
    {
     "name": "stdout",
     "output_type": "stream",
     "text": [
      "  Validation - Loss: 1.6191, Best Loss: inf, Accuracy: 51.5%, Best Acc: 54.3\n",
      "        s3   \tb    \tunk  \ta    \ts2   \tc    \ts1   \n",
      "        53.6%\t55.4%\t48.9%\t58.1%\t50.3%\t53.4%\t45.4%\n",
      "\n",
      "Epoch 241/500\n"
     ]
    },
    {
     "name": "stdout",
     "output_type": "stream",
     "text": [
      "  Training - Loss: 0.3200, Accuracy: 89.5%\n",
      "        unk  \ta    \ts1   \ts2   \tb    \ts3   \tc    \n",
      "        89.7%\t90.1%\t81.5%\t80.0%\t89.5%\t82.0%\t90.2%\n"
     ]
    },
    {
     "name": "stdout",
     "output_type": "stream",
     "text": [
      "  Validation - Loss: 1.6417, Best Loss: inf, Accuracy: 51.5%, Best Acc: 54.3\n",
      "        s3   \tb    \tunk  \ta    \ts2   \tc    \ts1   \n",
      "        52.3%\t53.4%\t48.7%\t59.0%\t48.8%\t54.3%\t49.8%\n",
      "\n",
      "Epoch 242/500\n"
     ]
    },
    {
     "name": "stdout",
     "output_type": "stream",
     "text": [
      "  Training - Loss: 0.3239, Accuracy: 89.3%\n",
      "        unk  \ts3   \ta    \tb    \ts1   \ts2   \tc    \n",
      "        89.5%\t82.3%\t90.1%\t89.1%\t82.3%\t80.8%\t90.0%\n"
     ]
    },
    {
     "name": "stdout",
     "output_type": "stream",
     "text": [
      "  Validation - Loss: 1.5771, Best Loss: inf, Accuracy: 53.3%, Best Acc: 54.3\n",
      "        s3   \tb    \tunk  \ta    \ts2   \tc    \ts1   \n",
      "        54.4%\t56.0%\t50.5%\t61.5%\t50.6%\t56.4%\t49.5%\n",
      "\n",
      "Epoch 243/500\n"
     ]
    },
    {
     "name": "stdout",
     "output_type": "stream",
     "text": [
      "  Training - Loss: 0.3161, Accuracy: 89.7%\n",
      "        a    \tunk  \ts3   \tb    \ts2   \tc    \ts1   \n",
      "        90.4%\t89.8%\t81.5%\t89.7%\t82.1%\t90.3%\t83.1%\n"
     ]
    },
    {
     "name": "stdout",
     "output_type": "stream",
     "text": [
      "  Validation - Loss: 1.5755, Best Loss: inf, Accuracy: 53.5%, Best Acc: 54.3\n",
      "        s3   \tb    \tunk  \ta    \ts2   \tc    \ts1   \n",
      "        54.6%\t54.1%\t51.9%\t60.6%\t51.2%\t56.5%\t48.8%\n",
      "\n",
      "Epoch 244/500\n"
     ]
    },
    {
     "name": "stdout",
     "output_type": "stream",
     "text": [
      "  Training - Loss: 0.3163, Accuracy: 89.6%\n",
      "        unk  \ta    \ts2   \tc    \ts1   \ts3   \tb    \n",
      "        89.8%\t90.2%\t80.5%\t90.4%\t81.8%\t80.7%\t89.3%\n"
     ]
    },
    {
     "name": "stdout",
     "output_type": "stream",
     "text": [
      "  Validation - Loss: 1.5979, Best Loss: inf, Accuracy: 53.5%, Best Acc: 54.3\n",
      "        s3   \tb    \tunk  \ta    \ts2   \tc    \ts1   \n",
      "        56.1%\t53.9%\t50.7%\t60.5%\t52.1%\t56.3%\t50.5%\n",
      "\n",
      "Epoch 245/500\n"
     ]
    },
    {
     "name": "stdout",
     "output_type": "stream",
     "text": [
      "  Training - Loss: 0.3190, Accuracy: 89.6%\n",
      "        unk  \ta    \tb    \ts3   \ts2   \tc    \ts1   \n",
      "        89.8%\t90.5%\t89.5%\t80.6%\t80.2%\t90.4%\t81.0%\n"
     ]
    },
    {
     "name": "stdout",
     "output_type": "stream",
     "text": [
      "  Validation - Loss: 1.7946, Best Loss: inf, Accuracy: 48.6%, Best Acc: 54.3\n",
      "        s3   \tb    \tunk  \ta    \ts2   \tc    \ts1   \n",
      "        49.7%\t53.9%\t44.4%\t57.1%\t46.1%\t52.4%\t45.0%\n",
      "\n",
      "Epoch 246/500\n"
     ]
    },
    {
     "name": "stdout",
     "output_type": "stream",
     "text": [
      "  Training - Loss: 0.3131, Accuracy: 89.9%\n",
      "        unk  \ta    \ts1   \tc    \tb    \ts2   \ts3   \n",
      "        90.1%\t90.2%\t83.0%\t91.5%\t90.2%\t81.8%\t82.7%\n"
     ]
    },
    {
     "name": "stdout",
     "output_type": "stream",
     "text": [
      "  Validation - Loss: 1.7953, Best Loss: inf, Accuracy: 49.5%, Best Acc: 54.3\n",
      "        s3   \tb    \tunk  \ta    \ts2   \tc    \ts1   \n",
      "        49.4%\t52.0%\t46.4%\t57.3%\t45.7%\t53.9%\t47.9%\n",
      "\n",
      "Epoch 247/500\n"
     ]
    },
    {
     "name": "stdout",
     "output_type": "stream",
     "text": [
      "  Training - Loss: 0.3114, Accuracy: 89.9%\n",
      "        b    \ta    \ts3   \tunk  \tc    \ts1   \ts2   \n",
      "        88.8%\t90.5%\t81.3%\t90.1%\t91.1%\t82.8%\t81.6%\n"
     ]
    },
    {
     "name": "stdout",
     "output_type": "stream",
     "text": [
      "  Validation - Loss: 1.6169, Best Loss: inf, Accuracy: 52.1%, Best Acc: 54.3\n",
      "        s3   \tb    \tunk  \ta    \ts2   \tc    \ts1   \n",
      "        52.1%\t55.2%\t49.1%\t61.3%\t50.9%\t53.9%\t48.2%\n",
      "\n",
      "Epoch 248/500\n"
     ]
    },
    {
     "name": "stdout",
     "output_type": "stream",
     "text": [
      "  Training - Loss: 0.3098, Accuracy: 89.8%\n",
      "        s2   \ta    \tb    \tunk  \ts3   \ts1   \tc    \n",
      "        81.7%\t90.2%\t90.4%\t90.0%\t81.9%\t81.9%\t91.0%\n"
     ]
    },
    {
     "name": "stdout",
     "output_type": "stream",
     "text": [
      "  Validation - Loss: 1.6044, Best Loss: inf, Accuracy: 52.4%, Best Acc: 54.3\n",
      "        s3   \tb    \tunk  \ta    \ts2   \tc    \ts1   \n",
      "        51.2%\t54.5%\t49.6%\t62.2%\t50.0%\t56.7%\t48.3%\n",
      "\n",
      "Epoch 249/500\n"
     ]
    },
    {
     "name": "stdout",
     "output_type": "stream",
     "text": [
      "  Training - Loss: 0.3083, Accuracy: 89.9%\n",
      "        unk  \ts1   \ts3   \ta    \tb    \ts2   \tc    \n",
      "        90.1%\t84.0%\t82.4%\t90.7%\t88.4%\t81.9%\t91.6%\n"
     ]
    },
    {
     "name": "stdout",
     "output_type": "stream",
     "text": [
      "  Validation - Loss: 1.6635, Best Loss: inf, Accuracy: 51.5%, Best Acc: 54.3\n",
      "        s3   \tb    \tunk  \ta    \ts2   \tc    \ts1   \n",
      "        51.6%\t55.8%\t47.4%\t62.4%\t47.3%\t56.1%\t48.5%\n",
      "\n",
      "Epoch 250/500\n"
     ]
    },
    {
     "name": "stdout",
     "output_type": "stream",
     "text": [
      "  Training - Loss: 0.3091, Accuracy: 89.9%\n",
      "        unk  \ta    \tb    \tc    \ts2   \ts3   \ts1   \n",
      "        90.1%\t90.4%\t89.8%\t91.4%\t81.9%\t82.2%\t82.9%\n"
     ]
    },
    {
     "name": "stdout",
     "output_type": "stream",
     "text": [
      "  Validation - Loss: 1.5696, Best Loss: inf, Accuracy: 53.7%, Best Acc: 54.3\n",
      "        s3   \tb    \tunk  \ta    \ts2   \tc    \ts1   \n",
      "        54.9%\t55.2%\t51.2%\t62.4%\t51.2%\t57.0%\t48.9%\n",
      "\n",
      "Epoch 251/500\n"
     ]
    },
    {
     "name": "stdout",
     "output_type": "stream",
     "text": [
      "  Training - Loss: 0.3135, Accuracy: 89.8%\n",
      "        unk  \tb    \ts2   \ta    \ts1   \tc    \ts3   \n",
      "        90.0%\t88.1%\t81.6%\t90.3%\t81.7%\t90.1%\t82.2%\n"
     ]
    },
    {
     "name": "stdout",
     "output_type": "stream",
     "text": [
      "  Validation - Loss: 1.5707, Best Loss: inf, Accuracy: 52.7%, Best Acc: 54.3\n",
      "        s3   \tb    \tunk  \ta    \ts2   \tc    \ts1   \n",
      "        52.2%\t53.9%\t50.6%\t61.0%\t50.8%\t55.1%\t49.3%\n",
      "\n",
      "Epoch 252/500\n"
     ]
    },
    {
     "name": "stdout",
     "output_type": "stream",
     "text": [
      "  Training - Loss: 0.3081, Accuracy: 90.0%\n",
      "        unk  \ta    \tb    \ts3   \ts2   \tc    \ts1   \n",
      "        90.1%\t90.9%\t89.9%\t82.0%\t81.6%\t91.4%\t83.8%\n"
     ]
    },
    {
     "name": "stdout",
     "output_type": "stream",
     "text": [
      "  Validation - Loss: 1.7530, Best Loss: inf, Accuracy: 49.4%, Best Acc: 54.3\n",
      "        s3   \tb    \tunk  \ta    \ts2   \tc    \ts1   \n",
      "        50.1%\t50.1%\t45.8%\t59.2%\t47.0%\t53.2%\t47.1%\n",
      "\n",
      "Epoch 253/500\n"
     ]
    },
    {
     "name": "stdout",
     "output_type": "stream",
     "text": [
      "  Training - Loss: 0.3096, Accuracy: 89.9%\n",
      "        unk  \ta    \ts3   \tc    \ts1   \tb    \ts2   \n",
      "        90.1%\t90.7%\t82.8%\t90.7%\t84.0%\t90.2%\t82.7%\n"
     ]
    },
    {
     "name": "stdout",
     "output_type": "stream",
     "text": [
      "  Validation - Loss: 1.6618, Best Loss: inf, Accuracy: 51.1%, Best Acc: 54.3\n",
      "        s3   \tb    \tunk  \ta    \ts2   \tc    \ts1   \n",
      "        53.5%\t53.1%\t47.8%\t60.4%\t48.4%\t56.2%\t44.9%\n",
      "\n",
      "Epoch 254/500\n"
     ]
    },
    {
     "name": "stdout",
     "output_type": "stream",
     "text": [
      "  Training - Loss: 0.3084, Accuracy: 89.9%\n",
      "        unk  \ta    \tc    \ts1   \ts2   \tb    \ts3   \n",
      "        90.1%\t90.7%\t90.5%\t82.7%\t82.6%\t90.4%\t82.4%\n"
     ]
    },
    {
     "name": "stdout",
     "output_type": "stream",
     "text": [
      "  Validation - Loss: 1.5955, Best Loss: inf, Accuracy: 52.2%, Best Acc: 54.3\n",
      "        s3   \tb    \tunk  \ta    \ts2   \tc    \ts1   \n",
      "        52.4%\t54.0%\t49.2%\t61.0%\t49.3%\t57.0%\t48.4%\n",
      "\n",
      "Epoch 255/500\n"
     ]
    },
    {
     "name": "stdout",
     "output_type": "stream",
     "text": [
      "  Training - Loss: 0.3069, Accuracy: 90.0%\n",
      "        unk  \ts2   \tb    \ta    \tc    \ts3   \ts1   \n",
      "        90.2%\t80.8%\t89.5%\t90.8%\t91.2%\t82.2%\t81.8%\n"
     ]
    },
    {
     "name": "stdout",
     "output_type": "stream",
     "text": [
      "  Validation - Loss: 1.6427, Best Loss: inf, Accuracy: 51.7%, Best Acc: 54.3\n",
      "        s3   \tb    \tunk  \ta    \ts2   \tc    \ts1   \n",
      "        51.7%\t56.9%\t47.7%\t60.8%\t48.9%\t56.9%\t47.1%\n",
      "\n",
      "Epoch 256/500\n"
     ]
    },
    {
     "name": "stdout",
     "output_type": "stream",
     "text": [
      "  Training - Loss: 0.3100, Accuracy: 89.9%\n",
      "        unk  \ta    \tc    \ts2   \ts1   \ts3   \tb    \n",
      "        90.0%\t90.5%\t91.9%\t81.5%\t82.7%\t81.8%\t90.3%\n"
     ]
    },
    {
     "name": "stdout",
     "output_type": "stream",
     "text": [
      "  Validation - Loss: 1.5907, Best Loss: inf, Accuracy: 54.4%, Best Acc: 54.3\n",
      "        s3   \tb    \tunk  \ta    \ts2   \tc    \ts1   \n",
      "        54.9%\t56.3%\t52.0%\t63.4%\t51.9%\t57.7%\t49.2%\n",
      "\n",
      "Epoch 257/500\n"
     ]
    },
    {
     "name": "stdout",
     "output_type": "stream",
     "text": [
      "  Training - Loss: 0.3093, Accuracy: 89.8%\n",
      "        unk  \ta    \ts1   \ts2   \tb    \ts3   \tc    \n",
      "        90.0%\t90.4%\t83.2%\t82.4%\t90.5%\t81.6%\t90.6%\n"
     ]
    },
    {
     "name": "stdout",
     "output_type": "stream",
     "text": [
      "  Validation - Loss: 1.6744, Best Loss: inf, Accuracy: 50.6%, Best Acc: 54.4\n",
      "        s3   \tb    \tunk  \ta    \ts2   \tc    \ts1   \n",
      "        52.7%\t52.3%\t47.3%\t58.5%\t49.2%\t53.5%\t47.8%\n",
      "\n",
      "Epoch 258/500\n"
     ]
    },
    {
     "name": "stdout",
     "output_type": "stream",
     "text": [
      "  Training - Loss: 0.3011, Accuracy: 90.2%\n",
      "        unk  \ta    \ts1   \tc    \ts2   \tb    \ts3   \n",
      "        90.4%\t90.6%\t83.3%\t91.2%\t81.9%\t90.5%\t81.9%\n"
     ]
    },
    {
     "name": "stdout",
     "output_type": "stream",
     "text": [
      "  Validation - Loss: 1.6265, Best Loss: inf, Accuracy: 52.3%, Best Acc: 54.4\n",
      "        s3   \tb    \tunk  \ta    \ts2   \tc    \ts1   \n",
      "        53.1%\t55.2%\t49.2%\t61.5%\t50.6%\t55.9%\t46.9%\n",
      "\n",
      "Epoch 259/500\n"
     ]
    },
    {
     "name": "stdout",
     "output_type": "stream",
     "text": [
      "  Training - Loss: 0.2946, Accuracy: 90.4%\n",
      "        unk  \ta    \ts2   \ts1   \tb    \tc    \ts3   \n",
      "        90.5%\t91.1%\t82.6%\t82.2%\t89.7%\t90.1%\t83.5%\n"
     ]
    },
    {
     "name": "stdout",
     "output_type": "stream",
     "text": [
      "  Validation - Loss: 1.6680, Best Loss: inf, Accuracy: 51.5%, Best Acc: 54.4\n",
      "        s3   \tb    \tunk  \ta    \ts2   \tc    \ts1   \n",
      "        52.0%\t52.9%\t48.1%\t60.6%\t48.7%\t56.1%\t49.4%\n",
      "\n",
      "Epoch 260/500\n"
     ]
    },
    {
     "name": "stdout",
     "output_type": "stream",
     "text": [
      "  Training - Loss: 0.3028, Accuracy: 90.1%\n",
      "        unk  \ta    \tb    \tc    \ts1   \ts3   \ts2   \n",
      "        90.3%\t90.8%\t89.8%\t90.3%\t81.8%\t82.2%\t82.4%\n"
     ]
    },
    {
     "name": "stdout",
     "output_type": "stream",
     "text": [
      "  Validation - Loss: 1.5623, Best Loss: inf, Accuracy: 53.2%, Best Acc: 54.4\n",
      "        s3   \tb    \tunk  \ta    \ts2   \tc    \ts1   \n",
      "        54.5%\t55.6%\t50.7%\t61.0%\t49.6%\t58.4%\t47.1%\n",
      "\n",
      "Epoch 261/500\n"
     ]
    },
    {
     "name": "stdout",
     "output_type": "stream",
     "text": [
      "  Training - Loss: 0.2992, Accuracy: 90.3%\n",
      "        a    \tunk  \ts3   \tb    \ts1   \ts2   \tc    \n",
      "        90.9%\t90.5%\t83.2%\t88.7%\t83.8%\t83.0%\t90.4%\n"
     ]
    },
    {
     "name": "stdout",
     "output_type": "stream",
     "text": [
      "  Validation - Loss: 1.6695, Best Loss: inf, Accuracy: 51.3%, Best Acc: 54.4\n",
      "        s3   \tb    \tunk  \ta    \ts2   \tc    \ts1   \n",
      "        53.0%\t52.7%\t49.0%\t59.2%\t49.9%\t54.4%\t45.7%\n",
      "\n",
      "Epoch 262/500\n"
     ]
    },
    {
     "name": "stdout",
     "output_type": "stream",
     "text": [
      "  Training - Loss: 0.3009, Accuracy: 90.2%\n",
      "        unk  \ta    \tc    \ts1   \ts3   \tb    \ts2   \n",
      "        90.4%\t90.6%\t90.7%\t83.1%\t83.1%\t90.5%\t82.6%\n"
     ]
    },
    {
     "name": "stdout",
     "output_type": "stream",
     "text": [
      "  Validation - Loss: 1.7368, Best Loss: inf, Accuracy: 50.7%, Best Acc: 54.4\n",
      "        s3   \tb    \tunk  \ta    \ts2   \tc    \ts1   \n",
      "        51.7%\t51.8%\t47.4%\t59.5%\t47.9%\t55.9%\t47.4%\n",
      "\n",
      "Epoch 263/500\n"
     ]
    },
    {
     "name": "stdout",
     "output_type": "stream",
     "text": [
      "  Training - Loss: 0.3037, Accuracy: 90.1%\n",
      "        unk  \ta    \ts2   \ts3   \ts1   \tc    \tb    \n",
      "        90.3%\t90.7%\t80.8%\t82.4%\t82.6%\t91.1%\t90.0%\n"
     ]
    },
    {
     "name": "stdout",
     "output_type": "stream",
     "text": [
      "  Validation - Loss: 1.6379, Best Loss: inf, Accuracy: 52.0%, Best Acc: 54.4\n",
      "        s3   \tb    \tunk  \ta    \ts2   \tc    \ts1   \n",
      "        53.4%\t54.0%\t48.9%\t60.5%\t48.5%\t56.3%\t48.3%\n",
      "\n",
      "Epoch 264/500\n"
     ]
    },
    {
     "name": "stdout",
     "output_type": "stream",
     "text": [
      "  Training - Loss: 0.2984, Accuracy: 90.2%\n",
      "        unk  \tb    \tc    \ta    \ts2   \ts3   \ts1   \n",
      "        90.4%\t89.8%\t91.0%\t90.9%\t82.6%\t82.6%\t84.1%\n"
     ]
    },
    {
     "name": "stdout",
     "output_type": "stream",
     "text": [
      "  Validation - Loss: 1.5968, Best Loss: inf, Accuracy: 52.5%, Best Acc: 54.4\n",
      "        s3   \tb    \tunk  \ta    \ts2   \tc    \ts1   \n",
      "        54.1%\t54.3%\t49.2%\t60.1%\t49.9%\t57.2%\t49.3%\n",
      "\n",
      "Epoch 265/500\n"
     ]
    },
    {
     "name": "stdout",
     "output_type": "stream",
     "text": [
      "  Training - Loss: 0.2953, Accuracy: 90.4%\n",
      "        unk  \ta    \ts1   \tb    \ts2   \ts3   \tc    \n",
      "        90.6%\t91.0%\t83.9%\t89.2%\t82.4%\t82.7%\t90.4%\n"
     ]
    },
    {
     "name": "stdout",
     "output_type": "stream",
     "text": [
      "  Validation - Loss: 1.7030, Best Loss: inf, Accuracy: 51.9%, Best Acc: 54.4\n",
      "        s3   \tb    \tunk  \ta    \ts2   \tc    \ts1   \n",
      "        53.4%\t52.2%\t48.9%\t59.9%\t49.0%\t57.5%\t48.1%\n",
      "\n",
      "Epoch 266/500\n"
     ]
    },
    {
     "name": "stdout",
     "output_type": "stream",
     "text": [
      "  Training - Loss: 0.2933, Accuracy: 90.5%\n",
      "        unk  \tc    \ts2   \ta    \ts3   \tb    \ts1   \n",
      "        90.7%\t90.4%\t83.8%\t90.7%\t83.3%\t90.0%\t83.8%\n"
     ]
    },
    {
     "name": "stdout",
     "output_type": "stream",
     "text": [
      "  Validation - Loss: 1.7665, Best Loss: inf, Accuracy: 50.5%, Best Acc: 54.4\n",
      "        s3   \tb    \tunk  \ta    \ts2   \tc    \ts1   \n",
      "        50.3%\t54.6%\t48.1%\t59.0%\t45.5%\t55.5%\t45.7%\n",
      "\n",
      "Epoch 267/500\n"
     ]
    },
    {
     "name": "stdout",
     "output_type": "stream",
     "text": [
      "  Training - Loss: 0.2997, Accuracy: 90.2%\n",
      "        unk  \tc    \ta    \ts1   \ts3   \tb    \ts2   \n",
      "        90.5%\t90.9%\t90.6%\t83.5%\t83.1%\t89.7%\t82.9%\n"
     ]
    },
    {
     "name": "stdout",
     "output_type": "stream",
     "text": [
      "  Validation - Loss: 1.7042, Best Loss: inf, Accuracy: 52.1%, Best Acc: 54.4\n",
      "        s3   \tb    \tunk  \ta    \ts2   \tc    \ts1   \n",
      "        54.0%\t52.8%\t49.6%\t59.1%\t49.1%\t55.4%\t49.8%\n",
      "\n",
      "Epoch 268/500\n"
     ]
    },
    {
     "name": "stdout",
     "output_type": "stream",
     "text": [
      "  Training - Loss: 0.2877, Accuracy: 90.7%\n",
      "        unk  \ta    \tb    \ts3   \tc    \ts1   \ts2   \n",
      "        90.8%\t91.4%\t89.8%\t83.6%\t91.6%\t84.8%\t83.2%\n"
     ]
    },
    {
     "name": "stdout",
     "output_type": "stream",
     "text": [
      "  Validation - Loss: 1.6375, Best Loss: inf, Accuracy: 51.9%, Best Acc: 54.4\n",
      "        s3   \tb    \tunk  \ta    \ts2   \tc    \ts1   \n",
      "        54.3%\t55.8%\t48.9%\t60.6%\t49.7%\t54.8%\t45.2%\n",
      "\n",
      "Epoch 269/500\n"
     ]
    },
    {
     "name": "stdout",
     "output_type": "stream",
     "text": [
      "  Training - Loss: 0.2831, Accuracy: 90.9%\n",
      "        unk  \ta    \tc    \ts2   \ts1   \tb    \ts3   \n",
      "        91.1%\t91.3%\t92.0%\t83.9%\t83.6%\t90.1%\t82.9%\n"
     ]
    },
    {
     "name": "stdout",
     "output_type": "stream",
     "text": [
      "  Validation - Loss: 1.8809, Best Loss: inf, Accuracy: 47.9%, Best Acc: 54.4\n",
      "        s3   \tb    \tunk  \ta    \ts2   \tc    \ts1   \n",
      "        48.2%\t49.6%\t44.7%\t58.7%\t44.1%\t52.8%\t43.5%\n",
      "\n",
      "Epoch 270/500\n"
     ]
    },
    {
     "name": "stdout",
     "output_type": "stream",
     "text": [
      "  Training - Loss: 0.2900, Accuracy: 90.5%\n",
      "        unk  \ta    \ts2   \tc    \ts3   \tb    \ts1   \n",
      "        90.6%\t91.4%\t84.2%\t91.9%\t83.4%\t89.9%\t84.3%\n"
     ]
    },
    {
     "name": "stdout",
     "output_type": "stream",
     "text": [
      "  Validation - Loss: 1.5745, Best Loss: inf, Accuracy: 54.0%, Best Acc: 54.4\n",
      "        s3   \tb    \tunk  \ta    \ts2   \tc    \ts1   \n",
      "        55.3%\t54.3%\t51.6%\t63.1%\t50.7%\t57.8%\t49.7%\n",
      "\n",
      "Epoch 271/500\n"
     ]
    },
    {
     "name": "stdout",
     "output_type": "stream",
     "text": [
      "  Training - Loss: 0.2878, Accuracy: 90.6%\n",
      "        unk  \ta    \ts3   \tb    \ts2   \ts1   \tc    \n",
      "        90.8%\t91.3%\t83.3%\t90.9%\t82.5%\t83.4%\t90.8%\n"
     ]
    },
    {
     "name": "stdout",
     "output_type": "stream",
     "text": [
      "  Validation - Loss: 1.6330, Best Loss: inf, Accuracy: 52.9%, Best Acc: 54.4\n",
      "        s3   \tb    \tunk  \ta    \ts2   \tc    \ts1   \n",
      "        54.0%\t53.3%\t50.6%\t61.2%\t50.9%\t56.6%\t47.8%\n",
      "\n",
      "Epoch 272/500\n"
     ]
    },
    {
     "name": "stdout",
     "output_type": "stream",
     "text": [
      "  Training - Loss: 0.2902, Accuracy: 90.5%\n",
      "        unk  \ta    \ts2   \tb    \ts1   \tc    \ts3   \n",
      "        90.7%\t91.4%\t82.8%\t90.7%\t83.2%\t91.5%\t83.1%\n"
     ]
    },
    {
     "name": "stdout",
     "output_type": "stream",
     "text": [
      "  Validation - Loss: 1.8218, Best Loss: inf, Accuracy: 49.3%, Best Acc: 54.4\n",
      "        s3   \tb    \tunk  \ta    \ts2   \tc    \ts1   \n",
      "        49.8%\t52.0%\t46.2%\t57.5%\t47.8%\t54.0%\t44.2%\n",
      "\n",
      "Epoch 273/500\n"
     ]
    },
    {
     "name": "stdout",
     "output_type": "stream",
     "text": [
      "  Training - Loss: 0.2848, Accuracy: 90.8%\n",
      "        unk  \ta    \ts2   \ts3   \ts1   \tb    \tc    \n",
      "        91.0%\t91.6%\t84.1%\t84.3%\t82.9%\t90.4%\t90.6%\n"
     ]
    },
    {
     "name": "stdout",
     "output_type": "stream",
     "text": [
      "  Validation - Loss: 1.5540, Best Loss: inf, Accuracy: 54.1%, Best Acc: 54.4\n",
      "        s3   \tb    \tunk  \ta    \ts2   \tc    \ts1   \n",
      "        55.5%\t56.3%\t51.2%\t62.2%\t52.5%\t56.4%\t50.5%\n",
      "\n",
      "Epoch 274/500\n"
     ]
    },
    {
     "name": "stdout",
     "output_type": "stream",
     "text": [
      "  Training - Loss: 0.2835, Accuracy: 90.8%\n",
      "        s2   \tunk  \ta    \tc    \tb    \ts1   \ts3   \n",
      "        82.9%\t91.0%\t91.7%\t91.4%\t90.0%\t83.5%\t84.6%\n"
     ]
    },
    {
     "name": "stdout",
     "output_type": "stream",
     "text": [
      "  Validation - Loss: 2.0660, Best Loss: inf, Accuracy: 46.1%, Best Acc: 54.4\n",
      "        s3   \tb    \tunk  \ta    \ts2   \tc    \ts1   \n",
      "        46.0%\t48.2%\t44.0%\t52.6%\t43.4%\t50.2%\t42.9%\n",
      "\n",
      "Epoch 275/500\n"
     ]
    },
    {
     "name": "stdout",
     "output_type": "stream",
     "text": [
      "  Training - Loss: 0.2821, Accuracy: 90.9%\n",
      "        unk  \ta    \ts2   \tb    \ts1   \tc    \ts3   \n",
      "        91.1%\t91.5%\t83.6%\t89.5%\t84.4%\t92.0%\t82.9%\n"
     ]
    },
    {
     "name": "stdout",
     "output_type": "stream",
     "text": [
      "  Validation - Loss: 1.6072, Best Loss: inf, Accuracy: 52.6%, Best Acc: 54.4\n",
      "        s3   \tb    \tunk  \ta    \ts2   \tc    \ts1   \n",
      "        54.9%\t52.7%\t49.9%\t62.5%\t49.6%\t55.5%\t48.7%\n",
      "\n",
      "Epoch 276/500\n"
     ]
    },
    {
     "name": "stdout",
     "output_type": "stream",
     "text": [
      "  Training - Loss: 0.2830, Accuracy: 90.9%\n",
      "        unk  \ta    \ts1   \ts2   \ts3   \tc    \tb    \n",
      "        91.1%\t91.4%\t85.3%\t83.6%\t82.9%\t92.2%\t91.0%\n"
     ]
    },
    {
     "name": "stdout",
     "output_type": "stream",
     "text": [
      "  Validation - Loss: 1.6196, Best Loss: inf, Accuracy: 51.9%, Best Acc: 54.4\n",
      "        s3   \tb    \tunk  \ta    \ts2   \tc    \ts1   \n",
      "        53.3%\t53.8%\t48.6%\t62.4%\t48.3%\t55.3%\t48.4%\n",
      "\n",
      "Epoch 277/500\n"
     ]
    },
    {
     "name": "stdout",
     "output_type": "stream",
     "text": [
      "  Training - Loss: 0.2771, Accuracy: 91.1%\n",
      "        unk  \ta    \ts2   \ts1   \ts3   \tc    \tb    \n",
      "        91.2%\t91.5%\t83.8%\t85.7%\t84.3%\t91.4%\t91.3%\n"
     ]
    },
    {
     "name": "stdout",
     "output_type": "stream",
     "text": [
      "  Validation - Loss: 1.6668, Best Loss: inf, Accuracy: 53.0%, Best Acc: 54.4\n",
      "        s3   \tb    \tunk  \ta    \ts2   \tc    \ts1   \n",
      "        55.7%\t53.5%\t49.9%\t61.4%\t50.9%\t56.2%\t49.5%\n",
      "\n",
      "Epoch 278/500\n"
     ]
    },
    {
     "name": "stdout",
     "output_type": "stream",
     "text": [
      "  Training - Loss: 0.2799, Accuracy: 90.9%\n",
      "        unk  \ta    \ts2   \tc    \ts1   \tb    \ts3   \n",
      "        91.1%\t91.2%\t82.3%\t90.7%\t83.4%\t90.0%\t84.3%\n"
     ]
    },
    {
     "name": "stdout",
     "output_type": "stream",
     "text": [
      "  Validation - Loss: 1.6072, Best Loss: inf, Accuracy: 52.5%, Best Acc: 54.4\n",
      "        s3   \tb    \tunk  \ta    \ts2   \tc    \ts1   \n",
      "        52.7%\t54.2%\t49.3%\t60.1%\t49.4%\t57.5%\t50.7%\n",
      "\n",
      "Epoch 279/500\n"
     ]
    },
    {
     "name": "stdout",
     "output_type": "stream",
     "text": [
      "  Training - Loss: 0.2780, Accuracy: 91.0%\n",
      "        unk  \ts1   \ts3   \tb    \ta    \ts2   \tc    \n",
      "        91.2%\t83.8%\t84.0%\t89.6%\t91.5%\t83.7%\t91.8%\n"
     ]
    },
    {
     "name": "stdout",
     "output_type": "stream",
     "text": [
      "  Validation - Loss: 1.7258, Best Loss: inf, Accuracy: 51.2%, Best Acc: 54.4\n",
      "        s3   \tb    \tunk  \ta    \ts2   \tc    \ts1   \n",
      "        51.7%\t54.0%\t48.9%\t58.7%\t47.2%\t55.2%\t47.5%\n",
      "\n",
      "Epoch 280/500\n"
     ]
    },
    {
     "name": "stdout",
     "output_type": "stream",
     "text": [
      "  Training - Loss: 0.2762, Accuracy: 91.0%\n",
      "        unk  \ta    \ts2   \ts1   \tc    \ts3   \tb    \n",
      "        91.2%\t91.8%\t82.8%\t85.0%\t91.3%\t83.7%\t90.6%\n"
     ]
    },
    {
     "name": "stdout",
     "output_type": "stream",
     "text": [
      "  Validation - Loss: 1.8163, Best Loss: inf, Accuracy: 49.3%, Best Acc: 54.4\n",
      "        s3   \tb    \tunk  \ta    \ts2   \tc    \ts1   \n",
      "        48.3%\t52.3%\t47.2%\t56.5%\t46.5%\t53.0%\t45.1%\n",
      "\n",
      "Epoch 281/500\n"
     ]
    },
    {
     "name": "stdout",
     "output_type": "stream",
     "text": [
      "  Training - Loss: 0.2762, Accuracy: 91.0%\n",
      "        unk  \ta    \tc    \ts3   \ts1   \ts2   \tb    \n",
      "        91.2%\t91.4%\t92.5%\t83.7%\t84.4%\t83.4%\t91.7%\n"
     ]
    },
    {
     "name": "stdout",
     "output_type": "stream",
     "text": [
      "  Validation - Loss: 1.6153, Best Loss: inf, Accuracy: 53.0%, Best Acc: 54.4\n",
      "        s3   \tb    \tunk  \ta    \ts2   \tc    \ts1   \n",
      "        53.9%\t54.3%\t50.9%\t61.2%\t49.0%\t55.6%\t50.2%\n",
      "\n",
      "Epoch 282/500\n"
     ]
    },
    {
     "name": "stdout",
     "output_type": "stream",
     "text": [
      "  Training - Loss: 0.2729, Accuracy: 91.2%\n",
      "        unk  \ts3   \ta    \tb    \tc    \ts1   \ts2   \n",
      "        91.4%\t83.5%\t91.5%\t91.1%\t90.6%\t85.5%\t84.5%\n"
     ]
    },
    {
     "name": "stdout",
     "output_type": "stream",
     "text": [
      "  Validation - Loss: 1.5468, Best Loss: inf, Accuracy: 54.4%, Best Acc: 54.4\n",
      "        s3   \tb    \tunk  \ta    \ts2   \tc    \ts1   \n",
      "        56.8%\t54.8%\t52.1%\t64.2%\t50.4%\t57.8%\t49.0%\n",
      "\n",
      "Epoch 283/500\n"
     ]
    },
    {
     "name": "stdout",
     "output_type": "stream",
     "text": [
      "  Training - Loss: 0.2727, Accuracy: 91.2%\n",
      "        s3   \tunk  \tc    \tb    \ta    \ts2   \ts1   \n",
      "        84.5%\t91.4%\t91.3%\t91.2%\t91.8%\t84.7%\t85.8%\n"
     ]
    },
    {
     "name": "stdout",
     "output_type": "stream",
     "text": [
      "  Validation - Loss: 1.6432, Best Loss: inf, Accuracy: 51.8%, Best Acc: 54.4\n",
      "        s3   \tb    \tunk  \ta    \ts2   \tc    \ts1   \n",
      "        52.0%\t53.9%\t49.5%\t59.1%\t49.1%\t55.8%\t47.7%\n",
      "\n",
      "Epoch 284/500\n"
     ]
    },
    {
     "name": "stdout",
     "output_type": "stream",
     "text": [
      "  Training - Loss: 0.2797, Accuracy: 90.9%\n",
      "        unk  \ts2   \ta    \ts1   \ts3   \tb    \tc    \n",
      "        91.1%\t82.8%\t91.4%\t84.0%\t83.2%\t91.2%\t91.2%\n"
     ]
    },
    {
     "name": "stdout",
     "output_type": "stream",
     "text": [
      "  Validation - Loss: 1.6644, Best Loss: inf, Accuracy: 50.9%, Best Acc: 54.4\n",
      "        s3   \tb    \tunk  \ta    \ts2   \tc    \ts1   \n",
      "        51.4%\t53.9%\t47.6%\t58.8%\t48.3%\t55.6%\t47.0%\n",
      "\n",
      "Epoch 285/500\n"
     ]
    },
    {
     "name": "stdout",
     "output_type": "stream",
     "text": [
      "  Training - Loss: 0.2689, Accuracy: 91.3%\n",
      "        unk  \ta    \ts1   \tc    \ts3   \tb    \ts2   \n",
      "        91.6%\t91.7%\t84.9%\t92.5%\t84.5%\t90.2%\t84.3%\n"
     ]
    },
    {
     "name": "stdout",
     "output_type": "stream",
     "text": [
      "  Validation - Loss: 1.6338, Best Loss: inf, Accuracy: 52.8%, Best Acc: 54.4\n",
      "        s3   \tb    \tunk  \ta    \ts2   \tc    \ts1   \n",
      "        53.7%\t55.3%\t50.3%\t60.4%\t49.7%\t56.4%\t49.2%\n",
      "\n",
      "Epoch 286/500\n"
     ]
    },
    {
     "name": "stdout",
     "output_type": "stream",
     "text": [
      "  Training - Loss: 0.2734, Accuracy: 91.1%\n",
      "        unk  \ta    \tc    \tb    \ts1   \ts3   \ts2   \n",
      "        91.2%\t92.0%\t91.9%\t91.5%\t85.3%\t84.1%\t82.7%\n"
     ]
    },
    {
     "name": "stdout",
     "output_type": "stream",
     "text": [
      "  Validation - Loss: 1.6993, Best Loss: inf, Accuracy: 51.4%, Best Acc: 54.4\n",
      "        s3   \tb    \tunk  \ta    \ts2   \tc    \ts1   \n",
      "        51.0%\t56.9%\t49.1%\t56.5%\t49.2%\t55.2%\t46.2%\n",
      "\n",
      "Epoch 287/500\n"
     ]
    },
    {
     "name": "stdout",
     "output_type": "stream",
     "text": [
      "  Training - Loss: 0.2712, Accuracy: 91.3%\n",
      "        unk  \ta    \tc    \ts1   \tb    \ts3   \ts2   \n",
      "        91.4%\t92.1%\t91.7%\t83.6%\t90.6%\t82.9%\t83.9%\n"
     ]
    },
    {
     "name": "stdout",
     "output_type": "stream",
     "text": [
      "  Validation - Loss: 1.6211, Best Loss: inf, Accuracy: 52.1%, Best Acc: 54.4\n",
      "        s3   \tb    \tunk  \ta    \ts2   \tc    \ts1   \n",
      "        53.7%\t53.8%\t48.6%\t61.9%\t48.1%\t57.9%\t47.9%\n",
      "\n",
      "Epoch 288/500\n"
     ]
    },
    {
     "name": "stdout",
     "output_type": "stream",
     "text": [
      "  Training - Loss: 0.2723, Accuracy: 91.2%\n",
      "        unk  \ts1   \tc    \tb    \ta    \ts2   \ts3   \n",
      "        91.5%\t83.5%\t91.5%\t90.9%\t91.5%\t82.1%\t83.3%\n"
     ]
    },
    {
     "name": "stdout",
     "output_type": "stream",
     "text": [
      "  Validation - Loss: 1.6818, Best Loss: inf, Accuracy: 50.8%, Best Acc: 54.4\n",
      "        s3   \tb    \tunk  \ta    \ts2   \tc    \ts1   \n",
      "        52.0%\t53.3%\t47.8%\t59.4%\t47.5%\t56.8%\t45.0%\n",
      "\n",
      "Epoch 289/500\n"
     ]
    },
    {
     "name": "stdout",
     "output_type": "stream",
     "text": [
      "  Training - Loss: 0.2743, Accuracy: 91.2%\n",
      "        unk  \ta    \tb    \ts1   \ts3   \tc    \ts2   \n",
      "        91.4%\t91.6%\t89.9%\t84.1%\t84.4%\t92.7%\t84.6%\n"
     ]
    },
    {
     "name": "stdout",
     "output_type": "stream",
     "text": [
      "  Validation - Loss: 1.5351, Best Loss: inf, Accuracy: 53.7%, Best Acc: 54.4\n",
      "        s3   \tb    \tunk  \ta    \ts2   \tc    \ts1   \n",
      "        54.7%\t55.1%\t50.2%\t63.5%\t50.7%\t57.5%\t51.7%\n",
      "\n",
      "Epoch 290/500\n"
     ]
    },
    {
     "name": "stdout",
     "output_type": "stream",
     "text": [
      "  Training - Loss: 0.2676, Accuracy: 91.4%\n",
      "        unk  \ta    \ts2   \ts1   \ts3   \tb    \tc    \n",
      "        91.6%\t91.9%\t83.4%\t84.8%\t84.3%\t90.7%\t92.1%\n"
     ]
    },
    {
     "name": "stdout",
     "output_type": "stream",
     "text": [
      "  Validation - Loss: 1.7511, Best Loss: inf, Accuracy: 50.8%, Best Acc: 54.4\n",
      "        s3   \tb    \tunk  \ta    \ts2   \tc    \ts1   \n",
      "        51.8%\t54.5%\t47.7%\t58.1%\t48.9%\t55.3%\t45.6%\n",
      "\n",
      "Epoch 291/500\n"
     ]
    },
    {
     "name": "stdout",
     "output_type": "stream",
     "text": [
      "  Training - Loss: 0.2712, Accuracy: 91.2%\n",
      "        unk  \ta    \ts3   \ts1   \tc    \ts2   \tb    \n",
      "        91.4%\t91.8%\t84.5%\t83.1%\t91.7%\t83.4%\t91.4%\n"
     ]
    },
    {
     "name": "stdout",
     "output_type": "stream",
     "text": [
      "  Validation - Loss: 1.6399, Best Loss: inf, Accuracy: 52.7%, Best Acc: 54.4\n",
      "        s3   \tb    \tunk  \ta    \ts2   \tc    \ts1   \n",
      "        51.7%\t57.0%\t49.9%\t60.3%\t50.9%\t55.1%\t49.6%\n",
      "\n",
      "Epoch 292/500\n"
     ]
    },
    {
     "name": "stdout",
     "output_type": "stream",
     "text": [
      "  Training - Loss: 0.2649, Accuracy: 91.4%\n",
      "        b    \tunk  \ta    \ts2   \tc    \ts1   \ts3   \n",
      "        90.7%\t91.6%\t92.1%\t83.6%\t91.9%\t83.6%\t85.1%\n"
     ]
    },
    {
     "name": "stdout",
     "output_type": "stream",
     "text": [
      "  Validation - Loss: 1.7090, Best Loss: inf, Accuracy: 50.9%, Best Acc: 54.4\n",
      "        s3   \tb    \tunk  \ta    \ts2   \tc    \ts1   \n",
      "        51.8%\t54.9%\t46.5%\t59.2%\t48.6%\t55.4%\t48.2%\n",
      "\n",
      "Epoch 293/500\n"
     ]
    },
    {
     "name": "stdout",
     "output_type": "stream",
     "text": [
      "  Training - Loss: 0.2644, Accuracy: 91.4%\n",
      "        unk  \ts3   \ta    \tc    \tb    \ts1   \ts2   \n",
      "        91.6%\t84.3%\t92.1%\t91.6%\t90.8%\t84.1%\t84.3%\n"
     ]
    },
    {
     "name": "stdout",
     "output_type": "stream",
     "text": [
      "  Validation - Loss: 1.5792, Best Loss: inf, Accuracy: 53.1%, Best Acc: 54.4\n",
      "        s3   \tb    \tunk  \ta    \ts2   \tc    \ts1   \n",
      "        54.7%\t56.3%\t49.4%\t61.8%\t51.9%\t57.4%\t47.8%\n",
      "\n",
      "Epoch 294/500\n"
     ]
    },
    {
     "name": "stdout",
     "output_type": "stream",
     "text": [
      "  Training - Loss: 0.2633, Accuracy: 91.5%\n",
      "        unk  \ts3   \ta    \tc    \tb    \ts2   \ts1   \n",
      "        91.7%\t84.0%\t91.8%\t92.3%\t91.6%\t84.5%\t84.4%\n"
     ]
    },
    {
     "name": "stdout",
     "output_type": "stream",
     "text": [
      "  Validation - Loss: 1.5422, Best Loss: inf, Accuracy: 53.9%, Best Acc: 54.4\n",
      "        s3   \tb    \tunk  \ta    \ts2   \tc    \ts1   \n",
      "        57.5%\t56.1%\t50.1%\t62.6%\t50.9%\t57.0%\t50.5%\n",
      "\n",
      "Epoch 295/500\n"
     ]
    },
    {
     "name": "stdout",
     "output_type": "stream",
     "text": [
      "  Training - Loss: 0.2593, Accuracy: 91.7%\n",
      "        unk  \ta    \tb    \tc    \ts3   \ts2   \ts1   \n",
      "        91.9%\t92.1%\t90.6%\t92.0%\t84.3%\t84.3%\t86.6%\n"
     ]
    },
    {
     "name": "stdout",
     "output_type": "stream",
     "text": [
      "  Validation - Loss: 1.6094, Best Loss: inf, Accuracy: 52.8%, Best Acc: 54.4\n",
      "        s3   \tb    \tunk  \ta    \ts2   \tc    \ts1   \n",
      "        53.0%\t54.5%\t49.5%\t62.5%\t51.3%\t56.7%\t48.4%\n",
      "\n",
      "Epoch 296/500\n"
     ]
    },
    {
     "name": "stdout",
     "output_type": "stream",
     "text": [
      "  Training - Loss: 0.2651, Accuracy: 91.5%\n",
      "        a    \tunk  \tb    \ts3   \ts2   \tc    \ts1   \n",
      "        92.0%\t91.6%\t90.7%\t84.3%\t84.4%\t92.6%\t85.4%\n"
     ]
    },
    {
     "name": "stdout",
     "output_type": "stream",
     "text": [
      "  Validation - Loss: 1.6030, Best Loss: inf, Accuracy: 53.5%, Best Acc: 54.4\n",
      "        s3   \tb    \tunk  \ta    \ts2   \tc    \ts1   \n",
      "        55.4%\t55.6%\t51.0%\t60.8%\t52.0%\t57.9%\t47.3%\n",
      "\n",
      "Epoch 297/500\n"
     ]
    },
    {
     "name": "stdout",
     "output_type": "stream",
     "text": [
      "  Training - Loss: 0.2502, Accuracy: 91.9%\n",
      "        unk  \ta    \tc    \tb    \ts2   \ts1   \ts3   \n",
      "        92.1%\t92.5%\t92.3%\t91.4%\t84.3%\t86.0%\t85.2%\n"
     ]
    },
    {
     "name": "stdout",
     "output_type": "stream",
     "text": [
      "  Validation - Loss: 1.6713, Best Loss: inf, Accuracy: 52.9%, Best Acc: 54.4\n",
      "        s3   \tb    \tunk  \ta    \ts2   \tc    \ts1   \n",
      "        54.3%\t56.0%\t49.8%\t61.3%\t48.5%\t57.7%\t49.3%\n",
      "\n",
      "Epoch 298/500\n"
     ]
    },
    {
     "name": "stdout",
     "output_type": "stream",
     "text": [
      "  Training - Loss: 0.2584, Accuracy: 91.7%\n",
      "        unk  \tc    \ts3   \ta    \ts1   \ts2   \tb    \n",
      "        91.9%\t91.5%\t85.6%\t92.1%\t84.8%\t85.1%\t90.9%\n"
     ]
    },
    {
     "name": "stdout",
     "output_type": "stream",
     "text": [
      "  Validation - Loss: 1.6680, Best Loss: inf, Accuracy: 52.2%, Best Acc: 54.4\n",
      "        s3   \tb    \tunk  \ta    \ts2   \tc    \ts1   \n",
      "        51.8%\t58.0%\t48.8%\t60.8%\t47.8%\t58.4%\t46.4%\n",
      "\n",
      "Epoch 299/500\n"
     ]
    },
    {
     "name": "stdout",
     "output_type": "stream",
     "text": [
      "  Training - Loss: 0.2559, Accuracy: 91.8%\n",
      "        unk  \ta    \tb    \ts3   \tc    \ts1   \ts2   \n",
      "        91.9%\t92.4%\t91.5%\t85.6%\t92.4%\t86.9%\t85.6%\n"
     ]
    },
    {
     "name": "stdout",
     "output_type": "stream",
     "text": [
      "  Validation - Loss: 1.7121, Best Loss: inf, Accuracy: 51.1%, Best Acc: 54.4\n",
      "        s3   \tb    \tunk  \ta    \ts2   \tc    \ts1   \n",
      "        52.0%\t55.2%\t47.8%\t58.5%\t47.8%\t55.8%\t46.8%\n",
      "\n",
      "Epoch 300/500\n"
     ]
    },
    {
     "name": "stdout",
     "output_type": "stream",
     "text": [
      "  Training - Loss: 0.2579, Accuracy: 91.7%\n",
      "        unk  \ta    \tc    \ts1   \tb    \ts3   \ts2   \n",
      "        91.9%\t92.1%\t93.0%\t84.7%\t91.1%\t84.6%\t84.9%\n"
     ]
    },
    {
     "name": "stdout",
     "output_type": "stream",
     "text": [
      "  Validation - Loss: 1.6212, Best Loss: inf, Accuracy: 53.3%, Best Acc: 54.4\n",
      "        s3   \tb    \tunk  \ta    \ts2   \tc    \ts1   \n",
      "        53.3%\t55.2%\t50.2%\t61.7%\t51.1%\t58.4%\t49.2%\n",
      "\n",
      "Epoch 301/500\n"
     ]
    },
    {
     "name": "stdout",
     "output_type": "stream",
     "text": [
      "  Training - Loss: 0.2573, Accuracy: 91.7%\n",
      "        unk  \ta    \tb    \ts2   \ts1   \tc    \ts3   \n",
      "        91.9%\t91.8%\t91.5%\t85.7%\t86.8%\t91.9%\t84.3%\n"
     ]
    },
    {
     "name": "stdout",
     "output_type": "stream",
     "text": [
      "  Validation - Loss: 1.5716, Best Loss: inf, Accuracy: 54.1%, Best Acc: 54.4\n",
      "        s3   \tb    \tunk  \ta    \ts2   \tc    \ts1   \n",
      "        57.3%\t55.5%\t51.8%\t60.9%\t52.7%\t56.3%\t49.2%\n",
      "\n",
      "Epoch 302/500\n"
     ]
    },
    {
     "name": "stdout",
     "output_type": "stream",
     "text": [
      "  Training - Loss: 0.2564, Accuracy: 91.8%\n",
      "        unk  \ta    \ts2   \ts1   \ts3   \tb    \tc    \n",
      "        91.9%\t92.2%\t84.2%\t86.7%\t85.9%\t92.7%\t92.5%\n"
     ]
    },
    {
     "name": "stdout",
     "output_type": "stream",
     "text": [
      "  Validation - Loss: 1.7589, Best Loss: inf, Accuracy: 49.4%, Best Acc: 54.4\n",
      "        s3   \tb    \tunk  \ta    \ts2   \tc    \ts1   \n",
      "        48.9%\t52.3%\t46.9%\t57.9%\t45.9%\t53.5%\t45.6%\n",
      "\n",
      "Epoch 303/500\n"
     ]
    },
    {
     "name": "stdout",
     "output_type": "stream",
     "text": [
      "  Training - Loss: 0.2594, Accuracy: 91.7%\n",
      "        unk  \ts2   \ta    \ts1   \tb    \ts3   \tc    \n",
      "        91.8%\t84.6%\t92.3%\t84.8%\t90.7%\t85.2%\t91.8%\n"
     ]
    },
    {
     "name": "stdout",
     "output_type": "stream",
     "text": [
      "  Validation - Loss: 1.6848, Best Loss: inf, Accuracy: 52.6%, Best Acc: 54.4\n",
      "        s3   \tb    \tunk  \ta    \ts2   \tc    \ts1   \n",
      "        53.5%\t55.1%\t50.3%\t59.7%\t49.1%\t55.9%\t49.0%\n",
      "\n",
      "Epoch 304/500\n"
     ]
    },
    {
     "name": "stdout",
     "output_type": "stream",
     "text": [
      "  Training - Loss: 0.2510, Accuracy: 91.9%\n",
      "        unk  \ta    \tb    \tc    \ts2   \ts1   \ts3   \n",
      "        92.1%\t92.2%\t91.0%\t92.4%\t85.2%\t85.8%\t85.1%\n"
     ]
    },
    {
     "name": "stdout",
     "output_type": "stream",
     "text": [
      "  Validation - Loss: 1.6121, Best Loss: inf, Accuracy: 53.3%, Best Acc: 54.4\n",
      "        s3   \tb    \tunk  \ta    \ts2   \tc    \ts1   \n",
      "        53.5%\t56.3%\t50.6%\t61.0%\t49.2%\t58.1%\t49.8%\n",
      "\n",
      "Epoch 305/500\n"
     ]
    },
    {
     "name": "stdout",
     "output_type": "stream",
     "text": [
      "  Training - Loss: 0.2517, Accuracy: 91.9%\n",
      "        unk  \ts3   \ta    \tb    \tc    \ts1   \ts2   \n",
      "        92.2%\t84.6%\t92.3%\t90.5%\t93.1%\t85.5%\t84.1%\n"
     ]
    },
    {
     "name": "stdout",
     "output_type": "stream",
     "text": [
      "  Validation - Loss: 1.5668, Best Loss: inf, Accuracy: 54.3%, Best Acc: 54.4\n",
      "        s3   \tb    \tunk  \ta    \ts2   \tc    \ts1   \n",
      "        54.9%\t57.0%\t50.8%\t63.2%\t52.0%\t59.0%\t50.2%\n",
      "\n",
      "Epoch 306/500\n"
     ]
    },
    {
     "name": "stdout",
     "output_type": "stream",
     "text": [
      "  Training - Loss: 0.2545, Accuracy: 91.8%\n",
      "        unk  \ta    \tb    \ts2   \ts1   \tc    \ts3   \n",
      "        92.0%\t92.0%\t90.1%\t85.2%\t86.0%\t91.8%\t86.2%\n"
     ]
    },
    {
     "name": "stdout",
     "output_type": "stream",
     "text": [
      "  Validation - Loss: 1.6617, Best Loss: inf, Accuracy: 52.0%, Best Acc: 54.4\n",
      "        s3   \tb    \tunk  \ta    \ts2   \tc    \ts1   \n",
      "        52.5%\t56.7%\t48.1%\t61.7%\t49.0%\t55.6%\t47.9%\n",
      "\n",
      "Epoch 307/500\n"
     ]
    },
    {
     "name": "stdout",
     "output_type": "stream",
     "text": [
      "  Training - Loss: 0.2487, Accuracy: 92.1%\n",
      "        unk  \ta    \tb    \tc    \ts2   \ts3   \ts1   \n",
      "        92.3%\t92.5%\t92.1%\t91.5%\t84.5%\t85.2%\t85.9%\n"
     ]
    },
    {
     "name": "stdout",
     "output_type": "stream",
     "text": [
      "  Validation - Loss: 1.5863, Best Loss: inf, Accuracy: 53.2%, Best Acc: 54.4\n",
      "        s3   \tb    \tunk  \ta    \ts2   \tc    \ts1   \n",
      "        56.7%\t54.8%\t50.3%\t60.8%\t50.6%\t55.6%\t49.7%\n",
      "\n",
      "Epoch 308/500\n"
     ]
    },
    {
     "name": "stdout",
     "output_type": "stream",
     "text": [
      "  Training - Loss: 0.2492, Accuracy: 92.0%\n",
      "        unk  \ta    \ts1   \ts2   \tc    \tb    \ts3   \n",
      "        92.2%\t92.3%\t84.5%\t85.9%\t93.1%\t91.6%\t86.0%\n"
     ]
    },
    {
     "name": "stdout",
     "output_type": "stream",
     "text": [
      "  Validation - Loss: 1.6103, Best Loss: inf, Accuracy: 53.6%, Best Acc: 54.4\n",
      "        s3   \tb    \tunk  \ta    \ts2   \tc    \ts1   \n",
      "        55.8%\t56.1%\t50.2%\t61.8%\t50.6%\t58.8%\t49.3%\n",
      "\n",
      "Epoch 309/500\n"
     ]
    },
    {
     "name": "stdout",
     "output_type": "stream",
     "text": [
      "  Training - Loss: 0.2495, Accuracy: 92.1%\n",
      "        unk  \ta    \tb    \tc    \ts1   \ts3   \ts2   \n",
      "        92.3%\t92.5%\t91.8%\t92.0%\t85.6%\t85.0%\t84.7%\n"
     ]
    },
    {
     "name": "stdout",
     "output_type": "stream",
     "text": [
      "  Validation - Loss: 1.5805, Best Loss: inf, Accuracy: 53.6%, Best Acc: 54.4\n",
      "        s3   \tb    \tunk  \ta    \ts2   \tc    \ts1   \n",
      "        54.6%\t56.4%\t50.7%\t61.8%\t49.1%\t58.5%\t49.7%\n",
      "\n",
      "Epoch 310/500\n"
     ]
    },
    {
     "name": "stdout",
     "output_type": "stream",
     "text": [
      "  Training - Loss: 0.2468, Accuracy: 92.1%\n",
      "        a    \ts3   \tunk  \tc    \ts2   \ts1   \tb    \n",
      "        92.7%\t85.4%\t92.3%\t91.9%\t86.3%\t85.9%\t91.1%\n"
     ]
    },
    {
     "name": "stdout",
     "output_type": "stream",
     "text": [
      "  Validation - Loss: 1.6511, Best Loss: inf, Accuracy: 52.0%, Best Acc: 54.4\n",
      "        s3   \tb    \tunk  \ta    \ts2   \tc    \ts1   \n",
      "        53.4%\t53.3%\t48.9%\t59.7%\t50.5%\t55.9%\t48.8%\n",
      "\n",
      "Epoch 311/500\n"
     ]
    },
    {
     "name": "stdout",
     "output_type": "stream",
     "text": [
      "  Training - Loss: 0.2437, Accuracy: 92.2%\n",
      "        unk  \ta    \tb    \ts2   \ts3   \ts1   \tc    \n",
      "        92.4%\t92.4%\t91.1%\t84.4%\t85.5%\t85.8%\t92.5%\n"
     ]
    },
    {
     "name": "stdout",
     "output_type": "stream",
     "text": [
      "  Validation - Loss: 1.7110, Best Loss: inf, Accuracy: 51.3%, Best Acc: 54.4\n",
      "        s3   \tb    \tunk  \ta    \ts2   \tc    \ts1   \n",
      "        50.7%\t54.6%\t47.7%\t59.7%\t48.0%\t57.5%\t47.6%\n",
      "\n",
      "Epoch 312/500\n"
     ]
    },
    {
     "name": "stdout",
     "output_type": "stream",
     "text": [
      "  Training - Loss: 0.2483, Accuracy: 92.0%\n",
      "        unk  \ts1   \ta    \tb    \tc    \ts3   \ts2   \n",
      "        92.2%\t86.8%\t92.2%\t90.5%\t92.4%\t85.9%\t86.6%\n"
     ]
    },
    {
     "name": "stdout",
     "output_type": "stream",
     "text": [
      "  Validation - Loss: 1.8412, Best Loss: inf, Accuracy: 48.5%, Best Acc: 54.4\n",
      "        s3   \tb    \tunk  \ta    \ts2   \tc    \ts1   \n",
      "        49.2%\t48.3%\t46.2%\t57.1%\t44.7%\t51.9%\t46.4%\n",
      "\n",
      "Epoch 313/500\n"
     ]
    },
    {
     "name": "stdout",
     "output_type": "stream",
     "text": [
      "  Training - Loss: 0.2423, Accuracy: 92.3%\n",
      "        unk  \ta    \ts2   \ts3   \tb    \tc    \ts1   \n",
      "        92.5%\t92.5%\t85.7%\t85.3%\t91.6%\t93.9%\t85.2%\n"
     ]
    },
    {
     "name": "stdout",
     "output_type": "stream",
     "text": [
      "  Validation - Loss: 1.6311, Best Loss: inf, Accuracy: 52.1%, Best Acc: 54.4\n",
      "        s3   \tb    \tunk  \ta    \ts2   \tc    \ts1   \n",
      "        53.0%\t54.9%\t48.8%\t61.1%\t47.2%\t56.7%\t49.2%\n",
      "\n",
      "Epoch 314/500\n"
     ]
    },
    {
     "name": "stdout",
     "output_type": "stream",
     "text": [
      "  Training - Loss: 0.2407, Accuracy: 92.3%\n",
      "        unk  \ta    \ts3   \tb    \ts2   \tc    \ts1   \n",
      "        92.5%\t92.6%\t86.8%\t91.8%\t85.9%\t92.9%\t86.4%\n"
     ]
    },
    {
     "name": "stdout",
     "output_type": "stream",
     "text": [
      "  Validation - Loss: 1.6510, Best Loss: inf, Accuracy: 52.0%, Best Acc: 54.4\n",
      "        s3   \tb    \tunk  \ta    \ts2   \tc    \ts1   \n",
      "        52.1%\t55.1%\t49.3%\t59.1%\t48.5%\t56.0%\t49.5%\n",
      "\n",
      "Epoch 315/500\n"
     ]
    },
    {
     "name": "stdout",
     "output_type": "stream",
     "text": [
      "  Training - Loss: 0.2377, Accuracy: 92.4%\n",
      "        unk  \tb    \ta    \ts1   \ts2   \ts3   \tc    \n",
      "        92.6%\t92.0%\t92.6%\t86.9%\t85.8%\t84.3%\t94.0%\n"
     ]
    },
    {
     "name": "stdout",
     "output_type": "stream",
     "text": [
      "  Validation - Loss: 1.5503, Best Loss: inf, Accuracy: 55.2%, Best Acc: 54.4\n",
      "        s3   \tb    \tunk  \ta    \ts2   \tc    \ts1   \n",
      "        56.5%\t57.1%\t52.4%\t62.3%\t52.4%\t59.8%\t51.5%\n",
      "\n",
      "Epoch 316/500\n"
     ]
    },
    {
     "name": "stdout",
     "output_type": "stream",
     "text": [
      "  Training - Loss: 0.2427, Accuracy: 92.2%\n",
      "        unk  \ta    \ts3   \ts1   \tc    \ts2   \tb    \n",
      "        92.5%\t92.5%\t86.4%\t84.9%\t92.5%\t84.4%\t92.3%\n"
     ]
    },
    {
     "name": "stdout",
     "output_type": "stream",
     "text": [
      "  Validation - Loss: 1.6449, Best Loss: inf, Accuracy: 52.8%, Best Acc: 55.2\n",
      "        s3   \tb    \tunk  \ta    \ts2   \tc    \ts1   \n",
      "        55.4%\t53.7%\t50.2%\t60.9%\t49.0%\t56.7%\t49.0%\n",
      "\n",
      "Epoch 317/500\n"
     ]
    },
    {
     "name": "stdout",
     "output_type": "stream",
     "text": [
      "  Training - Loss: 0.2408, Accuracy: 92.3%\n",
      "        unk  \tb    \ta    \ts1   \ts2   \ts3   \tc    \n",
      "        92.5%\t91.7%\t92.9%\t85.0%\t86.1%\t85.6%\t92.3%\n"
     ]
    },
    {
     "name": "stdout",
     "output_type": "stream",
     "text": [
      "  Validation - Loss: 1.7180, Best Loss: inf, Accuracy: 52.3%, Best Acc: 55.2\n",
      "        s3   \tb    \tunk  \ta    \ts2   \tc    \ts1   \n",
      "        52.8%\t55.0%\t48.9%\t61.8%\t48.6%\t57.3%\t48.2%\n",
      "\n",
      "Epoch 318/500\n"
     ]
    },
    {
     "name": "stdout",
     "output_type": "stream",
     "text": [
      "  Training - Loss: 0.2314, Accuracy: 92.6%\n",
      "        unk  \tb    \ta    \ts2   \ts3   \tc    \ts1   \n",
      "        92.8%\t92.4%\t93.1%\t87.0%\t86.8%\t93.5%\t86.1%\n"
     ]
    },
    {
     "name": "stdout",
     "output_type": "stream",
     "text": [
      "  Validation - Loss: 1.7120, Best Loss: inf, Accuracy: 51.9%, Best Acc: 55.2\n",
      "        s3   \tb    \tunk  \ta    \ts2   \tc    \ts1   \n",
      "        52.8%\t53.8%\t49.0%\t60.8%\t49.3%\t55.8%\t47.6%\n",
      "\n",
      "Epoch 319/500\n"
     ]
    },
    {
     "name": "stdout",
     "output_type": "stream",
     "text": [
      "  Training - Loss: 0.2404, Accuracy: 92.3%\n",
      "        unk  \ta    \tc    \ts1   \ts2   \tb    \ts3   \n",
      "        92.5%\t92.8%\t93.2%\t85.3%\t87.1%\t92.0%\t85.6%\n"
     ]
    },
    {
     "name": "stdout",
     "output_type": "stream",
     "text": [
      "  Validation - Loss: 1.5794, Best Loss: inf, Accuracy: 53.9%, Best Acc: 55.2\n",
      "        s3   \tb    \tunk  \ta    \ts2   \tc    \ts1   \n",
      "        56.1%\t55.8%\t51.1%\t62.4%\t49.5%\t57.8%\t50.4%\n",
      "\n",
      "Epoch 320/500\n"
     ]
    },
    {
     "name": "stdout",
     "output_type": "stream",
     "text": [
      "  Training - Loss: 0.2336, Accuracy: 92.6%\n",
      "        unk  \ts1   \ta    \ts2   \tc    \ts3   \tb    \n",
      "        92.8%\t86.4%\t92.8%\t86.3%\t93.6%\t86.1%\t91.3%\n"
     ]
    },
    {
     "name": "stdout",
     "output_type": "stream",
     "text": [
      "  Validation - Loss: 1.7825, Best Loss: inf, Accuracy: 50.6%, Best Acc: 55.2\n",
      "        s3   \tb    \tunk  \ta    \ts2   \tc    \ts1   \n",
      "        51.7%\t52.4%\t48.0%\t57.7%\t46.9%\t54.4%\t48.3%\n",
      "\n",
      "Epoch 321/500\n"
     ]
    },
    {
     "name": "stdout",
     "output_type": "stream",
     "text": [
      "  Training - Loss: 0.2316, Accuracy: 92.6%\n",
      "        unk  \ta    \tc    \ts3   \tb    \ts2   \ts1   \n",
      "        92.7%\t92.9%\t92.7%\t86.5%\t92.5%\t86.9%\t87.1%\n"
     ]
    },
    {
     "name": "stdout",
     "output_type": "stream",
     "text": [
      "  Validation - Loss: 1.5947, Best Loss: inf, Accuracy: 53.6%, Best Acc: 55.2\n",
      "        s3   \tb    \tunk  \ta    \ts2   \tc    \ts1   \n",
      "        55.1%\t55.9%\t50.2%\t62.8%\t50.3%\t59.2%\t48.4%\n",
      "\n",
      "Epoch 322/500\n"
     ]
    },
    {
     "name": "stdout",
     "output_type": "stream",
     "text": [
      "  Training - Loss: 0.2297, Accuracy: 92.7%\n",
      "        unk  \ta    \tc    \ts3   \ts2   \tb    \ts1   \n",
      "        92.9%\t93.0%\t93.6%\t85.5%\t86.5%\t91.7%\t86.2%\n"
     ]
    },
    {
     "name": "stdout",
     "output_type": "stream",
     "text": [
      "  Validation - Loss: 1.6524, Best Loss: inf, Accuracy: 53.0%, Best Acc: 55.2\n",
      "        s3   \tb    \tunk  \ta    \ts2   \tc    \ts1   \n",
      "        54.1%\t55.6%\t50.2%\t62.0%\t47.1%\t57.6%\t50.0%\n",
      "\n",
      "Epoch 323/500\n"
     ]
    },
    {
     "name": "stdout",
     "output_type": "stream",
     "text": [
      "  Training - Loss: 0.2306, Accuracy: 92.6%\n",
      "        unk  \ts3   \ta    \tb    \tc    \ts1   \ts2   \n",
      "        92.8%\t85.7%\t93.0%\t91.9%\t93.6%\t85.9%\t86.5%\n"
     ]
    },
    {
     "name": "stdout",
     "output_type": "stream",
     "text": [
      "  Validation - Loss: 1.6184, Best Loss: inf, Accuracy: 53.4%, Best Acc: 55.2\n",
      "        s3   \tb    \tunk  \ta    \ts2   \tc    \ts1   \n",
      "        54.4%\t58.2%\t50.3%\t62.5%\t49.7%\t56.2%\t49.1%\n",
      "\n",
      "Epoch 324/500\n"
     ]
    },
    {
     "name": "stdout",
     "output_type": "stream",
     "text": [
      "  Training - Loss: 0.2252, Accuracy: 92.8%\n",
      "        s2   \tunk  \ts1   \ta    \ts3   \tb    \tc    \n",
      "        87.7%\t93.0%\t86.5%\t93.0%\t86.6%\t92.5%\t94.3%\n"
     ]
    },
    {
     "name": "stdout",
     "output_type": "stream",
     "text": [
      "  Validation - Loss: 1.6131, Best Loss: inf, Accuracy: 52.4%, Best Acc: 55.2\n",
      "        s3   \tb    \tunk  \ta    \ts2   \tc    \ts1   \n",
      "        54.3%\t52.8%\t49.6%\t63.2%\t50.2%\t54.8%\t47.7%\n",
      "\n",
      "Epoch 325/500\n"
     ]
    },
    {
     "name": "stdout",
     "output_type": "stream",
     "text": [
      "  Training - Loss: 0.2288, Accuracy: 92.7%\n",
      "        s3   \tunk  \ta    \ts1   \tc    \ts2   \tb    \n",
      "        87.1%\t92.9%\t93.0%\t87.3%\t92.9%\t86.4%\t92.4%\n"
     ]
    },
    {
     "name": "stdout",
     "output_type": "stream",
     "text": [
      "  Validation - Loss: 1.6273, Best Loss: inf, Accuracy: 52.9%, Best Acc: 55.2\n",
      "        s3   \tb    \tunk  \ta    \ts2   \tc    \ts1   \n",
      "        52.9%\t56.6%\t49.7%\t60.7%\t51.3%\t55.7%\t49.7%\n",
      "\n",
      "Epoch 326/500\n"
     ]
    },
    {
     "name": "stdout",
     "output_type": "stream",
     "text": [
      "  Training - Loss: 0.2250, Accuracy: 92.9%\n",
      "        unk  \ta    \ts1   \tb    \ts3   \tc    \ts2   \n",
      "        93.2%\t92.9%\t86.4%\t91.6%\t86.3%\t92.8%\t85.3%\n"
     ]
    },
    {
     "name": "stdout",
     "output_type": "stream",
     "text": [
      "  Validation - Loss: 1.5927, Best Loss: inf, Accuracy: 53.9%, Best Acc: 55.2\n",
      "        s3   \tb    \tunk  \ta    \ts2   \tc    \ts1   \n",
      "        53.8%\t56.0%\t51.1%\t62.8%\t50.8%\t59.2%\t49.4%\n",
      "\n",
      "Epoch 327/500\n"
     ]
    },
    {
     "name": "stdout",
     "output_type": "stream",
     "text": [
      "  Training - Loss: 0.2247, Accuracy: 92.9%\n",
      "        a    \tunk  \ts2   \ts1   \tb    \tc    \ts3   \n",
      "        93.1%\t93.1%\t87.0%\t86.5%\t92.6%\t93.1%\t87.0%\n"
     ]
    },
    {
     "name": "stdout",
     "output_type": "stream",
     "text": [
      "  Validation - Loss: 1.6411, Best Loss: inf, Accuracy: 51.6%, Best Acc: 55.2\n",
      "        s3   \tb    \tunk  \ta    \ts2   \tc    \ts1   \n",
      "        51.9%\t53.6%\t49.3%\t58.7%\t49.1%\t54.7%\t48.6%\n",
      "\n",
      "Epoch 328/500\n"
     ]
    },
    {
     "name": "stdout",
     "output_type": "stream",
     "text": [
      "  Training - Loss: 0.2285, Accuracy: 92.7%\n",
      "        unk  \ta    \ts2   \ts1   \tb    \tc    \ts3   \n",
      "        93.0%\t93.0%\t85.8%\t84.9%\t92.6%\t93.7%\t86.7%\n"
     ]
    },
    {
     "name": "stdout",
     "output_type": "stream",
     "text": [
      "  Validation - Loss: 1.6319, Best Loss: inf, Accuracy: 53.8%, Best Acc: 55.2\n",
      "        s3   \tb    \tunk  \ta    \ts2   \tc    \ts1   \n",
      "        54.8%\t53.8%\t51.9%\t61.3%\t51.3%\t56.8%\t50.1%\n",
      "\n",
      "Epoch 329/500\n"
     ]
    },
    {
     "name": "stdout",
     "output_type": "stream",
     "text": [
      "  Training - Loss: 0.2230, Accuracy: 92.9%\n",
      "        unk  \ta    \tc    \ts2   \ts3   \tb    \ts1   \n",
      "        93.1%\t93.2%\t94.5%\t86.2%\t86.1%\t91.9%\t87.2%\n"
     ]
    },
    {
     "name": "stdout",
     "output_type": "stream",
     "text": [
      "  Validation - Loss: 1.6187, Best Loss: inf, Accuracy: 53.5%, Best Acc: 55.2\n",
      "        s3   \tb    \tunk  \ta    \ts2   \tc    \ts1   \n",
      "        55.4%\t55.3%\t50.9%\t60.3%\t50.7%\t56.3%\t50.6%\n",
      "\n",
      "Epoch 330/500\n"
     ]
    },
    {
     "name": "stdout",
     "output_type": "stream",
     "text": [
      "  Training - Loss: 0.2206, Accuracy: 93.0%\n",
      "        unk  \ta    \tc    \ts1   \tb    \ts3   \ts2   \n",
      "        93.2%\t93.5%\t93.8%\t86.9%\t91.8%\t87.0%\t86.5%\n"
     ]
    },
    {
     "name": "stdout",
     "output_type": "stream",
     "text": [
      "  Validation - Loss: 1.6780, Best Loss: inf, Accuracy: 52.5%, Best Acc: 55.2\n",
      "        s3   \tb    \tunk  \ta    \ts2   \tc    \ts1   \n",
      "        54.1%\t53.4%\t49.9%\t60.8%\t49.1%\t56.0%\t49.2%\n",
      "\n",
      "Epoch 331/500\n"
     ]
    },
    {
     "name": "stdout",
     "output_type": "stream",
     "text": [
      "  Training - Loss: 0.2242, Accuracy: 92.9%\n",
      "        a    \tunk  \ts1   \ts3   \tc    \tb    \ts2   \n",
      "        93.2%\t93.0%\t87.6%\t86.6%\t93.2%\t91.9%\t87.2%\n"
     ]
    },
    {
     "name": "stdout",
     "output_type": "stream",
     "text": [
      "  Validation - Loss: 1.6791, Best Loss: inf, Accuracy: 52.8%, Best Acc: 55.2\n",
      "        s3   \tb    \tunk  \ta    \ts2   \tc    \ts1   \n",
      "        53.8%\t56.3%\t49.6%\t60.5%\t49.9%\t55.7%\t50.1%\n",
      "\n",
      "Epoch 332/500\n"
     ]
    },
    {
     "name": "stdout",
     "output_type": "stream",
     "text": [
      "  Training - Loss: 0.2157, Accuracy: 93.2%\n",
      "        unk  \tb    \ta    \ts3   \tc    \ts1   \ts2   \n",
      "        93.4%\t92.6%\t93.4%\t86.3%\t94.4%\t87.6%\t87.4%\n"
     ]
    },
    {
     "name": "stdout",
     "output_type": "stream",
     "text": [
      "  Validation - Loss: 1.7852, Best Loss: inf, Accuracy: 48.9%, Best Acc: 55.2\n",
      "        s3   \tb    \tunk  \ta    \ts2   \tc    \ts1   \n",
      "        49.5%\t49.7%\t46.7%\t59.4%\t45.7%\t53.4%\t42.2%\n",
      "\n",
      "Epoch 333/500\n"
     ]
    },
    {
     "name": "stdout",
     "output_type": "stream",
     "text": [
      "  Training - Loss: 0.2284, Accuracy: 92.8%\n",
      "        unk  \tc    \ta    \ts1   \ts2   \tb    \ts3   \n",
      "        93.0%\t92.8%\t92.9%\t87.1%\t85.8%\t92.2%\t85.5%\n"
     ]
    },
    {
     "name": "stdout",
     "output_type": "stream",
     "text": [
      "  Validation - Loss: 1.7868, Best Loss: inf, Accuracy: 49.9%, Best Acc: 55.2\n",
      "        s3   \tb    \tunk  \ta    \ts2   \tc    \ts1   \n",
      "        50.4%\t53.4%\t46.5%\t58.2%\t46.7%\t54.4%\t46.4%\n",
      "\n",
      "Epoch 334/500\n"
     ]
    },
    {
     "name": "stdout",
     "output_type": "stream",
     "text": [
      "  Training - Loss: 0.2171, Accuracy: 93.1%\n",
      "        a    \tunk  \tc    \ts1   \tb    \ts3   \ts2   \n",
      "        93.1%\t93.3%\t93.6%\t86.6%\t93.2%\t86.2%\t87.8%\n"
     ]
    },
    {
     "name": "stdout",
     "output_type": "stream",
     "text": [
      "  Validation - Loss: 1.6913, Best Loss: inf, Accuracy: 51.9%, Best Acc: 55.2\n",
      "        s3   \tb    \tunk  \ta    \ts2   \tc    \ts1   \n",
      "        51.9%\t56.0%\t49.3%\t61.0%\t48.0%\t55.3%\t47.3%\n",
      "\n",
      "Epoch 335/500\n"
     ]
    },
    {
     "name": "stdout",
     "output_type": "stream",
     "text": [
      "  Training - Loss: 0.2178, Accuracy: 93.1%\n",
      "        unk  \ta    \tc    \ts3   \ts2   \ts1   \tb    \n",
      "        93.3%\t93.3%\t93.9%\t86.5%\t88.5%\t87.0%\t92.6%\n"
     ]
    },
    {
     "name": "stdout",
     "output_type": "stream",
     "text": [
      "  Validation - Loss: 1.6524, Best Loss: inf, Accuracy: 53.0%, Best Acc: 55.2\n",
      "        s3   \tb    \tunk  \ta    \ts2   \tc    \ts1   \n",
      "        54.1%\t55.1%\t50.5%\t60.7%\t50.1%\t56.9%\t48.9%\n",
      "\n",
      "Epoch 336/500\n"
     ]
    },
    {
     "name": "stdout",
     "output_type": "stream",
     "text": [
      "  Training - Loss: 0.2144, Accuracy: 93.2%\n",
      "        unk  \ta    \ts2   \ts1   \tc    \tb    \ts3   \n",
      "        93.3%\t93.8%\t87.5%\t87.2%\t93.0%\t92.8%\t88.1%\n"
     ]
    },
    {
     "name": "stdout",
     "output_type": "stream",
     "text": [
      "  Validation - Loss: 1.6487, Best Loss: inf, Accuracy: 52.6%, Best Acc: 55.2\n",
      "        s3   \tb    \tunk  \ta    \ts2   \tc    \ts1   \n",
      "        53.9%\t53.4%\t50.5%\t60.7%\t48.6%\t56.3%\t49.4%\n",
      "\n",
      "Epoch 337/500\n"
     ]
    },
    {
     "name": "stdout",
     "output_type": "stream",
     "text": [
      "  Training - Loss: 0.2189, Accuracy: 93.0%\n",
      "        a    \tb    \tunk  \ts2   \ts1   \tc    \ts3   \n",
      "        93.3%\t92.7%\t93.2%\t85.6%\t87.1%\t93.9%\t86.3%\n"
     ]
    },
    {
     "name": "stdout",
     "output_type": "stream",
     "text": [
      "  Validation - Loss: 1.6859, Best Loss: inf, Accuracy: 52.2%, Best Acc: 55.2\n",
      "        s3   \tb    \tunk  \ta    \ts2   \tc    \ts1   \n",
      "        54.8%\t54.4%\t49.3%\t61.6%\t48.5%\t55.4%\t47.7%\n",
      "\n",
      "Epoch 338/500\n"
     ]
    },
    {
     "name": "stdout",
     "output_type": "stream",
     "text": [
      "  Training - Loss: 0.2088, Accuracy: 93.4%\n",
      "        s1   \tc    \tunk  \ta    \ts2   \ts3   \tb    \n",
      "        87.9%\t93.7%\t93.6%\t93.7%\t87.3%\t87.0%\t93.0%\n"
     ]
    },
    {
     "name": "stdout",
     "output_type": "stream",
     "text": [
      "  Validation - Loss: 1.6300, Best Loss: inf, Accuracy: 53.8%, Best Acc: 55.2\n",
      "        s3   \tb    \tunk  \ta    \ts2   \tc    \ts1   \n",
      "        53.6%\t57.0%\t51.0%\t62.6%\t50.4%\t58.6%\t48.7%\n",
      "\n",
      "Epoch 339/500\n"
     ]
    },
    {
     "name": "stdout",
     "output_type": "stream",
     "text": [
      "  Training - Loss: 0.2105, Accuracy: 93.4%\n",
      "        unk  \ta    \ts2   \tc    \tb    \ts1   \ts3   \n",
      "        93.6%\t93.6%\t88.2%\t94.1%\t92.3%\t86.7%\t86.6%\n"
     ]
    },
    {
     "name": "stdout",
     "output_type": "stream",
     "text": [
      "  Validation - Loss: 1.6057, Best Loss: inf, Accuracy: 53.6%, Best Acc: 55.2\n",
      "        s3   \tb    \tunk  \ta    \ts2   \tc    \ts1   \n",
      "        53.4%\t55.6%\t50.7%\t62.3%\t49.9%\t58.8%\t50.4%\n",
      "\n",
      "Epoch 340/500\n"
     ]
    },
    {
     "name": "stdout",
     "output_type": "stream",
     "text": [
      "  Training - Loss: 0.2093, Accuracy: 93.4%\n",
      "        unk  \ta    \ts1   \ts2   \tc    \ts3   \tb    \n",
      "        93.6%\t93.5%\t86.7%\t87.8%\t93.3%\t87.9%\t92.8%\n"
     ]
    },
    {
     "name": "stdout",
     "output_type": "stream",
     "text": [
      "  Validation - Loss: 1.6946, Best Loss: inf, Accuracy: 52.1%, Best Acc: 55.2\n",
      "        s3   \tb    \tunk  \ta    \ts2   \tc    \ts1   \n",
      "        53.2%\t54.9%\t48.9%\t61.0%\t48.3%\t54.9%\t50.3%\n",
      "\n",
      "Epoch 341/500\n"
     ]
    },
    {
     "name": "stdout",
     "output_type": "stream",
     "text": [
      "  Training - Loss: 0.2093, Accuracy: 93.4%\n",
      "        unk  \ts1   \tb    \ta    \ts2   \tc    \ts3   \n",
      "        93.5%\t87.3%\t93.0%\t93.8%\t88.7%\t94.1%\t87.1%\n"
     ]
    },
    {
     "name": "stdout",
     "output_type": "stream",
     "text": [
      "  Validation - Loss: 1.6392, Best Loss: inf, Accuracy: 53.5%, Best Acc: 55.2\n",
      "        s3   \tb    \tunk  \ta    \ts2   \tc    \ts1   \n",
      "        55.5%\t55.3%\t51.4%\t61.1%\t49.7%\t56.8%\t49.3%\n",
      "\n",
      "Epoch 342/500\n"
     ]
    },
    {
     "name": "stdout",
     "output_type": "stream",
     "text": [
      "  Training - Loss: 0.2063, Accuracy: 93.5%\n",
      "        a    \tunk  \tc    \tb    \ts3   \ts1   \ts2   \n",
      "        93.9%\t93.7%\t93.1%\t92.7%\t88.3%\t88.3%\t86.1%\n"
     ]
    },
    {
     "name": "stdout",
     "output_type": "stream",
     "text": [
      "  Validation - Loss: 1.7220, Best Loss: inf, Accuracy: 51.6%, Best Acc: 55.2\n",
      "        s3   \tb    \tunk  \ta    \ts2   \tc    \ts1   \n",
      "        53.0%\t56.3%\t47.4%\t59.4%\t49.1%\t55.1%\t49.1%\n",
      "\n",
      "Epoch 343/500\n"
     ]
    },
    {
     "name": "stdout",
     "output_type": "stream",
     "text": [
      "  Training - Loss: 0.2099, Accuracy: 93.3%\n",
      "        unk  \ta    \ts1   \ts3   \tc    \tb    \ts2   \n",
      "        93.5%\t93.7%\t87.2%\t88.1%\t94.5%\t93.1%\t87.2%\n"
     ]
    },
    {
     "name": "stdout",
     "output_type": "stream",
     "text": [
      "  Validation - Loss: 1.6458, Best Loss: inf, Accuracy: 53.7%, Best Acc: 55.2\n",
      "        s3   \tb    \tunk  \ta    \ts2   \tc    \ts1   \n",
      "        55.8%\t57.2%\t50.3%\t62.4%\t49.4%\t56.6%\t51.3%\n",
      "\n",
      "Epoch 344/500\n"
     ]
    },
    {
     "name": "stdout",
     "output_type": "stream",
     "text": [
      "  Training - Loss: 0.2058, Accuracy: 93.5%\n",
      "        unk  \tc    \ta    \ts2   \tb    \ts1   \ts3   \n",
      "        93.7%\t94.2%\t94.0%\t87.0%\t93.0%\t87.7%\t87.8%\n"
     ]
    },
    {
     "name": "stdout",
     "output_type": "stream",
     "text": [
      "  Validation - Loss: 1.6746, Best Loss: inf, Accuracy: 52.6%, Best Acc: 55.2\n",
      "        s3   \tb    \tunk  \ta    \ts2   \tc    \ts1   \n",
      "        52.6%\t57.3%\t48.8%\t61.3%\t50.1%\t55.8%\t49.7%\n",
      "\n",
      "Epoch 345/500\n"
     ]
    },
    {
     "name": "stdout",
     "output_type": "stream",
     "text": [
      "  Training - Loss: 0.2059, Accuracy: 93.5%\n",
      "        unk  \ta    \tc    \tb    \ts1   \ts3   \ts2   \n",
      "        93.6%\t94.2%\t94.3%\t92.6%\t87.0%\t88.1%\t87.9%\n"
     ]
    },
    {
     "name": "stdout",
     "output_type": "stream",
     "text": [
      "  Validation - Loss: 1.6026, Best Loss: inf, Accuracy: 53.5%, Best Acc: 55.2\n",
      "        s3   \tb    \tunk  \ta    \ts2   \tc    \ts1   \n",
      "        53.4%\t56.3%\t50.3%\t62.7%\t50.2%\t58.1%\t50.0%\n",
      "\n",
      "Epoch 346/500\n"
     ]
    },
    {
     "name": "stdout",
     "output_type": "stream",
     "text": [
      "  Training - Loss: 0.2022, Accuracy: 93.6%\n",
      "        a    \tunk  \ts3   \ts2   \ts1   \tc    \tb    \n",
      "        93.8%\t93.8%\t89.6%\t87.9%\t88.7%\t95.2%\t93.2%\n"
     ]
    },
    {
     "name": "stdout",
     "output_type": "stream",
     "text": [
      "  Validation - Loss: 1.6262, Best Loss: inf, Accuracy: 52.5%, Best Acc: 55.2\n",
      "        s3   \tb    \tunk  \ta    \ts2   \tc    \ts1   \n",
      "        53.8%\t56.9%\t49.0%\t60.4%\t48.9%\t56.4%\t48.9%\n",
      "\n",
      "Epoch 347/500\n"
     ]
    },
    {
     "name": "stdout",
     "output_type": "stream",
     "text": [
      "  Training - Loss: 0.2036, Accuracy: 93.6%\n",
      "        unk  \ta    \ts3   \ts2   \ts1   \tc    \tb    \n",
      "        93.8%\t93.6%\t87.9%\t89.1%\t87.6%\t94.2%\t92.2%\n"
     ]
    },
    {
     "name": "stdout",
     "output_type": "stream",
     "text": [
      "  Validation - Loss: 1.6270, Best Loss: inf, Accuracy: 53.8%, Best Acc: 55.2\n",
      "        s3   \tb    \tunk  \ta    \ts2   \tc    \ts1   \n",
      "        54.8%\t57.1%\t50.6%\t61.3%\t50.7%\t58.2%\t50.2%\n",
      "\n",
      "Epoch 348/500\n"
     ]
    },
    {
     "name": "stdout",
     "output_type": "stream",
     "text": [
      "  Training - Loss: 0.1992, Accuracy: 93.7%\n",
      "        unk  \ta    \ts2   \tc    \tb    \ts1   \ts3   \n",
      "        93.9%\t93.8%\t89.2%\t94.2%\t92.2%\t88.9%\t87.9%\n"
     ]
    },
    {
     "name": "stdout",
     "output_type": "stream",
     "text": [
      "  Validation - Loss: 1.6650, Best Loss: inf, Accuracy: 53.3%, Best Acc: 55.2\n",
      "        s3   \tb    \tunk  \ta    \ts2   \tc    \ts1   \n",
      "        53.0%\t56.7%\t50.6%\t61.8%\t50.1%\t57.6%\t48.9%\n",
      "\n",
      "Epoch 349/500\n"
     ]
    },
    {
     "name": "stdout",
     "output_type": "stream",
     "text": [
      "  Training - Loss: 0.2004, Accuracy: 93.6%\n",
      "        unk  \tc    \ta    \tb    \ts3   \ts2   \ts1   \n",
      "        93.8%\t94.7%\t94.0%\t92.7%\t88.0%\t88.2%\t86.6%\n"
     ]
    },
    {
     "name": "stdout",
     "output_type": "stream",
     "text": [
      "  Validation - Loss: 1.6604, Best Loss: inf, Accuracy: 53.0%, Best Acc: 55.2\n",
      "        s3   \tb    \tunk  \ta    \ts2   \tc    \ts1   \n",
      "        53.4%\t56.5%\t49.4%\t61.5%\t50.7%\t57.8%\t48.5%\n",
      "\n",
      "Epoch 350/500\n"
     ]
    },
    {
     "name": "stdout",
     "output_type": "stream",
     "text": [
      "  Training - Loss: 0.1981, Accuracy: 93.8%\n",
      "        a    \tunk  \ts1   \ts3   \tb    \tc    \ts2   \n",
      "        94.1%\t93.9%\t88.9%\t88.2%\t94.1%\t93.7%\t88.0%\n"
     ]
    },
    {
     "name": "stdout",
     "output_type": "stream",
     "text": [
      "  Validation - Loss: 1.6570, Best Loss: inf, Accuracy: 53.2%, Best Acc: 55.2\n",
      "        s3   \tb    \tunk  \ta    \ts2   \tc    \ts1   \n",
      "        54.1%\t54.6%\t50.2%\t61.5%\t50.8%\t56.7%\t50.3%\n",
      "\n",
      "Epoch 351/500\n"
     ]
    },
    {
     "name": "stdout",
     "output_type": "stream",
     "text": [
      "  Training - Loss: 0.2005, Accuracy: 93.7%\n",
      "        a    \tunk  \ts1   \tb    \ts3   \tc    \ts2   \n",
      "        94.1%\t93.9%\t88.4%\t93.3%\t86.5%\t94.6%\t86.9%\n"
     ]
    },
    {
     "name": "stdout",
     "output_type": "stream",
     "text": [
      "  Validation - Loss: 1.5991, Best Loss: inf, Accuracy: 53.5%, Best Acc: 55.2\n",
      "        s3   \tb    \tunk  \ta    \ts2   \tc    \ts1   \n",
      "        55.7%\t55.3%\t50.9%\t61.7%\t49.4%\t56.3%\t50.2%\n",
      "\n",
      "Epoch 352/500\n"
     ]
    },
    {
     "name": "stdout",
     "output_type": "stream",
     "text": [
      "  Training - Loss: 0.1947, Accuracy: 93.8%\n",
      "        unk  \ta    \ts2   \tc    \ts1   \tb    \ts3   \n",
      "        94.0%\t94.2%\t87.3%\t93.9%\t88.9%\t92.5%\t88.1%\n"
     ]
    },
    {
     "name": "stdout",
     "output_type": "stream",
     "text": [
      "  Validation - Loss: 1.5907, Best Loss: inf, Accuracy: 53.3%, Best Acc: 55.2\n",
      "        s3   \tb    \tunk  \ta    \ts2   \tc    \ts1   \n",
      "        53.7%\t56.1%\t50.3%\t61.3%\t51.2%\t57.0%\t49.6%\n",
      "\n",
      "Epoch 353/500\n"
     ]
    },
    {
     "name": "stdout",
     "output_type": "stream",
     "text": [
      "  Training - Loss: 0.1939, Accuracy: 93.9%\n",
      "        unk  \ts3   \ta    \tc    \ts2   \ts1   \tb    \n",
      "        94.1%\t88.6%\t94.2%\t94.3%\t87.7%\t88.0%\t93.6%\n"
     ]
    },
    {
     "name": "stdout",
     "output_type": "stream",
     "text": [
      "  Validation - Loss: 1.6399, Best Loss: inf, Accuracy: 53.3%, Best Acc: 55.2\n",
      "        s3   \tb    \tunk  \ta    \ts2   \tc    \ts1   \n",
      "        53.1%\t54.9%\t50.7%\t61.4%\t51.6%\t56.8%\t49.6%\n",
      "\n",
      "Epoch 354/500\n"
     ]
    },
    {
     "name": "stdout",
     "output_type": "stream",
     "text": [
      "  Training - Loss: 0.1940, Accuracy: 93.9%\n",
      "        unk  \ta    \ts2   \tb    \tc    \ts3   \ts1   \n",
      "        94.1%\t94.2%\t88.3%\t93.0%\t94.1%\t88.4%\t88.6%\n"
     ]
    },
    {
     "name": "stdout",
     "output_type": "stream",
     "text": [
      "  Validation - Loss: 1.6858, Best Loss: inf, Accuracy: 51.4%, Best Acc: 55.2\n",
      "        s3   \tb    \tunk  \ta    \ts2   \tc    \ts1   \n",
      "        51.8%\t55.5%\t47.8%\t60.1%\t48.4%\t55.0%\t48.5%\n",
      "\n",
      "Epoch 355/500\n"
     ]
    },
    {
     "name": "stdout",
     "output_type": "stream",
     "text": [
      "  Training - Loss: 0.1918, Accuracy: 94.0%\n",
      "        unk  \ta    \ts1   \tb    \ts3   \ts2   \tc    \n",
      "        94.2%\t94.1%\t88.6%\t94.3%\t88.3%\t88.2%\t94.2%\n"
     ]
    },
    {
     "name": "stdout",
     "output_type": "stream",
     "text": [
      "  Validation - Loss: 1.6676, Best Loss: inf, Accuracy: 53.4%, Best Acc: 55.2\n",
      "        s3   \tb    \tunk  \ta    \ts2   \tc    \ts1   \n",
      "        54.8%\t57.7%\t49.4%\t61.7%\t49.9%\t57.4%\t51.3%\n",
      "\n",
      "Epoch 356/500\n"
     ]
    },
    {
     "name": "stdout",
     "output_type": "stream",
     "text": [
      "  Training - Loss: 0.1908, Accuracy: 94.1%\n",
      "        unk  \ts3   \ta    \ts1   \tc    \tb    \ts2   \n",
      "        94.2%\t88.4%\t94.3%\t89.0%\t94.2%\t93.4%\t88.6%\n"
     ]
    },
    {
     "name": "stdout",
     "output_type": "stream",
     "text": [
      "  Validation - Loss: 1.6614, Best Loss: inf, Accuracy: 53.0%, Best Acc: 55.2\n",
      "        s3   \tb    \tunk  \ta    \ts2   \tc    \ts1   \n",
      "        53.8%\t56.7%\t48.8%\t62.3%\t50.8%\t57.0%\t49.5%\n",
      "\n",
      "Epoch 357/500\n"
     ]
    },
    {
     "name": "stdout",
     "output_type": "stream",
     "text": [
      "  Training - Loss: 0.1915, Accuracy: 94.0%\n",
      "        unk  \ta    \ts2   \ts3   \ts1   \tb    \tc    \n",
      "        94.2%\t94.2%\t88.0%\t89.0%\t89.3%\t94.0%\t94.1%\n"
     ]
    },
    {
     "name": "stdout",
     "output_type": "stream",
     "text": [
      "  Validation - Loss: 1.6241, Best Loss: inf, Accuracy: 53.5%, Best Acc: 55.2\n",
      "        s3   \tb    \tunk  \ta    \ts2   \tc    \ts1   \n",
      "        55.1%\t56.6%\t49.4%\t63.3%\t49.5%\t58.0%\t50.9%\n",
      "\n",
      "Epoch 358/500\n"
     ]
    },
    {
     "name": "stdout",
     "output_type": "stream",
     "text": [
      "  Training - Loss: 0.1895, Accuracy: 94.1%\n",
      "        unk  \ta    \tb    \ts2   \ts3   \tc    \ts1   \n",
      "        94.3%\t94.2%\t93.3%\t88.5%\t87.9%\t93.7%\t88.3%\n"
     ]
    },
    {
     "name": "stdout",
     "output_type": "stream",
     "text": [
      "  Validation - Loss: 1.6299, Best Loss: inf, Accuracy: 53.8%, Best Acc: 55.2\n",
      "        s3   \tb    \tunk  \ta    \ts2   \tc    \ts1   \n",
      "        54.3%\t56.4%\t50.9%\t62.8%\t49.9%\t58.0%\t50.1%\n",
      "\n",
      "Epoch 359/500\n"
     ]
    },
    {
     "name": "stdout",
     "output_type": "stream",
     "text": [
      "  Training - Loss: 0.1870, Accuracy: 94.1%\n",
      "        unk  \ta    \ts3   \ts1   \ts2   \tc    \tb    \n",
      "        94.3%\t94.3%\t88.9%\t89.2%\t88.2%\t94.8%\t93.4%\n"
     ]
    },
    {
     "name": "stdout",
     "output_type": "stream",
     "text": [
      "  Validation - Loss: 1.6168, Best Loss: inf, Accuracy: 54.4%, Best Acc: 55.2\n",
      "        s3   \tb    \tunk  \ta    \ts2   \tc    \ts1   \n",
      "        54.6%\t56.1%\t52.1%\t61.8%\t52.4%\t58.0%\t50.4%\n",
      "\n",
      "Epoch 360/500\n"
     ]
    },
    {
     "name": "stdout",
     "output_type": "stream",
     "text": [
      "  Training - Loss: 0.1853, Accuracy: 94.2%\n",
      "        unk  \tc    \ta    \ts2   \ts1   \tb    \ts3   \n",
      "        94.4%\t94.9%\t94.5%\t89.5%\t88.9%\t93.3%\t88.7%\n"
     ]
    },
    {
     "name": "stdout",
     "output_type": "stream",
     "text": [
      "  Validation - Loss: 1.5741, Best Loss: inf, Accuracy: 55.3%, Best Acc: 55.2\n",
      "        s3   \tb    \tunk  \ta    \ts2   \tc    \ts1   \n",
      "        57.0%\t56.7%\t52.8%\t62.7%\t51.9%\t59.9%\t51.0%\n",
      "\n",
      "Epoch 361/500\n"
     ]
    },
    {
     "name": "stdout",
     "output_type": "stream",
     "text": [
      "  Training - Loss: 0.1869, Accuracy: 94.2%\n",
      "        unk  \ta    \ts3   \tc    \ts2   \tb    \ts1   \n",
      "        94.3%\t94.3%\t89.4%\t94.4%\t88.9%\t93.9%\t89.7%\n"
     ]
    },
    {
     "name": "stdout",
     "output_type": "stream",
     "text": [
      "  Validation - Loss: 1.6813, Best Loss: inf, Accuracy: 52.9%, Best Acc: 55.3\n",
      "        s3   \tb    \tunk  \ta    \ts2   \tc    \ts1   \n",
      "        53.3%\t57.0%\t49.4%\t61.0%\t51.2%\t56.6%\t48.6%\n",
      "\n",
      "Epoch 362/500\n"
     ]
    },
    {
     "name": "stdout",
     "output_type": "stream",
     "text": [
      "  Training - Loss: 0.1842, Accuracy: 94.2%\n",
      "        unk  \ta    \tc    \ts3   \tb    \ts2   \ts1   \n",
      "        94.4%\t94.5%\t94.6%\t90.4%\t94.1%\t87.8%\t88.5%\n"
     ]
    },
    {
     "name": "stdout",
     "output_type": "stream",
     "text": [
      "  Validation - Loss: 1.6595, Best Loss: inf, Accuracy: 53.1%, Best Acc: 55.3\n",
      "        s3   \tb    \tunk  \ta    \ts2   \tc    \ts1   \n",
      "        54.5%\t56.9%\t49.6%\t62.4%\t49.7%\t57.2%\t48.7%\n",
      "\n",
      "Epoch 363/500\n"
     ]
    },
    {
     "name": "stdout",
     "output_type": "stream",
     "text": [
      "  Training - Loss: 0.1869, Accuracy: 94.1%\n",
      "        unk  \ta    \ts1   \tb    \ts3   \ts2   \tc    \n",
      "        94.3%\t94.2%\t88.2%\t94.0%\t89.7%\t89.1%\t94.5%\n"
     ]
    },
    {
     "name": "stdout",
     "output_type": "stream",
     "text": [
      "  Validation - Loss: 1.6347, Best Loss: inf, Accuracy: 53.2%, Best Acc: 55.3\n",
      "        s3   \tb    \tunk  \ta    \ts2   \tc    \ts1   \n",
      "        54.2%\t55.3%\t50.0%\t62.9%\t48.7%\t57.7%\t50.4%\n",
      "\n",
      "Epoch 364/500\n"
     ]
    },
    {
     "name": "stdout",
     "output_type": "stream",
     "text": [
      "  Training - Loss: 0.1809, Accuracy: 94.3%\n",
      "        unk  \ta    \ts1   \tb    \ts3   \tc    \ts2   \n",
      "        94.5%\t94.7%\t88.8%\t93.6%\t89.4%\t94.6%\t88.4%\n"
     ]
    },
    {
     "name": "stdout",
     "output_type": "stream",
     "text": [
      "  Validation - Loss: 1.5874, Best Loss: inf, Accuracy: 53.8%, Best Acc: 55.3\n",
      "        s3   \tb    \tunk  \ta    \ts2   \tc    \ts1   \n",
      "        54.3%\t57.0%\t51.2%\t62.0%\t49.4%\t57.9%\t49.9%\n",
      "\n",
      "Epoch 365/500\n"
     ]
    },
    {
     "name": "stdout",
     "output_type": "stream",
     "text": [
      "  Training - Loss: 0.1822, Accuracy: 94.3%\n",
      "        a    \tunk  \ts1   \ts3   \tb    \tc    \ts2   \n",
      "        94.6%\t94.5%\t88.6%\t89.4%\t94.8%\t95.2%\t88.5%\n"
     ]
    },
    {
     "name": "stdout",
     "output_type": "stream",
     "text": [
      "  Validation - Loss: 1.7150, Best Loss: inf, Accuracy: 52.2%, Best Acc: 55.3\n",
      "        s3   \tb    \tunk  \ta    \ts2   \tc    \ts1   \n",
      "        52.8%\t55.6%\t48.0%\t61.4%\t48.6%\t56.8%\t50.3%\n",
      "\n",
      "Epoch 366/500\n"
     ]
    },
    {
     "name": "stdout",
     "output_type": "stream",
     "text": [
      "  Training - Loss: 0.1833, Accuracy: 94.2%\n",
      "        unk  \ta    \ts3   \tc    \ts2   \ts1   \tb    \n",
      "        94.4%\t94.6%\t89.4%\t94.7%\t88.4%\t90.1%\t93.4%\n"
     ]
    },
    {
     "name": "stdout",
     "output_type": "stream",
     "text": [
      "  Validation - Loss: 1.6313, Best Loss: inf, Accuracy: 54.2%, Best Acc: 55.3\n",
      "        s3   \tb    \tunk  \ta    \ts2   \tc    \ts1   \n",
      "        55.0%\t57.6%\t51.3%\t62.4%\t50.8%\t57.4%\t50.8%\n",
      "\n",
      "Epoch 367/500\n"
     ]
    },
    {
     "name": "stdout",
     "output_type": "stream",
     "text": [
      "  Training - Loss: 0.1758, Accuracy: 94.6%\n",
      "        unk  \ta    \ts3   \ts2   \tc    \tb    \ts1   \n",
      "        94.7%\t94.8%\t90.0%\t89.8%\t95.4%\t93.8%\t90.4%\n"
     ]
    },
    {
     "name": "stdout",
     "output_type": "stream",
     "text": [
      "  Validation - Loss: 1.6330, Best Loss: inf, Accuracy: 54.2%, Best Acc: 55.3\n",
      "        s3   \tb    \tunk  \ta    \ts2   \tc    \ts1   \n",
      "        55.4%\t55.9%\t52.0%\t61.8%\t50.9%\t57.1%\t50.6%\n",
      "\n",
      "Epoch 368/500\n"
     ]
    },
    {
     "name": "stdout",
     "output_type": "stream",
     "text": [
      "  Training - Loss: 0.1801, Accuracy: 94.4%\n",
      "        unk  \ts1   \ta    \tc    \ts2   \tb    \ts3   \n",
      "        94.6%\t90.3%\t94.6%\t94.9%\t88.0%\t94.3%\t88.7%\n"
     ]
    },
    {
     "name": "stdout",
     "output_type": "stream",
     "text": [
      "  Validation - Loss: 1.6605, Best Loss: inf, Accuracy: 52.9%, Best Acc: 55.3\n",
      "        s3   \tb    \tunk  \ta    \ts2   \tc    \ts1   \n",
      "        54.4%\t55.8%\t50.7%\t61.6%\t46.2%\t56.6%\t49.7%\n",
      "\n",
      "Epoch 369/500\n"
     ]
    },
    {
     "name": "stdout",
     "output_type": "stream",
     "text": [
      "  Training - Loss: 0.1709, Accuracy: 94.7%\n",
      "        unk  \tc    \ta    \ts3   \tb    \ts2   \ts1   \n",
      "        94.9%\t95.4%\t94.9%\t89.2%\t94.4%\t89.5%\t90.7%\n"
     ]
    },
    {
     "name": "stdout",
     "output_type": "stream",
     "text": [
      "  Validation - Loss: 1.6122, Best Loss: inf, Accuracy: 53.4%, Best Acc: 55.3\n",
      "        s3   \tb    \tunk  \ta    \ts2   \tc    \ts1   \n",
      "        54.1%\t55.6%\t50.7%\t62.6%\t49.2%\t58.0%\t48.8%\n",
      "\n",
      "Epoch 370/500\n"
     ]
    },
    {
     "name": "stdout",
     "output_type": "stream",
     "text": [
      "  Training - Loss: 0.1743, Accuracy: 94.6%\n",
      "        a    \ts3   \tunk  \tc    \ts1   \tb    \ts2   \n",
      "        94.7%\t89.4%\t94.8%\t95.3%\t88.9%\t93.9%\t90.1%\n"
     ]
    },
    {
     "name": "stdout",
     "output_type": "stream",
     "text": [
      "  Validation - Loss: 1.6602, Best Loss: inf, Accuracy: 53.1%, Best Acc: 55.3\n",
      "        s3   \tb    \tunk  \ta    \ts2   \tc    \ts1   \n",
      "        55.1%\t53.5%\t50.7%\t61.9%\t49.7%\t56.3%\t49.5%\n",
      "\n",
      "Epoch 371/500\n"
     ]
    },
    {
     "name": "stdout",
     "output_type": "stream",
     "text": [
      "  Training - Loss: 0.1740, Accuracy: 94.6%\n",
      "        unk  \ta    \tb    \tc    \ts3   \ts1   \ts2   \n",
      "        94.8%\t94.6%\t93.9%\t95.1%\t90.1%\t88.8%\t89.3%\n"
     ]
    },
    {
     "name": "stdout",
     "output_type": "stream",
     "text": [
      "  Validation - Loss: 1.6037, Best Loss: inf, Accuracy: 53.7%, Best Acc: 55.3\n",
      "        s3   \tb    \tunk  \ta    \ts2   \tc    \ts1   \n",
      "        54.3%\t56.5%\t50.6%\t63.2%\t48.2%\t58.2%\t51.3%\n",
      "\n",
      "Epoch 372/500\n"
     ]
    },
    {
     "name": "stdout",
     "output_type": "stream",
     "text": [
      "  Training - Loss: 0.1702, Accuracy: 94.7%\n",
      "        unk  \ta    \ts1   \ts2   \tc    \tb    \ts3   \n",
      "        94.9%\t94.9%\t89.7%\t89.3%\t95.1%\t94.5%\t88.7%\n"
     ]
    },
    {
     "name": "stdout",
     "output_type": "stream",
     "text": [
      "  Validation - Loss: 1.7379, Best Loss: inf, Accuracy: 52.0%, Best Acc: 55.3\n",
      "        s3   \tb    \tunk  \ta    \ts2   \tc    \ts1   \n",
      "        51.9%\t54.2%\t48.4%\t61.0%\t49.3%\t56.4%\t49.7%\n",
      "\n",
      "Epoch 373/500\n"
     ]
    },
    {
     "name": "stdout",
     "output_type": "stream",
     "text": [
      "  Training - Loss: 0.1744, Accuracy: 94.6%\n",
      "        unk  \ta    \tb    \ts3   \ts2   \ts1   \tc    \n",
      "        94.8%\t94.6%\t94.1%\t89.4%\t89.4%\t90.0%\t94.5%\n"
     ]
    },
    {
     "name": "stdout",
     "output_type": "stream",
     "text": [
      "  Validation - Loss: 1.6658, Best Loss: inf, Accuracy: 52.3%, Best Acc: 55.3\n",
      "        s3   \tb    \tunk  \ta    \ts2   \tc    \ts1   \n",
      "        53.4%\t53.9%\t49.0%\t60.0%\t49.6%\t56.3%\t50.8%\n",
      "\n",
      "Epoch 374/500\n"
     ]
    },
    {
     "name": "stdout",
     "output_type": "stream",
     "text": [
      "  Training - Loss: 0.1711, Accuracy: 94.7%\n",
      "        unk  \ta    \tb    \tc    \ts3   \ts1   \ts2   \n",
      "        94.9%\t94.8%\t94.2%\t95.4%\t88.4%\t90.4%\t89.6%\n"
     ]
    },
    {
     "name": "stdout",
     "output_type": "stream",
     "text": [
      "  Validation - Loss: 1.6965, Best Loss: inf, Accuracy: 52.1%, Best Acc: 55.3\n",
      "        s3   \tb    \tunk  \ta    \ts2   \tc    \ts1   \n",
      "        51.7%\t55.4%\t49.0%\t61.2%\t48.3%\t55.5%\t50.0%\n",
      "\n",
      "Epoch 375/500\n"
     ]
    },
    {
     "name": "stdout",
     "output_type": "stream",
     "text": [
      "  Training - Loss: 0.1659, Accuracy: 94.9%\n",
      "        unk  \ta    \ts2   \tb    \tc    \ts1   \ts3   \n",
      "        95.1%\t94.7%\t90.0%\t94.3%\t94.7%\t89.7%\t90.1%\n"
     ]
    },
    {
     "name": "stdout",
     "output_type": "stream",
     "text": [
      "  Validation - Loss: 1.6714, Best Loss: inf, Accuracy: 53.3%, Best Acc: 55.3\n",
      "        s3   \tb    \tunk  \ta    \ts2   \tc    \ts1   \n",
      "        53.6%\t57.2%\t49.6%\t61.9%\t49.5%\t58.3%\t50.4%\n",
      "\n",
      "Epoch 376/500\n"
     ]
    },
    {
     "name": "stdout",
     "output_type": "stream",
     "text": [
      "  Training - Loss: 0.1691, Accuracy: 94.7%\n",
      "        unk  \ts2   \ta    \ts3   \tb    \tc    \ts1   \n",
      "        94.9%\t89.5%\t95.0%\t90.3%\t94.3%\t95.2%\t89.9%\n"
     ]
    },
    {
     "name": "stdout",
     "output_type": "stream",
     "text": [
      "  Validation - Loss: 1.6675, Best Loss: inf, Accuracy: 53.7%, Best Acc: 55.3\n",
      "        s3   \tb    \tunk  \ta    \ts2   \tc    \ts1   \n",
      "        54.1%\t56.6%\t50.6%\t62.2%\t51.4%\t57.7%\t49.8%\n",
      "\n",
      "Epoch 377/500\n"
     ]
    },
    {
     "name": "stdout",
     "output_type": "stream",
     "text": [
      "  Training - Loss: 0.1647, Accuracy: 94.9%\n",
      "        unk  \ta    \ts3   \ts1   \ts2   \tb    \tc    \n",
      "        95.1%\t95.0%\t90.5%\t89.3%\t89.1%\t94.7%\t96.0%\n"
     ]
    },
    {
     "name": "stdout",
     "output_type": "stream",
     "text": [
      "  Validation - Loss: 1.5699, Best Loss: inf, Accuracy: 54.7%, Best Acc: 55.3\n",
      "        s3   \tb    \tunk  \ta    \ts2   \tc    \ts1   \n",
      "        55.0%\t58.3%\t51.6%\t62.3%\t52.1%\t58.2%\t51.4%\n",
      "\n",
      "Epoch 378/500\n"
     ]
    },
    {
     "name": "stdout",
     "output_type": "stream",
     "text": [
      "  Training - Loss: 0.1604, Accuracy: 95.1%\n",
      "        unk  \ta    \ts1   \ts3   \tb    \ts2   \tc    \n",
      "        95.2%\t95.2%\t90.9%\t90.6%\t94.4%\t89.6%\t94.9%\n"
     ]
    },
    {
     "name": "stdout",
     "output_type": "stream",
     "text": [
      "  Validation - Loss: 1.6157, Best Loss: inf, Accuracy: 54.4%, Best Acc: 55.3\n",
      "        s3   \tb    \tunk  \ta    \ts2   \tc    \ts1   \n",
      "        55.2%\t56.7%\t52.3%\t63.3%\t50.5%\t57.6%\t49.8%\n",
      "\n",
      "Epoch 379/500\n"
     ]
    },
    {
     "name": "stdout",
     "output_type": "stream",
     "text": [
      "  Training - Loss: 0.1615, Accuracy: 95.0%\n",
      "        unk  \ta    \tc    \tb    \ts2   \ts3   \ts1   \n",
      "        95.2%\t95.1%\t95.2%\t95.3%\t90.7%\t90.9%\t90.4%\n"
     ]
    },
    {
     "name": "stdout",
     "output_type": "stream",
     "text": [
      "  Validation - Loss: 1.6602, Best Loss: inf, Accuracy: 54.0%, Best Acc: 55.3\n",
      "        s3   \tb    \tunk  \ta    \ts2   \tc    \ts1   \n",
      "        54.9%\t57.5%\t50.4%\t61.7%\t50.8%\t58.6%\t51.3%\n",
      "\n",
      "Epoch 380/500\n"
     ]
    },
    {
     "name": "stdout",
     "output_type": "stream",
     "text": [
      "  Training - Loss: 0.1640, Accuracy: 94.9%\n",
      "        unk  \ta    \ts3   \ts2   \ts1   \tc    \tb    \n",
      "        95.1%\t95.2%\t89.7%\t89.3%\t91.0%\t95.4%\t93.5%\n"
     ]
    },
    {
     "name": "stdout",
     "output_type": "stream",
     "text": [
      "  Validation - Loss: 1.6795, Best Loss: inf, Accuracy: 53.3%, Best Acc: 55.3\n",
      "        s3   \tb    \tunk  \ta    \ts2   \tc    \ts1   \n",
      "        54.5%\t56.9%\t50.2%\t61.5%\t48.5%\t57.2%\t50.9%\n",
      "\n",
      "Epoch 381/500\n"
     ]
    },
    {
     "name": "stdout",
     "output_type": "stream",
     "text": [
      "  Training - Loss: 0.1633, Accuracy: 95.0%\n",
      "        a    \tunk  \ts3   \tb    \ts1   \tc    \ts2   \n",
      "        94.7%\t95.2%\t89.3%\t94.6%\t90.4%\t95.3%\t89.2%\n"
     ]
    },
    {
     "name": "stdout",
     "output_type": "stream",
     "text": [
      "  Validation - Loss: 1.6244, Best Loss: inf, Accuracy: 53.8%, Best Acc: 55.3\n",
      "        s3   \tb    \tunk  \ta    \ts2   \tc    \ts1   \n",
      "        53.4%\t58.4%\t50.5%\t61.5%\t50.5%\t58.2%\t50.8%\n",
      "\n",
      "Epoch 382/500\n"
     ]
    },
    {
     "name": "stdout",
     "output_type": "stream",
     "text": [
      "  Training - Loss: 0.1604, Accuracy: 95.0%\n",
      "        unk  \ta    \tc    \ts3   \ts1   \tb    \ts2   \n",
      "        95.2%\t95.1%\t95.0%\t90.7%\t90.2%\t95.3%\t90.3%\n"
     ]
    },
    {
     "name": "stdout",
     "output_type": "stream",
     "text": [
      "  Validation - Loss: 1.6365, Best Loss: inf, Accuracy: 53.8%, Best Acc: 55.3\n",
      "        s3   \tb    \tunk  \ta    \ts2   \tc    \ts1   \n",
      "        53.6%\t57.3%\t51.2%\t61.4%\t50.5%\t57.4%\t50.4%\n",
      "\n",
      "Epoch 383/500\n"
     ]
    },
    {
     "name": "stdout",
     "output_type": "stream",
     "text": [
      "  Training - Loss: 0.1621, Accuracy: 95.0%\n",
      "        unk  \ta    \tb    \ts3   \tc    \ts1   \ts2   \n",
      "        95.1%\t95.1%\t93.7%\t90.9%\t95.4%\t90.4%\t90.4%\n"
     ]
    },
    {
     "name": "stdout",
     "output_type": "stream",
     "text": [
      "  Validation - Loss: 1.6372, Best Loss: inf, Accuracy: 54.3%, Best Acc: 55.3\n",
      "        s3   \tb    \tunk  \ta    \ts2   \tc    \ts1   \n",
      "        55.1%\t57.0%\t51.9%\t62.4%\t50.2%\t58.1%\t50.3%\n",
      "\n",
      "Epoch 384/500\n"
     ]
    },
    {
     "name": "stdout",
     "output_type": "stream",
     "text": [
      "  Training - Loss: 0.1611, Accuracy: 95.0%\n",
      "        unk  \ts2   \ta    \tc    \ts3   \ts1   \tb    \n",
      "        95.2%\t88.4%\t95.0%\t95.6%\t90.2%\t90.9%\t95.0%\n"
     ]
    },
    {
     "name": "stdout",
     "output_type": "stream",
     "text": [
      "  Validation - Loss: 1.7369, Best Loss: inf, Accuracy: 52.8%, Best Acc: 55.3\n",
      "        s3   \tb    \tunk  \ta    \ts2   \tc    \ts1   \n",
      "        55.4%\t55.3%\t49.7%\t61.1%\t48.6%\t56.9%\t48.6%\n",
      "\n",
      "Epoch 385/500\n"
     ]
    },
    {
     "name": "stdout",
     "output_type": "stream",
     "text": [
      "  Training - Loss: 0.1576, Accuracy: 95.1%\n",
      "        unk  \tc    \ta    \ts1   \ts2   \tb    \ts3   \n",
      "        95.3%\t94.6%\t95.3%\t90.9%\t90.1%\t94.8%\t90.2%\n"
     ]
    },
    {
     "name": "stdout",
     "output_type": "stream",
     "text": [
      "  Validation - Loss: 1.6721, Best Loss: inf, Accuracy: 53.0%, Best Acc: 55.3\n",
      "        s3   \tb    \tunk  \ta    \ts2   \tc    \ts1   \n",
      "        53.5%\t55.8%\t49.3%\t61.5%\t49.6%\t57.4%\t51.3%\n",
      "\n",
      "Epoch 386/500\n"
     ]
    },
    {
     "name": "stdout",
     "output_type": "stream",
     "text": [
      "  Training - Loss: 0.1551, Accuracy: 95.2%\n",
      "        s3   \tunk  \tc    \ta    \ts1   \ts2   \tb    \n",
      "        90.9%\t95.4%\t95.5%\t95.3%\t90.8%\t89.6%\t94.7%\n"
     ]
    },
    {
     "name": "stdout",
     "output_type": "stream",
     "text": [
      "  Validation - Loss: 1.5785, Best Loss: inf, Accuracy: 54.6%, Best Acc: 55.3\n",
      "        s3   \tb    \tunk  \ta    \ts2   \tc    \ts1   \n",
      "        56.1%\t57.2%\t51.7%\t63.6%\t50.4%\t58.2%\t51.0%\n",
      "\n",
      "Epoch 387/500\n"
     ]
    },
    {
     "name": "stdout",
     "output_type": "stream",
     "text": [
      "  Training - Loss: 0.1542, Accuracy: 95.3%\n",
      "        unk  \ta    \ts3   \tb    \ts1   \ts2   \tc    \n",
      "        95.4%\t95.4%\t91.7%\t95.4%\t91.4%\t91.3%\t96.4%\n"
     ]
    },
    {
     "name": "stdout",
     "output_type": "stream",
     "text": [
      "  Validation - Loss: 1.7498, Best Loss: inf, Accuracy: 52.3%, Best Acc: 55.3\n",
      "        s3   \tb    \tunk  \ta    \ts2   \tc    \ts1   \n",
      "        53.1%\t55.0%\t49.4%\t60.1%\t49.5%\t55.1%\t49.9%\n",
      "\n",
      "Epoch 388/500\n"
     ]
    },
    {
     "name": "stdout",
     "output_type": "stream",
     "text": [
      "  Training - Loss: 0.1540, Accuracy: 95.2%\n",
      "        unk  \ts2   \ta    \tb    \ts1   \ts3   \tc    \n",
      "        95.4%\t89.8%\t95.2%\t95.5%\t91.3%\t91.3%\t95.3%\n"
     ]
    },
    {
     "name": "stdout",
     "output_type": "stream",
     "text": [
      "  Validation - Loss: 1.6824, Best Loss: inf, Accuracy: 52.7%, Best Acc: 55.3\n",
      "        s3   \tb    \tunk  \ta    \ts2   \tc    \ts1   \n",
      "        54.1%\t56.0%\t49.8%\t61.6%\t48.3%\t56.6%\t48.5%\n",
      "\n",
      "Epoch 389/500\n"
     ]
    },
    {
     "name": "stdout",
     "output_type": "stream",
     "text": [
      "  Training - Loss: 0.1509, Accuracy: 95.4%\n",
      "        unk  \ta    \ts2   \tb    \ts3   \tc    \ts1   \n",
      "        95.6%\t95.5%\t90.3%\t94.8%\t91.1%\t95.9%\t91.9%\n"
     ]
    },
    {
     "name": "stdout",
     "output_type": "stream",
     "text": [
      "  Validation - Loss: 1.8099, Best Loss: inf, Accuracy: 51.0%, Best Acc: 55.3\n",
      "        s3   \tb    \tunk  \ta    \ts2   \tc    \ts1   \n",
      "        52.6%\t54.0%\t47.3%\t59.2%\t48.5%\t53.3%\t49.2%\n",
      "\n",
      "Epoch 390/500\n"
     ]
    },
    {
     "name": "stdout",
     "output_type": "stream",
     "text": [
      "  Training - Loss: 0.1515, Accuracy: 95.4%\n",
      "        unk  \ts1   \ta    \tb    \tc    \ts2   \ts3   \n",
      "        95.6%\t91.1%\t95.5%\t94.5%\t95.8%\t90.9%\t90.4%\n"
     ]
    },
    {
     "name": "stdout",
     "output_type": "stream",
     "text": [
      "  Validation - Loss: 1.6804, Best Loss: inf, Accuracy: 52.9%, Best Acc: 55.3\n",
      "        s3   \tb    \tunk  \ta    \ts2   \tc    \ts1   \n",
      "        53.0%\t56.7%\t49.9%\t62.0%\t48.7%\t56.7%\t49.2%\n",
      "\n",
      "Epoch 391/500\n"
     ]
    },
    {
     "name": "stdout",
     "output_type": "stream",
     "text": [
      "  Training - Loss: 0.1502, Accuracy: 95.4%\n",
      "        unk  \ta    \tb    \tc    \ts1   \ts2   \ts3   \n",
      "        95.5%\t95.5%\t95.1%\t95.4%\t91.3%\t91.3%\t90.5%\n"
     ]
    },
    {
     "name": "stdout",
     "output_type": "stream",
     "text": [
      "  Validation - Loss: 1.6290, Best Loss: inf, Accuracy: 54.2%, Best Acc: 55.3\n",
      "        s3   \tb    \tunk  \ta    \ts2   \tc    \ts1   \n",
      "        54.5%\t57.0%\t51.4%\t62.9%\t52.0%\t57.5%\t49.9%\n",
      "\n",
      "Epoch 392/500\n"
     ]
    },
    {
     "name": "stdout",
     "output_type": "stream",
     "text": [
      "  Training - Loss: 0.1511, Accuracy: 95.3%\n",
      "        unk  \ta    \ts3   \ts1   \tb    \tc    \ts2   \n",
      "        95.5%\t95.2%\t89.9%\t90.7%\t94.6%\t95.2%\t90.6%\n"
     ]
    },
    {
     "name": "stdout",
     "output_type": "stream",
     "text": [
      "  Validation - Loss: 1.6799, Best Loss: inf, Accuracy: 53.5%, Best Acc: 55.3\n",
      "        s3   \tb    \tunk  \ta    \ts2   \tc    \ts1   \n",
      "        54.5%\t56.8%\t50.7%\t61.3%\t50.4%\t56.7%\t49.3%\n",
      "\n",
      "Epoch 393/500\n"
     ]
    },
    {
     "name": "stdout",
     "output_type": "stream",
     "text": [
      "  Training - Loss: 0.1493, Accuracy: 95.4%\n",
      "        unk  \ts2   \ta    \tc    \ts1   \ts3   \tb    \n",
      "        95.6%\t91.0%\t95.6%\t95.7%\t90.7%\t90.2%\t94.5%\n"
     ]
    },
    {
     "name": "stdout",
     "output_type": "stream",
     "text": [
      "  Validation - Loss: 1.6518, Best Loss: inf, Accuracy: 54.2%, Best Acc: 55.3\n",
      "        s3   \tb    \tunk  \ta    \ts2   \tc    \ts1   \n",
      "        53.9%\t58.4%\t51.0%\t62.8%\t52.2%\t57.4%\t50.2%\n",
      "\n",
      "Epoch 394/500\n"
     ]
    },
    {
     "name": "stdout",
     "output_type": "stream",
     "text": [
      "  Training - Loss: 0.1458, Accuracy: 95.6%\n",
      "        unk  \ts3   \ta    \tb    \tc    \ts2   \ts1   \n",
      "        95.7%\t91.2%\t95.6%\t95.7%\t95.9%\t91.3%\t91.0%\n"
     ]
    },
    {
     "name": "stdout",
     "output_type": "stream",
     "text": [
      "  Validation - Loss: 1.6405, Best Loss: inf, Accuracy: 54.5%, Best Acc: 55.3\n",
      "        s3   \tb    \tunk  \ta    \ts2   \tc    \ts1   \n",
      "        55.4%\t57.3%\t51.9%\t62.7%\t50.4%\t58.1%\t50.9%\n",
      "\n",
      "Epoch 395/500\n"
     ]
    },
    {
     "name": "stdout",
     "output_type": "stream",
     "text": [
      "  Training - Loss: 0.1459, Accuracy: 95.5%\n",
      "        s2   \tunk  \ta    \tb    \ts3   \tc    \ts1   \n",
      "        91.2%\t95.7%\t95.6%\t94.4%\t90.7%\t95.2%\t91.4%\n"
     ]
    },
    {
     "name": "stdout",
     "output_type": "stream",
     "text": [
      "  Validation - Loss: 1.6688, Best Loss: inf, Accuracy: 53.6%, Best Acc: 55.3\n",
      "        s3   \tb    \tunk  \ta    \ts2   \tc    \ts1   \n",
      "        53.3%\t56.2%\t50.8%\t61.4%\t50.4%\t58.0%\t50.2%\n",
      "\n",
      "Epoch 396/500\n"
     ]
    },
    {
     "name": "stdout",
     "output_type": "stream",
     "text": [
      "  Training - Loss: 0.1438, Accuracy: 95.6%\n",
      "        a    \tunk  \ts2   \ts3   \ts1   \tb    \tc    \n",
      "        95.7%\t95.8%\t91.6%\t90.4%\t90.8%\t95.4%\t95.6%\n"
     ]
    },
    {
     "name": "stdout",
     "output_type": "stream",
     "text": [
      "  Validation - Loss: 1.6222, Best Loss: inf, Accuracy: 54.0%, Best Acc: 55.3\n",
      "        s3   \tb    \tunk  \ta    \ts2   \tc    \ts1   \n",
      "        54.0%\t56.8%\t51.4%\t62.5%\t50.8%\t57.4%\t50.3%\n",
      "\n",
      "Epoch 397/500\n"
     ]
    },
    {
     "name": "stdout",
     "output_type": "stream",
     "text": [
      "  Training - Loss: 0.1448, Accuracy: 95.6%\n",
      "        a    \tunk  \tc    \tb    \ts3   \ts2   \ts1   \n",
      "        95.7%\t95.8%\t95.8%\t95.9%\t90.2%\t91.8%\t90.5%\n"
     ]
    },
    {
     "name": "stdout",
     "output_type": "stream",
     "text": [
      "  Validation - Loss: 1.6352, Best Loss: inf, Accuracy: 54.3%, Best Acc: 55.3\n",
      "        s3   \tb    \tunk  \ta    \ts2   \tc    \ts1   \n",
      "        54.7%\t57.9%\t52.0%\t63.2%\t49.4%\t56.2%\t51.3%\n",
      "\n",
      "Epoch 398/500\n"
     ]
    },
    {
     "name": "stdout",
     "output_type": "stream",
     "text": [
      "  Training - Loss: 0.1464, Accuracy: 95.5%\n",
      "        unk  \ts1   \ta    \tc    \tb    \ts2   \ts3   \n",
      "        95.8%\t90.9%\t95.4%\t94.8%\t95.0%\t90.7%\t90.9%\n"
     ]
    },
    {
     "name": "stdout",
     "output_type": "stream",
     "text": [
      "  Validation - Loss: 1.6693, Best Loss: inf, Accuracy: 52.9%, Best Acc: 55.3\n",
      "        s3   \tb    \tunk  \ta    \ts2   \tc    \ts1   \n",
      "        52.6%\t57.3%\t49.8%\t61.8%\t48.7%\t57.0%\t49.0%\n",
      "\n",
      "Epoch 399/500\n"
     ]
    },
    {
     "name": "stdout",
     "output_type": "stream",
     "text": [
      "  Training - Loss: 0.1387, Accuracy: 95.8%\n",
      "        unk  \ta    \ts1   \ts2   \tc    \tb    \ts3   \n",
      "        96.0%\t95.9%\t91.5%\t91.7%\t95.8%\t95.4%\t91.4%\n"
     ]
    },
    {
     "name": "stdout",
     "output_type": "stream",
     "text": [
      "  Validation - Loss: 1.6186, Best Loss: inf, Accuracy: 54.7%, Best Acc: 55.3\n",
      "        s3   \tb    \tunk  \ta    \ts2   \tc    \ts1   \n",
      "        55.6%\t56.3%\t51.8%\t62.9%\t51.2%\t58.4%\t52.9%\n",
      "\n",
      "Epoch 400/500\n"
     ]
    },
    {
     "name": "stdout",
     "output_type": "stream",
     "text": [
      "  Training - Loss: 0.1415, Accuracy: 95.7%\n",
      "        unk  \ts2   \tb    \ta    \tc    \ts3   \ts1   \n",
      "        95.9%\t91.4%\t94.9%\t95.8%\t95.8%\t92.4%\t91.2%\n"
     ]
    }
   ],
   "source": [
    "print(\"\\n\\nSTEP 1 --------------------------------------------------------------------\")\n",
    "model = get_mel_spectrogram_model().to(device)\n",
    "# Define optimizer\n",
    "optimizer = torch.optim.AdamW(model.parameters(), lr=params['learning_rate'], weight_decay=0.05)\n",
    "# Learning rate scheduler\n",
    "scheduler = torch.optim.lr_scheduler.CosineAnnealingLR(optimizer, T_max=params['nb_epochs'])\n",
    "# Loss function\n",
    "loss_fn = nn.CrossEntropyLoss()\n",
    "# Evaluation metric\n",
    "metric = torchmetrics.Accuracy(task='multiclass', num_classes=10).to(device)\n",
    "\n",
    "model, best_acc, best_loss, train_losses, train_accs, val_losses, val_accs= train_model(\n",
    "    model=model,\n",
    "    train_loader=train_loader,\n",
    "    test_loader=test_loader,\n",
    "    optimizer=optimizer,\n",
    "    scheduler= scheduler,\n",
    "    loss_fn=loss_fn,\n",
    "    metric=metric,\n",
    "    params=params,\n",
    "    best_test_accuracy = 0.0,\n",
    "    best_val_loss = float('inf'),\n",
    "    model_name=\"step1\"\n",
    ")\n",
    "\n",
    "# Validate\n",
    "test_loss, test_acc, test_device_stats = evaluate_epoch(model, test_loader, loss_fn, metric, best_loss, best_acc)\n",
    "print(\"\\n\\n\")\n",
    "\n",
    "\n",
    "# Get optimizer name\n",
    "optimizer_name = optimizer.__class__.__name__\n",
    "schdlr = scheduler.__class__.__name__ if scheduler != None else \"None\"\n",
    "wd = optimizer.param_groups[0]['weight_decay']\n",
    "NOTE = \"My New Model + Baseline Config\"\n",
    "plot_training_history(train_losses, train_accs, val_losses, val_accs, details=f\"Optimizer: {optimizer_name}, LR: {params['learning_rate']}, Weight Decay: {wd:1.3f}. Batch Size: {params['batch_size']}, Scheduler: {schdlr}\\nNote: \\\"{NOTE}\\\"\")"
   ]
  }
 ],
 "metadata": {
  "kaggle": {
   "accelerator": "gpu",
   "dataSources": [
    {
     "datasetId": 7581331,
     "sourceId": 12072182,
     "sourceType": "datasetVersion"
    },
    {
     "datasetId": 7631468,
     "sourceId": 12120006,
     "sourceType": "datasetVersion"
    }
   ],
   "isGpuEnabled": true,
   "isInternetEnabled": true,
   "language": "python",
   "sourceType": "notebook"
  },
  "kernelspec": {
   "display_name": "Python 3",
   "language": "python",
   "name": "python3"
  },
  "language_info": {
   "codemirror_mode": {
    "name": "ipython",
    "version": 3
   },
   "file_extension": ".py",
   "mimetype": "text/x-python",
   "name": "python",
   "nbconvert_exporter": "python",
   "pygments_lexer": "ipython3",
   "version": "3.11.11"
  },
  "papermill": {
   "default_parameters": {},
   "duration": null,
   "end_time": null,
   "environment_variables": {},
   "exception": null,
   "input_path": "__notebook__.ipynb",
   "output_path": "__notebook__.ipynb",
   "parameters": {},
   "start_time": "2025-06-11T10:21:24.837969",
   "version": "2.6.0"
  }
 },
 "nbformat": 4,
 "nbformat_minor": 5
}
